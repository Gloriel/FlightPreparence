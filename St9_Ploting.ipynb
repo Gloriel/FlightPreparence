{
 "cells": [
  {
   "cell_type": "markdown",
   "metadata": {},
   "source": [
    "* Ссылки \n",
    "  * [Гайд по SNS](https://nagornyy.me/courses/data-science/intro-to-seaborn/).<br>\n",
    "  * [Построение графиков](https://pcnews.ru/blogs/spargalka_po_vizualizacii_dannyh_v_python_s_pomosu_plotly-986119.html).<br>\n",
    "  * [Продвинутая визуализация](https://habr.com/ru/company/skillfactory/blog/510320/).<br>\n",
    "  * [Все графики](https://prog-help.ru/python/kollekcija-prodvinutoj-vizualizacii-v-matplotlib-i-seaborn-s-primerami/).<br>"
   ]
  },
  {
   "cell_type": "code",
   "execution_count": null,
   "metadata": {
    "ExecuteTime": {
     "end_time": "2021-02-27T07:36:52.461689Z",
     "start_time": "2021-02-27T07:36:49.313599Z"
    },
    "code_folding": [],
    "run_control": {
     "marked": false
    }
   },
   "outputs": [],
   "source": [
    "from pylab import rcParams\n",
    "import plotly.graph_objects as go\n",
    "from plotly.offline import download_plotlyjs, init_notebook_mode, plot, iplot\n",
    "import warnings\n",
    "import numpy as np\n",
    "import pandas as pd\n",
    "import plotly\n",
    "from IPython.display import Image\n",
    "import matplotlib\n",
    "from IPython.core.interactiveshell import InteractiveShell\n",
    "from wordcloud import WordCloud\n",
    "import seaborn as sns\n",
    "import matplotlib.pyplot as plt\n",
    "from plotly.subplots import make_subplots\n",
    "import plotly.express as px\n",
    "import plotly.graph_objs as go\n",
    "import chart_studio.plotly as py\n",
    "import cufflinks\n",
    "cufflinks.go_offline(connected=True)\n",
    "init_notebook_mode(connected=True)\n",
    "%matplotlib inline\n",
    "warnings.filterwarnings(\"ignore\")\n",
    "rcParams['figure.figsize'] = 16, 10\n",
    "pd.set_option('display.width', 85)\n",
    "pd.set_option('display.max_columns', 8)\n",
    "init_notebook_mode(connected=True)\n",
    "pd.options.display.float_format = '{:,.1f}'.format\n",
    "InteractiveShell.ast_node_interactivity = 'all'\n",
    "\n",
    "df = pd.read_csv('df.csv')"
   ]
  },
  {
   "cell_type": "code",
   "execution_count": null,
   "metadata": {
    "ExecuteTime": {
     "end_time": "2021-02-27T07:36:52.477779Z",
     "start_time": "2021-02-27T07:36:52.463719Z"
    }
   },
   "outputs": [],
   "source": [
    "pd.set_option('display.max_rows', 100)\n",
    "pd.set_option('display.max_columns', 100)\n",
    "pd.set_option('precision', 2)"
   ]
  },
  {
   "cell_type": "code",
   "execution_count": null,
   "metadata": {
    "ExecuteTime": {
     "end_time": "2021-02-27T07:36:52.509775Z",
     "start_time": "2021-02-27T07:36:52.481690Z"
    }
   },
   "outputs": [],
   "source": [
    "df.columns = ['SEQN', 'Alcohol101', 'Alcohol110', 'Alcohol130', 'Smoking', 'Gender',\n",
    "       'Age', 'Race', 'Country', 'Education', 'Family', 'HouseSize',\n",
    "       'Salary', 'SDMVPSU', 'SDMVSTRA', 'INDFMPIR', 'BloodPressureSY1', 'BloodPressureDI1', 'BloodPressureSY2',\n",
    "       'BloodPressureDI2', 'Weight', 'Height', 'BodyIndex', 'BodyLeg', 'BodyArm', 'BodyArm2',\n",
    "       'BodyWaist', 'HIQ210']"
   ]
  },
  {
   "cell_type": "code",
   "execution_count": null,
   "metadata": {
    "ExecuteTime": {
     "end_time": "2021-02-27T07:36:52.540718Z",
     "start_time": "2021-02-27T07:36:52.510714Z"
    }
   },
   "outputs": [],
   "source": [
    "df.head()"
   ]
  },
  {
   "cell_type": "code",
   "execution_count": null,
   "metadata": {
    "ExecuteTime": {
     "end_time": "2021-02-27T07:36:52.556720Z",
     "start_time": "2021-02-27T07:36:52.542707Z"
    }
   },
   "outputs": [],
   "source": [
    "# Преобразуем числовые данные в объектные\n",
    "df['Gender'] = df.Gender.replace({1: \"Male\", 2: \"Female\"})\n",
    "df['Education'] = df.Education.replace(\n",
    "    {1: \"<9\", 2: \"9-11\", 3: \"HS/GED\", 4: \"Some college/AA\", 5: \"College\", 7: \"Refused\", 9: \"Don't know\"})\n",
    "df['Family'] = df.Family.replace({1: \"Married\", 2: \"Widowed\", 3: \"Divorced\",\n",
    "                                  4: \"Separated\", 5: \"Never married\", 6: \"Living w/partner\", 77: \"Refused\"})"
   ]
  },
  {
   "cell_type": "code",
   "execution_count": null,
   "metadata": {
    "ExecuteTime": {
     "end_time": "2021-02-27T07:36:52.618183Z",
     "start_time": "2021-02-27T07:36:52.557709Z"
    }
   },
   "outputs": [],
   "source": [
    "# Добавим новый столбец, с массой тела, умноженной на 10\n",
    "df[\"dot_size\"] = df.BodyIndex*10"
   ]
  },
  {
   "cell_type": "code",
   "execution_count": null,
   "metadata": {
    "ExecuteTime": {
     "end_time": "2021-02-27T07:36:52.634122Z",
     "start_time": "2021-02-27T07:36:52.620092Z"
    }
   },
   "outputs": [],
   "source": [
    "# Уменьшим фрейм\n",
    "df = df.loc[:500, :]\n",
    "df.shape"
   ]
  },
  {
   "cell_type": "code",
   "execution_count": null,
   "metadata": {
    "ExecuteTime": {
     "end_time": "2021-02-27T07:36:53.119133Z",
     "start_time": "2021-02-27T07:36:52.636093Z"
    },
    "scrolled": true
   },
   "outputs": [],
   "source": [
    "# Диаграмма рассеяния\n",
    "from scipy.spatial import ConvexHull\n",
    "\n",
    "# Функция, которая добавляет в график очерченную область, где переменные предикторов соответствуют определенному критерию\n",
    "from scipy.spatial import ConvexHull\n",
    "def encircle(x, y, ax=None, **kw):\n",
    "    if not ax:\n",
    "        ax = plt.gca()\n",
    "    p = np.c_[x, y]\n",
    "    hull = ConvexHull(p)\n",
    "    poly = plt.Polygon(p[hull.vertices, :], **kw)\n",
    "    ax.add_patch(poly)\n",
    "\n",
    "category = df['Family'].unique()\n",
    "\n",
    "plt.figure(figsize=(16, 8), dpi=80, facecolor=\"w\", edgecolor=\"k\")\n",
    "for i, cat in enumerate(category):\n",
    "    plt.scatter(\"BloodPressureDI1\", \"BloodPressureSY1\",  # X Y\n",
    "                # В каждом цикле проходим по одному значению переменных из колонки\n",
    "                data=df.loc[df.Family == cat, :],\n",
    "                s='dot_size',  # ЗАвисимость размера точки от значения в другой колонке фрейма\n",
    "                label=str(cat))\n",
    "\n",
    "# Задаем целевой предиктор\n",
    "df_encircle = df.loc[(df[\"Age\"] > 40), :].dropna()\n",
    "# Ограничиваем область и делаем ей заливку\n",
    "encircle(df_encircle.BloodPressureDI1, df_encircle.BloodPressureSY1, ec=\"k\", fc=\"gold\", alpha=0.1)\n",
    "encircle(df_encircle.BloodPressureDI1, df_encircle.BloodPressureSY1,\n",
    "         ec=\"firebrick\", fc=\"none\", linewidth=1.5)\n",
    "\n",
    "plt.gca().set(xlabel='BloodPressureDI1', ylabel='BloodPressureSY1')\n",
    "plt.xticks(fontsize=12)\n",
    "plt.yticks(fontsize=12)\n",
    "plt.title(\"Bubble Plot with Encircling\", fontsize=22)\n",
    "plt.legend(fontsize=12)\n",
    "plt.show();"
   ]
  },
  {
   "cell_type": "code",
   "execution_count": null,
   "metadata": {
    "ExecuteTime": {
     "end_time": "2021-02-27T07:36:54.268133Z",
     "start_time": "2021-02-27T07:36:53.120133Z"
    }
   },
   "outputs": [],
   "source": [
    "# точечная диаграмма\n",
    "fig, ax = plt.subplots(figsize=(16, 8), dpi=80)\n",
    "sns.stripplot(df.BloodPressureSY1, df.BodyIndex, jitter=0.45, size=8, ax=ax, linewidth=0.5)\n",
    "plt.title(\"Systolic Blood pressure vs Body mass index\")\n",
    "plt.tick_params(axis='x', which='major', labelsize=12, rotation=90)\n",
    "plt.show();"
   ]
  },
  {
   "cell_type": "code",
   "execution_count": null,
   "metadata": {
    "ExecuteTime": {
     "end_time": "2021-02-27T07:36:55.387133Z",
     "start_time": "2021-02-27T07:36:54.269134Z"
    }
   },
   "outputs": [],
   "source": [
    "# Точечные диаграммы с ящиками помогают когда данных очень много\n",
    "fig, ax = plt.subplots(figsize=(30, 12))\n",
    "ax = sns.boxplot(x=\"BloodPressureDI1\", y = \"BloodPressureSY1\", data=df)\n",
    "ax.tick_params(rotation=90, labelsize=18)\n",
    "ax = sns.stripplot(x = \"BloodPressureDI1\", y = \"BloodPressureSY1\", data=df)"
   ]
  },
  {
   "cell_type": "code",
   "execution_count": null,
   "metadata": {
    "ExecuteTime": {
     "end_time": "2021-02-27T07:37:02.667905Z",
     "start_time": "2021-02-27T07:36:55.389133Z"
    }
   },
   "outputs": [],
   "source": [
    "# Точечная диаграмма, разделенная по дополнительному предиктору (hue)\n",
    "fig, ax = plt.subplots(figsize=(16,10), dpi= 80)    \n",
    "sns.stripplot(df.BloodPressureDI1, df.BloodPressureSY1, s=10, hue = df.Race, ax=ax)\n",
    "plt.title(\"Stripplot for Systolic vs Diastolic Blood Pressure\", fontsize=20)\n",
    "plt.tick_params(rotation=90)\n",
    "plt.show();"
   ]
  },
  {
   "cell_type": "code",
   "execution_count": null,
   "metadata": {
    "ExecuteTime": {
     "end_time": "2021-02-27T07:37:02.917346Z",
     "start_time": "2021-02-27T07:37:02.668901Z"
    }
   },
   "outputs": [],
   "source": [
    "#Скрипичная диаграмма\n",
    "fig, ax = plt.subplots(figsize=(30, 12))\n",
    "ax = sns.violinplot(x= \"Family\", y=\"Age\", data=df, inner=None, color=\"0.4\")\n",
    "ax = sns.stripplot(x= \"Family\", y=\"Age\", data=df)\n",
    "ax.tick_params(rotation=90, labelsize=28)"
   ]
  },
  {
   "cell_type": "code",
   "execution_count": null,
   "metadata": {
    "ExecuteTime": {
     "end_time": "2021-02-27T07:37:03.386133Z",
     "start_time": "2021-02-27T07:37:02.918317Z"
    }
   },
   "outputs": [],
   "source": [
    "# Скрипичная диаграмма зависимости отклика от предиктора, с разделением по второму предиктору (hue) \n",
    "fig = plt.figure(figsize=(16, 8), dpi=80)\n",
    "\n",
    "# Добавление второго графика, справа\n",
    "grid=plt.GridSpec(4, 4, hspace=0.5, wspace=0.2)\n",
    "ax_main = fig.add_subplot(grid[:, :-1])\n",
    "ax_right = fig.add_subplot(grid[:, -1], xticklabels=[], yticklabels=[])\n",
    "\n",
    "sns.violinplot(x= \"Family\", y = \"BloodPressureDI1\", hue = \"Gender\", data = df, color= \"0.2\", ax=ax_main)\n",
    "sns.stripplot(x= \"Family\", y = \"BloodPressureDI1\", data = df, ax=ax_main)\n",
    "\n",
    "ax_right.hist(df.BloodPressureDI1, histtype='stepfilled', orientation='horizontal', color='grey')\n",
    "ax_main.title.set_fontsize(14)\n",
    "ax_main.tick_params(rotation=10, labelsize=14)\n",
    "\n",
    "plt.show();"
   ]
  },
  {
   "cell_type": "code",
   "execution_count": null,
   "metadata": {
    "ExecuteTime": {
     "end_time": "2021-02-27T07:37:12.778760Z",
     "start_time": "2021-02-27T07:37:03.387102Z"
    }
   },
   "outputs": [],
   "source": [
    "# Диаграммы с линией линейной регрессии. Зависимость отклика от предиктора, разделенных по доп. предиктору\n",
    "\n",
    "g = sns.lmplot(x='Height', y='Weight', hue='Gender', data=df,\n",
    "               aspect=1.5, robust=True, palette='tab10',\n",
    "               scatter_kws=dict(s=60, linewidths=.7, edgecolors='black'))\n",
    "plt.title(\"Height vs weight with line of best fit grouped by Gender\", fontsize=20)\n",
    "plt.show()"
   ]
  },
  {
   "cell_type": "code",
   "execution_count": null,
   "metadata": {
    "ExecuteTime": {
     "end_time": "2021-02-27T07:37:32.310756Z",
     "start_time": "2021-02-27T07:37:12.780732Z"
    }
   },
   "outputs": [],
   "source": [
    "# Индивидуальные диаграммы с линией регрессии. Отклик и предиктор с доп. графиками для второго предиктора\n",
    "\n",
    "fig = plt.figure(figsize=(20, 8), dpi=80)\n",
    "g = sns.lmplot(x='Height', y='Weight', data = df, robust = True,\n",
    "              palette=\"Set1\", col=\"Race\", # Указываем на разделение на колонки по параметрам в доп. предикторе\n",
    "              scatter_kws=dict(s=60, linewidths=0.7, edgecolors=\"black\"))\n",
    "plt.xticks(fontsize=12, )\n",
    "plt.yticks(fontsize=12)\n",
    "plt.show();"
   ]
  },
  {
   "cell_type": "code",
   "execution_count": null,
   "metadata": {
    "ExecuteTime": {
     "end_time": "2021-02-27T07:37:36.230762Z",
     "start_time": "2021-02-27T07:37:32.311759Z"
    }
   },
   "outputs": [],
   "source": [
    "# Парные диаграммы для EDA.Взаимозависимости 4 пар предикторов, разделенных по пятому\n",
    "plt.figure(figsize=(10,8), dpi= 80)\n",
    "sns.color_palette(\"hls\", 8)\n",
    "sns.pairplot(df[['Weight', 'Height', 'BodyIndex', 'BodyWaist', \"Race\"]], kind=\"scatter\", hue=\"Race\", plot_kws=dict(s=30))\n",
    "plt.show();"
   ]
  },
  {
   "cell_type": "code",
   "execution_count": null,
   "metadata": {
    "ExecuteTime": {
     "end_time": "2021-02-27T07:37:38.012607Z",
     "start_time": "2021-02-27T07:37:36.232732Z"
    }
   },
   "outputs": [],
   "source": [
    "# Расходящиеся столбики\n",
    "\n",
    "x = df.loc[:, \"BloodPressureSY1\"]\n",
    "df[\"BloodPressureSY1_n\"] = (x - x.mean())/x.std()  # Стандартизируем данные\n",
    "# Задаем цвета для положительных и отрицательных значений\n",
    "df['colors'] = ['red' if i < 0 else 'blue' for i in df[\"BloodPressureSY1_n\"]]\n",
    "df.sort_values(\"BloodPressureSY1_n\", inplace=True)\n",
    "df.reset_index(inplace=True)\n",
    "plt.figure(figsize=(16, 10), dpi=80)\n",
    "plt.hlines(y=df.HouseSize, xmin=0, xmax=df.BloodPressureSY1_n,\n",
    "           color=df.colors, linewidth=3)  # Центрируем по стандартизированным\n",
    "plt.gca().set(ylabel=\"HouseSize\", xlabel=\"BPXSY1_n\")\n",
    "plt.yticks(df.HouseSize, fontsize=14)\n",
    "plt.grid(linestyle='--', alpha=0.5)\n",
    "plt.show();"
   ]
  },
  {
   "cell_type": "code",
   "execution_count": null,
   "metadata": {
    "ExecuteTime": {
     "end_time": "2021-02-27T07:37:38.216115Z",
     "start_time": "2021-02-27T07:37:38.014518Z"
    }
   },
   "outputs": [],
   "source": [
    "# Расходящиеся столбики\n",
    "x = df.loc[:, \"BloodPressureSY1\"]\n",
    "df['colors'] = ['coral' if i < 0 else 'lightgreen' for i in df[\"BloodPressureSY1_n\"]]\n",
    "y_ticks = np.arange(16, 82, 8) #Задаем шкалу для оси Y. старт, стоп, шаг\n",
    "plt.figure(figsize=(16, 10), dpi=80)\n",
    "plt.hlines(y = df.Age, xmin=0, xmax = df.BloodPressureSY1_n, color=df.colors, linewidth=3)\n",
    "plt.gca().set(ylabel=\"Age\", xlabel = \"BloodPressureSY1\")\n",
    "plt.yticks(y_ticks, fontsize=14)\n",
    "plt.grid(linestyle='--', alpha=0.5)\n",
    "plt.show();"
   ]
  }
 ],
 "metadata": {
  "hide_input": false,
  "kernelspec": {
   "display_name": "Python 3",
   "language": "python",
   "name": "python3"
  },
  "language_info": {
   "codemirror_mode": {
    "name": "ipython",
    "version": 3
   },
   "file_extension": ".py",
   "mimetype": "text/x-python",
   "name": "python",
   "nbconvert_exporter": "python",
   "pygments_lexer": "ipython3",
   "version": "3.8.3"
  },
  "latex_envs": {
   "LaTeX_envs_menu_present": true,
   "autoclose": false,
   "autocomplete": true,
   "bibliofile": "biblio.bib",
   "cite_by": "apalike",
   "current_citInitial": 1,
   "eqLabelWithNumbers": true,
   "eqNumInitial": 1,
   "hotkeys": {
    "equation": "Ctrl-E",
    "itemize": "Ctrl-I"
   },
   "labels_anchors": false,
   "latex_user_defs": false,
   "report_style_numbering": false,
   "user_envs_cfg": false
  },
  "nbTranslate": {
   "displayLangs": [
    "*"
   ],
   "hotkey": "alt-t",
   "langInMainMenu": true,
   "sourceLang": "en",
   "targetLang": "fr",
   "useGoogleTranslate": true
  },
  "toc": {
   "base_numbering": 1,
   "nav_menu": {
    "height": "12px",
    "width": "160px"
   },
   "number_sections": true,
   "sideBar": true,
   "skip_h1_title": false,
   "title_cell": "Table of Contents",
   "title_sidebar": "Contents",
   "toc_cell": false,
   "toc_position": {},
   "toc_section_display": true,
   "toc_window_display": false
  },
  "varInspector": {
   "cols": {
    "lenName": 16,
    "lenType": 16,
    "lenVar": 40
   },
   "kernels_config": {
    "python": {
     "delete_cmd_postfix": "",
     "delete_cmd_prefix": "del ",
     "library": "var_list.py",
     "varRefreshCmd": "print(var_dic_list())"
    },
    "r": {
     "delete_cmd_postfix": ") ",
     "delete_cmd_prefix": "rm(",
     "library": "var_list.r",
     "varRefreshCmd": "cat(var_dic_list()) "
    }
   },
   "position": {
    "height": "420px",
    "left": "13px",
    "right": "20px",
    "top": "240px",
    "width": "350px"
   },
   "types_to_exclude": [
    "module",
    "function",
    "builtin_function_or_method",
    "instance",
    "_Feature"
   ],
   "window_display": true
  }
 },
 "nbformat": 4,
 "nbformat_minor": 4
}
