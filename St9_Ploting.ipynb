{
 "cells": [
  {
   "cell_type": "markdown",
   "metadata": {},
   "source": [
    "* Ссылки \n",
    "  * [Гайд по SNS](https://nagornyy.me/courses/data-science/intro-to-seaborn/).<br>\n",
    "  * [Построение графиков](https://pcnews.ru/blogs/spargalka_po_vizualizacii_dannyh_v_python_s_pomosu_plotly-986119.html).<br>\n",
    "  * [Продвинутая визуализация](https://habr.com/ru/company/skillfactory/blog/510320/).<br>\n",
    "  * [Все графики](https://prog-help.ru/python/kollekcija-prodvinutoj-vizualizacii-v-matplotlib-i-seaborn-s-primerami/).<br>"
   ]
  },
  {
   "cell_type": "code",
   "execution_count": 5,
   "metadata": {
    "ExecuteTime": {
     "end_time": "2021-02-26T11:53:52.943806Z",
     "start_time": "2021-02-26T11:53:52.845786Z"
    },
    "code_folding": [],
    "run_control": {
     "marked": false
    }
   },
   "outputs": [
    {
     "data": {
      "text/html": [
       "        <script type=\"text/javascript\">\n",
       "        window.PlotlyConfig = {MathJaxConfig: 'local'};\n",
       "        if (window.MathJax) {MathJax.Hub.Config({SVG: {font: \"STIX-Web\"}});}\n",
       "        if (typeof require !== 'undefined') {\n",
       "        require.undef(\"plotly\");\n",
       "        requirejs.config({\n",
       "            paths: {\n",
       "                'plotly': ['https://cdn.plot.ly/plotly-latest.min']\n",
       "            }\n",
       "        });\n",
       "        require(['plotly'], function(Plotly) {\n",
       "            window._Plotly = Plotly;\n",
       "        });\n",
       "        }\n",
       "        </script>\n",
       "        "
      ]
     },
     "metadata": {},
     "output_type": "display_data"
    },
    {
     "data": {
      "text/html": [
       "        <script type=\"text/javascript\">\n",
       "        window.PlotlyConfig = {MathJaxConfig: 'local'};\n",
       "        if (window.MathJax) {MathJax.Hub.Config({SVG: {font: \"STIX-Web\"}});}\n",
       "        if (typeof require !== 'undefined') {\n",
       "        require.undef(\"plotly\");\n",
       "        requirejs.config({\n",
       "            paths: {\n",
       "                'plotly': ['https://cdn.plot.ly/plotly-latest.min']\n",
       "            }\n",
       "        });\n",
       "        require(['plotly'], function(Plotly) {\n",
       "            window._Plotly = Plotly;\n",
       "        });\n",
       "        }\n",
       "        </script>\n",
       "        "
      ]
     },
     "metadata": {},
     "output_type": "display_data"
    },
    {
     "data": {
      "text/html": [
       "        <script type=\"text/javascript\">\n",
       "        window.PlotlyConfig = {MathJaxConfig: 'local'};\n",
       "        if (window.MathJax) {MathJax.Hub.Config({SVG: {font: \"STIX-Web\"}});}\n",
       "        if (typeof require !== 'undefined') {\n",
       "        require.undef(\"plotly\");\n",
       "        requirejs.config({\n",
       "            paths: {\n",
       "                'plotly': ['https://cdn.plot.ly/plotly-latest.min']\n",
       "            }\n",
       "        });\n",
       "        require(['plotly'], function(Plotly) {\n",
       "            window._Plotly = Plotly;\n",
       "        });\n",
       "        }\n",
       "        </script>\n",
       "        "
      ]
     },
     "metadata": {},
     "output_type": "display_data"
    }
   ],
   "source": [
    "from pylab import rcParams\n",
    "import plotly.graph_objects as go\n",
    "from plotly.offline import download_plotlyjs, init_notebook_mode, plot, iplot\n",
    "import warnings\n",
    "import numpy as np\n",
    "import pandas as pd\n",
    "import plotly\n",
    "from IPython.display import Image\n",
    "import matplotlib\n",
    "from IPython.core.interactiveshell import InteractiveShell\n",
    "from wordcloud import WordCloud\n",
    "import seaborn as sns\n",
    "import matplotlib.pyplot as plt\n",
    "from plotly.subplots import make_subplots\n",
    "import plotly.express as px\n",
    "import plotly.graph_objs as go\n",
    "import chart_studio.plotly as py\n",
    "import cufflinks\n",
    "cufflinks.go_offline(connected=True)\n",
    "init_notebook_mode(connected=True)\n",
    "%matplotlib inline\n",
    "warnings.filterwarnings(\"ignore\")\n",
    "rcParams['figure.figsize'] = 16, 10\n",
    "pd.set_option('display.width', 85)\n",
    "pd.set_option('display.max_columns', 8)\n",
    "init_notebook_mode(connected=True)\n",
    "pd.options.display.float_format = '{:,.1f}'.format\n",
    "InteractiveShell.ast_node_interactivity = 'all'\n",
    "\n",
    "columns = ['SEQN', 'Alcohol101', 'Alcohol110', 'Alcohol130', 'Smoking', 'Gender',\n",
    "       'Age', 'Race', 'Country', 'Education', 'Family', 'HouseSize',\n",
    "       'Salary', 'SDMVPSU', 'SDMVSTRA', 'INDFMPIR', 'BloodPressureSY1', 'BloodPressureDI1', 'BloodPressureSY2',\n",
    "       'BloodPressureDI2', 'Weight', 'Height', 'BodyIndex', 'BodyLeg', 'BodyArm', 'BodyArm2',\n",
    "       'BodyWaist', 'HIQ210']\n",
    "\n",
    "df = pd.read_csv('df.csv', names=columns)"
   ]
  },
  {
   "cell_type": "code",
   "execution_count": 6,
   "metadata": {
    "ExecuteTime": {
     "end_time": "2021-02-26T11:53:56.575279Z",
     "start_time": "2021-02-26T11:53:56.555261Z"
    }
   },
   "outputs": [],
   "source": [
    "pd.set_option('display.max_rows', 100)\n",
    "pd.set_option('display.max_columns', 100)\n",
    "pd.set_option('precision', 2)"
   ]
  },
  {
   "cell_type": "code",
   "execution_count": 4,
   "metadata": {
    "ExecuteTime": {
     "end_time": "2021-02-26T11:52:58.256320Z",
     "start_time": "2021-02-26T11:52:58.227271Z"
    }
   },
   "outputs": [
    {
     "data": {
      "text/plain": [
       "Index(['SEQN', 'ALQ101', 'ALQ110', 'ALQ130', 'SMQ020', 'RIAGENDR', 'RIDAGEYR',\n",
       "       'RIDRETH1', 'DMDCITZN', 'DMDEDUC2', 'DMDMARTL', 'DMDHHSIZ', 'WTINT2YR',\n",
       "       'SDMVPSU', 'SDMVSTRA', 'INDFMPIR', 'BPXSY1', 'BPXDI1', 'BPXSY2', 'BPXDI2',\n",
       "       'BMXWT', 'BMXHT', 'BMXBMI', 'BMXLEG', 'BMXARML', 'BMXARMC', 'BMXWAIST',\n",
       "       'HIQ210'],\n",
       "      dtype='object')"
      ]
     },
     "execution_count": 4,
     "metadata": {},
     "output_type": "execute_result"
    }
   ],
   "source": [
    "df.columns"
   ]
  },
  {
   "cell_type": "code",
   "execution_count": 7,
   "metadata": {
    "ExecuteTime": {
     "end_time": "2021-02-26T11:53:59.395318Z",
     "start_time": "2021-02-26T11:53:59.330319Z"
    }
   },
   "outputs": [
    {
     "data": {
      "text/html": [
       "<div>\n",
       "<style scoped>\n",
       "    .dataframe tbody tr th:only-of-type {\n",
       "        vertical-align: middle;\n",
       "    }\n",
       "\n",
       "    .dataframe tbody tr th {\n",
       "        vertical-align: top;\n",
       "    }\n",
       "\n",
       "    .dataframe thead th {\n",
       "        text-align: right;\n",
       "    }\n",
       "</style>\n",
       "<table border=\"1\" class=\"dataframe\">\n",
       "  <thead>\n",
       "    <tr style=\"text-align: right;\">\n",
       "      <th></th>\n",
       "      <th>1</th>\n",
       "      <th>2</th>\n",
       "      <th>3</th>\n",
       "      <th>4</th>\n",
       "      <th>5</th>\n",
       "    </tr>\n",
       "  </thead>\n",
       "  <tbody>\n",
       "    <tr>\n",
       "      <th>SEQN</th>\n",
       "      <td>83732</td>\n",
       "      <td>83733</td>\n",
       "      <td>83734</td>\n",
       "      <td>83735</td>\n",
       "      <td>83736</td>\n",
       "    </tr>\n",
       "    <tr>\n",
       "      <th>Alcohol101</th>\n",
       "      <td>1</td>\n",
       "      <td>1</td>\n",
       "      <td>1</td>\n",
       "      <td>2</td>\n",
       "      <td>2</td>\n",
       "    </tr>\n",
       "    <tr>\n",
       "      <th>Alcohol110</th>\n",
       "      <td>NaN</td>\n",
       "      <td>NaN</td>\n",
       "      <td>NaN</td>\n",
       "      <td>1</td>\n",
       "      <td>1</td>\n",
       "    </tr>\n",
       "    <tr>\n",
       "      <th>Alcohol130</th>\n",
       "      <td>1</td>\n",
       "      <td>6</td>\n",
       "      <td>NaN</td>\n",
       "      <td>1</td>\n",
       "      <td>1</td>\n",
       "    </tr>\n",
       "    <tr>\n",
       "      <th>Smoking</th>\n",
       "      <td>1</td>\n",
       "      <td>1</td>\n",
       "      <td>1</td>\n",
       "      <td>2</td>\n",
       "      <td>2</td>\n",
       "    </tr>\n",
       "    <tr>\n",
       "      <th>Gender</th>\n",
       "      <td>1</td>\n",
       "      <td>1</td>\n",
       "      <td>1</td>\n",
       "      <td>2</td>\n",
       "      <td>2</td>\n",
       "    </tr>\n",
       "    <tr>\n",
       "      <th>Age</th>\n",
       "      <td>62</td>\n",
       "      <td>53</td>\n",
       "      <td>78</td>\n",
       "      <td>56</td>\n",
       "      <td>42</td>\n",
       "    </tr>\n",
       "    <tr>\n",
       "      <th>Race</th>\n",
       "      <td>3</td>\n",
       "      <td>3</td>\n",
       "      <td>3</td>\n",
       "      <td>3</td>\n",
       "      <td>4</td>\n",
       "    </tr>\n",
       "    <tr>\n",
       "      <th>Country</th>\n",
       "      <td>1</td>\n",
       "      <td>2</td>\n",
       "      <td>1</td>\n",
       "      <td>1</td>\n",
       "      <td>1</td>\n",
       "    </tr>\n",
       "    <tr>\n",
       "      <th>Education</th>\n",
       "      <td>5</td>\n",
       "      <td>3</td>\n",
       "      <td>3</td>\n",
       "      <td>5</td>\n",
       "      <td>4</td>\n",
       "    </tr>\n",
       "    <tr>\n",
       "      <th>Family</th>\n",
       "      <td>1</td>\n",
       "      <td>3</td>\n",
       "      <td>1</td>\n",
       "      <td>6</td>\n",
       "      <td>3</td>\n",
       "    </tr>\n",
       "    <tr>\n",
       "      <th>HouseSize</th>\n",
       "      <td>2</td>\n",
       "      <td>1</td>\n",
       "      <td>2</td>\n",
       "      <td>1</td>\n",
       "      <td>5</td>\n",
       "    </tr>\n",
       "    <tr>\n",
       "      <th>Salary</th>\n",
       "      <td>134671.37</td>\n",
       "      <td>24328.56</td>\n",
       "      <td>12400.01</td>\n",
       "      <td>102718</td>\n",
       "      <td>17627.67</td>\n",
       "    </tr>\n",
       "    <tr>\n",
       "      <th>SDMVPSU</th>\n",
       "      <td>1</td>\n",
       "      <td>1</td>\n",
       "      <td>1</td>\n",
       "      <td>1</td>\n",
       "      <td>2</td>\n",
       "    </tr>\n",
       "    <tr>\n",
       "      <th>SDMVSTRA</th>\n",
       "      <td>125</td>\n",
       "      <td>125</td>\n",
       "      <td>131</td>\n",
       "      <td>131</td>\n",
       "      <td>126</td>\n",
       "    </tr>\n",
       "    <tr>\n",
       "      <th>INDFMPIR</th>\n",
       "      <td>4.39</td>\n",
       "      <td>1.32</td>\n",
       "      <td>1.51</td>\n",
       "      <td>5</td>\n",
       "      <td>1.23</td>\n",
       "    </tr>\n",
       "    <tr>\n",
       "      <th>BloodPressureSY1</th>\n",
       "      <td>128</td>\n",
       "      <td>146</td>\n",
       "      <td>138</td>\n",
       "      <td>132</td>\n",
       "      <td>100</td>\n",
       "    </tr>\n",
       "    <tr>\n",
       "      <th>BloodPressureDI1</th>\n",
       "      <td>70</td>\n",
       "      <td>88</td>\n",
       "      <td>46</td>\n",
       "      <td>72</td>\n",
       "      <td>70</td>\n",
       "    </tr>\n",
       "    <tr>\n",
       "      <th>BloodPressureSY2</th>\n",
       "      <td>124</td>\n",
       "      <td>140</td>\n",
       "      <td>132</td>\n",
       "      <td>134</td>\n",
       "      <td>114</td>\n",
       "    </tr>\n",
       "    <tr>\n",
       "      <th>BloodPressureDI2</th>\n",
       "      <td>64</td>\n",
       "      <td>88</td>\n",
       "      <td>44</td>\n",
       "      <td>68</td>\n",
       "      <td>54</td>\n",
       "    </tr>\n",
       "    <tr>\n",
       "      <th>Weight</th>\n",
       "      <td>94.8</td>\n",
       "      <td>90.4</td>\n",
       "      <td>83.4</td>\n",
       "      <td>109.8</td>\n",
       "      <td>55.2</td>\n",
       "    </tr>\n",
       "    <tr>\n",
       "      <th>Height</th>\n",
       "      <td>184.5</td>\n",
       "      <td>171.4</td>\n",
       "      <td>170.1</td>\n",
       "      <td>160.9</td>\n",
       "      <td>164.9</td>\n",
       "    </tr>\n",
       "    <tr>\n",
       "      <th>BodyIndex</th>\n",
       "      <td>27.8</td>\n",
       "      <td>30.8</td>\n",
       "      <td>28.8</td>\n",
       "      <td>42.4</td>\n",
       "      <td>20.3</td>\n",
       "    </tr>\n",
       "    <tr>\n",
       "      <th>BodyLeg</th>\n",
       "      <td>43.3</td>\n",
       "      <td>38</td>\n",
       "      <td>35.6</td>\n",
       "      <td>38.5</td>\n",
       "      <td>37.4</td>\n",
       "    </tr>\n",
       "    <tr>\n",
       "      <th>BodyArm</th>\n",
       "      <td>43.6</td>\n",
       "      <td>40</td>\n",
       "      <td>37</td>\n",
       "      <td>37.7</td>\n",
       "      <td>36</td>\n",
       "    </tr>\n",
       "    <tr>\n",
       "      <th>BodyArm2</th>\n",
       "      <td>35.9</td>\n",
       "      <td>33.2</td>\n",
       "      <td>31</td>\n",
       "      <td>38.3</td>\n",
       "      <td>27.2</td>\n",
       "    </tr>\n",
       "    <tr>\n",
       "      <th>BodyWaist</th>\n",
       "      <td>101.1</td>\n",
       "      <td>107.9</td>\n",
       "      <td>116.5</td>\n",
       "      <td>110.1</td>\n",
       "      <td>80.4</td>\n",
       "    </tr>\n",
       "    <tr>\n",
       "      <th>HIQ210</th>\n",
       "      <td>2</td>\n",
       "      <td>NaN</td>\n",
       "      <td>2</td>\n",
       "      <td>2</td>\n",
       "      <td>2</td>\n",
       "    </tr>\n",
       "  </tbody>\n",
       "</table>\n",
       "</div>"
      ],
      "text/plain": [
       "                          1         2         3       4         5\n",
       "SEQN                  83732     83733     83734   83735     83736\n",
       "Alcohol101                1         1         1       2         2\n",
       "Alcohol110              NaN       NaN       NaN       1         1\n",
       "Alcohol130                1         6       NaN       1         1\n",
       "Smoking                   1         1         1       2         2\n",
       "Gender                    1         1         1       2         2\n",
       "Age                      62        53        78      56        42\n",
       "Race                      3         3         3       3         4\n",
       "Country                   1         2         1       1         1\n",
       "Education                 5         3         3       5         4\n",
       "Family                    1         3         1       6         3\n",
       "HouseSize                 2         1         2       1         5\n",
       "Salary            134671.37  24328.56  12400.01  102718  17627.67\n",
       "SDMVPSU                   1         1         1       1         2\n",
       "SDMVSTRA                125       125       131     131       126\n",
       "INDFMPIR               4.39      1.32      1.51       5      1.23\n",
       "BloodPressureSY1        128       146       138     132       100\n",
       "BloodPressureDI1         70        88        46      72        70\n",
       "BloodPressureSY2        124       140       132     134       114\n",
       "BloodPressureDI2         64        88        44      68        54\n",
       "Weight                 94.8      90.4      83.4   109.8      55.2\n",
       "Height                184.5     171.4     170.1   160.9     164.9\n",
       "BodyIndex              27.8      30.8      28.8    42.4      20.3\n",
       "BodyLeg                43.3        38      35.6    38.5      37.4\n",
       "BodyArm                43.6        40        37    37.7        36\n",
       "BodyArm2               35.9      33.2        31    38.3      27.2\n",
       "BodyWaist             101.1     107.9     116.5   110.1      80.4\n",
       "HIQ210                    2       NaN         2       2         2"
      ]
     },
     "execution_count": 7,
     "metadata": {},
     "output_type": "execute_result"
    }
   ],
   "source": [
    "df = df[1:]\n",
    "df.head().T"
   ]
  },
  {
   "cell_type": "code",
   "execution_count": null,
   "metadata": {
    "ExecuteTime": {
     "end_time": "2021-02-26T09:12:42.275888Z",
     "start_time": "2021-02-26T09:12:42.262889Z"
    }
   },
   "outputs": [],
   "source": [
    "# Преобразуем числовые данные в объектные\n",
    "df['RIAGENDR'] = df.RIAGENDR.replace({1: \"Male\", 2: \"Female\"})\n",
    "df['DMDEDUC2'] = df.DMDEDUC2.replace(\n",
    "    {1: \"<9\", 2: \"9-11\", 3: \"HS/GED\", 4: \"Some college/AA\", 5: \"College\", 7: \"Refused\", 9: \"Don't know\"})\n",
    "df['DMDMARTL'] = df.DMDMARTL.replace({1: \"Married\", 2: \"Widowed\", 3: \"Divorced\",\n",
    "                                      4: \"Separated\", 5: \"Never married\", 6: \"Living w/partner\", 77: \"Refused\"})"
   ]
  },
  {
   "cell_type": "code",
   "execution_count": null,
   "metadata": {
    "ExecuteTime": {
     "end_time": "2021-02-26T09:12:42.291918Z",
     "start_time": "2021-02-26T09:12:42.277889Z"
    }
   },
   "outputs": [],
   "source": [
    "# Добавим новый столбец, с массой тела, умноженной на 10\n",
    "df[\"dot_size\"] = df.BMXBMI*10"
   ]
  },
  {
   "cell_type": "code",
   "execution_count": null,
   "metadata": {
    "ExecuteTime": {
     "end_time": "2021-02-26T09:12:42.307918Z",
     "start_time": "2021-02-26T09:12:42.293889Z"
    }
   },
   "outputs": [],
   "source": [
    "# Уменьшим фрейм\n",
    "df = df.loc[:500, :]\n",
    "df.shape"
   ]
  },
  {
   "cell_type": "code",
   "execution_count": null,
   "metadata": {
    "ExecuteTime": {
     "end_time": "2021-02-26T09:12:42.761460Z",
     "start_time": "2021-02-26T09:12:42.308888Z"
    },
    "scrolled": true
   },
   "outputs": [],
   "source": [
    "# Диаграмма рассеяния\n",
    "from scipy.spatial import ConvexHull\n",
    "\n",
    "# Функция, которая добавляет в график очерченную область, где переменные предикторов соответствуют определенному критерию\n",
    "from scipy.spatial import ConvexHull\n",
    "def encircle(x, y, ax=None, **kw):\n",
    "    if not ax:\n",
    "        ax = plt.gca()\n",
    "    p = np.c_[x, y]\n",
    "    hull = ConvexHull(p)\n",
    "    poly = plt.Polygon(p[hull.vertices, :], **kw)\n",
    "    ax.add_patch(poly)\n",
    "\n",
    "category = df['DMDMARTL'].unique()\n",
    "\n",
    "plt.figure(figsize=(16, 8), dpi=80, facecolor=\"w\", edgecolor=\"k\")\n",
    "for i, cat in enumerate(category):\n",
    "    plt.scatter(\"BPXDI1\", \"BPXSY1\",  # X Y\n",
    "                # В каждом цикле проходим по одному значению переменных из колонки\n",
    "                data=df.loc[df.DMDMARTL == cat, :],\n",
    "                s='dot_size',  # ЗАвисимость размера точки от значения в другой колонке фрейма\n",
    "                label=str(cat))\n",
    "\n",
    "# Задаем целевой предиктор\n",
    "df_encircle = df.loc[(df[\"RIDAGEYR\"] > 40), :].dropna()\n",
    "# Ограничиваем область и делаем ей заливку\n",
    "encircle(df_encircle.BPXDI1, df_encircle.BPXSY1, ec=\"k\", fc=\"gold\", alpha=0.1)\n",
    "encircle(df_encircle.BPXDI1, df_encircle.BPXSY1,\n",
    "         ec=\"firebrick\", fc=\"none\", linewidth=1.5)\n",
    "\n",
    "plt.gca().set(xlabel='BPXDI1', ylabel='BPXSY1')\n",
    "plt.xticks(fontsize=12)\n",
    "plt.yticks(fontsize=12)\n",
    "plt.title(\"Bubble Plot with Encircling\", fontsize=22)\n",
    "plt.legend(fontsize=12)\n",
    "plt.show();"
   ]
  },
  {
   "cell_type": "code",
   "execution_count": null,
   "metadata": {
    "ExecuteTime": {
     "end_time": "2021-02-26T09:12:43.863290Z",
     "start_time": "2021-02-26T09:12:42.763366Z"
    }
   },
   "outputs": [],
   "source": [
    "# точечная диаграмма\n",
    "fig, ax = plt.subplots(figsize=(16, 8), dpi=80)\n",
    "sns.stripplot(df.BPXSY1, df.BMXBMI, jitter=0.45, size=8, ax=ax, linewidth=0.5)\n",
    "plt.title(\"Systolic Blood pressure vs Body mass index\")\n",
    "plt.tick_params(axis='x', which='major', labelsize=12, rotation=90)\n",
    "plt.show();"
   ]
  },
  {
   "cell_type": "code",
   "execution_count": null,
   "metadata": {
    "ExecuteTime": {
     "end_time": "2021-02-26T09:12:44.933924Z",
     "start_time": "2021-02-26T09:12:43.866294Z"
    }
   },
   "outputs": [],
   "source": [
    "# Точечные диаграммы с ящиками помогают когда данных очень много\n",
    "fig, ax = plt.subplots(figsize=(30, 12))\n",
    "ax = sns.boxplot(x=\"BPXDI1\", y = \"BPXSY1\", data=df)\n",
    "ax.tick_params(rotation=90, labelsize=18)\n",
    "ax = sns.stripplot(x = \"BPXDI1\", y = \"BPXSY1\", data=df)"
   ]
  },
  {
   "cell_type": "code",
   "execution_count": null,
   "metadata": {
    "ExecuteTime": {
     "end_time": "2021-02-26T09:12:51.845024Z",
     "start_time": "2021-02-26T09:12:44.936955Z"
    }
   },
   "outputs": [],
   "source": [
    "# Точечная диаграмма, разделенная по дополнительному предиктору (hue)\n",
    "fig, ax = plt.subplots(figsize=(16,10), dpi= 80)    \n",
    "sns.stripplot(df.BPXDI1, df.BPXSY1, s=10, hue = df.RIDRETH1, ax=ax)\n",
    "plt.title(\"Stripplot for Systolic vs Diastolic Blood Pressure\", fontsize=20)\n",
    "plt.tick_params(rotation=90)\n",
    "plt.show();"
   ]
  },
  {
   "cell_type": "code",
   "execution_count": null,
   "metadata": {
    "ExecuteTime": {
     "end_time": "2021-02-26T09:12:52.111995Z",
     "start_time": "2021-02-26T09:12:51.846025Z"
    }
   },
   "outputs": [],
   "source": [
    "#Скрипичная дияграмма\n",
    "fig, ax = plt.subplots(figsize=(30, 12))\n",
    "ax = sns.violinplot(x= \"DMDMARTL\", y=\"RIDAGEYR\", data=df, inner=None, color=\"0.4\")\n",
    "ax = sns.stripplot(x= \"DMDMARTL\", y=\"RIDAGEYR\", data=df)\n",
    "ax.tick_params(rotation=90, labelsize=28)"
   ]
  },
  {
   "cell_type": "code",
   "execution_count": null,
   "metadata": {
    "ExecuteTime": {
     "end_time": "2021-02-26T09:12:52.604191Z",
     "start_time": "2021-02-26T09:12:52.112994Z"
    }
   },
   "outputs": [],
   "source": [
    "# Скрипичная диаграмма зависимости отклика от предиктора, с разделением по второму предиктору (hue) \n",
    "fig = plt.figure(figsize=(16, 8), dpi=80)\n",
    "\n",
    "# Добавление второго графика, справа\n",
    "grid=plt.GridSpec(4, 4, hspace=0.5, wspace=0.2)\n",
    "ax_main = fig.add_subplot(grid[:, :-1])\n",
    "ax_right = fig.add_subplot(grid[:, -1], xticklabels=[], yticklabels=[])\n",
    "\n",
    "sns.violinplot(x= \"DMDMARTL\", y = \"BPXDI1\", hue = \"RIAGENDR\", data = df, color= \"0.2\", ax=ax_main)\n",
    "sns.stripplot(x= \"DMDMARTL\", y = \"BPXDI1\", data = df, ax=ax_main)\n",
    "\n",
    "ax_right.hist(df.BPXDI1, histtype='stepfilled', orientation='horizontal', color='grey')\n",
    "ax_main.title.set_fontsize(14)\n",
    "ax_main.tick_params(rotation=10, labelsize=14)\n",
    "\n",
    "plt.show()"
   ]
  },
  {
   "cell_type": "code",
   "execution_count": null,
   "metadata": {
    "ExecuteTime": {
     "end_time": "2021-02-26T09:13:02.485872Z",
     "start_time": "2021-02-26T09:12:52.606189Z"
    }
   },
   "outputs": [],
   "source": [
    "# Диаграммы с линией линейной регрессии. Зависимость отклика от предиктора, разделенных по доп. предиктору\n",
    "\n",
    "g = sns.lmplot(x='BMXHT', y='BMXWT', hue='RIAGENDR', data=df,\n",
    "               aspect=1.5, robust=True, palette='tab10',\n",
    "               scatter_kws=dict(s=60, linewidths=.7, edgecolors='black'))\n",
    "plt.title(\"Height vs weight with line of best fit grouped by Gender\", fontsize=20)\n",
    "plt.show()"
   ]
  },
  {
   "cell_type": "code",
   "execution_count": null,
   "metadata": {
    "ExecuteTime": {
     "end_time": "2021-02-26T09:13:22.265769Z",
     "start_time": "2021-02-26T09:13:02.488844Z"
    }
   },
   "outputs": [],
   "source": [
    "# Индивидуальные диаграммы с линией регрессии. Отклик и предиктор с доп. графиками для второго предиктора\n",
    "\n",
    "fig = plt.figure(figsize=(20, 8), dpi=80)\n",
    "g = sns.lmplot(x='BMXHT', y='BMXWT', data = df, robust = True,\n",
    "              palette=\"Set1\", col=\"RIDRETH1\", # Указываем на разделение на колонки по параметрам в доп. предикторе\n",
    "              scatter_kws=dict(s=60, linewidths=0.7, edgecolors=\"black\"))\n",
    "plt.xticks(fontsize=12, )\n",
    "plt.yticks(fontsize=12)\n",
    "plt.show();"
   ]
  },
  {
   "cell_type": "code",
   "execution_count": null,
   "metadata": {
    "ExecuteTime": {
     "end_time": "2021-02-26T09:13:26.224193Z",
     "start_time": "2021-02-26T09:13:22.267745Z"
    }
   },
   "outputs": [],
   "source": [
    "# Парные диаграммы для EDA.Взаимозависимости 4 пар предикторов, разделенных по пятому\n",
    "plt.figure(figsize=(10,8), dpi= 80)\n",
    "sns.color_palette(\"hls\", 8)\n",
    "sns.pairplot(df[['BMXWT', 'BMXHT', 'BMXBMI', 'BMXWAIST', \"RIDRETH1\"]], kind=\"scatter\", hue=\"RIDRETH1\", plot_kws=dict(s=30))\n",
    "plt.show();"
   ]
  },
  {
   "cell_type": "code",
   "execution_count": null,
   "metadata": {
    "ExecuteTime": {
     "end_time": "2021-02-26T09:13:28.068162Z",
     "start_time": "2021-02-26T09:13:26.225163Z"
    }
   },
   "outputs": [],
   "source": [
    "# Расходящиеся столбики\n",
    "\n",
    "x = df.loc[:, \"BPXSY1\"]\n",
    "df[\"BPXSY1_n\"] = (x - x.mean())/x.std() #Стандартизируем данные\n",
    "df['colors'] = ['red' if i < 0 else 'blue' for i in df[\"BPXSY1_n\"]] #Задаем цвета для положительных и отрицательных значений\n",
    "df.sort_values(\"BPXSY1_n\", inplace=True)\n",
    "df.reset_index(inplace=True)\n",
    "plt.figure(figsize=(16, 10), dpi=80)\n",
    "plt.hlines(y = df.DMDHHSIZ, xmin=0, xmax = df.BPXSY1_n, color=df.colors, linewidth=3) #Центрируем по стандартизированным \n",
    "plt.gca().set(ylabel=\"DMDHHSIZ\", xlabel = \"BPXSY1_n\")\n",
    "plt.yticks(df.DMDHHSIZ, fontsize=14)\n",
    "plt.grid(linestyle='--', alpha=0.5)\n",
    "plt.show();"
   ]
  },
  {
   "cell_type": "code",
   "execution_count": null,
   "metadata": {
    "ExecuteTime": {
     "end_time": "2021-02-26T09:13:28.299510Z",
     "start_time": "2021-02-26T09:13:28.075199Z"
    }
   },
   "outputs": [],
   "source": [
    "# Расходящиеся столбики\n",
    "x = df.loc[:, \"BPXSY1\"]\n",
    "df['colors'] = ['coral' if i < 0 else 'lightgreen' for i in df[\"BPXSY1_n\"]]\n",
    "y_ticks = np.arange(16, 82, 8) #Задаем шкалу для оси Y. старт, стоп, шаг\n",
    "plt.figure(figsize=(16, 10), dpi=80)\n",
    "plt.hlines(y = df.RIDAGEYR, xmin=0, xmax = df.BPXSY1_n, color=df.colors, linewidth=3)\n",
    "plt.gca().set(ylabel=\"RIDAGEYR\", xlabel = \"BPXSY1\")\n",
    "plt.yticks(y_ticks, fontsize=14)\n",
    "plt.grid(linestyle='--', alpha=0.5)\n",
    "plt.show();"
   ]
  },
  {
   "cell_type": "code",
   "execution_count": null,
   "metadata": {
    "ExecuteTime": {
     "end_time": "2021-02-26T09:13:28.330452Z",
     "start_time": "2021-02-26T09:13:28.301418Z"
    },
    "scrolled": true
   },
   "outputs": [],
   "source": [
    "df.head().T"
   ]
  },
  {
   "cell_type": "code",
   "execution_count": null,
   "metadata": {
    "ExecuteTime": {
     "end_time": "2021-02-26T09:13:28.346417Z",
     "start_time": "2021-02-26T09:13:28.332416Z"
    }
   },
   "outputs": [],
   "source": [
    "df['Age'] = df['RIDAGEYR']\n",
    "df['Gender'] = df['RIAGENDR']\n",
    "df['Salary'] = df['WTINT2YR']"
   ]
  },
  {
   "cell_type": "code",
   "execution_count": null,
   "metadata": {
    "ExecuteTime": {
     "end_time": "2021-02-26T09:13:28.362416Z",
     "start_time": "2021-02-26T09:13:28.348417Z"
    }
   },
   "outputs": [],
   "source": [
    "df[df['Gender'] == 'Male']['Salary'].agg(np.median) \n",
    "df[(df['Gender'] == 'Male') & (df['DMDMARTL'] != 'Married')]['Salary'].agg(np.median)"
   ]
  },
  {
   "cell_type": "code",
   "execution_count": null,
   "metadata": {
    "ExecuteTime": {
     "end_time": "2021-02-26T09:13:28.377417Z",
     "start_time": "2021-02-26T09:13:28.364445Z"
    }
   },
   "outputs": [],
   "source": [
    "# средние показатели предикторов, сгруппированных для другого\n",
    "df.groupby(['Gender'])[['SDMVSTRA', 'Age', 'Salary']].agg(np.median)"
   ]
  },
  {
   "cell_type": "code",
   "execution_count": null,
   "metadata": {
    "ExecuteTime": {
     "end_time": "2021-02-26T09:13:28.392416Z",
     "start_time": "2021-02-26T09:13:28.379417Z"
    }
   },
   "outputs": [],
   "source": [
    "# Выделение нового предиктора на основе произвольных действий с другими\n",
    "df['Rich'] = (df['Salary'] > df['Salary'].quantile(.75)).astype(int) #Верхняя четверть богатых"
   ]
  },
  {
   "cell_type": "code",
   "execution_count": null,
   "metadata": {
    "ExecuteTime": {
     "end_time": "2021-02-26T09:13:28.408416Z",
     "start_time": "2021-02-26T09:13:28.394416Z"
    }
   },
   "outputs": [],
   "source": [
    "def binar_gender(gender):\n",
    "    return 0 if gender == \"Female\" else 1\n",
    "df['Gender'].apply(binar_gender).describe()"
   ]
  },
  {
   "cell_type": "code",
   "execution_count": null,
   "metadata": {
    "ExecuteTime": {
     "end_time": "2021-02-26T09:13:28.424417Z",
     "start_time": "2021-02-26T09:13:28.410417Z"
    }
   },
   "outputs": [],
   "source": [
    "num_feat = [x for x in df.columns if df[x].dtype !=\"object\"]\n",
    "df[num_feat].apply(np.mean)"
   ]
  },
  {
   "cell_type": "code",
   "execution_count": null,
   "metadata": {
    "ExecuteTime": {
     "end_time": "2021-02-26T09:13:28.472420Z",
     "start_time": "2021-02-26T09:13:28.426416Z"
    }
   },
   "outputs": [],
   "source": [
    "df.sort_values('Age', ascending=False)"
   ]
  },
  {
   "cell_type": "code",
   "execution_count": null,
   "metadata": {
    "ExecuteTime": {
     "end_time": "2021-02-26T09:13:28.503725Z",
     "start_time": "2021-02-26T09:13:28.474415Z"
    },
    "scrolled": true
   },
   "outputs": [],
   "source": [
    "pd.crosstab(df['Gender'], df['Rich'], normalize=True)"
   ]
  },
  {
   "cell_type": "code",
   "execution_count": null,
   "metadata": {
    "ExecuteTime": {
     "end_time": "2021-02-26T09:13:28.519726Z",
     "start_time": "2021-02-26T09:13:28.505725Z"
    }
   },
   "outputs": [],
   "source": [
    "df.pivot_table(['Age', 'Salary'], ['Gender'], aggfunc='median')"
   ]
  },
  {
   "cell_type": "code",
   "execution_count": null,
   "metadata": {
    "ExecuteTime": {
     "end_time": "2021-02-26T09:16:15.520226Z",
     "start_time": "2021-02-26T09:16:12.920796Z"
    }
   },
   "outputs": [],
   "source": [
    "df.hist();"
   ]
  },
  {
   "cell_type": "code",
   "execution_count": null,
   "metadata": {
    "ExecuteTime": {
     "end_time": "2021-02-26T09:26:14.747128Z",
     "start_time": "2021-02-26T09:26:14.729129Z"
    }
   },
   "outputs": [],
   "source": [
    "# Выборка для всего фрейма, ограниченная по заданным параметрам одного из предикторов(например, только топ-5 значений)\n",
    "a = df[df['Age'].isin(df['Age'].value_counts().head().index)]\n",
    "sns.countplot(a['Age']);"
   ]
  },
  {
   "cell_type": "code",
   "execution_count": null,
   "metadata": {
    "ExecuteTime": {
     "end_time": "2021-02-26T10:02:49.834290Z",
     "start_time": "2021-02-26T10:02:49.809296Z"
    }
   },
   "outputs": [],
   "source": [
    "# Взаимодействие количественнях предикторов\n",
    "num_feat = [x for x in df.columns if df[x].dtype !=\"object\"]\n",
    "num_feat.remove('index')"
   ]
  },
  {
   "cell_type": "code",
   "execution_count": null,
   "metadata": {
    "ExecuteTime": {
     "end_time": "2021-02-26T10:03:48.008080Z",
     "start_time": "2021-02-26T10:03:45.462528Z"
    }
   },
   "outputs": [],
   "source": [
    "df[num_feat].hist();"
   ]
  },
  {
   "cell_type": "code",
   "execution_count": null,
   "metadata": {
    "ExecuteTime": {
     "end_time": "2021-02-26T10:19:59.549958Z",
     "start_time": "2021-02-26T10:19:59.277018Z"
    }
   },
   "outputs": [],
   "source": [
    "plt.scatter(df['Age'], df[\"Salary\"]);"
   ]
  },
  {
   "cell_type": "code",
   "execution_count": null,
   "metadata": {},
   "outputs": [],
   "source": []
  },
  {
   "cell_type": "code",
   "execution_count": null,
   "metadata": {},
   "outputs": [],
   "source": []
  },
  {
   "cell_type": "code",
   "execution_count": null,
   "metadata": {},
   "outputs": [],
   "source": []
  },
  {
   "cell_type": "code",
   "execution_count": null,
   "metadata": {},
   "outputs": [],
   "source": []
  }
 ],
 "metadata": {
  "hide_input": false,
  "kernelspec": {
   "display_name": "Python 3",
   "language": "python",
   "name": "python3"
  },
  "language_info": {
   "codemirror_mode": {
    "name": "ipython",
    "version": 3
   },
   "file_extension": ".py",
   "mimetype": "text/x-python",
   "name": "python",
   "nbconvert_exporter": "python",
   "pygments_lexer": "ipython3",
   "version": "3.8.3"
  },
  "latex_envs": {
   "LaTeX_envs_menu_present": true,
   "autoclose": false,
   "autocomplete": true,
   "bibliofile": "biblio.bib",
   "cite_by": "apalike",
   "current_citInitial": 1,
   "eqLabelWithNumbers": true,
   "eqNumInitial": 1,
   "hotkeys": {
    "equation": "Ctrl-E",
    "itemize": "Ctrl-I"
   },
   "labels_anchors": false,
   "latex_user_defs": false,
   "report_style_numbering": false,
   "user_envs_cfg": false
  },
  "nbTranslate": {
   "displayLangs": [
    "*"
   ],
   "hotkey": "alt-t",
   "langInMainMenu": true,
   "sourceLang": "en",
   "targetLang": "fr",
   "useGoogleTranslate": true
  },
  "toc": {
   "base_numbering": 1,
   "nav_menu": {
    "height": "12px",
    "width": "160px"
   },
   "number_sections": true,
   "sideBar": true,
   "skip_h1_title": false,
   "title_cell": "Table of Contents",
   "title_sidebar": "Contents",
   "toc_cell": false,
   "toc_position": {},
   "toc_section_display": true,
   "toc_window_display": false
  },
  "varInspector": {
   "cols": {
    "lenName": 16,
    "lenType": 16,
    "lenVar": 40
   },
   "kernels_config": {
    "python": {
     "delete_cmd_postfix": "",
     "delete_cmd_prefix": "del ",
     "library": "var_list.py",
     "varRefreshCmd": "print(var_dic_list())"
    },
    "r": {
     "delete_cmd_postfix": ") ",
     "delete_cmd_prefix": "rm(",
     "library": "var_list.r",
     "varRefreshCmd": "cat(var_dic_list()) "
    }
   },
   "position": {
    "height": "420px",
    "left": "13px",
    "right": "20px",
    "top": "240px",
    "width": "350px"
   },
   "types_to_exclude": [
    "module",
    "function",
    "builtin_function_or_method",
    "instance",
    "_Feature"
   ],
   "window_display": true
  }
 },
 "nbformat": 4,
 "nbformat_minor": 4
}
