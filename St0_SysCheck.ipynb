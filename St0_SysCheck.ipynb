{
 "cells": [
  {
   "cell_type": "code",
   "execution_count": null,
   "metadata": {},
   "outputs": [],
   "source": [
    "#DataExtraction\n",
    "\n",
    "#SQL\n",
    "#Scrapping\n",
    "#File Formats\n",
    "#Consulting API\n",
    "#Buying Data\n",
    "#Distributed Databases"
   ]
  },
  {
   "cell_type": "code",
   "execution_count": null,
   "metadata": {},
   "outputs": [],
   "source": [
    "#Data Cleaning\n",
    "\n",
    "#Missing Values & Empty Data\n",
    "#Data imputation\n",
    "#Incorrect Types\n",
    "#Incorrest or invalid values\n",
    "#Outliers and non relevant data\n",
    "#Statistic sanitization"
   ]
  },
  {
   "cell_type": "code",
   "execution_count": null,
   "metadata": {},
   "outputs": [],
   "source": [
    "#Data wrangling\n",
    "\n",
    "#Hierarchical Data\n",
    "#Handling categorical data\n",
    "#Reshaping and transforming structures\n",
    "#Indexing data for quick access\n",
    "#Merging, combining and joining data"
   ]
  },
  {
   "cell_type": "code",
   "execution_count": null,
   "metadata": {},
   "outputs": [],
   "source": [
    "#Analysis\n",
    "\n",
    "#Exploration\n",
    "#Building statistical models\n",
    "#Visualization and representations\n",
    "#Correlation vs Causation analysis\n",
    "#Hypothesis testing Statistical analysis\n",
    "#Reporting"
   ]
  },
  {
   "cell_type": "code",
   "execution_count": null,
   "metadata": {},
   "outputs": [],
   "source": [
    "#Action\n",
    "\n",
    "#Building ML Models\n",
    "#Feature Engineering\n",
    "#Moving ML into production\n",
    "#Building ETL pipelines\n",
    "#Live dashboard and reporting\n",
    "#Decision making and real-life tests"
   ]
  }
 ],
 "metadata": {
  "kernelspec": {
   "display_name": "Python 3",
   "language": "python",
   "name": "python3"
  },
  "language_info": {
   "codemirror_mode": {
    "name": "ipython",
    "version": 3
   },
   "file_extension": ".py",
   "mimetype": "text/x-python",
   "name": "python",
   "nbconvert_exporter": "python",
   "pygments_lexer": "ipython3",
   "version": "3.8.3"
  }
 },
 "nbformat": 4,
 "nbformat_minor": 4
}
