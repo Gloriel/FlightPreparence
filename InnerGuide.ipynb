{
 "cells": [
  {
   "cell_type": "markdown",
   "metadata": {},
   "source": [
    "Содержание предполетного листа\n",
    "===================="
   ]
  },
  {
   "cell_type": "markdown",
   "metadata": {},
   "source": [
    "* Стадии подготовки к работе с фреймом.<br>\n",
    "  * Сбор данных\n",
    "  * Хранение данных\n",
    "  * Инструменты разработчика\n",
    "  * Командная работа: бранчевание, комменты, QA\n",
    "  * Мануалы\n",
    "  * Ссылки [scipy.stats.shapiro](https://docs.scipy.org/doc/scipy-0.14.0/reference/generated/scipy.stats.shapiro.html).<br>"
   ]
  },
  {
   "cell_type": "code",
   "execution_count": null,
   "metadata": {
    "scrolled": true
   },
   "outputs": [],
   "source": [
    "from IPython.display import Image\n",
    "# https://www.slideshare.net/vladimirkazantsev/how-to-concludeonlineexperimentsinpython\n",
    "Image(\"stat_tests.jpg\")"
   ]
  }
 ],
 "metadata": {
  "kernelspec": {
   "display_name": "Python 3",
   "language": "python",
   "name": "python3"
  },
  "language_info": {
   "codemirror_mode": {
    "name": "ipython",
    "version": 3
   },
   "file_extension": ".py",
   "mimetype": "text/x-python",
   "name": "python",
   "nbconvert_exporter": "python",
   "pygments_lexer": "ipython3",
   "version": "3.8.3"
  }
 },
 "nbformat": 4,
 "nbformat_minor": 2
}
