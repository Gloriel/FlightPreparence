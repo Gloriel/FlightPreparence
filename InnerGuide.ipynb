{
 "cells": [
  {
   "cell_type": "markdown",
   "metadata": {},
   "source": [
    "Содержание предполетного листа\n",
    "===================="
   ]
  },
  {
   "cell_type": "markdown",
   "metadata": {},
   "source": [
    "* Стадии подготовки к работе с фреймом.<br>\n",
    "  * Сбор данных\n",
    "  * Хранение данных\n",
    "  * Инструменты разработчика\n",
    "  * Командная работа: бранчевание, комменты, QA\n",
    "  * Мануалы\n",
    "  * Ссылки [scipy.stats.shapiro](https://docs.scipy.org/doc/scipy-0.14.0/reference/generated/scipy.stats.shapiro.html).<br>"
   ]
  },
  {
   "cell_type": "markdown",
   "metadata": {},
   "source": [
    "* DataExtraction\n",
    "  * SQL\n",
    "  * Scrapping\n",
    "  * File Formats\n",
    "  * Consulting API\n",
    "  * Buying Data\n",
    "  * Distributed Databases\n",
    "\n",
    "* Data Cleaning\n",
    "  * Missing Values & Empty Data\n",
    "  * Data imputation\n",
    "  * Incorrect Types\n",
    "  * Incorrest or invalid values\n",
    "  * Outliers and non relevant data\n",
    "  * Statistic sanitization\n",
    "\n",
    "* Data wrangling\n",
    "  * Hierarchical Data\n",
    "  * Handling categorical data\n",
    "  * Reshaping and transforming structures\n",
    "  * Indexing data for quick access\n",
    "  * Merging, combining and joining data\n",
    "\n",
    "* Analysis\n",
    "  * Exploration\n",
    "  * Building statistical models\n",
    "  * Visualization and representations\n",
    "  * Correlation vs Causation analysis\n",
    "  * Hypothesis testing Statistical analysis\n",
    "  * Reporting\n",
    "\n",
    "* Action\n",
    "  * Building ML Models\n",
    "  * Feature Engineering\n",
    "  * Moving ML into production\n",
    "  * Building ETL pipelines\n",
    "  * Live dashboard and reporting\n",
    "  * Decision making and real-life tests"
   ]
  },
  {
   "cell_type": "code",
   "execution_count": null,
   "metadata": {
    "scrolled": true
   },
   "outputs": [],
   "source": [
    "from IPython.display import Image\n",
    "# https://www.slideshare.net/vladimirkazantsev/how-to-concludeonlineexperimentsinpython\n",
    "Image(\"stat_tests.jpg\")"
   ]
  }
 ],
 "metadata": {
  "kernelspec": {
   "display_name": "Python 3",
   "language": "python",
   "name": "python3"
  },
  "language_info": {
   "codemirror_mode": {
    "name": "ipython",
    "version": 3
   },
   "file_extension": ".py",
   "mimetype": "text/x-python",
   "name": "python",
   "nbconvert_exporter": "python",
   "pygments_lexer": "ipython3",
   "version": "3.8.3"
  }
 },
 "nbformat": 4,
 "nbformat_minor": 2
}
