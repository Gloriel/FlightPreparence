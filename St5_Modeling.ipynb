{
 "cells": [
  {
   "cell_type": "markdown",
   "metadata": {},
   "source": [
    " * [Пример моделирования](https://www.kaggle.com/godzill22/house-price-prediction-improved-model-top-8)<br>\n",
    " * [Выбор модели](https://scikit-learn.org/stable/tutorial/machine_learning_map/index.html)<br>"
   ]
  },
  {
   "cell_type": "code",
   "execution_count": 2,
   "metadata": {
    "ExecuteTime": {
     "end_time": "2021-02-08T05:35:26.346801Z",
     "start_time": "2021-02-08T05:35:23.927027Z"
    }
   },
   "outputs": [],
   "source": [
    "import numpy as np\n",
    "import pandas as pd\n",
    "\n",
    "import missingno\n",
    "import matplotlib.pyplot as plt\n",
    "import matplotlib as mpl\n",
    "import seaborn as sns\n",
    "import plotly.graph_objects as go\n",
    "import plotly.express as px\n",
    "\n",
    "import scipy as sp\n",
    "from scipy.stats import skew\n",
    "\n",
    "import warnings\n",
    "warnings.filterwarnings(\"ignore\")\n",
    "\n",
    "train_df = pd.read_csv(\"train.csv\")\n",
    "test_df = pd.read_csv(\"test.csv\")\n",
    "comb = [train_df, test_df]"
   ]
  },
  {
   "cell_type": "code",
   "execution_count": null,
   "metadata": {
    "code_folding": [
     3
    ]
   },
   "outputs": [],
   "source": [
    "from sklearn.metrics import mean_absolute_error, mean_squared_error, r2_score\n",
    "\n",
    "# Функция оценки эффективности моделей\n",
    "def model_evaluation(algo, algoname):\n",
    "    \"\"\"\n",
    "    This function  fit and  evaluate \n",
    "    given algorithm. It takes 2 arguments:\n",
    "    First: algorithm of a choice without parentheses.\n",
    "    Second: the name of a algorithm as a string.\n",
    "    \"\"\"\n",
    "\n",
    "    # Обучение заданной модели\n",
    "    algo.fit(scaled_Xtrain, y_train) #Обучение\n",
    "    y_pred = algo.predict(scaled_Xtest) #Предсказание\n",
    "\n",
    "    # Вычисление метрик\n",
    "    mae = mean_absolute_error(y_test, y_pred)\n",
    "    rmse = np.sqrt(mean_squared_error(y_test, y_pred))\n",
    "\n",
    "    # Коэффициент детерминации - единица минус доля необъяснённой дисперсии\n",
    "    r2score = r2_score(y_test, y_pred)\n",
    "\n",
    "    print(f\"**{algoname} Metrics**\")\n",
    "    print(f\"**MAE: {mae:}\")\n",
    "    print(f\"**RMSE: {rmse:}\")\n",
    "    print(f\"**R-squared: {r2score:.2f}%\")\n",
    "\n",
    "    return mae, rmse, r2score, y_pred, algo"
   ]
  },
  {
   "cell_type": "code",
   "execution_count": null,
   "metadata": {
    "code_folding": [
     1
    ]
   },
   "outputs": [],
   "source": [
    "# График оценки вероятности и остатков\n",
    "def plot_residuals(y_pred, algoname):\n",
    "    \"\"\"\n",
    "    Function plots probability and residuals plot\n",
    "    \"\"\"\n",
    "    residuals = pd.Series(y_test - y_pred, \n",
    "                          name=\"residuals\")\n",
    "    \n",
    "    fig, axes = plt.subplots(ncols=2, \n",
    "                             nrows=2, \n",
    "                             figsize=(14,4), \n",
    "                             dpi=120)\n",
    "    # График вероятности\n",
    "    sp.stats.probplot(residuals, plot=axes[0,0])\n",
    "    # График kde\n",
    "    sns.distplot(residuals, ax=axes[0,1], hist=False)\n",
    "    # График остатков\n",
    "    sns.scatterplot(x=y_test, y=residuals, ax=axes[1,0])\n",
    "    axes[1,0].axhline(y=0, c='red',ls='--')\n",
    "    # График распределения\n",
    "    sns.boxplot(residuals, ax=axes[1,1])\n",
    "    plt.tight_layout()"
   ]
  },
  {
   "cell_type": "code",
   "execution_count": null,
   "metadata": {
    "code_folding": [
     3
    ]
   },
   "outputs": [],
   "source": [
    "from sklearn.model_selection import GridSearchCV\n",
    "\n",
    "# Таблица результатов эффективности моделей\n",
    "def model_gridsearchCV(algo, param, name):\n",
    "    \"\"\"\n",
    "    Function will perform gridsearchCV for given algorithm\n",
    "    and parameter grid. Returns grid model, y_pred. Prints out \n",
    "    mean absolute error, root mean squared error, R-square score\n",
    "    \"\"\"\n",
    "    # Instatiate base model\n",
    "    model = algo()\n",
    "\n",
    "    # Instantiate grid for a model\n",
    "    model_grid = GridSearchCV(model,\n",
    "                              param,\n",
    "                              scoring=\"r2\",\n",
    "                              # verbose=2,\n",
    "                              n_jobs=-1,\n",
    "                              cv=3)\n",
    "    # Fit the grid model\n",
    "    model_grid.fit(scaled_Xtrain, y_train)\n",
    "\n",
    "    # Make prediction\n",
    "    y_pred = model_grid.predict(scaled_Xtest)\n",
    "\n",
    "    # Evaluate model\n",
    "    mae = mean_absolute_error(y_test, y_pred)\n",
    "    rmse = np.sqrt(mean_squared_error(y_test, y_pred))\n",
    "    r2score = r2_score(y_test, y_pred)\n",
    "\n",
    "    # Print\n",
    "    print(f\"**{name} with GridSearchCV**\")\n",
    "    print(f\"MAE: {mae:}\")\n",
    "    print(f\"RMSE: {rmse:}\")\n",
    "    print(f\"R-squared: {r2score:.2f}%\")\n",
    "\n",
    "    return mae, rmse, r2score, y_pred, model_grid"
   ]
  },
  {
   "cell_type": "code",
   "execution_count": null,
   "metadata": {
    "code_folding": [
     3
    ]
   },
   "outputs": [],
   "source": [
    "# SGDRegressor\n",
    "from sklearn.linear_model import SGDRegressor\n",
    "sgd_base_model = SGDRegressor(random_state=42)\n",
    "sgd_base_mae, sgd_base_rmse, sgd_base_r2score, sgd_y_pred, _ = model_evaluation(sgd_base_model,\n",
    "                                                                                \"SGDRegressor\")\n",
    "plot_residuals(sgd_y_pred, \"SGDRegressor\")"
   ]
  },
  {
   "cell_type": "code",
   "execution_count": null,
   "metadata": {
    "code_folding": [
     4
    ]
   },
   "outputs": [],
   "source": [
    "# Gradient Boosting Regressor\n",
    "from sklearn.ensemble import GradientBoostingRegressor\n",
    "gbr_model = GradientBoostingRegressor()\n",
    "gbr_base_mae, gbr_base_rmse, gbr_base_r2score, gbr_y_pred, gbr_model = model_evaluation(gbr_model, \n",
    "                                                                                        \"GradientBostingRegressor\")\n",
    "plot_residuals(gbr_y_pred, \"Gradient Boosting Regressor\")"
   ]
  },
  {
   "cell_type": "code",
   "execution_count": null,
   "metadata": {
    "code_folding": [
     4
    ]
   },
   "outputs": [],
   "source": [
    "# Random Forest Regressor\n",
    "from sklearn.ensemble import RandomForestRegressor\n",
    "rfr_model = RandomForestRegressor()\n",
    "rfr_base_mae, rfr_base_rmse, rfr_base_r2score, rfr_y_pred, rfr_model = model_evaluation(rfr_model, \n",
    "                                                                                        \"RandomForestRegressor\")\n",
    "plot_residuals(rfr_y_pred, \"Random Forest Regressor\")"
   ]
  },
  {
   "cell_type": "code",
   "execution_count": null,
   "metadata": {
    "code_folding": [
     4
    ]
   },
   "outputs": [],
   "source": [
    "# Extreme Gradient Boosting\n",
    "from xgboost import XGBRegressor\n",
    "xgboost_model = XGBRegressor()\n",
    "xgboost_base_mae, xgboost_base_rmse, xgboost_base_r2score, xgboost_y_pred, xgboost_model = model_evaluation(xgboost_model,\n",
    "                                                                                                            \"Extreme Gradient Boosting\")\n",
    "plot_residuals(xgboost_y_pred, \"Extreme Gradient Boosting\")"
   ]
  },
  {
   "cell_type": "code",
   "execution_count": null,
   "metadata": {
    "code_folding": [
     4
    ]
   },
   "outputs": [],
   "source": [
    "# KNeighbors\n",
    "from sklearn.neighbors import KNeighborsRegressor\n",
    "knn_model = KNeighborsRegressor()\n",
    "knn_base_mae, knn_base_rmse, knn_base_r2score, knn_y_pred, knn_model = model_evaluation(knn_model, \n",
    "                                                                                        \"KNeighborsRegressor\")\n",
    "plot_residuals(knn_y_pred, \"KNeighborsRegressor\")"
   ]
  },
  {
   "cell_type": "code",
   "execution_count": null,
   "metadata": {
    "code_folding": [
     5
    ]
   },
   "outputs": [],
   "source": [
    "# ElasticNetCV\n",
    "from sklearn.linear_model import ElasticNetCV\n",
    "from sklearn.linear_model import LassoCV\n",
    "\n",
    "elastic_model = ElasticNetCV(l1_ratio=[.1, .5, .7, .9, .95, .99, 1])\n",
    "el_base_mae, el_base_rmse, el_base_r2score, el_base_y_pred, elastic_model = model_evaluation(elastic_model,\n",
    "                                                                                             \"ElasticNetCV\")\n",
    "plot_residuals(el_base_y_pred, \"ElasticNetCV\")\n",
    "\n",
    "elastic_model.l1_ratio_\n",
    "\n",
    "lasso_cv_model = LassoCV(eps=0.01, n_alphas=200, cv=10, max_iter=1000000)\n",
    "lassoCV_mae, lassoCV_rmse, lassoCV_r2score, lassoCV_y_pred, lasso_cv_model = model_evaluation(lasso_cv_model, \"LassoCV\")\n",
    "\n",
    "plot_residuals(lassoCV_y_pred, \"LassoCV\")"
   ]
  },
  {
   "cell_type": "code",
   "execution_count": null,
   "metadata": {},
   "outputs": [],
   "source": [
    "# RidgeCV\n",
    "from sklearn.linear_model import RidgeCV\n",
    "\n",
    "ridge_model = RidgeCV(alphas=[0.1, 1.0, 10.0])\n",
    "ridge_cv_mae, ridge_cv_rmse, ridge_cv_r2, ridge_cv_y_pred, ridge_model = model_evaluation(ridge_model,\n",
    "                                                                                          \"RidgeCV\")\n",
    "ridge_model.alpha_\n",
    "plot_residuals(ridge_cv_y_pred, \"RidgeCV\")"
   ]
  },
  {
   "cell_type": "code",
   "execution_count": null,
   "metadata": {},
   "outputs": [],
   "source": [
    "# SVR\n",
    "from sklearn.svm import SVR\n",
    "\n",
    "svr_base_model = SVR()\n",
    "\n",
    "svr_base_mae, svr_base_rmse, svr_base_r2score, svr_base_y_red, svr_base_model = model_evaluation(svr_base_model, \n",
    "                                                                                                 \"Support Vector Regressor\")\n",
    "plot_residuals(svr_base_y_red, \"SVR\")"
   ]
  },
  {
   "cell_type": "code",
   "execution_count": null,
   "metadata": {},
   "outputs": [],
   "source": [
    "# CatBoostRegressor\n",
    "import shap\n",
    "from catboost import Pool\n",
    "from catboost import CatBoostRegressor\n",
    "\n",
    "cat_base = CatBoostRegressor(verbose=0, random_state=101)\n",
    "\n",
    "cat_base_mae, cat_base_rmse, cat_base_r2, cat_base_y_pred, cat_base_model = model_evaluation(cat_base,\n",
    "                                                                                             \"CatBoostRegressor\")\n",
    "\n",
    "feat_imp = cat_base.get_feature_importance(prettified=True)\n",
    "\n",
    "# График топ-20 предикторов (по важности)\n",
    "\n",
    "plt.figure(figsize = (12,8))\n",
    "sns.barplot(feat_imp['Importances'][:20],feat_imp['Feature Id'][:20], orient = 'h', palette=\"coolwarm_r\")\n",
    "plt.title(\"Feature Importance\")\n",
    "plt.show()\n",
    "\n",
    "train_pool = Pool(scaled_Xtrain)\n",
    "val_pool = Pool(scaled_Xtest)\n",
    "\n",
    "explainer = shap.TreeExplainer(cat_base_model) # Модель\n",
    "shap_values = explainer.shap_values(train_pool) # Обучающий Pool объект\n",
    "\n",
    "shap.summary_plot(shap_values, scaled_Xtrain)"
   ]
  },
  {
   "cell_type": "code",
   "execution_count": null,
   "metadata": {},
   "outputs": [],
   "source": [
    "# Метрики базовых моделей\n",
    "base_score_df = pd.DataFrame({\"Model\":[\"SGDRegressor\", \"GradientBoostingRegressor\",\n",
    "                                       \"RandomForestRegressor\", \"Extreme Gradient Boosting\",\n",
    "                                       \"KNeighborsRegressor\" , \"LassoCV\", \"SVR\", \"RidgeCV\",\n",
    "                                       \"CatBoost\"],\n",
    "                              \n",
    "                              \"R-square\":[sgd_base_r2score, gbr_base_r2score, rfr_base_r2score,\n",
    "                                         xgboost_base_r2score, knn_base_r2score, lassoCV_r2score,\n",
    "                                         svr_base_r2score, ridge_cv_r2, cat_base_r2],\n",
    "                              \n",
    "                              \"RMSE\":[sgd_base_rmse, gbr_base_rmse, rfr_base_rmse, xgboost_base_rmse,\n",
    "                                      knn_base_rmse, lassoCV_rmse, svr_base_rmse, ridge_cv_rmse,\n",
    "                                      cat_base_rmse],\n",
    "                              \n",
    "                              \"MAE\": [sgd_base_mae, gbr_base_mae, rfr_base_mae, xgboost_base_mae,\n",
    "                                      knn_base_mae, lassoCV_mae, svr_base_mae, ridge_cv_mae,\n",
    "                                      cat_base_mae]})\n",
    "\n",
    "base_score_df = base_score_df.sort_values(by=[\"R-square\"], \n",
    "                                          ascending=False).reset_index(drop=True)\n",
    "\n",
    "print(\"**Base Models Metrics**\")\n",
    "base_score_df\n",
    "\n",
    "# Визуализация метрик\n",
    "fig, ax = plt.subplots(figsize=(8,5))\n",
    "\n",
    "sns.barplot(x=\"Model\", y=\"R-square\", data=base_score_df, ax=ax, palette=\"magma\")\n",
    "sns.lineplot(x=\"Model\", y=\"RMSE\", data=base_score_df, color=\"red\", ax=ax,legend='brief', label=\"rmse\")\n",
    "sns.lineplot(x=\"Model\", y=\"MAE\", data=base_score_df, color='green', ax=ax, legend='brief', label=\"mae\")\n",
    "\n",
    "plt.xticks(rotation=45, horizontalalignment=\"right\")\n",
    "plt.title(\"Regression Model Performance Metrics\")\n",
    "plt.ylabel(\"R_squared\")\n",
    "plt.legend();"
   ]
  },
  {
   "cell_type": "code",
   "execution_count": null,
   "metadata": {
    "code_folding": []
   },
   "outputs": [],
   "source": [
    "# GridSearchCV - поиск наилучшего сочетания параметров для построения моделей предсказания"
   ]
  },
  {
   "cell_type": "code",
   "execution_count": null,
   "metadata": {
    "code_folding": []
   },
   "outputs": [],
   "source": [
    "# GradientBoostingRegressor\n",
    "param_grid = {#\"loss\":[\"ls\",\"lad\",\"huber\",\"quantile\"],\n",
    "              \"learning_rate\": [ 0.01, 0.1, 0.3, 1],\n",
    "              \"subsample\": [0.5, 0.2, 0.1],\n",
    "              \"n_estimators\": [500, 1000],\n",
    "              \"max_depth\": [3,6,8]}\n",
    "\n",
    "gbr_grid_mae, gbr_grid_rmse, gbr_grid_r2, _ , gbr_grid = model_gridsearchCV(GradientBoostingRegressor, \n",
    "                                                                            param_grid,\n",
    "                                                                            \"GradientBoostingRegressor\")\n",
    "gbr_grid.best_params_"
   ]
  },
  {
   "cell_type": "code",
   "execution_count": null,
   "metadata": {},
   "outputs": [],
   "source": [
    "# Random Forest Regressor\n",
    "param_grid = {\"n_estimators\": [500,1000, 1500],\n",
    "              \"max_features\": ['auto','sqrt'],\n",
    "              \"max_depth\": range(1,11),\n",
    "              \"min_samples_split\": [2,5,10],\n",
    "              \"min_samples_leaf\": [1,2,5,10]}\n",
    "\n",
    "rfr_grid_mae, rfr_grid_rmse, rfr_grid_r2, _ , rfr_grid_model = model_gridsearchCV(RandomForestRegressor,\n",
    "                                                                                  param_grid,\n",
    "                                                                                  cv=5, #опционально\n",
    "                                                                                  n_jobs=-1, #опционально\n",
    "                                                                                  verbose=True, #опционально\n",
    "                                                                                  \"RandomForestRegressor\")\n",
    "rfr_grid_model.best_params_"
   ]
  },
  {
   "cell_type": "code",
   "execution_count": null,
   "metadata": {},
   "outputs": [],
   "source": [
    "# SVR\n",
    "param_grid = {\"kernel\":[\"linear\",\"rbf\",],\n",
    "              \"gamma\": [\"scale\",\"auto\"],\n",
    "              \"C\": [0.1, 0.5, 1, 10],\n",
    "              \"epsilon\": [0.1, 0.01, 0.001]}\n",
    "\n",
    "svr_grid_mae, svr_grid_rmse, svr_grid_r2, svr_grid_y_pred, svr_grid_model = model_gridsearchCV(SVR,\n",
    "                                                                                param_grid,\n",
    "                                                                               \"SVR\")\n",
    "svr_grid_model.best_params_"
   ]
  },
  {
   "cell_type": "code",
   "execution_count": null,
   "metadata": {},
   "outputs": [],
   "source": [
    "# Ridge\n",
    "from sklearn.linear_model import Ridge\n",
    "\n",
    "param_grid = {\"solver\": [\"auto\",\"svd\",\"lsqr\",\"saga\"],\n",
    "              \"max_iter\": [1000, 10000],\n",
    "              \"tol\": [1e-3,1e-2],\n",
    "              \"alpha\": [0.1, 1.0, 10.0, 30.0]}\n",
    "\n",
    "ridge_gr_mae, ridge_gr_rmse, ridge_gr_r2,_ , ridge_gr_model = model_gridsearchCV(Ridge,\n",
    "                                                                                 param_grid,\n",
    "                                                                                 \"Ridge\")\n",
    "ridge_gr_model.best_params_"
   ]
  },
  {
   "cell_type": "code",
   "execution_count": null,
   "metadata": {},
   "outputs": [],
   "source": [
    "# Extreme Gradient Boosting\n",
    "param_grid = {\"learning_rate\":[0.05, 0.10, 0.15, 0.20, 0.30],\n",
    "              \"max_depth\":[3,4,5,6,8,15],\n",
    "              \"min_child_weight\":[1,3,5,7],\n",
    "              \"gamma\":[0.0, 0.1, 0.2, 0.3, 0.4],\n",
    "              \"colsample_bytree\":[0.3, 0.4, 0.5, 0.7]}\n",
    "\n",
    "xboost_gr_mae, xboost_gr_rmse, xboost_gr_r2, _ , xboost_gr_model = model_gridsearchCV(XGBRegressor,\n",
    "                                                                                      param_grid,\n",
    "                                                                                      \"XGBoost\")\n",
    "xboost_gr_model.best_params_"
   ]
  },
  {
   "cell_type": "code",
   "execution_count": null,
   "metadata": {},
   "outputs": [],
   "source": [
    "# CatBoostRegressor\n",
    "param_grid = {'iterations': [250,100,500,1000],\n",
    "              'learning_rate': [0.01,0.1,0.2,0.3],\n",
    "              'depth': [4, 6],\n",
    "              'l2_leaf_reg': [3,1,5,10,100]}\n",
    "\n",
    "\n",
    "cat_grid_mae, cat_grid_rmse, cat_grid_r2, _ , cat_grid_model = model_gridsearchCV(CatBoostRegressor,\n",
    "                                                                                  param_grid,\n",
    "                                                                                  \"CatBoost\")\n",
    "cat_grid_model.best_params_"
   ]
  },
  {
   "cell_type": "code",
   "execution_count": null,
   "metadata": {},
   "outputs": [],
   "source": [
    "# Сравнение метрик всех моделей, усиленных grid'ом \n",
    "grCV_metrics_df = pd.DataFrame({\"Model\":[\"GradientBoostingRegressor\", \"RandomForestRegressor\", \n",
    "                                         \"SVR\", \"Ridge\", \"XGBRegressor\", \"CatBoost\"],\n",
    "                                        \n",
    "                                \"R-square\":[gbr_grid_r2, rfr_grid_r2, svr_grid_r2, \n",
    "                                            ridge_gr_r2, xboost_gr_r2, cat_grid_r2],\n",
    "                                        \n",
    "                                \"RMSE\":[gbr_grid_rmse, rfr_grid_rmse, svr_grid_rmse, \n",
    "                                        ridge_gr_rmse, xboost_gr_rmse, cat_grid_rmse],\n",
    "                                        \n",
    "                                \"MAE\":[gbr_grid_mae, rfr_grid_mae, svr_grid_mae, \n",
    "                                      ridge_gr_mae, xboost_gr_mae, cat_grid_mae]})\n",
    "\n",
    "#Фрейм метрик\n",
    "grCV_mertics_df = grCV_metrics_df.sort_values(by=[\"R-square\"],\n",
    "                                              ascending=False).reset_index(drop=True) #\n",
    "\n",
    "print(\"**GridSearchCV Models Metrics**\")\n",
    "\n",
    "# График результатов\n",
    "fig, ax = plt.subplots(figsize=(8,5))\n",
    "\n",
    "list_order = list(grCV_mertics_df['Model'].values)\n",
    "sns.barplot(x=\"Model\", y=\"R-square\", \n",
    "            data=grCV_metrics_df, ax=ax, \n",
    "            palette=\"magma\", order= list_order)\n",
    "sns.lineplot(x=\"Model\", y=\"RMSE\", data=grCV_metrics_df, \n",
    "             color=\"red\", ax=ax,legend='brief', label=\"rmse\")\n",
    "sns.lineplot(x=\"Model\", y=\"MAE\", data=grCV_metrics_df, \n",
    "             color='green', ax=ax, legend='brief', label=\"mae\")\n",
    "\n",
    "plt.xticks(rotation=45, horizontalalignment=\"right\")\n",
    "plt.title(\"Regression Models with GridSearchCV Metrics\")\n",
    "plt.ylabel(\"R_squared\")\n",
    "plt.legend();"
   ]
  },
  {
   "cell_type": "code",
   "execution_count": null,
   "metadata": {},
   "outputs": [],
   "source": [
    "# Объединенная модель с лучшими предикторами\n",
    "from sklearn.ensemble import VotingRegressor\n",
    "\n",
    "ensemble2_model = VotingRegressor(estimators=[(\"ridgecv\", ridge_gr_model.estimator),\n",
    "                                             (\"catboost\", cat_grid_model.estimator),\n",
    "                                             (\"gbr\", gbr_grid.estimator),\n",
    "                                             (\"lassocv\", lasso_cv_model),\n",
    "                                             (\"svr\", svr_base_model),\n",
    "                                             (\"forest\", rfr_model.base_estimator)])\n",
    "\n",
    "ensemble2_model.fit(scaled_Xtrain, y_train)\n",
    "\n",
    "# Предсказываем\n",
    "ensemble2_y_pred = ensemble2_model.predict(scaled_Xtest)\n",
    "ensemble2_mae = mean_absolute_error(y_test, ensemble2_y_pred)\n",
    "ensemble2_rmse = np.sqrt(mean_squared_error(y_test, ensemble2_y_pred))\n",
    "ensemble2_r2 = r2_score(y_test, ensemble2_y_pred)\n",
    "    \n",
    "print(f\"**VotingRegressor Metrics**\")\n",
    "print(f\"**MAE: {ensemble2_mae}\")\n",
    "print(f\"**RMSE: {ensemble2_rmse}\")\n",
    "print(f\"**R-squared: {ensemble2_r2:.2f}%\")"
   ]
  },
  {
   "cell_type": "code",
   "execution_count": null,
   "metadata": {},
   "outputs": [],
   "source": [
    "# Готовим вывод файла с предсказанем\n",
    "best_ensemble = VotingRegressor(estimators=[(\"gbr\", gbr_grid.estimator),\n",
    "                                            (\"forest\", rfr_grid_model.estimator),\n",
    "                                            (\"svr\", svr_grid_model.estimator),\n",
    "                                            (\"ridge\", ridge_gr_model.estimator),\n",
    "                                            (\"xgboost\", xboost_gr_model.estimator),\n",
    "                                            (\"catboost\", cat_grid_model.estimator)])\n",
    "best_ensemble.fit(scaled_X, y)\n",
    "final_ensemble2 = best_ensemble.predict(scaled_test)\n",
    "final_ensemble_df = pd.DataFrame({\"id\":row_id,\"y\": np.expm1(final_ensemble2)})\n",
    "final_ensemble_df.to_csv(\"ensemble_sub.csv\", index=False)"
   ]
  },
  {
   "cell_type": "code",
   "execution_count": 3,
   "metadata": {
    "ExecuteTime": {
     "end_time": "2021-02-08T05:35:31.037438Z",
     "start_time": "2021-02-08T05:35:30.814291Z"
    }
   },
   "outputs": [
    {
     "data": {
      "image/png": "[encoded data removed]",
      "text/plain": [
       "<Figure size 432x288 with 1 Axes>"
      ]
     },
     "metadata": {
      "needs_background": "light"
     },
     "output_type": "display_data"
    }
   ],
   "source": [
    "def form_linearly_separable_data(n=500, x1_min=0, x1_max=30, x2_min=0, x2_max=30):\n",
    "    data, target = [], []\n",
    "    for i in range(n):\n",
    "        x1, x2 = np.random.randint(\n",
    "            x1_min, x1_max), np.random.randint(x2_min, x2_max)\n",
    "\n",
    "        if np.abs(x1 - x2) > 0.5:\n",
    "            data.append([x1, x2])\n",
    "            target.append(np.sign(x1 - x2))\n",
    "    return np.array(data), np.array(target)\n",
    "\n",
    "\n",
    "X, y = form_linearly_separable_data()\n",
    "\n",
    "plt.scatter(X[:, 0], X[:, 1], c=y, cmap='autumn', edgecolors='black')"
   ]
  },
  {
   "cell_type": "code",
   "execution_count": null,
   "metadata": {},
   "outputs": [],
   "source": []
  }
 ],
 "metadata": {
  "hide_input": false,
  "kernelspec": {
   "display_name": "Python 3",
   "language": "python",
   "name": "python3"
  },
  "language_info": {
   "codemirror_mode": {
    "name": "ipython",
    "version": 3
   },
   "file_extension": ".py",
   "mimetype": "text/x-python",
   "name": "python",
   "nbconvert_exporter": "python",
   "pygments_lexer": "ipython3",
   "version": "3.8.3"
  },
  "latex_envs": {
   "LaTeX_envs_menu_present": true,
   "autoclose": false,
   "autocomplete": true,
   "bibliofile": "biblio.bib",
   "cite_by": "apalike",
   "current_citInitial": 1,
   "eqLabelWithNumbers": true,
   "eqNumInitial": 1,
   "hotkeys": {
    "equation": "Ctrl-E",
    "itemize": "Ctrl-I"
   },
   "labels_anchors": false,
   "latex_user_defs": false,
   "report_style_numbering": false,
   "user_envs_cfg": false
  },
  "nbTranslate": {
   "displayLangs": [
    "*"
   ],
   "hotkey": "alt-t",
   "langInMainMenu": true,
   "sourceLang": "en",
   "targetLang": "fr",
   "useGoogleTranslate": true
  },
  "toc": {
   "base_numbering": 1,
   "nav_menu": {},
   "number_sections": true,
   "sideBar": true,
   "skip_h1_title": false,
   "title_cell": "Table of Contents",
   "title_sidebar": "Contents",
   "toc_cell": false,
   "toc_position": {},
   "toc_section_display": true,
   "toc_window_display": false
  },
  "varInspector": {
   "cols": {
    "lenName": 16,
    "lenType": 16,
    "lenVar": 40
   },
   "kernels_config": {
    "python": {
     "delete_cmd_postfix": "",
     "delete_cmd_prefix": "del ",
     "library": "var_list.py",
     "varRefreshCmd": "print(var_dic_list())"
    },
    "r": {
     "delete_cmd_postfix": ") ",
     "delete_cmd_prefix": "rm(",
     "library": "var_list.r",
     "varRefreshCmd": "cat(var_dic_list()) "
    }
   },
   "position": {
    "height": "665px",
    "left": "12px",
    "right": "20px",
    "top": "216px",
    "width": "350px"
   },
   "types_to_exclude": [
    "module",
    "function",
    "builtin_function_or_method",
    "instance",
    "_Feature"
   ],
   "window_display": true
  }
 },
 "nbformat": 4,
 "nbformat_minor": 4
}
