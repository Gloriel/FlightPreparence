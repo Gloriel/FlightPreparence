{
 "cells": [
  {
   "cell_type": "code",
   "execution_count": 1,
   "metadata": {},
   "outputs": [],
   "source": [
    "import os\n",
    "import csv\n",
    "import numpy as np\n",
    "import pandas as pd\n",
    "import matplotlib \n",
    "import matplotlib.pyplot as plt\n",
    "import seaborn as sns\n",
    "from scipy import stats\n",
    "from pylab import plot,show,hist\n",
    "from scipy.stats.kde import gaussian_kde\n",
    "from scipy.stats import norm, chi2_contingency\n",
    "import statsmodels.api as sm\n",
    "from numpy import linspace,hstack\n",
    "from pylab import plot,show,hist\n",
    "#%config InlineBackend.figure_format = 'svg' для большей четкости графиков\n",
    "matplotlib.style.use('ggplot')\n",
    "%matplotlib inline\n",
    "\n",
    "#Стандартизация данных\n",
    "from sklearn import preprocessing\n",
    "\n",
    "#Для построения диаграмм рассеивания\n",
    "from pandas.plotting import scatter_matrix\n",
    "\n",
    "#Иерархический кластерный анализ\n",
    "from scipy.cluster.hierarchy import dendrogram, linkage, fcluster\n",
    "\n",
    "#Кластерный анализ методом К-средних\n",
    "from sklearn.cluster import KMeans\n",
    "\n",
    "#Линейная регрессия\n",
    "from sklearn.linear_model import LinearRegression\n",
    "\n",
    "os.chdir(r'C:\\Users\\Mr Alex\\Documents\\GitHub\\FlightPreparence')\n",
    "data = pd.read_csv('AmesHousing.txt', sep=\"\\t\", header = 0, index_col=False)\n",
    "town = pd.read_csv('town_1959_2.csv', header = 0,)\n",
    "df = pd.read_csv('swiss_bank_notes.csv', index_col=0)\n",
    "beer = pd.read_csv('beverage_r.csv', sep=\";\", index_col='numb.obs')\n",
    "food = pd.read_csv('Protein Consumption in Europe.csv', sep=';', decimal=',', index_col='Country')\n",
    "ass = pd.read_csv('assess.dat', sep='\\t', index_col='NAME')\n",
    "albi = pd.read_csv('Albuquerque Home Prices_data.txt', sep='\\t')\n",
    "noble = pd.read_csv('agedeath.dat.txt', sep='\\s+', header=None, names=['group', 'age', 'index'])\n",
    "inter = pd.read_csv('interference.csv')"
   ]
  },
  {
   "cell_type": "code",
   "execution_count": 2,
   "metadata": {},
   "outputs": [],
   "source": [
    "def two_histograms(x, y):\n",
    "    \"\"\"\n",
    "    Функция, которая построит две гистограммы на одной картинке.\n",
    "    Дополнительно пунктирными линиями указываются средние значения выборок.\n",
    "    x: вектор pd.Series,\n",
    "    y: вектор pd.Series\n",
    "    \"\"\"\n",
    "    x.hist(alpha=0.5, weights=[1./len(x)]*len(x))\n",
    "    y.hist(alpha=0.5, weights=[1./len(y)]*len(y))\n",
    "    plt.axvline(x.mean(), color='red', alpha=0.8, linestyle='dashed')\n",
    "    plt.axvline(y.mean(), color='blue', alpha=0.8, linestyle='dashed')\n",
    "    plt.legend([x.name, y.name])\n",
    "    \n",
    "def regression_coef(model, X, y):\n",
    "    \"\"\"\n",
    "    Функция для определения статистической значимости регрессионных коэффициентов\n",
    "    \"\"\"\n",
    "    coef = pd.DataFrame(zip(['intercept'] + X.columns.tolist(), [model.intercept_] + model.coef_.tolist()),\n",
    "                    columns=['predictor', 'coef'])\n",
    "    X1 = np.append(np.ones((len(X),1)), X, axis=1)\n",
    "    b = np.append(model.intercept_, model.coef_)\n",
    "    MSE = np.sum((model.predict(X) - y) ** 2, axis=0) / float(X.shape[0] - X.shape[1])\n",
    "    var_b = MSE * (np.linalg.inv(np.dot(X1.T, X1)).diagonal())\n",
    "    sd_b = np.sqrt(var_b)\n",
    "    t = b / sd_b\n",
    "    coef['pvalue'] = [2 * (1 - stats.t.cdf(np.abs(i), (len(X1) - 1))) for i in t]\n",
    "    return coef"
   ]
  },
  {
   "cell_type": "code",
   "execution_count": null,
   "metadata": {},
   "outputs": [],
   "source": [
    "#Классификация - приписание объекта к классу из-за значения ключевой (группирующей) переменной\n",
    "#Типы переменных. Количественные(непрерывные, дискретные). Номинальные (несравниваемые). Ранговые (порядковые)\n",
    "#Гистограмма частот - форма распределения количественного признака\n",
    "#Описательная статистика. Меры центральной тенденции. Меры изменчивости\n",
    "#МЦТ. Мода - самый частый признак. Медиана - делит упорядоченное множество пополам. Среднее значение\n",
    "#МИ. Размах - Xmax-Xmin. \n",
    "#Дисперсия D - средний квадрат отклонений индивидуальных значений от средней величины. С ростом n, дисперсия сокращается\n",
    "#D = сумма(Xинд - Xсред)**2/n-1. Хсред генеральной совокупности обозначается как мю, М\n",
    "#Стандартное отклонение, \"сигма\", sd = D**0.5"
   ]
  },
  {
   "cell_type": "code",
   "execution_count": null,
   "metadata": {},
   "outputs": [],
   "source": [
    "#Нормальное распределение. Унимодально и симметрично \n",
    "#Центральная предельная теорема. Для выборок стандартная ошибка среднего se=SDинд/n**0.5, где n - число элементов выборки\n",
    "#Если n выборка репрезентативная и число элементов > 30, то se=0.5\n",
    "#Интервал для поиска М генеральной совокупности(доверительный интервал): для 95% выборок Хсред ± 1.96*se включат в себя М"
   ]
  },
  {
   "cell_type": "code",
   "execution_count": null,
   "metadata": {
    "scrolled": false
   },
   "outputs": [],
   "source": [
    "#Число наблюдений(N1), попавших в столбец. H = C*N1 \n",
    "#H = N1/(N*длина интервала) - в таком случае гистограмма будет вероятностной, то есть в пределах единицы\n",
    "#Плотность распределения f(x) позволяет рассчитать вероятность P(A) попаданий в определенный интервал\n",
    "#Математическое ожидание EX - среднее арифметическое\n",
    "#В гистограмме наибольший вес имеет площадь столбца\n",
    "data['SalePrice'].hist(bins=60)"
   ]
  },
  {
   "cell_type": "code",
   "execution_count": null,
   "metadata": {},
   "outputs": [],
   "source": [
    "#Гистограмма нужна чтобы оценить одну группу\n",
    "#Вероятностная гистограмма \n",
    "data['SalePrice'].hist(density=True, bins=60)"
   ]
  },
  {
   "cell_type": "code",
   "execution_count": null,
   "metadata": {},
   "outputs": [],
   "source": [
    "#Ядерная оценка плотности Скотта-Сильвермана - обобщение гистограммы F(t) = (1/n*h)*сумма всех наблюдений K(t-Xi/h)\n",
    "#Распределение Японечникова определяет плотность К - симметричная, неотрицательная, с интегралом=1\n",
    "my_density = gaussian_kde(data['SalePrice'], bw_method = 1) #Метод определяет меру сглаживания\n",
    "x = linspace(min(data['SalePrice']), max(data['SalePrice']),1000)\n",
    "plot(x, my_density(x),'g') #распределение функции\n",
    "hist(data['SalePrice'], density=True, alpha=.3) \n",
    "show()"
   ]
  },
  {
   "cell_type": "code",
   "execution_count": null,
   "metadata": {},
   "outputs": [],
   "source": [
    "#Для сравнения нескольких групп можно сложить гистограммы \n",
    "df.groupby('Status')['Length'].plot.hist(alpha=.6)\n",
    "plt.legend()\n",
    "#Но лучше использовать box-plot. Усы - 1,5 межквартиля. Outlies - 3. Extremes - дальше.\n",
    "#Внимательно смотрим на число наблюдений в каждой из выборок, чтобы проанализировать boxplot\n",
    "data['MS Zoning'].value_counts()\n",
    "ax=data.boxplot(column='SalePrice', by='MS Zoning')\n",
    "ax.get_figure().suptitle('')"
   ]
  },
  {
   "cell_type": "code",
   "execution_count": null,
   "metadata": {},
   "outputs": [],
   "source": [
    "#Для определения \"типичного\" объекта совокупности можно использовать среднее(если нет выбросов) или медиану(если есть)\n",
    "#При неравномерном распределении можно убрать выбросы\n",
    "town_2 = town.iloc[2:1004]\n",
    "#Или логарифмировать переменную (для лог-нормального распределения)\n",
    "x = np.log10(town[u'население'])\n",
    "pd.Series(x).hist(bins=45)\n",
    "#Усеченное среднее. Выбрасывается 2,5% самых малых и 2,5% наибольших значений переменной. Для новой БД считается среднее\n",
    "exclude = int(len(town)/100*2.5)\n",
    "redacted_town = town[exclude:len(town)-exclude]"
   ]
  },
  {
   "cell_type": "code",
   "execution_count": null,
   "metadata": {
    "scrolled": true
   },
   "outputs": [],
   "source": [
    "#Для получения комплексного сравнения объектов по нескольким переменным\n",
    "#Диагональ показывает ядерную оценку плотности\n",
    "#Матрица состоит из диаграмм рассеивания\n",
    "colors = {'genuine': 'green', 'counterfeit': 'red'}\n",
    "scatter_matrix(df,\n",
    "               # размер картинки\n",
    "               figsize=(6, 6),\n",
    "               # плотность вместо гистограммы на диагонали\n",
    "               diagonal='kde',\n",
    "               # цвета классов\n",
    "               c=df['Status'].replace(colors),\n",
    "               # степень прозрачности точек\n",
    "               alpha=0.2,\n",
    "              )"
   ]
  },
  {
   "cell_type": "code",
   "execution_count": null,
   "metadata": {},
   "outputs": [],
   "source": [
    "#В случае очевидного смешения двух нормальных распределений, можно оценить их более подробно\n",
    "df.groupby('Status')['Diagonal'].plot.hist(alpha=0.6)\n",
    "plt.legend(loc='upper left')\n",
    "\n",
    "#Для сравнения параметров важно их нормализовать\n",
    "data.groupby('MS Zoning')['SalePrice'].plot.hist(density=True)\n",
    "plt.legend()\n",
    "\n",
    "#Если рассевание нельзя разделить линейно, то меняем точку начала координат и выбираем новые параметры для разделения"
   ]
  },
  {
   "cell_type": "code",
   "execution_count": null,
   "metadata": {},
   "outputs": [],
   "source": [
    "#Иерархический кластерный анализ разделяет объекты на группы (стратификация). Число групп заранее неизвестно\n",
    "#Кластерный анализ позволяет сократить число наблюдений и проинтерпретировать их\n",
    "#Схожесть внутри кластера отображается как расстоянием между близкими объектами на диаграмме кластеров\n",
    "#Расстояние можно рассчитать методами: Евклида(или квадрата Евклида), Блок(Манхеттен), Хэмминга(для слов) и тд.\n",
    "#Манхеттен предпочтительнее, когда нет больших различий в рандомных переменных, потому что вес аномалий тогда меньше\n",
    "#Расстояние между кластерами рассчитывается:\n",
    "#Метод Варда (WARD) - позволяет работать с шаровыми скоплениями\n",
    "#Метод ближайших соседей (позволяет определять ленточные кластеры)\n",
    "#Средневзвешенное расстояние: среднее для суммы всех расстояний (также для ленточных)\n",
    "#Центроид: расстояние между кластерами равно расстоянию между их центрами тяжести\n",
    "#Методы дальнего и ближайшего соседа: расстояние между самыми дальними\\близкими объектами есть межкластер\n",
    "#Метод расстояния Sorencen-Dice Q = 2*|A^B|/|A|+|B|. Не работает если множества слабо пересекаются"
   ]
  },
  {
   "cell_type": "code",
   "execution_count": null,
   "metadata": {
    "scrolled": true
   },
   "outputs": [],
   "source": [
    "#Алгоритмы кластерного анализа. Объекты группируются с ближайшими, пока нет скачка в расстояниях для следующего слияния\n",
    "#Момент для прекращения слияния определяется дендрограммой (для умеренного числа объектов)\n",
    "#Каменистая осыпь/локоть показывают скачок (резкий взлет графика) шагов объединений, когда кластеризуются тысячи объектов\n",
    "#Задача аналитика: отобрать переменные, выбрать метод стандартизации, установить расстояние между кластерами и между объектами "
   ]
  },
  {
   "cell_type": "code",
   "execution_count": null,
   "metadata": {},
   "outputs": [],
   "source": [
    "# Объект, в котором будет хранится информация о последовательном слиянии кластеров\n",
    "#Для функции нужен фрейм, метод межкластера и метод межобъектов\n",
    "link = linkage(beer, 'ward', 'euclidean')"
   ]
  },
  {
   "cell_type": "code",
   "execution_count": null,
   "metadata": {},
   "outputs": [],
   "source": [
    "#link - матрица (n-1) x 4, где n - число наблюдений. \n",
    "#Каждая строка - результат слияния очередной пары кластеров с номерами link[i, 0] и link[i, 1]. \n",
    "#Новому кластеру присваивается номер n + i \n",
    "#link[i, 2] означает расстояние между слитыми кластерами, а link[i, 3] - размер нового кластера.\n",
    "link[:5]"
   ]
  },
  {
   "cell_type": "code",
   "execution_count": null,
   "metadata": {},
   "outputs": [],
   "source": [
    "#Построение дендрограммы\n",
    "dn = dendrogram(link, orientation='right')"
   ]
  },
  {
   "cell_type": "code",
   "execution_count": null,
   "metadata": {},
   "outputs": [],
   "source": [
    "#Ключевые характеристики кластеров\n",
    "#В колонку cluster запишем номер кластера, в которую попал объект с помощью функции fcluster. \n",
    "#Аргументы: linkage, пороговое значение для межкластера (либо число кластеров), criterion: distance для остановки разбиения \n",
    "# Останавливаем объединение, если расстояние между кластерами превышает 3\n",
    "beer['cluster'] = fcluster(link, 3, criterion='distance')\n",
    "#Доля объектов в кластере, которые имеют соответствующие характеристики\n",
    "beer.groupby(\"cluster\").mean()"
   ]
  },
  {
   "cell_type": "code",
   "execution_count": null,
   "metadata": {},
   "outputs": [],
   "source": [
    "#Кластерный анализ методом К-средних\n",
    "#инициализация модели\n",
    "model = KMeans(n_clusters=2, random_state=42) #random_state - зерно датчика случайных чисел \n",
    "#При каждом новом вызове с одинаковыми random_state модель будет давать одинаковые результаты"
   ]
  },
  {
   "cell_type": "code",
   "execution_count": null,
   "metadata": {},
   "outputs": [],
   "source": [
    "#подгонка модели по данным из БД\n",
    "model.fit(beer)\n",
    "\n",
    "#Результат кластеризации на данных из БД\n",
    "model.labels_\n",
    "\n",
    "#координаты центров кластеров\n",
    "model.cluster_centers_\n",
    "\n",
    "#Добавление в кластер данных. Предсказание для новых наблюдений. Метод predict\n",
    "new_items = [\n",
    "    [1, 1, 1, 1, 1, 1, 1, 1],\n",
    "    [0, 0, 0, 0, 0, 0, 0, 0]\n",
    "]\n",
    "model.predict(new_items)"
   ]
  },
  {
   "cell_type": "code",
   "execution_count": null,
   "metadata": {},
   "outputs": [],
   "source": [
    "#Число кластеров можно определить через график локтя для для разного числа кластеров\n",
    "#Метод inertia_ вернёт сумму расстояний от каждой точки данных до центра ближайшего у ней кластера \n",
    "#Кластеризацию можно считать условно хорошей, когда инерция перестаёт сильно уменьшаться при увеличении числа кластеров\n",
    "K = range(1, 11)\n",
    "models = [KMeans(n_clusters=k, random_state=42).fit(beer) for k in K]\n",
    "dist = [model.inertia_ for model in models]\n",
    "\n",
    "#График локтя\n",
    "plt.plot(K, dist, marker='o')\n",
    "plt.xlabel('k')\n",
    "plt.ylabel('Sum of distances')\n",
    "plt.title('The Elbow Method showing the optimal k')\n",
    "plt.show()"
   ]
  },
  {
   "cell_type": "code",
   "execution_count": null,
   "metadata": {},
   "outputs": [],
   "source": [
    "# В колонке NR находится номер объекта, его нужно исключить из данных для кластеризации\n",
    "del ass['NR']\n",
    "\n",
    "#Оптимизируем модель, меняя число задаваемых кластеров на основании графика локтя\n",
    "model = KMeans(n_clusters=4, random_state=42)\n",
    "model.fit(ass)\n",
    "ass['cluster'] = model.labels_\n",
    "ass.groupby('cluster').mean()\n",
    "\n",
    "#Смотрим к какому кластеру какие объекты относятся\n",
    "ass['cluster'].sort_values()"
   ]
  },
  {
   "cell_type": "code",
   "execution_count": null,
   "metadata": {},
   "outputs": [],
   "source": [
    "#Проверка статистических гипотез:\n",
    "#Гипотеза согласия. Совпадает рандомная функция распределения с нормальным распределением? Самый дешевый и простой вариант\n",
    "#Гипотеза согласия2. Гипотеза об экспоненциальности распределения. Нужна, когда есть переменная времени ожидания\n",
    "#Гипотеза однородности. Совпадают две рандомные функции распредления? Например, чтобы сравнить данные до и после события\n",
    "#Гипотеза независимости. Нулевая гипотеза для рандомных объектов. Проверяется через коэффициент корреляции (скаляры) \n",
    "#Гипотеза о параметре распределения. Определение ключевых параметров. Например одинаковые средние или медианы."
   ]
  },
  {
   "cell_type": "code",
   "execution_count": null,
   "metadata": {},
   "outputs": [],
   "source": [
    "#Альфа-это уровень значимости(0.05, 0.01. 0.005). Определеяет число ошибок первого рода. На второго рода влияет размер выборки\n",
    "#Т- это статистика критерия. Если T<Cальфа, то верна нулевая гипотеза\n",
    "#Cальфа- это критическое значение. Вероятность отвергнуть правильную гипотезу(T>C) не должна превышать А(альфа)\n",
    "#p-value показывает насколько часто статистика критерия в верной гипотезе будет превышать реальные значения p=P{T>Tэксп}\n",
    "#Если p<A, гипотезу отвергаем. Если p>A, гипотезу не отвергаем. Проверяются все условия, при которых критерий будет работать"
   ]
  },
  {
   "cell_type": "code",
   "execution_count": null,
   "metadata": {},
   "outputs": [],
   "source": [
    "#Тесты Колмогорова-Смирнова и Shapiro-Wilk позволяют проверить выборку на принадлежность к ГС и нормальность распредеелния\n",
    "\n",
    "#Применяем критерий Шапиро-Вилка после логарифмирования. \n",
    "town = town.set_index(u'номер')\n",
    "plt.hist(np.log10(town[u'население']), bins=50)\n",
    "res = stats.shapiro(np.log10(town[u'население']))\n",
    "print('p-value: ', res[1])\n",
    "#P очень маленькое, поэтому гипотезу о нормальности отвергаем. \n",
    "#Отклонения от нормальности будут несущественны, если убрать выбросы"
   ]
  },
  {
   "cell_type": "code",
   "execution_count": null,
   "metadata": {},
   "outputs": [],
   "source": [
    "#Тест на гипотезу однородности\n",
    "#За один вариант дизайна выказалось 28 из 100 опрошенных, за второй 20 из 100 опрошенных. \n",
    "#Проверяем, является ли эта разница статистически значимой с помощью критерия хи-квадрат. \n",
    "\n",
    "#Cтроим таблицу сопряжённости.\n",
    "contingency_table = pd.DataFrame([[28, 72], [20, 80]],\n",
    "                                 index=['first', 'second'],\n",
    "                                 columns=['for', 'against'])\n",
    "\n",
    "res = stats.chi2_contingency(contingency_table) #AB-тест. Проверка разных вариантах на схожих выборках\n",
    "print('p-value: {0}'.format(res[1]))\n",
    "\n",
    "#p-value получился достаточно большим, поэтому оснований отвергнуть гипотезу о равенстве долей нет"
   ]
  },
  {
   "cell_type": "code",
   "execution_count": null,
   "metadata": {},
   "outputs": [],
   "source": [
    "#Z-метка (организация выборок так, чтобы они мало отличались от нормального распределения)\n",
    "\n",
    "s1 = 135       # успех в выборке А\n",
    "n1 = 1781      # выборка А\n",
    "s2 = 47        # успех в выборке Б\n",
    "n2 = 1443      # выборка Б\n",
    "p1 = s1/n1               #  оценка вероятности успеха выборка А\n",
    "p2 = s2/n2               #  оценка вероятности успеха выборка Б\n",
    "p = (s1 + s2)/(n1+n2)    #  оценка вероятности успеха выборки А+Б\n",
    "z = (p2-p1)/ ((p*(1-p)*((1/n1)+(1/n2)))**0.5) #Z-метка \n",
    "\n",
    "p_value = norm.cdf(z) #Функция распределения нормального распределения\n",
    "\n",
    "#  z-метка и p-значение\n",
    "print(['{:.12f}'.format(a) for a in (abs(z), p_value * 2)])\n",
    "#Нулевая гипотеза отвергнута, статистические доли отличаются\n",
    "\n",
    "#То же самое, но со встроенным методом библиотеки statsmodels\n",
    "z1, p_value1 = sm.stats.proportions_ztest([s1, s2], [n1, n2])\n",
    "print(['{:.12f}'.format(b) for b in (z1, p_value1)])"
   ]
  },
  {
   "cell_type": "code",
   "execution_count": null,
   "metadata": {},
   "outputs": [],
   "source": [
    "#Тест Стьюдента на независимость переменных\n",
    "x = noble[noble['group'] == 'sovr']['age']\n",
    "y = noble[noble['group'] == 'aris']['age']\n",
    "x.name, y.name = 'sovr', 'aris'\n",
    "two_histograms(x, y) #Данные условно нормальны. \n",
    "\n",
    "#Проверим c помощью критерия Флигнера-Килина, равны ли дисперсии.\n",
    "res = stats.fligner(x, y)\n",
    "print('p-value: ', res[1]) #p-value низкое, гипотезу о равенстве дисперсий отвергаем, наблюдаемые объекты несвязные \n",
    "\n",
    "#Гипотезу о равенстве средних значений будем проверять с помощью теста Стьюдента при неравных дисперсиях\n",
    "res = stats.ttest_ind(x, y, equal_var=False) #Опция equal_var=False говорит, что равенство дисперсии не предполагать\n",
    "print('p-value: ', res[1]) #P-значение значительно меньше альфы, гипотеза о равенстве отвергается\n",
    "\n",
    "#Ищем зависимость цены от переменной COR=1 и 0. Чтобы применить Стьюдента, проверим нормальность данных и равенство дисперсий\n",
    "#Заменяем -9999 (здесь=пустое) на корректное пустое значение.\n",
    "albi = albi.replace(-9999, np.nan)\n",
    "#Сохраним в отдельные переменные выборки, которые собираемся сравнивать.\n",
    "x = albi[albi['COR'] == 1]['PRICE']\n",
    "y = albi[albi['COR'] == 0]['PRICE']\n",
    "x.name, y.name = 'corner', 'not corner'    \n",
    "\n",
    "two_histograms(x, y)  #Видно, что выбросы не дают применить Стюдента и нужно пробовать Манна-Витни"
   ]
  },
  {
   "cell_type": "code",
   "execution_count": null,
   "metadata": {},
   "outputs": [],
   "source": [
    "#Распределение Стьюдента (t-distribution) для n<30 - более высокие хвосты распределений.Число степеней свободы df=n-1\n",
    "#t заменяет Z в распределении Стьюдента. t=(Xинд-M)/(sd/n**0.5)\n",
    "#Помимо средних также нужно сравнить дисперсии D (тест Флигнера-Килина) и медианы (много n - тест Муда, мало n - Манн-Витни) "
   ]
  },
  {
   "cell_type": "code",
   "execution_count": null,
   "metadata": {},
   "outputs": [],
   "source": [
    "#Парный t-критерий Стьюдента.  X1сред - Х2сред = А , se=((sd1**2/n1)+(sd2**2/n2))**0.5 , df=n1+n2-2\n",
    "#При t = A/se и df можно рассчитать p при котором M1-M2=0. То есть разницы между выборками почти нет\n",
    "#Q-Q Plot показывает насколько выборочные значения соответствуют предсказанным(из нормального распределеня)\n",
    "x = inter['DiffCol']\n",
    "y = inter['Black']\n",
    "x.name, y.name = 'DiffCol', 'Black'\n",
    "two_histograms(x, y)\n",
    "\n",
    "#Распределения условно нормальны. Поскольку в наблюдениях содержатся одни и те же люди, выборки связные (парные)\n",
    "res = stats.ttest_rel(x, y) #Метод для парных выборок\n",
    "print('p-value: ', res[1])\n",
    "p-value: 0.0162416779538\n",
    "#p-value низкий, гипотеза на уровне значимости 0.05 будет отвергнута, но на уровне 0.01 уже нет. "
   ]
  },
  {
   "cell_type": "code",
   "execution_count": null,
   "metadata": {},
   "outputs": [],
   "source": [
    "#U-критерий Манна-Витни переводит значения в ранговую (непараметрическую) шкалу и проверяет НЕ равенство медиан. P{X>Y}=P{X<Y}\n",
    "\n",
    "res = stats.mannwhitneyu(x, y)\n",
    "print('p-value:', res[1])\n",
    "#p-value получилось достаточно большим, поэтому у нас нет оснований отвергнуть гипотезу. Разница медиан в выборках случайна."
   ]
  },
  {
   "cell_type": "code",
   "execution_count": null,
   "metadata": {},
   "outputs": [],
   "source": [
    "#Корреляция. Scatter-plot или диагратта рассеивания\n",
    "#Сила и направление взаимосвязи определяется ковариацией. cov=Сумма((Xi-Xсред)*(Yi-Yсред))/N-1\n",
    "#Коэффициент корреляции Пирсона находится в промежутке [-1; 1] и считается как Rxy=cov/SDx*SDy\n",
    "#Коэффициент детерминации r**2 показывает влияние дисперсии одной переменной на другую в промежутке [0; 1]\n",
    "#Коэффициент Спирмена позволяет блокировать выбросы через ранги. d=X-Y. Rs=1-6*сумма d**2/N(N**2-1)\n",
    "#Часто корреляция обусловлена скрытой переменной\n",
    "\n",
    "#Корреляция цены и размера\n",
    "plt.scatter(albi['PRICE'], albi['SQFT'])\n",
    "\n",
    "res = stats.pearsonr(albi['PRICE'], albi['SQFT']) #Допускаем что коэфффициент корреляции=0, но гипотеза отвергнута\n",
    "\n",
    "print('Pearson rho: ', res[0])\n",
    "print('p-value: ', res[1])"
   ]
  },
  {
   "cell_type": "code",
   "execution_count": null,
   "metadata": {},
   "outputs": [],
   "source": [
    "#Стандартизация позволяет сделать вес важных переменных соизмеримым. Min=0(-1), max=1. ИЛИ Z\n",
    "#Z-Стандартизация: преобразование в тип, где М=0, sd = 1. Правило одной, двух и трех \"сигм\"\n",
    "#Z=(Xинд-М)/sd Пример: по таблице Z, где Хсред=150, sd=8, превышать Xинд будет 0.5z или 30%\n",
    "#Z=(Xсред-M)/se =(18,5-20)/0.5 = -3. Вероятность получить такой результат p = 0.0027\n",
    "\n",
    "#Если в БД нет единой метрики, то стандартизируем данные\n",
    "norm = preprocessing.StandardScaler()\n",
    "norm.fit(df)\n",
    "X = norm.transform(df)"
   ]
  },
  {
   "cell_type": "code",
   "execution_count": null,
   "metadata": {},
   "outputs": [],
   "source": [
    "#Дисперсионный Анализ. Если межгрупповой показатель изменчивости сильно превышает внутригрупповой, то средние разнятся\n",
    "#SST - общая сумма квадратов показывает общую изменчивость данных. Сумма(Xинд-Xсред)**2  SST = SSW+SSB\n",
    "#SSW - сумма квадратов внутригрупповая. Сумма(X1инд-Х1сред)**2 + ...(XNинд-ХNсред)**2\n",
    "#SSB - сумма квадратов межгрупповая. SSB= n(X1сред - Хсред)**2 + ...n(XNсред-Хсред)**2"
   ]
  },
  {
   "cell_type": "code",
   "execution_count": null,
   "metadata": {},
   "outputs": [],
   "source": [
    "#Распределение Фишера, F-значение. F=(ssb/n-1)/(ssw/N-n). При верности нулевой гипотезы значения F очень маленькие\n",
    "#Поправка Бонферрони на множественную проверку гипотез. a = ai/n  НО: мешает получить значимые уровни различия\n",
    "#FDR или критерий Тьюки считает p-уровень для сравниваемых пар Xтэ=Xa-Xб\n",
    "#Двухакторный дисперсионный анализ SStotal=SSW+SSBa +SSBb + SSBa*SSBb\n",
    "#Взаимодействие факторов в ANOVA\n",
    "#Дисперсионный анализ требует нормальности распределения зависимой переменной и гомогенности дисперсии(тест Левена)"
   ]
  },
  {
   "cell_type": "code",
   "execution_count": null,
   "metadata": {},
   "outputs": [],
   "source": [
    "#Регрессионнный Анализ позволяет исследовать взаимосвязи переменных и делать линию тренда\n",
    "#Простая Линейная Регрессия. Взаимосвязь 2-х переменных. Y-зависимая(отклик) Х-независимая(предиктор) \n",
    "#Y=B0(intercept)+B1(slope). Зачение Y, где линия пересекает ось, угол наклона линии к оси X\n",
    "#Метод наименьших квадратов(МНК) находит оптимальные параметры B0 и B1, чтобы сумма квадратов остатков (SE) была минимальна MSE\n",
    "#Уравнение регрессии Y=B0+B1*X1\n",
    "#B1 = SDy/SDx*Rxy, B0 = (Yсред-B1*Xсред), t = B1/se, df=N-2 Если B1 близка к нулю, то взаимосвязи почти нет\n",
    "#Коэффтцтент Детерминации (выборочная дисперсия) R указывает какой процент вариации отклика определяется влиянием предиктора\n",
    "#R**2 = 1-(SSres/SStotal) доля дисперсии Y, объясняемая регрессионной моделью. Чем больше R , тем лучше\n",
    "#Требования: линейная вхаимосвязь X Y, нормальное распределение остатков, гомоскедатичность(изменчивость) остатков\n",
    "#Избежать ошибок спецификации при линейной регрессии помогает Анализ Остатков. Выявлять колинеарность"
   ]
  },
  {
   "cell_type": "code",
   "execution_count": 3,
   "metadata": {},
   "outputs": [
    {
     "name": "stdout",
     "output_type": "stream",
     "text": [
      "Rows in the data frame: 117\n",
      "Rows without NAN: 66\n",
      "R^2: 0.7516955542753064\n"
     ]
    },
    {
     "data": {
      "text/html": [
       "<div>\n",
       "<style scoped>\n",
       "    .dataframe tbody tr th:only-of-type {\n",
       "        vertical-align: middle;\n",
       "    }\n",
       "\n",
       "    .dataframe tbody tr th {\n",
       "        vertical-align: top;\n",
       "    }\n",
       "\n",
       "    .dataframe thead th {\n",
       "        text-align: right;\n",
       "    }\n",
       "</style>\n",
       "<table border=\"1\" class=\"dataframe\">\n",
       "  <thead>\n",
       "    <tr style=\"text-align: right;\">\n",
       "      <th></th>\n",
       "      <th>predictor</th>\n",
       "      <th>coef</th>\n",
       "      <th>pvalue</th>\n",
       "    </tr>\n",
       "  </thead>\n",
       "  <tbody>\n",
       "    <tr>\n",
       "      <th>0</th>\n",
       "      <td>intercept</td>\n",
       "      <td>73.404670</td>\n",
       "      <td>0.298398</td>\n",
       "    </tr>\n",
       "    <tr>\n",
       "      <th>1</th>\n",
       "      <td>SQFT</td>\n",
       "      <td>0.531621</td>\n",
       "      <td>0.000000</td>\n",
       "    </tr>\n",
       "    <tr>\n",
       "      <th>2</th>\n",
       "      <td>FEATS</td>\n",
       "      <td>22.777377</td>\n",
       "      <td>0.107940</td>\n",
       "    </tr>\n",
       "    <tr>\n",
       "      <th>3</th>\n",
       "      <td>NE</td>\n",
       "      <td>25.091290</td>\n",
       "      <td>0.519238</td>\n",
       "    </tr>\n",
       "    <tr>\n",
       "      <th>4</th>\n",
       "      <td>CUST</td>\n",
       "      <td>137.149425</td>\n",
       "      <td>0.006721</td>\n",
       "    </tr>\n",
       "    <tr>\n",
       "      <th>5</th>\n",
       "      <td>COR</td>\n",
       "      <td>-99.304860</td>\n",
       "      <td>0.032659</td>\n",
       "    </tr>\n",
       "  </tbody>\n",
       "</table>\n",
       "</div>"
      ],
      "text/plain": [
       "   predictor        coef    pvalue\n",
       "0  intercept   73.404670  0.298398\n",
       "1       SQFT    0.531621  0.000000\n",
       "2      FEATS   22.777377  0.107940\n",
       "3         NE   25.091290  0.519238\n",
       "4       CUST  137.149425  0.006721\n",
       "5        COR  -99.304860  0.032659"
      ]
     },
     "execution_count": 3,
     "metadata": {},
     "output_type": "execute_result"
    }
   ],
   "source": [
    "albi = albi.replace(-9999, np.nan)\n",
    "print('Rows in the data frame: {0}'.format(len(albi)))\n",
    "print('Rows without NAN: {0}'.format(len(albi.dropna(how='any'))))\n",
    "\n",
    "#Слишком много данных содержат хотя бы одно пропущенное значение, чтобы удалить их все. Смотрим их распределение по колонкам\n",
    "#Функция .apply для всей матрицы. 1й аргумент-применяемая функция, 2й - направление применения (0 к колонкам, 1 ко строкам)\n",
    "albi.apply(lambda x: sum(x.isnull()), axis=0)\n",
    "\n",
    "#Если непоправимо мало данных, удаляем колонку\n",
    "del albi['AGE']\n",
    "del albi['TAX']\n",
    "\n",
    "#Анализируем колонку где можно заменить пропуски\n",
    "#albi['TAX'].hist()\n",
    "\n",
    "#Меняем пропущенные значения на среднее значение по колонке \n",
    "#albi['TAX'] = albi['TAX'].fillna(albi['TAX'].mean())\n",
    "\n",
    "#Строим модель линейной регрессии\n",
    "X = albi.drop('PRICE', axis=1)\n",
    "y = albi['PRICE']\n",
    "model = LinearRegression()\n",
    "model.fit(X, y)\n",
    "\n",
    "#Считаем качество модели (коэффициент  𝑅2 )\n",
    "print('R^2: {0}'.format(model.score(X, y)))\n",
    "\n",
    "#Промежуточные Регрессионные Коэффициенты от метода model.coef_ и свободный член от метода model.intercept_\n",
    "coef = pd.DataFrame(zip(['intercept'] + X.columns.tolist(), [model.intercept_] + model.coef_.tolist()),\n",
    "                    columns=['predictor', 'coef'])\n",
    "\n",
    "#Матрица показывает базовую цену и вес коэффициентов: 83.17 + 0.29*площадь SQFT + 12.17*удобства и т.д.\n",
    "#Логика показывает, что что-то не то. Проверяем на колинеарность\n",
    "albi.corr()\n",
    "\n",
    "#Видим, что колинеарен TAX. Убираем и снова считаем, в этот раз с p-значением\n",
    "regression_coef(model, X, y)"
   ]
  },
  {
   "cell_type": "code",
   "execution_count": 11,
   "metadata": {},
   "outputs": [
    {
     "name": "stdout",
     "output_type": "stream",
     "text": [
      "0.978260777986033\n",
      "0.9703108184171091\n",
      "0.9789175801893899\n",
      "                            OLS Regression Results                            \n",
      "==============================================================================\n",
      "Dep. Variable:                  price   R-squared:                       0.979\n",
      "Model:                            OLS   Adj. R-squared:                  0.978\n",
      "Method:                 Least Squares   F-statistic:                     1045.\n",
      "Date:                Fri, 25 Dec 2020   Prob (F-statistic):           1.94e-38\n",
      "Time:                        10:59:31   Log-Likelihood:                -232.47\n",
      "No. Observations:                  48   AIC:                             470.9\n",
      "Df Residuals:                      45   BIC:                             476.5\n",
      "Df Model:                           2                                         \n",
      "Covariance Type:            nonrobust                                         \n",
      "==============================================================================\n",
      "                 coef    std err          t      P>|t|      [0.025      0.975]\n",
      "------------------------------------------------------------------------------\n",
      "const       -174.1301     74.238     -2.346      0.023    -323.653     -24.607\n",
      "weight      2920.1306    681.297      4.286      0.000    1547.928    4292.333\n",
      "weight^2    1739.9016   1469.472      1.184      0.243   -1219.767    4699.570\n",
      "==============================================================================\n",
      "Omnibus:                        1.961   Durbin-Watson:                   1.945\n",
      "Prob(Omnibus):                  0.375   Jarque-Bera (JB):                1.075\n",
      "Skew:                           0.215   Prob(JB):                        0.584\n",
      "Kurtosis:                       3.593   Cond. No.                         362.\n",
      "==============================================================================\n",
      "\n",
      "Notes:\n",
      "[1] Standard Errors assume that the covariance matrix of the errors is correctly specified.\n"
     ]
    }
   ],
   "source": [
    "#Полиномиальная регрессия\n",
    "#Предсказать результат не только с помощью переменной (1я модель), но и её квадрата(2я модель) и их обеих (3я модель) \n",
    "#Класс PolynomialFeatures, ьетод fit_transform сгенерирует из множества фич множество одночленов заданной степени \n",
    "#Например, для степени 2 и фич a, b будут сгенерированы фичи [a, b, a**2, b**2, ab] \n",
    "#при указанном параметре include_bias=True ещё и вектор-свободный член из единиц. \n",
    "\n",
    "from sklearn.preprocessing import PolynomialFeatures\n",
    "df = pd.read_csv('diamond.dat', header=None, sep='\\s+', names=['weight', 'price'])\n",
    "\n",
    "poly = PolynomialFeatures(\n",
    "                          # Максимальная степень\n",
    "                          degree=2,\n",
    "                          # Не генерировать свободный член\n",
    "                          include_bias=False)\n",
    "y = df['price']\n",
    "X0 = poly.fit_transform(df[['weight']])\n",
    "X0 = pd.DataFrame(X0, columns=['weight', 'weight**2'])\n",
    "\n",
    "X0 = [\n",
    "    # Одна оригинальная переменная weight\n",
    "    X0[['weight']],\n",
    "    # Одна переменная weight**2\n",
    "    X0[['weight**2']],\n",
    "    # Две переменных weight и weight**2\n",
    "    X0.copy()]\n",
    "models = [LinearRegression() for _ in X0]\n",
    "\n",
    "for X, model in zip(X0, models):\n",
    "    model.fit(X, y)\n",
    "    print(model.score(X, y))\n",
    "    \n",
    "#𝑅2  во всех моделях примерно одинаков. Но на самом деле модели различны. Проверим их более тщательно\n",
    "\n",
    "regression_coef(models[0], X0[0], y)\n",
    "\n",
    "regression_coef(models[1], X0[1], y)\n",
    "\n",
    "regression_coef(models[2], X0[2], y)\n",
    "\n",
    "import statsmodels.api as sm\n",
    "X2 = sm.add_constant(X0[2])\n",
    "est = sm.OLS(y, X2)\n",
    "est2 = est.fit()\n",
    "print(est2.summary())"
   ]
  },
  {
   "cell_type": "code",
   "execution_count": 14,
   "metadata": {},
   "outputs": [
    {
     "data": {
      "text/plain": [
       "Text(0, 0.5, 'log10 от тысяч человек')"
      ]
     },
     "execution_count": 14,
     "metadata": {},
     "output_type": "execute_result"
    },
    {
     "data": {
      "image/png": "[encoded data removed]",
      "text/plain": [
       "<Figure size 864x288 with 2 Axes>"
      ]
     },
     "metadata": {
      "needs_background": "light"
     },
     "output_type": "display_data"
    }
   ],
   "source": [
    "#Прогнозирование временных рядов\n",
    "df = pd.read_csv('series_g.csv', sep=';')\n",
    "\n",
    "# Преобразуем строчки с датами в объект datetime\n",
    "df['date'] = pd.to_datetime(df['date'], format='%b %Y') # format='%b %Y' трехбуквенный месяц, затем год \n",
    "\n",
    "#Построим график и проверим, какой тип тренда (линейный или нет) и какой тип сезонности ( аддитивный или мультипликативный)\n",
    "#По первому графику прослеживается линейный тренд и мультипликативная сезонность. Добавим график логарифма от этой же величины \n",
    "#После логирафмирования циклы стали одинаковой высоты, а это и говорит о мультипликативном харакрете сезонности\n",
    "\n",
    "fig = plt.figure(figsize=(12, 4))\n",
    "ax1 = fig.add_subplot(121)\n",
    "df['series_g'].plot(ax=ax1)\n",
    "ax1.set_title(u'Объём пассажироперевозок')\n",
    "ax1.set_ylabel(u'Тысяч человек')\n",
    "\n",
    "ax2 = fig.add_subplot(122)\n",
    "pd.Series(np.log10(df['series_g'])).plot(ax=ax2)\n",
    "ax2.set_title(u'log10 от объёма пассажироперевозок')\n",
    "ax2.set_ylabel(u'log10 от тысяч человек')\n",
    "\n",
    "#Вывод: будем строить модель линейной регрессии для приближения логарифма от объёма перевозок. То есть\n",
    "log𝑦𝑖=𝛽𝑥𝑖+𝑐(𝑥𝑖)+𝜀𝑖,\n",
    " \n",
    "где  𝑦𝑖  -- объём перевозок,  𝑥𝑖  -- порядковый номер месяца,  𝑐(𝑥𝑖)  -- сезонная составляющая,  𝜀𝑖  -- случайный шум.\n",
    "\n",
    "Для удобства дальнейшего использования создадим дополнительно 12 новых месяцев для построения прогноза на них. \n",
    "Для этого создадим эти 12 новых дат с помощью функции pd.date_range. \n",
    "Данный объект будет объектом класса DateTimeIndex (наследованный от класса Index)\n",
    "чтобы объединить их с колонкой df['date'], принадлежащей классу datetime64, придётся привести последнюю к классу Index. \n",
    "Объединим два набора дат и сохраним их в объекте new_dates.\n",
    "\n",
    "Далее создадим фиктивный датафрейм df2, состоящий из одной колонки с этими новыми датами, и приклеим его к исходному датафрейму\n",
    "df с помозью функции pd.merge. \n",
    "Эта функция склеивает два датасета по указанному набору колонок (параметр on) и по указанному правилу склейки (параметр how). \n",
    "В on указываем одну общую колонку date, по которой нужно произвести склейку. \n",
    "В how указываем right, что означает следующее: \n",
    "возьми весь правый датасет и приклей к нему левый датасет по условию совпадения значений колонки on\n",
    "в случае если для значений из правой колонки on не найдётся соотвествующих значений в левой колонке on\n",
    "то тогда приклей NaN значения. \n",
    "Вообще говоря, опция how соответствует опциям JOIN в языке SQL (LEFT JOIN, RIGHT_JOIN, INNER JOIN, OUTER_JOIN).\n",
    "\n",
    "\n",
    "\n",
    "# Создаём последовательсть месяцев. freq='MS' означает первое число каждого месяца из указанного диапазона дат\n",
    "new_dates = pd.date_range('1961-01-01', '1961-12-01', freq='MS')\n",
    "# Приводим df['date'] к типу Index, объединяем с 12 месяцами, полученными на предыдущем шаге\n",
    "new_dates = pd.Index(df['date']) | new_dates\n",
    "# Создаём датафрейм из одной колонки с расширенным набором дат\n",
    "df2 = pd.DataFrame({'date': new_dates})\n",
    "# Объединяем два датафрейма по колонке 'date'.\n",
    "df = pd.merge(df, df2, on='date', how='right')\n"
   ]
  },
  {
   "cell_type": "code",
   "execution_count": null,
   "metadata": {},
   "outputs": [],
   "source": []
  },
  {
   "cell_type": "code",
   "execution_count": null,
   "metadata": {},
   "outputs": [],
   "source": [
    "#Логистическая регрессия позволяет исседовать взаимосвязи для зависимой переменной с двумя значениями (0,1)\n",
    "#Множественная регрессия  Y= B0+B1*X1 + ... + BN*XN   Многомерный scatter-plot\n",
    "#Дополнительно требует: мультиколлинеарность(без сильной корреляции или идентичности), нормальное распределение переменных.\n",
    "#t-критерий показывает оказываемое влияние каждого предиктора. Если 0, то влияния нет\n",
    "#Для множественной регрессии используется \"Исправленный\" R**2"
   ]
  },
  {
   "cell_type": "code",
   "execution_count": null,
   "metadata": {},
   "outputs": [],
   "source": []
  },
  {
   "cell_type": "code",
   "execution_count": null,
   "metadata": {},
   "outputs": [],
   "source": [
    "#Вычисление статистической погрешности для случайной выборки\n",
    "\n",
    "#Расчет объема выборки\n",
    "N = 40000 #Генеральная совокупность\n",
    "P = 0.95 #Доверительный уровень в 95% \n",
    "Z = 1.96 #коэффициент доверительного уровня (p = 95%, Z=1,96)(p=99%,   Z=2,58)\n",
    "p = 0.5 #доля респондентов с  наличием исследуемого признака,\n",
    "q = (1 - p) #доля респондентов, у которых исследуемый признак отсутствует,\n",
    "delta = 0.05 #Задаваемая предельная ошибка выборки.\n",
    "n = (Z**2)*p*q/delta**2 #объем выборки\n",
    "\n",
    "print(\"Рекомендуемый объем выборки для данной аудитории:\", int(n), \"человек\")"
   ]
  },
  {
   "cell_type": "code",
   "execution_count": null,
   "metadata": {},
   "outputs": [],
   "source": [
    "#Расчет ошибки выбоки для доли признака\n",
    "#Случай 1. Генеральная совокупность значительно больше выборки\n",
    "n = 384 #Объем выборки\n",
    "m = 276 #Число объектов выборки с нужными параметрами (True)\n",
    "p = m/n #Вероятность на основе практических данных\n",
    "sigma = n/2*((p*(1-p)/n*(1-n/N)))**0.5 \n",
    "print('Результат выборки один составит: ', \\\n",
    "      float(\"{0:.1f}\".format(p*100)), \"±\", float(\"{0:.1f}\".format(sigma)), \"%\")\n",
    "\n",
    "#Случай 2. Генеральная совокупность сопоставима с объемом выборки\n",
    "N = 2500\n",
    "delta = Z*((p*q/n)*((N-n)/(N-1)))**0.5 \n",
    "print(\"Точность результатов выборки два составит: \", \"±\", float(\"{0:.1f}\".format(delta*100)), \"%\")"
   ]
  },
  {
   "cell_type": "code",
   "execution_count": null,
   "metadata": {},
   "outputs": [],
   "source": [
    "#Рассчет доверительного интервала\n",
    "P = 0.99 #Доверительный уровень в 99% \n",
    "Z = 2.58 #коэффициент доверительного уровня \n",
    "p = 0.2 #доля респондентов с наличием исследуемого признака,\n",
    "q = (1 - p) #доля респондентов, у которых исследуемый признак отсутствует,\n",
    "n = 1000 #Объем выборки\n",
    "\n",
    "sigma = Z*(p*q/n)**0.5 #Погрешность оценки\n",
    "\n",
    "print('Точность результатов конкретной выборки составит: ±', float(\"{0:.2f}\".format(sigma*100)), \"%\")\n",
    "print('Доверительный интервал составит:', float(\"{0:.2f}\".format((p - sigma)*100)), \"% ;\", \\\n",
    "                                            float(\"{0:.2f}\".format((p + sigma)*100)), \"%\")"
   ]
  },
  {
   "cell_type": "code",
   "execution_count": null,
   "metadata": {},
   "outputs": [],
   "source": [
    "#Ненормальные распределения\n",
    "#Сгладить распределение, уменьшив шкалу на основании полезности данных, удалив аномалии\n",
    "#Логарифмировать переменные (не забываем про ноль в исходной переменной). Схлопывает экстремальные значения\n",
    "#Логарифмирование отлично работает с ассиметричными распределениями\n",
    "#Если логарифмы переменных зависимы линейно, то значит сами переменные зависят нелинейно \n",
    "#Применить непараметрический критерий (ранговое распределение)\n",
    "#Преобразование Бокса-Кокса подбирает оптимальную степень для возведения в нее mathworks.com/help/finance/boxcox.html \n",
    "#Bootstrap и метод Монте-Карло. Сравнивать медиану, мин, макс, 13-процентиль, среднее"
   ]
  },
  {
   "cell_type": "code",
   "execution_count": null,
   "metadata": {},
   "outputs": [],
   "source": []
  },
  {
   "cell_type": "code",
   "execution_count": null,
   "metadata": {},
   "outputs": [],
   "source": []
  },
  {
   "cell_type": "code",
   "execution_count": null,
   "metadata": {},
   "outputs": [],
   "source": []
  },
  {
   "cell_type": "code",
   "execution_count": null,
   "metadata": {},
   "outputs": [],
   "source": []
  },
  {
   "cell_type": "code",
   "execution_count": null,
   "metadata": {},
   "outputs": [],
   "source": []
  },
  {
   "cell_type": "code",
   "execution_count": null,
   "metadata": {},
   "outputs": [],
   "source": []
  },
  {
   "cell_type": "markdown",
   "metadata": {},
   "source": [
    "* Проверка гипотезы о нормальности распределения.<br>\n",
    "H0: $X \\sim N(\\cdot, \\cdot)$<br>\n",
    "H1: $X \\nsim N(\\cdot, \\cdot)$<br>\n",
    "Критерий Шапиро-Уилка [scipy.stats.shapiro](https://docs.scipy.org/doc/scipy-0.14.0/reference/generated/scipy.stats.shapiro.html).<br>\n",
    "\n",
    "\n",
    "* Критерий согласия Стьюдента.<br>\n",
    "H0: $\\mu = M$<br>\n",
    "H1: $\\mu \\ne M$<br>\n",
    "[scipy.stats.ttest_1samp](https://docs.scipy.org/doc/scipy-0.14.0/reference/generated/scipy.stats.ttest_1samp.html).<br>\n",
    "\n",
    "\n",
    "* Проверка гипотезы о равенстве средних значений.<br>\n",
    "H0: $\\mu_1 = \\mu_2$<br>\n",
    "H1: $\\mu_1 \\ne \\mu_2$<br>\n",
    "Распределение выборок должно быть близко к нормальному.<br>\n",
    "  * Для несвязных выборок: [scipy.stats.ttest_ind](https://docs.scipy.org/doc/scipy-0.14.0/reference/generated/scipy.stats.ttest_ind.html).<br>\n",
    "  * Для связных выборок: [scipy.stats.ttest_rel](https://docs.scipy.org/doc/scipy-0.14.0/reference/generated/scipy.stats.ttest_rel.html).<br>\n",
    "  \n",
    "\n",
    "* Проверка гипотезы о равенстве медиан.<br>\n",
    "  * Для несвязных выборок: критерий Манна-Уитни [scipy.stats.mannwhitneyu](https://docs.scipy.org/doc/scipy/reference/generated/scipy.stats.mannwhitneyu.html).<br>\n",
    "  * Для связных выборок: критерий Уилкоксона [scipy.stats.wilcoxon](https://docs.scipy.org/doc/scipy/reference/generated/scipy.stats.wilcoxon.html).<br>\n",
    "  * Критерий Муда [scipy.stats.median_test](https://docs.scipy.org/doc/scipy/reference/generated/scipy.stats.median_test.html).<br>\n",
    "\n",
    "\n",
    "* Проверка гипотезы о равенстве дисперсий.<br>\n",
    "H0: $\\sigma_1 = \\sigma_2$<br>\n",
    "H1: $\\sigma_1 \\neq \\sigma_2$<br>\n",
    "Критерий Флингера-Килина [scipy.stats.fligner](https://docs.scipy.org/doc/scipy-0.17.0/reference/generated/scipy.stats.fligner.html).<br>\n",
    "\n",
    "\n",
    "* Проверка гипотезы о равенстве долей категориального признака.<br>\n",
    "H0: $p_1 = p_2$<br>\n",
    "H1: $p_1 \\ne p_2$<br>\n",
    "Критерий хи-квадрат [scipy.stats.chi2_contingency](https://docs.scipy.org/doc/scipy-0.17.0/reference/generated/scipy.stats.chi2_contingency.html).<br>\n",
    "\n",
    "\n",
    "* Проверка гипотезы о независимости (корреляция).<br>\n",
    "H0: X и Y независимы<br>\n",
    "H1: X и Y зависимы<br>\n",
    "  * Для непрерыных величин: корреляция Пирсона [scipy.stats.pearsonr](https://docs.scipy.org/doc/scipy-0.14.0/reference/generated/scipy.stats.pearsonr.html),<br>\n",
    "  * Для дискретных величин: корреляция Спирмэна [scipy.stats.kendalltau](https://docs.scipy.org/doc/scipy-0.14.0/reference/generated/scipy.stats.kendalltau.html).<br>\n"
   ]
  }
 ],
 "metadata": {
  "kernelspec": {
   "display_name": "Python 3",
   "language": "python",
   "name": "python3"
  },
  "language_info": {
   "codemirror_mode": {
    "name": "ipython",
    "version": 3
   },
   "file_extension": ".py",
   "mimetype": "text/x-python",
   "name": "python",
   "nbconvert_exporter": "python",
   "pygments_lexer": "ipython3",
   "version": "3.8.3"
  }
 },
 "nbformat": 4,
 "nbformat_minor": 4
}
