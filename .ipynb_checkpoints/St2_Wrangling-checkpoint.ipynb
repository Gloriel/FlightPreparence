{
 "cells": [
  {
   "cell_type": "markdown",
   "metadata": {},
   "source": [
    "https://python.ivan-shamaev.ru/python-data-wrangling-tutorial-for-cryptocurrency/"
   ]
  },
  {
   "cell_type": "code",
   "execution_count": null,
   "metadata": {},
   "outputs": [],
   "source": [
    "from functools import reduce\n",
    "import pandas as pd\n",
    "\n",
    "pd.options.display.float_format = '{:,.2f}'.format\n",
    "pd.options.display.max_rows = 200\n",
    "pd.options.display.max_columns = 100\n",
    "\n",
    "df = pd.read_csv('BNC2_sample.csv',\n",
    "                 names=['Code', 'Date', 'Open', 'High', 'Low', \n",
    "                        'Close', 'Volume', 'VWAP', 'TWAP'])"
   ]
  },
  {
   "cell_type": "code",
   "execution_count": null,
   "metadata": {},
   "outputs": [],
   "source": [
    "#Эквивалентность в гранулярности —  например, 10 строк данных. Но не 11-ю аггрегацией по среднему или сумме\n",
    "#Эквивалентность в единицах — 10 строк с ценами в USD, не должно быть еще 10 строк в евро\n",
    "#Для расчета returns путем смещения набора данных нужно отсортировать их по дате, не иметь пропущенных дат (!)"
   ]
  },
  {
   "cell_type": "code",
   "execution_count": null,
   "metadata": {},
   "outputs": [],
   "source": [
    "#Проверка уникальных значений в колонке\n",
    "print( df.Code.unique() )"
   ]
  },
  {
   "cell_type": "code",
   "execution_count": null,
   "metadata": {},
   "outputs": [],
   "source": [
    "#Фильтр фрейма, оставить только строки с опредленным значением в одной из колонок\n",
    "print( 'Before:', len(df) )\n",
    "gwa_codes = [code for code in df.Code.unique() if 'GWA_' in code]\n",
    "df = df[df.Code.isin(gwa_codes)]\n",
    "print( 'After:', len(df) )"
   ]
  },
  {
   "cell_type": "code",
   "execution_count": null,
   "metadata": {},
   "outputs": [],
   "source": [
    "#Повернем фрейм, разбив один столбец на несколько, в зависимости от значений, все объекты выровнены по дате\n",
    "pivoted_df = df.pivot(index='Date', columns='Code', values='VWAP')\n",
    "pivoted_df.tail()"
   ]
  }
 ],
 "metadata": {
  "kernelspec": {
   "display_name": "Python 3",
   "language": "python",
   "name": "python3"
  },
  "language_info": {
   "codemirror_mode": {
    "name": "ipython",
    "version": 3
   },
   "file_extension": ".py",
   "mimetype": "text/x-python",
   "name": "python",
   "nbconvert_exporter": "python",
   "pygments_lexer": "ipython3",
   "version": "3.8.3"
  }
 },
 "nbformat": 4,
 "nbformat_minor": 4
}
