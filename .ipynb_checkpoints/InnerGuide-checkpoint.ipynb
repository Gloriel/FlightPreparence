{
 "cells": [
  {
   "cell_type": "markdown",
   "metadata": {},
   "source": [
    "Содержание предполетного листа\n",
    "===================="
   ]
  },
  {
   "cell_type": "markdown",
   "metadata": {},
   "source": [
    "* Стадии подготовки к работе с фреймом.<br>\n",
    "  * Сбор данных\n",
    "  * Хранение данных\n",
    "  * Инструменты разработчика\n",
    "  * Командная работа: бранчевание, комменты, QA\n",
    "  * Мануалы\n",
    "  * Ссылки [scipy.stats.shapiro](https://docs.scipy.org/doc/scipy-0.14.0/reference/generated/scipy.stats.shapiro.html).<br>"
   ]
  },
  {
   "cell_type": "markdown",
   "metadata": {},
   "source": [
    "* DataExtraction\n",
    "  * SQL\n",
    "  * Scrapping\n",
    "  * File Formats\n",
    "  * Consulting API\n",
    "  * Buying Data\n",
    "  * Distributed Databases\n",
    "\n",
    "* Data Cleaning\n",
    "  * Missing Values & Empty Data\n",
    "  * Data imputation\n",
    "  * Incorrect Types\n",
    "  * Incorrest or invalid values\n",
    "  * Outliers and non relevant data\n",
    "  * Statistic sanitization\n",
    "\n",
    "* Data wrangling\n",
    "  * Hierarchical Data\n",
    "  * Handling categorical data\n",
    "  * Reshaping and transforming structures\n",
    "  * Indexing data for quick access\n",
    "  * Merging, combining and joining data\n",
    "\n",
    "* Analysis\n",
    "  * Exploration\n",
    "  * Building statistical models\n",
    "  * Visualization and representations\n",
    "  * Correlation vs Causation analysis\n",
    "  * Hypothesis testing Statistical analysis\n",
    "  * Reporting\n",
    "\n",
    "* Action\n",
    "  * Building ML Models\n",
    "  * Feature Engineering\n",
    "  * Moving ML into production\n",
    "  * Building ETL pipelines\n",
    "  * Live dashboard and reporting\n",
    "  * Decision making and real-life tests"
   ]
  },
  {
   "cell_type": "markdown",
   "metadata": {},
   "source": [
    "* Связывание аккаунтов в Adwords и Direct\n",
    "* [Сквозная аналитика](https://www.owox.ru/blog/use-cases/end-to-end-analytics-implementation/)\n",
    "* [Как маркетологи используют аналитику для решения своих проблем](https://www.owox.ru/blog/articles/how-marketers-use-analytics/)\n",
    "* [Аналитика в маркетинге: зачем она нужна и как построить](https://blog.ringostat.com/ru/analitika-v-marketinge-zachem-ona-nuzhna-i-kak-postroit/)\n",
    "* [25 ресурсов о маркетинг-аналитике](https://netology.ru/blog/07-2019-25-resursov-analitika)\n",
    "* [Google Analytics 4](https://vc.ru/marketing/185074-google-analytics-4-gayd-po-obnovlennoy-sisteme-analitiki)\n",
    "\n"
   ]
  },
  {
   "cell_type": "markdown",
   "metadata": {},
   "source": [
    "* Знаю Python и библиотеки pandas, numpy, matplotlib, seaborn. Работаю в Jupyter Notebook, использую Git.\n",
    "\n",
    "* Владею PostgreSQL и ClickHouse. Имею опыт работы на удалённом сервере и в командной строке.\n",
    "\n",
    "* Использую Airflow для автоматизации задач. Для визуализации и отчетности применяю Tableau, Redash, Supersеt.\n",
    "\n",
    "* Понимаю и умею рассчитывать продуктовые метрики DAU, MAU, ARPU, LTV, Retention.\n",
    "\n",
    "* Хорошо разбираюсь в статистике, умею проводить AB-тестирование и применять параметрические и непараметрические методы, Bootstrapping, Power Analysis."
   ]
  },
  {
   "cell_type": "code",
   "execution_count": null,
   "metadata": {
    "scrolled": true
   },
   "outputs": [],
   "source": [
    "from IPython.display import Image\n",
    "# https://www.slideshare.net/vladimirkazantsev/how-to-concludeonlineexperimentsinpython\n",
    "Image(\"stat_tests.jpg\")"
   ]
  },
  {
   "cell_type": "markdown",
   "metadata": {},
   "source": [
    "Startup Metrics for Pirates (AARRR), которая все еще не потеряла актуальность. По сути, МакКлюр разделил всю аналитику на пять категорий:\n",
    "\n",
    "Привлечение (Acquisition) учитывает показатели, которые связаны привлечением уникальных пользователей;\n",
    "Активация (Activation) касается того, как посетители впервые воспринимают сайт;\n",
    "Удержание (Retention) включает все, что связано с посетителями, вернувшихся на сайт повторно;\n",
    "Рефералы (Referral) касается отслеживания потребителей, которые распространяют информацию о ваших страницах;\n",
    "Доход (Revenue) включает все, что связано с монетизацией."
   ]
  }
 ],
 "metadata": {
  "hide_input": false,
  "kernelspec": {
   "display_name": "Python 3",
   "language": "python",
   "name": "python3"
  },
  "language_info": {
   "codemirror_mode": {
    "name": "ipython",
    "version": 3
   },
   "file_extension": ".py",
   "mimetype": "text/x-python",
   "name": "python",
   "nbconvert_exporter": "python",
   "pygments_lexer": "ipython3",
   "version": "3.8.3"
  },
  "latex_envs": {
   "LaTeX_envs_menu_present": true,
   "autoclose": false,
   "autocomplete": true,
   "bibliofile": "biblio.bib",
   "cite_by": "apalike",
   "current_citInitial": 1,
   "eqLabelWithNumbers": true,
   "eqNumInitial": 1,
   "hotkeys": {
    "equation": "Ctrl-E",
    "itemize": "Ctrl-I"
   },
   "labels_anchors": false,
   "latex_user_defs": false,
   "report_style_numbering": false,
   "user_envs_cfg": false
  },
  "nbTranslate": {
   "displayLangs": [
    "*"
   ],
   "hotkey": "alt-t",
   "langInMainMenu": true,
   "sourceLang": "en",
   "targetLang": "fr",
   "useGoogleTranslate": true
  },
  "toc": {
   "base_numbering": 1,
   "nav_menu": {},
   "number_sections": true,
   "sideBar": true,
   "skip_h1_title": false,
   "title_cell": "Table of Contents",
   "title_sidebar": "Contents",
   "toc_cell": false,
   "toc_position": {},
   "toc_section_display": true,
   "toc_window_display": false
  },
  "varInspector": {
   "cols": {
    "lenName": 16,
    "lenType": 16,
    "lenVar": 40
   },
   "kernels_config": {
    "python": {
     "delete_cmd_postfix": "",
     "delete_cmd_prefix": "del ",
     "library": "var_list.py",
     "varRefreshCmd": "print(var_dic_list())"
    },
    "r": {
     "delete_cmd_postfix": ") ",
     "delete_cmd_prefix": "rm(",
     "library": "var_list.r",
     "varRefreshCmd": "cat(var_dic_list()) "
    }
   },
   "types_to_exclude": [
    "module",
    "function",
    "builtin_function_or_method",
    "instance",
    "_Feature"
   ],
   "window_display": false
  }
 },
 "nbformat": 4,
 "nbformat_minor": 2
}
