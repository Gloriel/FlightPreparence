{
 "cells": [
  {
   "cell_type": "markdown",
   "metadata": {},
   "source": [
    "* Ссылки \n",
    "  * [Разведочный анализ данных](https://www.kaggle.com/emstrakhov/eda-with-pandas).<br>\n",
    "  * [Построение графиков](https://pcnews.ru/blogs/spargalka_po_vizualizacii_dannyh_v_python_s_pomosu_plotly-986119.html).<br>\n",
    "  * [Продвинутая визуализация](https://habr.com/ru/company/skillfactory/blog/510320/).<br>"
   ]
  },
  {
   "cell_type": "code",
   "execution_count": 1,
   "metadata": {},
   "outputs": [
    {
     "data": {
      "text/html": [
       "        <script type=\"text/javascript\">\n",
       "        window.PlotlyConfig = {MathJaxConfig: 'local'};\n",
       "        if (window.MathJax) {MathJax.Hub.Config({SVG: {font: \"STIX-Web\"}});}\n",
       "        if (typeof require !== 'undefined') {\n",
       "        require.undef(\"plotly\");\n",
       "        requirejs.config({\n",
       "            paths: {\n",
       "                'plotly': ['https://cdn.plot.ly/plotly-latest.min']\n",
       "            }\n",
       "        });\n",
       "        require(['plotly'], function(Plotly) {\n",
       "            window._Plotly = Plotly;\n",
       "        });\n",
       "        }\n",
       "        </script>\n",
       "        "
      ]
     },
     "metadata": {},
     "output_type": "display_data"
    },
    {
     "data": {
      "text/html": [
       "        <script type=\"text/javascript\">\n",
       "        window.PlotlyConfig = {MathJaxConfig: 'local'};\n",
       "        if (window.MathJax) {MathJax.Hub.Config({SVG: {font: \"STIX-Web\"}});}\n",
       "        if (typeof require !== 'undefined') {\n",
       "        require.undef(\"plotly\");\n",
       "        requirejs.config({\n",
       "            paths: {\n",
       "                'plotly': ['https://cdn.plot.ly/plotly-latest.min']\n",
       "            }\n",
       "        });\n",
       "        require(['plotly'], function(Plotly) {\n",
       "            window._Plotly = Plotly;\n",
       "        });\n",
       "        }\n",
       "        </script>\n",
       "        "
      ]
     },
     "metadata": {},
     "output_type": "display_data"
    }
   ],
   "source": [
    "import numpy as np \n",
    "import pandas as pd\n",
    "import plotly\n",
    "import chart_studio.plotly as py\n",
    "from plotly.offline import iplot, init_notebook_mode\n",
    "import cufflinks\n",
    "cufflinks.go_offline(connected=True)\n",
    "init_notebook_mode(connected=True)\n",
    "import plotly.graph_objs as go\n",
    "import plotly.express as px\n",
    "from plotly.subplots import make_subplots\n",
    "import matplotlib \n",
    "import matplotlib.pyplot as plt\n",
    "import seaborn as sns\n",
    "from wordcloud import WordCloud\n",
    "%matplotlib inline\n",
    "\n",
    "#Настройки показа графиков в блокноте\n",
    "pd.options.display.float_format = '{:,.2f}'.format\n",
    "pd.set_option('display.width', 85)\n",
    "pd.set_option('display.max_columns', 8)\n",
    "\n",
    "df = pd.read_csv('../Kaggle/Titanic/train.csv')"
   ]
  },
  {
   "cell_type": "code",
   "execution_count": null,
   "metadata": {},
   "outputs": [],
   "source": [
    "df.head()"
   ]
  },
  {
   "cell_type": "code",
   "execution_count": null,
   "metadata": {},
   "outputs": [],
   "source": [
    "#Транспонируем, если колонок много\n",
    "df.head(10).T"
   ]
  },
  {
   "cell_type": "code",
   "execution_count": null,
   "metadata": {},
   "outputs": [],
   "source": [
    "df.shape"
   ]
  },
  {
   "cell_type": "code",
   "execution_count": null,
   "metadata": {},
   "outputs": [],
   "source": [
    "df.info()"
   ]
  },
  {
   "cell_type": "code",
   "execution_count": null,
   "metadata": {},
   "outputs": [],
   "source": [
    "#Статистика по всем\n",
    "df.describe(include=\"all\")"
   ]
  },
  {
   "cell_type": "code",
   "execution_count": null,
   "metadata": {},
   "outputs": [],
   "source": [
    "#Статистика по колонке\n",
    "pd.DataFrame(df.Data.describe())"
   ]
  },
  {
   "cell_type": "code",
   "execution_count": null,
   "metadata": {},
   "outputs": [],
   "source": [
    "print('Число строк в фрейме: {0}'.format(len(df)))\n",
    "print('Число строк без пропущенных значений: {0}'.format(len(df.dropna(how='any'))))"
   ]
  },
  {
   "cell_type": "code",
   "execution_count": null,
   "metadata": {},
   "outputs": [],
   "source": [
    "#Агрегирование. Подсчет количества записей\n",
    "df.groupby('data').count()"
   ]
  },
  {
   "cell_type": "code",
   "execution_count": null,
   "metadata": {},
   "outputs": [],
   "source": [
    "#Проверка на недостающие значения\n",
    "pd.DataFrame(df.isnull().sum()).plot.line().set_title(\"Number of missing values in the given features\")\n",
    "df.isnull().sum()"
   ]
  },
  {
   "cell_type": "code",
   "execution_count": null,
   "metadata": {},
   "outputs": [],
   "source": [
    "#Тепловая карта пропущенных значений\n",
    "df.isnull().sum()\n",
    "sns.heatmap(df.isnull(), cbar = False).set_title(\"Missing values heatmap\")"
   ]
  },
  {
   "cell_type": "code",
   "execution_count": null,
   "metadata": {},
   "outputs": [],
   "source": [
    "#Проверка на уникальные значения\n",
    "df.nunique()"
   ]
  },
  {
   "cell_type": "code",
   "execution_count": null,
   "metadata": {},
   "outputs": [],
   "source": [
    "#Проверка уникальных значений в колонке\n",
    "print( df.Data.unique() )"
   ]
  },
  {
   "cell_type": "code",
   "execution_count": null,
   "metadata": {},
   "outputs": [],
   "source": [
    "#кросс-таблица (таблица сопряжённости)\n",
    "pd.crosstab(df['data'], df['data1'])"
   ]
  },
  {
   "cell_type": "code",
   "execution_count": null,
   "metadata": {},
   "outputs": [],
   "source": [
    "#Разбиение переменных на категории и выделение в новый столбец \n",
    "df['data_new'] = pd.cut(df['data'], bins=[0,7.90,14.45,31.28,120], labels=['Low','Mid', 'High_Mid','High'])"
   ]
  },
  {
   "cell_type": "code",
   "execution_count": null,
   "metadata": {},
   "outputs": [],
   "source": [
    "#Средние показатель выборки по определенному параметру\n",
    "df[df['data'] == 1]['data1'].mean()\n",
    "\n",
    "#Условие может быть составным\n",
    "df[(df['data'] == 1) & (df['data1'] == \"male\")]['data2'].mean()"
   ]
  },
  {
   "cell_type": "code",
   "execution_count": null,
   "metadata": {},
   "outputs": [],
   "source": [
    "#Выборка всех строк из фрейма по конкретному параметру в колонке\n",
    "grouped = df.groupby('Data').get_group('param')"
   ]
  },
  {
   "cell_type": "code",
   "execution_count": null,
   "metadata": {},
   "outputs": [],
   "source": [
    "#Среднее значение второго параметра для колонки фрейма, сгрупированного по первому параметру в другой колонке\n",
    "income_mean = df.groupby('data1')['data2'].mean()"
   ]
  },
  {
   "cell_type": "code",
   "execution_count": null,
   "metadata": {},
   "outputs": [],
   "source": [
    "#Выбираем из матрицы интересующую нас ячейку\n",
    "first_patient = df.loc[0, 'data']"
   ]
  },
  {
   "cell_type": "code",
   "execution_count": null,
   "metadata": {},
   "outputs": [],
   "source": [
    "#Выбираем срез из матрицы по интересующим нас колонкам \n",
    "df.loc[:10, [\"data1\", \"data2\"]]"
   ]
  },
  {
   "cell_type": "code",
   "execution_count": null,
   "metadata": {},
   "outputs": [],
   "source": [
    "#Строим график по распределению значений в колонке\n",
    "(df.Data.value_counts(normalize=True) * 100).plot.barh().set_title(\n",
    "    \"Training Data - Percentage of people survived and Deceased\")"
   ]
  },
  {
   "cell_type": "code",
   "execution_count": null,
   "metadata": {},
   "outputs": [],
   "source": [
    "# Строим картинку\n",
    "df['Survived'].value_counts().plot(kind='bar')\n",
    "# Добавляем подпись\n",
    "plt.title(u'Число выживших на Титанике')\n",
    "plt.xticks([0, 1], ['Not Survived', 'Survived'], rotation=None)\n",
    "plt.text(-0.1, 275, '61.5%', fontsize=15, color='silver')\n",
    "plt.text(0.9, 150, '38.5%', fontsize=15, color='silver');"
   ]
  },
  {
   "cell_type": "code",
   "execution_count": null,
   "metadata": {},
   "outputs": [],
   "source": [
    "# Хак для того, чтобы исправить наезжающие заголовки графика\n",
    "ax.get_figure().suptitle('')\n",
    "\n",
    "# Нужно, чтобы подписи к картинкам отображались корректно по-русски\n",
    "matplotlib.rc('font', family='Arial')\n",
    "\n",
    "#Доля выживших на Титанике\n",
    "fig, ax = plt.subplots(1)\n",
    "df['Survived'].value_counts().plot(kind='pie', labels=['', ''],\n",
    "                                   ax=ax, autopct='%.2f%%', fontsize=15)\n",
    "ax.set_title(u'Доля выживших на Титанике')\n",
    "ax.axis('equal')\n",
    "ax.legend(labels=[u'Выжили', u'Погибли'], framealpha=0)\n",
    "ax.set_ylabel('')\n",
    "plt.tight_layout()"
   ]
  },
  {
   "cell_type": "code",
   "execution_count": null,
   "metadata": {},
   "outputs": [],
   "source": [
    "#Подробное распределение внутри класса по определенным параметрам\n",
    "plt.figure(figsize=(15, 8)) # увеличим размер картинки\n",
    "sns.countplot(y='data', hue='data1', data=df);"
   ]
  },
  {
   "cell_type": "code",
   "execution_count": null,
   "metadata": {},
   "outputs": [],
   "source": [
    "#Круговая диаграмма распределения значений в колонке\n",
    "df.Data.value_counts().plot.pie().legend(labels=[\"Class 3\",\"Class 1\",\"Class 2\"], \n",
    "                                                         loc='center right', \n",
    "                                                         bbox_to_anchor=(2.25, 0.5)\n",
    "                                                        ).set_title(\"Training Data - People travelling in different classes\")"
   ]
  },
  {
   "cell_type": "code",
   "execution_count": null,
   "metadata": {},
   "outputs": [],
   "source": [
    "#График сравнения значений в колонках по дополнительному признаку из другой колонки. В процентах\n",
    "\n",
    "data1 = round((df[df.Data == 1].Survived == 1).value_counts()[1]/len(df[df.Data == 1]) * 100, 2)\n",
    "data2 = round((df[df.Data == 2].Survived == 1).value_counts()[1]/len(df[df.Data == 2]) * 100, 2)\n",
    "data3 = round((df[df.Data == 3].Survived == 1).value_counts()[1]/len(df[df.Data == 3]) * 100, 2)\n",
    "pclass_perc_df = pd.DataFrame(\n",
    "    { \"Percentage Survived\":{\"Class 1\": data1,\"Class 2\": data2, \"Class 3\": data3},  \n",
    "     \"Percentage Not Survived\":{\"Class 1\": 100-data1,\"Class 2\": 100-data2, \"Class 3\": 100-data3}})\n",
    "pclass_perc_df.plot.bar().set_title(\"Training Data - Percentage of people survived on the basis of class\")"
   ]
  },
  {
   "cell_type": "code",
   "execution_count": null,
   "metadata": {},
   "outputs": [],
   "source": [
    "#Вариант графика сравнения, две бинарных переменных\n",
    "df['data_new'] = pd.cut(df.Data, [0, 10, 20, 30, 40, 50, 60, 70, 80])\n",
    "sns.countplot(x = \"data_new\", \n",
    "              hue = \"data1\", \n",
    "              data = df, \n",
    "              palette=[\"C1\", \"C0\"]).legend(labels = [\"Deceased\", \"Survived\"]\n",
    "              )"
   ]
  },
  {
   "cell_type": "code",
   "execution_count": null,
   "metadata": {},
   "outputs": [],
   "source": [
    "#График распределения переменных по характеристике второй переменной\n",
    "for x in [1,2,3]:    #задаем число классов\n",
    "    df.data0[df.data1 == x].plot(kind=\"kde\")\n",
    "plt.title(\"Age density in classes\")\n",
    "plt.legend((\"1st\",\"2nd\",\"3rd\"))"
   ]
  },
  {
   "cell_type": "code",
   "execution_count": null,
   "metadata": {},
   "outputs": [],
   "source": [
    "#Вариант графика сравнения, две бинарных переменных\n",
    "sns.distplot(df['data'].dropna(),\n",
    "             color='darkgreen',\n",
    "             bins=30\n",
    "            )"
   ]
  },
  {
   "cell_type": "code",
   "execution_count": null,
   "metadata": {},
   "outputs": [],
   "source": [
    "#Вероятностная гистограмма \n",
    "df['data'].hist(density=True, bins=60)\n",
    "#Сравнение гистограмм\n",
    "df.groupby('data')['data'].plot.hist(alpha=.6)\n",
    "plt.legend()"
   ]
  },
  {
   "cell_type": "code",
   "execution_count": null,
   "metadata": {},
   "outputs": [],
   "source": [
    "#Линейная гистограмма\n",
    "ss = pd.DataFrame()\n",
    "ss['survived'] = df.Data1\n",
    "ss['sibling_spouse'] = pd.cut(df.Data2, [0, 1, 2, 3, 4, 5, 6, 7, 8], include_lowest = True)\n",
    "(ss.sibling_spouse.value_counts()).plot.area().set_title(\"Training Data - Number of siblings or spouses vs survival count\")"
   ]
  },
  {
   "cell_type": "code",
   "execution_count": null,
   "metadata": {},
   "outputs": [],
   "source": [
    "#Проверка на тип тренда (линейный или нет), тип сезонности (аддитивный или мультипликативный), его длину, выбросы\n",
    "#Видим линейный тренд и мультипликативную сезонность. Это подтверждает логирафмирование цикла\n",
    "\n",
    "fig = plt.figure(figsize=(12, 4))\n",
    "ax1 = fig.add_subplot(121)\n",
    "df['data'].plot(ax=ax1)\n",
    "ax1.set_title(u'Объём пассажироперевозок')\n",
    "ax1.set_ylabel(u'Тысяч человек')\n",
    "\n",
    "ax2 = fig.add_subplot(122)\n",
    "pd.Series(np.log10(df['data'])).plot(ax=ax2)\n",
    "ax2.set_title(u'log10 от объёма пассажироперевозок')\n",
    "ax2.set_ylabel(u'log10 от тысяч человек')"
   ]
  },
  {
   "cell_type": "code",
   "execution_count": null,
   "metadata": {},
   "outputs": [],
   "source": [
    "#Быстрая проверка по интересующим нас данным. Перебор -> результат\n",
    "age = df['data']\n",
    "age[age < 22].shape[0]"
   ]
  },
  {
   "cell_type": "code",
   "execution_count": null,
   "metadata": {},
   "outputs": [],
   "source": [
    "#В случае очевидного смешения двух нормальных распределений, можно оценить их более подробно\n",
    "df.groupby('data')['data1'].plot.hist(alpha=0.6)\n",
    "df.groupby('data')['data1'].plot.hist(density=True) #Нормализованный вариант\n",
    "plt.legend(loc='upper left')"
   ]
  },
  {
   "cell_type": "code",
   "execution_count": null,
   "metadata": {},
   "outputs": [],
   "source": [
    "#Боксплот\n",
    "sns.boxplot(x=df['data']);"
   ]
  },
  {
   "cell_type": "code",
   "execution_count": null,
   "metadata": {},
   "outputs": [],
   "source": [
    "#Первый признак разбивает на классы, второй дает среднее значение параметра по группе\n",
    "df.groupby('data')['data1'].mean().round().plot(kind='bar') \n",
    "plt.ylabel('Age') # добавляем подпись на оси Оу\n",
    "plt.show();"
   ]
  },
  {
   "cell_type": "code",
   "execution_count": null,
   "metadata": {},
   "outputs": [],
   "source": [
    "#Матрица диаграмм рассеивания: комплексное сравнение по нескольким переменным. Диагональ - ядерная оценка плотности\n",
    "colors = {'genuine': 'green', 'counterfeit': 'red'}\n",
    "scatter_matrix(df,               \n",
    "               figsize=(6, 6), #размер картинки\n",
    "               diagonal='kde', #плотность вместо гистограммы на диагонали\n",
    "               c=df['data'].replace(colors),  #цвета классов\n",
    "               alpha=0.2 #степень прозрачности точек\n",
    "              )"
   ]
  },
  {
   "cell_type": "code",
   "execution_count": null,
   "metadata": {},
   "outputs": [],
   "source": [
    "#Scatter плот для исследования пар числовых признаков\n",
    "plt.scatter(df['Sex'], df['Pclass']);\n",
    "#Для изучения совместного распределения двух числовых признаков\n",
    "sns.jointplot(x='height', y='weight', data=df);"
   ]
  },
  {
   "cell_type": "code",
   "execution_count": null,
   "metadata": {},
   "outputs": [],
   "source": [
    "#Для исследования трёх и более признаков сводные таблицы (pivot tables)\n",
    "#Index - признаки, по которым выполняется группировка. Values - признаки, по которым вычисляются значения функции\n",
    "df.pivot_table(values=['age', 'cardio'], index=['smoke', 'alco'], aggfunc='mean')"
   ]
  },
  {
   "cell_type": "code",
   "execution_count": null,
   "metadata": {},
   "outputs": [],
   "source": [
    "#Анализ объектов в колонке. Выделение уникальных, сплит по знакам и выделение в отдельную колонку \n",
    "df['data_new'] = df.Data.apply(lambda name: name.split(',')[1].split('.')[0].strip()) \n",
    "df.Data.nunique()\n",
    "\n",
    "#Построение облачного графика из объектов, где размер коррелирует с частотой\n",
    "wc = WordCloud(width = 1000, height = 450, background_color = 'white').generate(str(df.Data_new.values))\n",
    "plt.imshow(wc, interpolation = 'bilinear')\n",
    "plt.axis('off')\n",
    "plt.tight_layout(pad=0)\n",
    "plt.show()\n",
    "\n",
    "df.Data_new.value_counts()"
   ]
  },
  {
   "cell_type": "code",
   "execution_count": 6,
   "metadata": {},
   "outputs": [
    {
     "data": {
      "application/vnd.plotly.v1+json": {
       "config": {
        "plotlyServerURL": "https://plot.ly"
       },
       "data": [
        {
         "hoverinfo": "all",
         "hovertemplate": "Аргумент: %{x}<br>Функция: %{y}",
         "mode": "lines+markers",
         "name": "f(x)=x<sup>2</sup>",
         "type": "scatter",
         "x": [
          0,
          0.1,
          0.2,
          0.30000000000000004,
          0.4,
          0.5,
          0.6000000000000001,
          0.7000000000000001,
          0.8,
          0.9,
          1,
          1.1,
          1.2000000000000002,
          1.3,
          1.4000000000000001,
          1.5,
          1.6,
          1.7000000000000002,
          1.8,
          1.9000000000000001,
          2,
          2.1,
          2.2,
          2.3000000000000003,
          2.4000000000000004,
          2.5,
          2.6,
          2.7,
          2.8000000000000003,
          2.9000000000000004,
          3,
          3.1,
          3.2,
          3.3000000000000003,
          3.4000000000000004,
          3.5,
          3.6,
          3.7,
          3.8000000000000003,
          3.9000000000000004,
          4,
          4.1000000000000005,
          4.2,
          4.3,
          4.4,
          4.5,
          4.6000000000000005,
          4.7,
          4.800000000000001,
          4.9
         ],
         "xaxis": "x2",
         "y": [
          0,
          0.010000000000000002,
          0.04000000000000001,
          0.09000000000000002,
          0.16000000000000003,
          0.25,
          0.3600000000000001,
          0.4900000000000001,
          0.6400000000000001,
          0.81,
          1,
          1.2100000000000002,
          1.4400000000000004,
          1.6900000000000002,
          1.9600000000000004,
          2.25,
          2.5600000000000005,
          2.8900000000000006,
          3.24,
          3.6100000000000003,
          4,
          4.41,
          4.840000000000001,
          5.290000000000001,
          5.760000000000002,
          6.25,
          6.760000000000001,
          7.290000000000001,
          7.840000000000002,
          8.410000000000002,
          9,
          9.610000000000001,
          10.240000000000002,
          10.890000000000002,
          11.560000000000002,
          12.25,
          12.96,
          13.690000000000001,
          14.440000000000001,
          15.210000000000003,
          16,
          16.810000000000006,
          17.64,
          18.49,
          19.360000000000003,
          20.25,
          21.160000000000004,
          22.090000000000003,
          23.040000000000006,
          24.010000000000005
         ],
         "yaxis": "y2"
        },
        {
         "hoverinfo": "all",
         "hovertemplate": "Аргумент: %{x}<br>Функция: %{y}",
         "mode": "markers",
         "name": "g(x)=x",
         "type": "scatter",
         "x": [
          0,
          0.1,
          0.2,
          0.30000000000000004,
          0.4,
          0.5,
          0.6000000000000001,
          0.7000000000000001,
          0.8,
          0.9,
          1,
          1.1,
          1.2000000000000002,
          1.3,
          1.4000000000000001,
          1.5,
          1.6,
          1.7000000000000002,
          1.8,
          1.9000000000000001,
          2,
          2.1,
          2.2,
          2.3000000000000003,
          2.4000000000000004,
          2.5,
          2.6,
          2.7,
          2.8000000000000003,
          2.9000000000000004,
          3,
          3.1,
          3.2,
          3.3000000000000003,
          3.4000000000000004,
          3.5,
          3.6,
          3.7,
          3.8000000000000003,
          3.9000000000000004,
          4,
          4.1000000000000005,
          4.2,
          4.3,
          4.4,
          4.5,
          4.6000000000000005,
          4.7,
          4.800000000000001,
          4.9
         ],
         "xaxis": "x2",
         "y": [
          0,
          0.1,
          0.2,
          0.30000000000000004,
          0.4,
          0.5,
          0.6000000000000001,
          0.7000000000000001,
          0.8,
          0.9,
          1,
          1.1,
          1.2000000000000002,
          1.3,
          1.4000000000000001,
          1.5,
          1.6,
          1.7000000000000002,
          1.8,
          1.9000000000000001,
          2,
          2.1,
          2.2,
          2.3000000000000003,
          2.4000000000000004,
          2.5,
          2.6,
          2.7,
          2.8000000000000003,
          2.9000000000000004,
          3,
          3.1,
          3.2,
          3.3000000000000003,
          3.4000000000000004,
          3.5,
          3.6,
          3.7,
          3.8000000000000003,
          3.9000000000000004,
          4,
          4.1000000000000005,
          4.2,
          4.3,
          4.4,
          4.5,
          4.6000000000000005,
          4.7,
          4.800000000000001,
          4.9
         ],
         "yaxis": "y2"
        },
        {
         "hoverinfo": "all",
         "hovertemplate": "Аргумент: %{x}<br>Функция: %{y}",
         "name": "x=sin(x)",
         "type": "scatter",
         "visible": "legendonly",
         "x": [
          0,
          0.1,
          0.2,
          0.30000000000000004,
          0.4,
          0.5,
          0.6000000000000001,
          0.7000000000000001,
          0.8,
          0.9,
          1,
          1.1,
          1.2000000000000002,
          1.3,
          1.4000000000000001,
          1.5,
          1.6,
          1.7000000000000002,
          1.8,
          1.9000000000000001,
          2,
          2.1,
          2.2,
          2.3000000000000003,
          2.4000000000000004,
          2.5,
          2.6,
          2.7,
          2.8000000000000003,
          2.9000000000000004,
          3,
          3.1,
          3.2,
          3.3000000000000003,
          3.4000000000000004,
          3.5,
          3.6,
          3.7,
          3.8000000000000003,
          3.9000000000000004,
          4,
          4.1000000000000005,
          4.2,
          4.3,
          4.4,
          4.5,
          4.6000000000000005,
          4.7,
          4.800000000000001,
          4.9
         ],
         "xaxis": "x3",
         "y": [
          0,
          0.09983341664682815,
          0.19866933079506122,
          0.2955202066613396,
          0.3894183423086505,
          0.479425538604203,
          0.5646424733950355,
          0.6442176872376911,
          0.7173560908995228,
          0.7833269096274834,
          0.8414709848078965,
          0.8912073600614354,
          0.9320390859672264,
          0.963558185417193,
          0.9854497299884603,
          0.9974949866040544,
          0.9995736030415051,
          0.9916648104524686,
          0.9738476308781951,
          0.9463000876874145,
          0.9092974268256817,
          0.8632093666488737,
          0.8084964038195901,
          0.74570521217672,
          0.6754631805511506,
          0.5984721441039564,
          0.5155013718214642,
          0.4273798802338298,
          0.33498815015590466,
          0.23924932921398198,
          0.1411200080598672,
          0.04158066243329049,
          -0.058374143427580086,
          -0.15774569414324865,
          -0.25554110202683167,
          -0.35078322768961984,
          -0.44252044329485246,
          -0.5298361409084934,
          -0.6118578909427193,
          -0.6877661591839741,
          -0.7568024953079282,
          -0.8182771110644108,
          -0.8715757724135882,
          -0.9161659367494549,
          -0.9516020738895161,
          -0.977530117665097,
          -0.9936910036334645,
          -0.9999232575641008,
          -0.9961646088358406,
          -0.9824526126243325
         ],
         "yaxis": "y3"
        },
        {
         "hoverinfo": "all",
         "hovertemplate": "Аргумент: %{x}<br>Функция: %{y}",
         "name": "x=cos(x)",
         "type": "scatter",
         "visible": "legendonly",
         "x": [
          0,
          0.1,
          0.2,
          0.30000000000000004,
          0.4,
          0.5,
          0.6000000000000001,
          0.7000000000000001,
          0.8,
          0.9,
          1,
          1.1,
          1.2000000000000002,
          1.3,
          1.4000000000000001,
          1.5,
          1.6,
          1.7000000000000002,
          1.8,
          1.9000000000000001,
          2,
          2.1,
          2.2,
          2.3000000000000003,
          2.4000000000000004,
          2.5,
          2.6,
          2.7,
          2.8000000000000003,
          2.9000000000000004,
          3,
          3.1,
          3.2,
          3.3000000000000003,
          3.4000000000000004,
          3.5,
          3.6,
          3.7,
          3.8000000000000003,
          3.9000000000000004,
          4,
          4.1000000000000005,
          4.2,
          4.3,
          4.4,
          4.5,
          4.6000000000000005,
          4.7,
          4.800000000000001,
          4.9
         ],
         "xaxis": "x3",
         "y": [
          1,
          0.9950041652780258,
          0.9800665778412416,
          0.955336489125606,
          0.9210609940028851,
          0.8775825618903728,
          0.8253356149096782,
          0.7648421872844884,
          0.6967067093471654,
          0.6216099682706644,
          0.5403023058681398,
          0.4535961214255773,
          0.3623577544766734,
          0.26749882862458735,
          0.16996714290024081,
          0.0707372016677029,
          -0.029199522301288815,
          -0.12884449429552486,
          -0.2272020946930871,
          -0.3232895668635036,
          -0.4161468365471424,
          -0.5048461045998576,
          -0.5885011172553458,
          -0.6662760212798244,
          -0.7373937155412458,
          -0.8011436155469337,
          -0.8568887533689473,
          -0.9040721420170612,
          -0.9422223406686583,
          -0.9709581651495907,
          -0.9899924966004454,
          -0.9991351502732795,
          -0.9982947757947531,
          -0.9874797699088649,
          -0.9667981925794609,
          -0.9364566872907963,
          -0.896758416334147,
          -0.848100031710408,
          -0.7909677119144165,
          -0.7259323042001399,
          -0.6536436208636119,
          -0.5748239465332685,
          -0.4902608213406994,
          -0.40079917207997545,
          -0.30733286997841935,
          -0.2107957994307797,
          -0.11215252693505398,
          -0.01238866346289056,
          0.08749898343944727,
          0.18651236942257576
         ],
         "yaxis": "y3"
        },
        {
         "hoverinfo": "all",
         "hovertemplate": "Аргумент: %{x}<br>Функция: %{y}",
         "name": "x=tan(x)",
         "type": "scatter",
         "visible": "legendonly",
         "x": [
          0,
          0.1,
          0.2,
          0.30000000000000004,
          0.4,
          0.5,
          0.6000000000000001,
          0.7000000000000001,
          0.8,
          0.9,
          1,
          1.1,
          1.2000000000000002,
          1.3,
          1.4000000000000001,
          1.5,
          1.6,
          1.7000000000000002,
          1.8,
          1.9000000000000001,
          2,
          2.1,
          2.2,
          2.3000000000000003,
          2.4000000000000004,
          2.5,
          2.6,
          2.7,
          2.8000000000000003,
          2.9000000000000004,
          3,
          3.1,
          3.2,
          3.3000000000000003,
          3.4000000000000004,
          3.5,
          3.6,
          3.7,
          3.8000000000000003,
          3.9000000000000004,
          4,
          4.1000000000000005,
          4.2,
          4.3,
          4.4,
          4.5,
          4.6000000000000005,
          4.7,
          4.800000000000001,
          4.9
         ],
         "xaxis": "x",
         "y": [
          0,
          0.10033467208545055,
          0.2027100355086725,
          0.3093362496096233,
          0.4227932187381618,
          0.5463024898437905,
          0.6841368083416924,
          0.8422883804630795,
          1.0296385570503641,
          1.2601582175503392,
          1.5574077246549023,
          1.9647596572486523,
          2.57215162212632,
          3.6021024479679786,
          5.797883715482894,
          14.101419947171719,
          -34.232532735557314,
          -7.696602139459148,
          -4.286261674628062,
          -2.9270975146777714,
          -2.185039863261519,
          -1.7098465429045075,
          -1.3738230567687948,
          -1.1192136417341316,
          -0.9160142896734098,
          -0.7470222972386602,
          -0.6015966130897586,
          -0.4727276291030373,
          -0.3555298316511756,
          -0.24640539397196587,
          -0.1425465430742778,
          -0.041616654585635904,
          0.058473854459578645,
          0.15974574766003266,
          0.26431690086742565,
          0.3745856401585947,
          0.4934667299849038,
          0.6247330752245639,
          0.7735560905031265,
          0.9474246499358935,
          1.1578212823495777,
          1.4235264831943675,
          1.7777797745088417,
          2.28584787736698,
          3.0963237806497457,
          4.637332054551185,
          8.860174895648116,
          80.71276296747477,
          -11.384870654242807,
          -5.267493065826737
         ],
         "yaxis": "y"
        }
       ],
       "layout": {
        "hovermode": "x",
        "legend": {
         "orientation": "h",
         "x": 0.5,
         "xanchor": "center"
        },
        "margin": {
         "b": 0,
         "l": 0,
         "r": 0,
         "t": 30
        },
        "template": {
         "data": {
          "bar": [
           {
            "error_x": {
             "color": "#2a3f5f"
            },
            "error_y": {
             "color": "#2a3f5f"
            },
            "marker": {
             "line": {
              "color": "#E5ECF6",
              "width": 0.5
             }
            },
            "type": "bar"
           }
          ],
          "barpolar": [
           {
            "marker": {
             "line": {
              "color": "#E5ECF6",
              "width": 0.5
             }
            },
            "type": "barpolar"
           }
          ],
          "carpet": [
           {
            "aaxis": {
             "endlinecolor": "#2a3f5f",
             "gridcolor": "white",
             "linecolor": "white",
             "minorgridcolor": "white",
             "startlinecolor": "#2a3f5f"
            },
            "baxis": {
             "endlinecolor": "#2a3f5f",
             "gridcolor": "white",
             "linecolor": "white",
             "minorgridcolor": "white",
             "startlinecolor": "#2a3f5f"
            },
            "type": "carpet"
           }
          ],
          "choropleth": [
           {
            "colorbar": {
             "outlinewidth": 0,
             "ticks": ""
            },
            "type": "choropleth"
           }
          ],
          "contour": [
           {
            "colorbar": {
             "outlinewidth": 0,
             "ticks": ""
            },
            "colorscale": [
             [
              0,
              "#0d0887"
             ],
             [
              0.1111111111111111,
              "#46039f"
             ],
             [
              0.2222222222222222,
              "#7201a8"
             ],
             [
              0.3333333333333333,
              "#9c179e"
             ],
             [
              0.4444444444444444,
              "#bd3786"
             ],
             [
              0.5555555555555556,
              "#d8576b"
             ],
             [
              0.6666666666666666,
              "#ed7953"
             ],
             [
              0.7777777777777778,
              "#fb9f3a"
             ],
             [
              0.8888888888888888,
              "#fdca26"
             ],
             [
              1,
              "#f0f921"
             ]
            ],
            "type": "contour"
           }
          ],
          "contourcarpet": [
           {
            "colorbar": {
             "outlinewidth": 0,
             "ticks": ""
            },
            "type": "contourcarpet"
           }
          ],
          "heatmap": [
           {
            "colorbar": {
             "outlinewidth": 0,
             "ticks": ""
            },
            "colorscale": [
             [
              0,
              "#0d0887"
             ],
             [
              0.1111111111111111,
              "#46039f"
             ],
             [
              0.2222222222222222,
              "#7201a8"
             ],
             [
              0.3333333333333333,
              "#9c179e"
             ],
             [
              0.4444444444444444,
              "#bd3786"
             ],
             [
              0.5555555555555556,
              "#d8576b"
             ],
             [
              0.6666666666666666,
              "#ed7953"
             ],
             [
              0.7777777777777778,
              "#fb9f3a"
             ],
             [
              0.8888888888888888,
              "#fdca26"
             ],
             [
              1,
              "#f0f921"
             ]
            ],
            "type": "heatmap"
           }
          ],
          "heatmapgl": [
           {
            "colorbar": {
             "outlinewidth": 0,
             "ticks": ""
            },
            "colorscale": [
             [
              0,
              "#0d0887"
             ],
             [
              0.1111111111111111,
              "#46039f"
             ],
             [
              0.2222222222222222,
              "#7201a8"
             ],
             [
              0.3333333333333333,
              "#9c179e"
             ],
             [
              0.4444444444444444,
              "#bd3786"
             ],
             [
              0.5555555555555556,
              "#d8576b"
             ],
             [
              0.6666666666666666,
              "#ed7953"
             ],
             [
              0.7777777777777778,
              "#fb9f3a"
             ],
             [
              0.8888888888888888,
              "#fdca26"
             ],
             [
              1,
              "#f0f921"
             ]
            ],
            "type": "heatmapgl"
           }
          ],
          "histogram": [
           {
            "marker": {
             "colorbar": {
              "outlinewidth": 0,
              "ticks": ""
             }
            },
            "type": "histogram"
           }
          ],
          "histogram2d": [
           {
            "colorbar": {
             "outlinewidth": 0,
             "ticks": ""
            },
            "colorscale": [
             [
              0,
              "#0d0887"
             ],
             [
              0.1111111111111111,
              "#46039f"
             ],
             [
              0.2222222222222222,
              "#7201a8"
             ],
             [
              0.3333333333333333,
              "#9c179e"
             ],
             [
              0.4444444444444444,
              "#bd3786"
             ],
             [
              0.5555555555555556,
              "#d8576b"
             ],
             [
              0.6666666666666666,
              "#ed7953"
             ],
             [
              0.7777777777777778,
              "#fb9f3a"
             ],
             [
              0.8888888888888888,
              "#fdca26"
             ],
             [
              1,
              "#f0f921"
             ]
            ],
            "type": "histogram2d"
           }
          ],
          "histogram2dcontour": [
           {
            "colorbar": {
             "outlinewidth": 0,
             "ticks": ""
            },
            "colorscale": [
             [
              0,
              "#0d0887"
             ],
             [
              0.1111111111111111,
              "#46039f"
             ],
             [
              0.2222222222222222,
              "#7201a8"
             ],
             [
              0.3333333333333333,
              "#9c179e"
             ],
             [
              0.4444444444444444,
              "#bd3786"
             ],
             [
              0.5555555555555556,
              "#d8576b"
             ],
             [
              0.6666666666666666,
              "#ed7953"
             ],
             [
              0.7777777777777778,
              "#fb9f3a"
             ],
             [
              0.8888888888888888,
              "#fdca26"
             ],
             [
              1,
              "#f0f921"
             ]
            ],
            "type": "histogram2dcontour"
           }
          ],
          "mesh3d": [
           {
            "colorbar": {
             "outlinewidth": 0,
             "ticks": ""
            },
            "type": "mesh3d"
           }
          ],
          "parcoords": [
           {
            "line": {
             "colorbar": {
              "outlinewidth": 0,
              "ticks": ""
             }
            },
            "type": "parcoords"
           }
          ],
          "pie": [
           {
            "automargin": true,
            "type": "pie"
           }
          ],
          "scatter": [
           {
            "marker": {
             "colorbar": {
              "outlinewidth": 0,
              "ticks": ""
             }
            },
            "type": "scatter"
           }
          ],
          "scatter3d": [
           {
            "line": {
             "colorbar": {
              "outlinewidth": 0,
              "ticks": ""
             }
            },
            "marker": {
             "colorbar": {
              "outlinewidth": 0,
              "ticks": ""
             }
            },
            "type": "scatter3d"
           }
          ],
          "scattercarpet": [
           {
            "marker": {
             "colorbar": {
              "outlinewidth": 0,
              "ticks": ""
             }
            },
            "type": "scattercarpet"
           }
          ],
          "scattergeo": [
           {
            "marker": {
             "colorbar": {
              "outlinewidth": 0,
              "ticks": ""
             }
            },
            "type": "scattergeo"
           }
          ],
          "scattergl": [
           {
            "marker": {
             "colorbar": {
              "outlinewidth": 0,
              "ticks": ""
             }
            },
            "type": "scattergl"
           }
          ],
          "scattermapbox": [
           {
            "marker": {
             "colorbar": {
              "outlinewidth": 0,
              "ticks": ""
             }
            },
            "type": "scattermapbox"
           }
          ],
          "scatterpolar": [
           {
            "marker": {
             "colorbar": {
              "outlinewidth": 0,
              "ticks": ""
             }
            },
            "type": "scatterpolar"
           }
          ],
          "scatterpolargl": [
           {
            "marker": {
             "colorbar": {
              "outlinewidth": 0,
              "ticks": ""
             }
            },
            "type": "scatterpolargl"
           }
          ],
          "scatterternary": [
           {
            "marker": {
             "colorbar": {
              "outlinewidth": 0,
              "ticks": ""
             }
            },
            "type": "scatterternary"
           }
          ],
          "surface": [
           {
            "colorbar": {
             "outlinewidth": 0,
             "ticks": ""
            },
            "colorscale": [
             [
              0,
              "#0d0887"
             ],
             [
              0.1111111111111111,
              "#46039f"
             ],
             [
              0.2222222222222222,
              "#7201a8"
             ],
             [
              0.3333333333333333,
              "#9c179e"
             ],
             [
              0.4444444444444444,
              "#bd3786"
             ],
             [
              0.5555555555555556,
              "#d8576b"
             ],
             [
              0.6666666666666666,
              "#ed7953"
             ],
             [
              0.7777777777777778,
              "#fb9f3a"
             ],
             [
              0.8888888888888888,
              "#fdca26"
             ],
             [
              1,
              "#f0f921"
             ]
            ],
            "type": "surface"
           }
          ],
          "table": [
           {
            "cells": {
             "fill": {
              "color": "#EBF0F8"
             },
             "line": {
              "color": "white"
             }
            },
            "header": {
             "fill": {
              "color": "#C8D4E3"
             },
             "line": {
              "color": "white"
             }
            },
            "type": "table"
           }
          ]
         },
         "layout": {
          "annotationdefaults": {
           "arrowcolor": "#2a3f5f",
           "arrowhead": 0,
           "arrowwidth": 1
          },
          "autotypenumbers": "strict",
          "coloraxis": {
           "colorbar": {
            "outlinewidth": 0,
            "ticks": ""
           }
          },
          "colorscale": {
           "diverging": [
            [
             0,
             "#8e0152"
            ],
            [
             0.1,
             "#c51b7d"
            ],
            [
             0.2,
             "#de77ae"
            ],
            [
             0.3,
             "#f1b6da"
            ],
            [
             0.4,
             "#fde0ef"
            ],
            [
             0.5,
             "#f7f7f7"
            ],
            [
             0.6,
             "#e6f5d0"
            ],
            [
             0.7,
             "#b8e186"
            ],
            [
             0.8,
             "#7fbc41"
            ],
            [
             0.9,
             "#4d9221"
            ],
            [
             1,
             "#276419"
            ]
           ],
           "sequential": [
            [
             0,
             "#0d0887"
            ],
            [
             0.1111111111111111,
             "#46039f"
            ],
            [
             0.2222222222222222,
             "#7201a8"
            ],
            [
             0.3333333333333333,
             "#9c179e"
            ],
            [
             0.4444444444444444,
             "#bd3786"
            ],
            [
             0.5555555555555556,
             "#d8576b"
            ],
            [
             0.6666666666666666,
             "#ed7953"
            ],
            [
             0.7777777777777778,
             "#fb9f3a"
            ],
            [
             0.8888888888888888,
             "#fdca26"
            ],
            [
             1,
             "#f0f921"
            ]
           ],
           "sequentialminus": [
            [
             0,
             "#0d0887"
            ],
            [
             0.1111111111111111,
             "#46039f"
            ],
            [
             0.2222222222222222,
             "#7201a8"
            ],
            [
             0.3333333333333333,
             "#9c179e"
            ],
            [
             0.4444444444444444,
             "#bd3786"
            ],
            [
             0.5555555555555556,
             "#d8576b"
            ],
            [
             0.6666666666666666,
             "#ed7953"
            ],
            [
             0.7777777777777778,
             "#fb9f3a"
            ],
            [
             0.8888888888888888,
             "#fdca26"
            ],
            [
             1,
             "#f0f921"
            ]
           ]
          },
          "colorway": [
           "#636efa",
           "#EF553B",
           "#00cc96",
           "#ab63fa",
           "#FFA15A",
           "#19d3f3",
           "#FF6692",
           "#B6E880",
           "#FF97FF",
           "#FECB52"
          ],
          "font": {
           "color": "#2a3f5f"
          },
          "geo": {
           "bgcolor": "white",
           "lakecolor": "white",
           "landcolor": "#E5ECF6",
           "showlakes": true,
           "showland": true,
           "subunitcolor": "white"
          },
          "hoverlabel": {
           "align": "left"
          },
          "hovermode": "closest",
          "mapbox": {
           "style": "light"
          },
          "paper_bgcolor": "white",
          "plot_bgcolor": "#E5ECF6",
          "polar": {
           "angularaxis": {
            "gridcolor": "white",
            "linecolor": "white",
            "ticks": ""
           },
           "bgcolor": "#E5ECF6",
           "radialaxis": {
            "gridcolor": "white",
            "linecolor": "white",
            "ticks": ""
           }
          },
          "scene": {
           "xaxis": {
            "backgroundcolor": "#E5ECF6",
            "gridcolor": "white",
            "gridwidth": 2,
            "linecolor": "white",
            "showbackground": true,
            "ticks": "",
            "zerolinecolor": "white"
           },
           "yaxis": {
            "backgroundcolor": "#E5ECF6",
            "gridcolor": "white",
            "gridwidth": 2,
            "linecolor": "white",
            "showbackground": true,
            "ticks": "",
            "zerolinecolor": "white"
           },
           "zaxis": {
            "backgroundcolor": "#E5ECF6",
            "gridcolor": "white",
            "gridwidth": 2,
            "linecolor": "white",
            "showbackground": true,
            "ticks": "",
            "zerolinecolor": "white"
           }
          },
          "shapedefaults": {
           "line": {
            "color": "#2a3f5f"
           }
          },
          "ternary": {
           "aaxis": {
            "gridcolor": "white",
            "linecolor": "white",
            "ticks": ""
           },
           "baxis": {
            "gridcolor": "white",
            "linecolor": "white",
            "ticks": ""
           },
           "bgcolor": "#E5ECF6",
           "caxis": {
            "gridcolor": "white",
            "linecolor": "white",
            "ticks": ""
           }
          },
          "title": {
           "x": 0.05
          },
          "xaxis": {
           "automargin": true,
           "gridcolor": "white",
           "linecolor": "white",
           "ticks": "",
           "title": {
            "standoff": 15
           },
           "zerolinecolor": "white",
           "zerolinewidth": 2
          },
          "yaxis": {
           "automargin": true,
           "gridcolor": "white",
           "linecolor": "white",
           "ticks": "",
           "title": {
            "standoff": 15
           },
           "zerolinecolor": "white",
           "zerolinewidth": 2
          }
         }
        },
        "title": {
         "text": "Заголовок"
        },
        "xaxis": {
         "anchor": "y",
         "domain": [
          0,
          0.45
         ],
         "title": {
          "text": "Ось Х графика 1"
         }
        },
        "xaxis2": {
         "anchor": "y2",
         "domain": [
          0.55,
          1
         ],
         "range": [
          -0.5,
          2.5
         ],
         "title": {
          "text": "Ось Х графика 2"
         },
         "zeroline": true,
         "zerolinecolor": "#008000",
         "zerolinewidth": 2
        },
        "xaxis3": {
         "anchor": "y3",
         "domain": [
          0.55,
          1
         ],
         "range": [
          -0.5,
          2.5
         ],
         "title": {
          "text": "Ось Х графика 3"
         },
         "zeroline": true,
         "zerolinecolor": "#008000",
         "zerolinewidth": 2
        },
        "yaxis": {
         "anchor": "x",
         "domain": [
          0,
          1
         ],
         "title": {
          "text": "Ось Y графика 1"
         }
        },
        "yaxis2": {
         "anchor": "x2",
         "domain": [
          0.575,
          1
         ],
         "range": [
          -0.5,
          2.5
         ],
         "title": {
          "text": "Ось Y графика 2"
         },
         "zeroline": true,
         "zerolinecolor": "LightPink",
         "zerolinewidth": 2
        },
        "yaxis3": {
         "anchor": "x3",
         "domain": [
          0,
          0.425
         ],
         "range": [
          -0.5,
          2.5
         ],
         "title": {
          "text": "Ось Y графика 3"
         },
         "zeroline": true,
         "zerolinecolor": "LightPink",
         "zerolinewidth": 2
        }
       }
      },
      "text/html": [
       "<div>                            <div id=\"afff5886-4cab-4b74-abf0-e90eebe8c984\" class=\"plotly-graph-div\" style=\"height:525px; width:100%;\"></div>            <script type=\"text/javascript\">                require([\"plotly\"], function(Plotly) {                    window.PLOTLYENV=window.PLOTLYENV || {};                                    if (document.getElementById(\"afff5886-4cab-4b74-abf0-e90eebe8c984\")) {                    Plotly.newPlot(                        \"afff5886-4cab-4b74-abf0-e90eebe8c984\",                        [{\"hoverinfo\": \"all\", \"hovertemplate\": \"\\u0410\\u0440\\u0433\\u0443\\u043c\\u0435\\u043d\\u0442: %{x}<br>\\u0424\\u0443\\u043d\\u043a\\u0446\\u0438\\u044f: %{y}\", \"mode\": \"lines+markers\", \"name\": \"f(x)=x<sup>2</sup>\", \"type\": \"scatter\", \"x\": [0.0, 0.1, 0.2, 0.30000000000000004, 0.4, 0.5, 0.6000000000000001, 0.7000000000000001, 0.8, 0.9, 1.0, 1.1, 1.2000000000000002, 1.3, 1.4000000000000001, 1.5, 1.6, 1.7000000000000002, 1.8, 1.9000000000000001, 2.0, 2.1, 2.2, 2.3000000000000003, 2.4000000000000004, 2.5, 2.6, 2.7, 2.8000000000000003, 2.9000000000000004, 3.0, 3.1, 3.2, 3.3000000000000003, 3.4000000000000004, 3.5, 3.6, 3.7, 3.8000000000000003, 3.9000000000000004, 4.0, 4.1000000000000005, 4.2, 4.3, 4.4, 4.5, 4.6000000000000005, 4.7, 4.800000000000001, 4.9], \"xaxis\": \"x2\", \"y\": [0.0, 0.010000000000000002, 0.04000000000000001, 0.09000000000000002, 0.16000000000000003, 0.25, 0.3600000000000001, 0.4900000000000001, 0.6400000000000001, 0.81, 1.0, 1.2100000000000002, 1.4400000000000004, 1.6900000000000002, 1.9600000000000004, 2.25, 2.5600000000000005, 2.8900000000000006, 3.24, 3.6100000000000003, 4.0, 4.41, 4.840000000000001, 5.290000000000001, 5.760000000000002, 6.25, 6.760000000000001, 7.290000000000001, 7.840000000000002, 8.410000000000002, 9.0, 9.610000000000001, 10.240000000000002, 10.890000000000002, 11.560000000000002, 12.25, 12.96, 13.690000000000001, 14.440000000000001, 15.210000000000003, 16.0, 16.810000000000006, 17.64, 18.49, 19.360000000000003, 20.25, 21.160000000000004, 22.090000000000003, 23.040000000000006, 24.010000000000005], \"yaxis\": \"y2\"}, {\"hoverinfo\": \"all\", \"hovertemplate\": \"\\u0410\\u0440\\u0433\\u0443\\u043c\\u0435\\u043d\\u0442: %{x}<br>\\u0424\\u0443\\u043d\\u043a\\u0446\\u0438\\u044f: %{y}\", \"mode\": \"markers\", \"name\": \"g(x)=x\", \"type\": \"scatter\", \"x\": [0.0, 0.1, 0.2, 0.30000000000000004, 0.4, 0.5, 0.6000000000000001, 0.7000000000000001, 0.8, 0.9, 1.0, 1.1, 1.2000000000000002, 1.3, 1.4000000000000001, 1.5, 1.6, 1.7000000000000002, 1.8, 1.9000000000000001, 2.0, 2.1, 2.2, 2.3000000000000003, 2.4000000000000004, 2.5, 2.6, 2.7, 2.8000000000000003, 2.9000000000000004, 3.0, 3.1, 3.2, 3.3000000000000003, 3.4000000000000004, 3.5, 3.6, 3.7, 3.8000000000000003, 3.9000000000000004, 4.0, 4.1000000000000005, 4.2, 4.3, 4.4, 4.5, 4.6000000000000005, 4.7, 4.800000000000001, 4.9], \"xaxis\": \"x2\", \"y\": [0.0, 0.1, 0.2, 0.30000000000000004, 0.4, 0.5, 0.6000000000000001, 0.7000000000000001, 0.8, 0.9, 1.0, 1.1, 1.2000000000000002, 1.3, 1.4000000000000001, 1.5, 1.6, 1.7000000000000002, 1.8, 1.9000000000000001, 2.0, 2.1, 2.2, 2.3000000000000003, 2.4000000000000004, 2.5, 2.6, 2.7, 2.8000000000000003, 2.9000000000000004, 3.0, 3.1, 3.2, 3.3000000000000003, 3.4000000000000004, 3.5, 3.6, 3.7, 3.8000000000000003, 3.9000000000000004, 4.0, 4.1000000000000005, 4.2, 4.3, 4.4, 4.5, 4.6000000000000005, 4.7, 4.800000000000001, 4.9], \"yaxis\": \"y2\"}, {\"hoverinfo\": \"all\", \"hovertemplate\": \"\\u0410\\u0440\\u0433\\u0443\\u043c\\u0435\\u043d\\u0442: %{x}<br>\\u0424\\u0443\\u043d\\u043a\\u0446\\u0438\\u044f: %{y}\", \"name\": \"x=sin(x)\", \"type\": \"scatter\", \"visible\": \"legendonly\", \"x\": [0.0, 0.1, 0.2, 0.30000000000000004, 0.4, 0.5, 0.6000000000000001, 0.7000000000000001, 0.8, 0.9, 1.0, 1.1, 1.2000000000000002, 1.3, 1.4000000000000001, 1.5, 1.6, 1.7000000000000002, 1.8, 1.9000000000000001, 2.0, 2.1, 2.2, 2.3000000000000003, 2.4000000000000004, 2.5, 2.6, 2.7, 2.8000000000000003, 2.9000000000000004, 3.0, 3.1, 3.2, 3.3000000000000003, 3.4000000000000004, 3.5, 3.6, 3.7, 3.8000000000000003, 3.9000000000000004, 4.0, 4.1000000000000005, 4.2, 4.3, 4.4, 4.5, 4.6000000000000005, 4.7, 4.800000000000001, 4.9], \"xaxis\": \"x3\", \"y\": [0.0, 0.09983341664682815, 0.19866933079506122, 0.2955202066613396, 0.3894183423086505, 0.479425538604203, 0.5646424733950355, 0.6442176872376911, 0.7173560908995228, 0.7833269096274834, 0.8414709848078965, 0.8912073600614354, 0.9320390859672264, 0.963558185417193, 0.9854497299884603, 0.9974949866040544, 0.9995736030415051, 0.9916648104524686, 0.9738476308781951, 0.9463000876874145, 0.9092974268256817, 0.8632093666488737, 0.8084964038195901, 0.74570521217672, 0.6754631805511506, 0.5984721441039564, 0.5155013718214642, 0.4273798802338298, 0.33498815015590466, 0.23924932921398198, 0.1411200080598672, 0.04158066243329049, -0.058374143427580086, -0.15774569414324865, -0.25554110202683167, -0.35078322768961984, -0.44252044329485246, -0.5298361409084934, -0.6118578909427193, -0.6877661591839741, -0.7568024953079282, -0.8182771110644108, -0.8715757724135882, -0.9161659367494549, -0.9516020738895161, -0.977530117665097, -0.9936910036334645, -0.9999232575641008, -0.9961646088358406, -0.9824526126243325], \"yaxis\": \"y3\"}, {\"hoverinfo\": \"all\", \"hovertemplate\": \"\\u0410\\u0440\\u0433\\u0443\\u043c\\u0435\\u043d\\u0442: %{x}<br>\\u0424\\u0443\\u043d\\u043a\\u0446\\u0438\\u044f: %{y}\", \"name\": \"x=cos(x)\", \"type\": \"scatter\", \"visible\": \"legendonly\", \"x\": [0.0, 0.1, 0.2, 0.30000000000000004, 0.4, 0.5, 0.6000000000000001, 0.7000000000000001, 0.8, 0.9, 1.0, 1.1, 1.2000000000000002, 1.3, 1.4000000000000001, 1.5, 1.6, 1.7000000000000002, 1.8, 1.9000000000000001, 2.0, 2.1, 2.2, 2.3000000000000003, 2.4000000000000004, 2.5, 2.6, 2.7, 2.8000000000000003, 2.9000000000000004, 3.0, 3.1, 3.2, 3.3000000000000003, 3.4000000000000004, 3.5, 3.6, 3.7, 3.8000000000000003, 3.9000000000000004, 4.0, 4.1000000000000005, 4.2, 4.3, 4.4, 4.5, 4.6000000000000005, 4.7, 4.800000000000001, 4.9], \"xaxis\": \"x3\", \"y\": [1.0, 0.9950041652780258, 0.9800665778412416, 0.955336489125606, 0.9210609940028851, 0.8775825618903728, 0.8253356149096782, 0.7648421872844884, 0.6967067093471654, 0.6216099682706644, 0.5403023058681398, 0.4535961214255773, 0.3623577544766734, 0.26749882862458735, 0.16996714290024081, 0.0707372016677029, -0.029199522301288815, -0.12884449429552486, -0.2272020946930871, -0.3232895668635036, -0.4161468365471424, -0.5048461045998576, -0.5885011172553458, -0.6662760212798244, -0.7373937155412458, -0.8011436155469337, -0.8568887533689473, -0.9040721420170612, -0.9422223406686583, -0.9709581651495907, -0.9899924966004454, -0.9991351502732795, -0.9982947757947531, -0.9874797699088649, -0.9667981925794609, -0.9364566872907963, -0.896758416334147, -0.848100031710408, -0.7909677119144165, -0.7259323042001399, -0.6536436208636119, -0.5748239465332685, -0.4902608213406994, -0.40079917207997545, -0.30733286997841935, -0.2107957994307797, -0.11215252693505398, -0.01238866346289056, 0.08749898343944727, 0.18651236942257576], \"yaxis\": \"y3\"}, {\"hoverinfo\": \"all\", \"hovertemplate\": \"\\u0410\\u0440\\u0433\\u0443\\u043c\\u0435\\u043d\\u0442: %{x}<br>\\u0424\\u0443\\u043d\\u043a\\u0446\\u0438\\u044f: %{y}\", \"name\": \"x=tan(x)\", \"type\": \"scatter\", \"visible\": \"legendonly\", \"x\": [0.0, 0.1, 0.2, 0.30000000000000004, 0.4, 0.5, 0.6000000000000001, 0.7000000000000001, 0.8, 0.9, 1.0, 1.1, 1.2000000000000002, 1.3, 1.4000000000000001, 1.5, 1.6, 1.7000000000000002, 1.8, 1.9000000000000001, 2.0, 2.1, 2.2, 2.3000000000000003, 2.4000000000000004, 2.5, 2.6, 2.7, 2.8000000000000003, 2.9000000000000004, 3.0, 3.1, 3.2, 3.3000000000000003, 3.4000000000000004, 3.5, 3.6, 3.7, 3.8000000000000003, 3.9000000000000004, 4.0, 4.1000000000000005, 4.2, 4.3, 4.4, 4.5, 4.6000000000000005, 4.7, 4.800000000000001, 4.9], \"xaxis\": \"x\", \"y\": [0.0, 0.10033467208545055, 0.2027100355086725, 0.3093362496096233, 0.4227932187381618, 0.5463024898437905, 0.6841368083416924, 0.8422883804630795, 1.0296385570503641, 1.2601582175503392, 1.5574077246549023, 1.9647596572486523, 2.57215162212632, 3.6021024479679786, 5.797883715482894, 14.101419947171719, -34.232532735557314, -7.696602139459148, -4.286261674628062, -2.9270975146777714, -2.185039863261519, -1.7098465429045075, -1.3738230567687948, -1.1192136417341316, -0.9160142896734098, -0.7470222972386602, -0.6015966130897586, -0.4727276291030373, -0.3555298316511756, -0.24640539397196587, -0.1425465430742778, -0.041616654585635904, 0.058473854459578645, 0.15974574766003266, 0.26431690086742565, 0.3745856401585947, 0.4934667299849038, 0.6247330752245639, 0.7735560905031265, 0.9474246499358935, 1.1578212823495777, 1.4235264831943675, 1.7777797745088417, 2.28584787736698, 3.0963237806497457, 4.637332054551185, 8.860174895648116, 80.71276296747477, -11.384870654242807, -5.267493065826737], \"yaxis\": \"y\"}],                        {\"hovermode\": \"x\", \"legend\": {\"orientation\": \"h\", \"x\": 0.5, \"xanchor\": \"center\"}, \"margin\": {\"b\": 0, \"l\": 0, \"r\": 0, \"t\": 30}, \"template\": {\"data\": {\"bar\": [{\"error_x\": {\"color\": \"#2a3f5f\"}, \"error_y\": {\"color\": \"#2a3f5f\"}, \"marker\": {\"line\": {\"color\": \"#E5ECF6\", \"width\": 0.5}}, \"type\": \"bar\"}], \"barpolar\": [{\"marker\": {\"line\": {\"color\": \"#E5ECF6\", \"width\": 0.5}}, \"type\": \"barpolar\"}], \"carpet\": [{\"aaxis\": {\"endlinecolor\": \"#2a3f5f\", \"gridcolor\": \"white\", \"linecolor\": \"white\", \"minorgridcolor\": \"white\", \"startlinecolor\": \"#2a3f5f\"}, \"baxis\": {\"endlinecolor\": \"#2a3f5f\", \"gridcolor\": \"white\", \"linecolor\": \"white\", \"minorgridcolor\": \"white\", \"startlinecolor\": \"#2a3f5f\"}, \"type\": \"carpet\"}], \"choropleth\": [{\"colorbar\": {\"outlinewidth\": 0, \"ticks\": \"\"}, \"type\": \"choropleth\"}], \"contour\": [{\"colorbar\": {\"outlinewidth\": 0, \"ticks\": \"\"}, \"colorscale\": [[0.0, \"#0d0887\"], [0.1111111111111111, \"#46039f\"], [0.2222222222222222, \"#7201a8\"], [0.3333333333333333, \"#9c179e\"], [0.4444444444444444, \"#bd3786\"], [0.5555555555555556, \"#d8576b\"], [0.6666666666666666, \"#ed7953\"], [0.7777777777777778, \"#fb9f3a\"], [0.8888888888888888, \"#fdca26\"], [1.0, \"#f0f921\"]], \"type\": \"contour\"}], \"contourcarpet\": [{\"colorbar\": {\"outlinewidth\": 0, \"ticks\": \"\"}, \"type\": \"contourcarpet\"}], \"heatmap\": [{\"colorbar\": {\"outlinewidth\": 0, \"ticks\": \"\"}, \"colorscale\": [[0.0, \"#0d0887\"], [0.1111111111111111, \"#46039f\"], [0.2222222222222222, \"#7201a8\"], [0.3333333333333333, \"#9c179e\"], [0.4444444444444444, \"#bd3786\"], [0.5555555555555556, \"#d8576b\"], [0.6666666666666666, \"#ed7953\"], [0.7777777777777778, \"#fb9f3a\"], [0.8888888888888888, \"#fdca26\"], [1.0, \"#f0f921\"]], \"type\": \"heatmap\"}], \"heatmapgl\": [{\"colorbar\": {\"outlinewidth\": 0, \"ticks\": \"\"}, \"colorscale\": [[0.0, \"#0d0887\"], [0.1111111111111111, \"#46039f\"], [0.2222222222222222, \"#7201a8\"], [0.3333333333333333, \"#9c179e\"], [0.4444444444444444, \"#bd3786\"], [0.5555555555555556, \"#d8576b\"], [0.6666666666666666, \"#ed7953\"], [0.7777777777777778, \"#fb9f3a\"], [0.8888888888888888, \"#fdca26\"], [1.0, \"#f0f921\"]], \"type\": \"heatmapgl\"}], \"histogram\": [{\"marker\": {\"colorbar\": {\"outlinewidth\": 0, \"ticks\": \"\"}}, \"type\": \"histogram\"}], \"histogram2d\": [{\"colorbar\": {\"outlinewidth\": 0, \"ticks\": \"\"}, \"colorscale\": [[0.0, \"#0d0887\"], [0.1111111111111111, \"#46039f\"], [0.2222222222222222, \"#7201a8\"], [0.3333333333333333, \"#9c179e\"], [0.4444444444444444, \"#bd3786\"], [0.5555555555555556, \"#d8576b\"], [0.6666666666666666, \"#ed7953\"], [0.7777777777777778, \"#fb9f3a\"], [0.8888888888888888, \"#fdca26\"], [1.0, \"#f0f921\"]], \"type\": \"histogram2d\"}], \"histogram2dcontour\": [{\"colorbar\": {\"outlinewidth\": 0, \"ticks\": \"\"}, \"colorscale\": [[0.0, \"#0d0887\"], [0.1111111111111111, \"#46039f\"], [0.2222222222222222, \"#7201a8\"], [0.3333333333333333, \"#9c179e\"], [0.4444444444444444, \"#bd3786\"], [0.5555555555555556, \"#d8576b\"], [0.6666666666666666, \"#ed7953\"], [0.7777777777777778, \"#fb9f3a\"], [0.8888888888888888, \"#fdca26\"], [1.0, \"#f0f921\"]], \"type\": \"histogram2dcontour\"}], \"mesh3d\": [{\"colorbar\": {\"outlinewidth\": 0, \"ticks\": \"\"}, \"type\": \"mesh3d\"}], \"parcoords\": [{\"line\": {\"colorbar\": {\"outlinewidth\": 0, \"ticks\": \"\"}}, \"type\": \"parcoords\"}], \"pie\": [{\"automargin\": true, \"type\": \"pie\"}], \"scatter\": [{\"marker\": {\"colorbar\": {\"outlinewidth\": 0, \"ticks\": \"\"}}, \"type\": \"scatter\"}], \"scatter3d\": [{\"line\": {\"colorbar\": {\"outlinewidth\": 0, \"ticks\": \"\"}}, \"marker\": {\"colorbar\": {\"outlinewidth\": 0, \"ticks\": \"\"}}, \"type\": \"scatter3d\"}], \"scattercarpet\": [{\"marker\": {\"colorbar\": {\"outlinewidth\": 0, \"ticks\": \"\"}}, \"type\": \"scattercarpet\"}], \"scattergeo\": [{\"marker\": {\"colorbar\": {\"outlinewidth\": 0, \"ticks\": \"\"}}, \"type\": \"scattergeo\"}], \"scattergl\": [{\"marker\": {\"colorbar\": {\"outlinewidth\": 0, \"ticks\": \"\"}}, \"type\": \"scattergl\"}], \"scattermapbox\": [{\"marker\": {\"colorbar\": {\"outlinewidth\": 0, \"ticks\": \"\"}}, \"type\": \"scattermapbox\"}], \"scatterpolar\": [{\"marker\": {\"colorbar\": {\"outlinewidth\": 0, \"ticks\": \"\"}}, \"type\": \"scatterpolar\"}], \"scatterpolargl\": [{\"marker\": {\"colorbar\": {\"outlinewidth\": 0, \"ticks\": \"\"}}, \"type\": \"scatterpolargl\"}], \"scatterternary\": [{\"marker\": {\"colorbar\": {\"outlinewidth\": 0, \"ticks\": \"\"}}, \"type\": \"scatterternary\"}], \"surface\": [{\"colorbar\": {\"outlinewidth\": 0, \"ticks\": \"\"}, \"colorscale\": [[0.0, \"#0d0887\"], [0.1111111111111111, \"#46039f\"], [0.2222222222222222, \"#7201a8\"], [0.3333333333333333, \"#9c179e\"], [0.4444444444444444, \"#bd3786\"], [0.5555555555555556, \"#d8576b\"], [0.6666666666666666, \"#ed7953\"], [0.7777777777777778, \"#fb9f3a\"], [0.8888888888888888, \"#fdca26\"], [1.0, \"#f0f921\"]], \"type\": \"surface\"}], \"table\": [{\"cells\": {\"fill\": {\"color\": \"#EBF0F8\"}, \"line\": {\"color\": \"white\"}}, \"header\": {\"fill\": {\"color\": \"#C8D4E3\"}, \"line\": {\"color\": \"white\"}}, \"type\": \"table\"}]}, \"layout\": {\"annotationdefaults\": {\"arrowcolor\": \"#2a3f5f\", \"arrowhead\": 0, \"arrowwidth\": 1}, \"autotypenumbers\": \"strict\", \"coloraxis\": {\"colorbar\": {\"outlinewidth\": 0, \"ticks\": \"\"}}, \"colorscale\": {\"diverging\": [[0, \"#8e0152\"], [0.1, \"#c51b7d\"], [0.2, \"#de77ae\"], [0.3, \"#f1b6da\"], [0.4, \"#fde0ef\"], [0.5, \"#f7f7f7\"], [0.6, \"#e6f5d0\"], [0.7, \"#b8e186\"], [0.8, \"#7fbc41\"], [0.9, \"#4d9221\"], [1, \"#276419\"]], \"sequential\": [[0.0, \"#0d0887\"], [0.1111111111111111, \"#46039f\"], [0.2222222222222222, \"#7201a8\"], [0.3333333333333333, \"#9c179e\"], [0.4444444444444444, \"#bd3786\"], [0.5555555555555556, \"#d8576b\"], [0.6666666666666666, \"#ed7953\"], [0.7777777777777778, \"#fb9f3a\"], [0.8888888888888888, \"#fdca26\"], [1.0, \"#f0f921\"]], \"sequentialminus\": [[0.0, \"#0d0887\"], [0.1111111111111111, \"#46039f\"], [0.2222222222222222, \"#7201a8\"], [0.3333333333333333, \"#9c179e\"], [0.4444444444444444, \"#bd3786\"], [0.5555555555555556, \"#d8576b\"], [0.6666666666666666, \"#ed7953\"], [0.7777777777777778, \"#fb9f3a\"], [0.8888888888888888, \"#fdca26\"], [1.0, \"#f0f921\"]]}, \"colorway\": [\"#636efa\", \"#EF553B\", \"#00cc96\", \"#ab63fa\", \"#FFA15A\", \"#19d3f3\", \"#FF6692\", \"#B6E880\", \"#FF97FF\", \"#FECB52\"], \"font\": {\"color\": \"#2a3f5f\"}, \"geo\": {\"bgcolor\": \"white\", \"lakecolor\": \"white\", \"landcolor\": \"#E5ECF6\", \"showlakes\": true, \"showland\": true, \"subunitcolor\": \"white\"}, \"hoverlabel\": {\"align\": \"left\"}, \"hovermode\": \"closest\", \"mapbox\": {\"style\": \"light\"}, \"paper_bgcolor\": \"white\", \"plot_bgcolor\": \"#E5ECF6\", \"polar\": {\"angularaxis\": {\"gridcolor\": \"white\", \"linecolor\": \"white\", \"ticks\": \"\"}, \"bgcolor\": \"#E5ECF6\", \"radialaxis\": {\"gridcolor\": \"white\", \"linecolor\": \"white\", \"ticks\": \"\"}}, \"scene\": {\"xaxis\": {\"backgroundcolor\": \"#E5ECF6\", \"gridcolor\": \"white\", \"gridwidth\": 2, \"linecolor\": \"white\", \"showbackground\": true, \"ticks\": \"\", \"zerolinecolor\": \"white\"}, \"yaxis\": {\"backgroundcolor\": \"#E5ECF6\", \"gridcolor\": \"white\", \"gridwidth\": 2, \"linecolor\": \"white\", \"showbackground\": true, \"ticks\": \"\", \"zerolinecolor\": \"white\"}, \"zaxis\": {\"backgroundcolor\": \"#E5ECF6\", \"gridcolor\": \"white\", \"gridwidth\": 2, \"linecolor\": \"white\", \"showbackground\": true, \"ticks\": \"\", \"zerolinecolor\": \"white\"}}, \"shapedefaults\": {\"line\": {\"color\": \"#2a3f5f\"}}, \"ternary\": {\"aaxis\": {\"gridcolor\": \"white\", \"linecolor\": \"white\", \"ticks\": \"\"}, \"baxis\": {\"gridcolor\": \"white\", \"linecolor\": \"white\", \"ticks\": \"\"}, \"bgcolor\": \"#E5ECF6\", \"caxis\": {\"gridcolor\": \"white\", \"linecolor\": \"white\", \"ticks\": \"\"}}, \"title\": {\"x\": 0.05}, \"xaxis\": {\"automargin\": true, \"gridcolor\": \"white\", \"linecolor\": \"white\", \"ticks\": \"\", \"title\": {\"standoff\": 15}, \"zerolinecolor\": \"white\", \"zerolinewidth\": 2}, \"yaxis\": {\"automargin\": true, \"gridcolor\": \"white\", \"linecolor\": \"white\", \"ticks\": \"\", \"title\": {\"standoff\": 15}, \"zerolinecolor\": \"white\", \"zerolinewidth\": 2}}}, \"title\": {\"text\": \"\\u0417\\u0430\\u0433\\u043e\\u043b\\u043e\\u0432\\u043e\\u043a\"}, \"xaxis\": {\"anchor\": \"y\", \"domain\": [0.0, 0.45], \"title\": {\"text\": \"\\u041e\\u0441\\u044c \\u0425 \\u0433\\u0440\\u0430\\u0444\\u0438\\u043a\\u0430 1\"}}, \"xaxis2\": {\"anchor\": \"y2\", \"domain\": [0.55, 1.0], \"range\": [-0.5, 2.5], \"title\": {\"text\": \"\\u041e\\u0441\\u044c \\u0425 \\u0433\\u0440\\u0430\\u0444\\u0438\\u043a\\u0430 2\"}, \"zeroline\": true, \"zerolinecolor\": \"#008000\", \"zerolinewidth\": 2}, \"xaxis3\": {\"anchor\": \"y3\", \"domain\": [0.55, 1.0], \"range\": [-0.5, 2.5], \"title\": {\"text\": \"\\u041e\\u0441\\u044c \\u0425 \\u0433\\u0440\\u0430\\u0444\\u0438\\u043a\\u0430 3\"}, \"zeroline\": true, \"zerolinecolor\": \"#008000\", \"zerolinewidth\": 2}, \"yaxis\": {\"anchor\": \"x\", \"domain\": [0.0, 1.0], \"title\": {\"text\": \"\\u041e\\u0441\\u044c Y \\u0433\\u0440\\u0430\\u0444\\u0438\\u043a\\u0430 1\"}}, \"yaxis2\": {\"anchor\": \"x2\", \"domain\": [0.575, 1.0], \"range\": [-0.5, 2.5], \"title\": {\"text\": \"\\u041e\\u0441\\u044c Y \\u0433\\u0440\\u0430\\u0444\\u0438\\u043a\\u0430 2\"}, \"zeroline\": true, \"zerolinecolor\": \"LightPink\", \"zerolinewidth\": 2}, \"yaxis3\": {\"anchor\": \"x3\", \"domain\": [0.0, 0.425], \"range\": [-0.5, 2.5], \"title\": {\"text\": \"\\u041e\\u0441\\u044c Y \\u0433\\u0440\\u0430\\u0444\\u0438\\u043a\\u0430 3\"}, \"zeroline\": true, \"zerolinecolor\": \"LightPink\", \"zerolinewidth\": 2}},                        {\"responsive\": true}                    ).then(function(){\n",
       "                            \n",
       "var gd = document.getElementById('afff5886-4cab-4b74-abf0-e90eebe8c984');\n",
       "var x = new MutationObserver(function (mutations, observer) {{\n",
       "        var display = window.getComputedStyle(gd).display;\n",
       "        if (!display || display === 'none') {{\n",
       "            console.log([gd, 'removed!']);\n",
       "            Plotly.purge(gd);\n",
       "            observer.disconnect();\n",
       "        }}\n",
       "}});\n",
       "\n",
       "// Listen for the removal of the full notebook cells\n",
       "var notebookContainer = gd.closest('#notebook-container');\n",
       "if (notebookContainer) {{\n",
       "    x.observe(notebookContainer, {childList: true});\n",
       "}}\n",
       "\n",
       "// Listen for the clearing of the current output cell\n",
       "var outputEl = gd.closest('.output');\n",
       "if (outputEl) {{\n",
       "    x.observe(outputEl, {childList: true});\n",
       "}}\n",
       "\n",
       "                        })                };                });            </script>        </div>"
      ]
     },
     "metadata": {},
     "output_type": "display_data"
    }
   ],
   "source": [
    "x = np.arange(0, 5, 0.1)\n",
    "\n",
    "def f(x):\n",
    "    return x**2\n",
    "\n",
    "def h(x):\n",
    "    return np.sin(x)\n",
    "\n",
    "def k(x):\n",
    "    return np.cos(x)\n",
    "\n",
    "def m(x):\n",
    "    return np.tan(x)\n",
    "\n",
    "fig = go.Figure() #создаем фигуру\n",
    "fig = make_subplots(rows=2, #Создание нескольких графиков на одной фигуре\n",
    "                    cols=2, #Число колонок на фигуре\n",
    "                    column_widths=[1, 1], #Пропорции размера графиков\n",
    "                    specs=[ #Указываем расположение графиков в фигуре\n",
    "                        [{'rowspan':2},{}], #Указываем что первый график двойной. Чтобы объединить по гризонтали colspan \n",
    "                        [None, {}] #Выбрасываем нижнего соседа первого графика None\n",
    "                    ]\n",
    "                   )\n",
    "fig.update_yaxes(range=[-0.5, 2.5], #Зум к определенному участку на графике\n",
    "                 zeroline=True, #Рисует оси на графике\n",
    "                 zerolinewidth=2, \n",
    "                 zerolinecolor='LightPink',\n",
    "                 col=2 #Уточнение к какой колонке применять\n",
    "                )\n",
    "fig.update_xaxes(range=[-0.5, 2.5], zeroline=True, zerolinewidth=2, zerolinecolor='#008000', col=2)\n",
    "fig.add_trace(go.Scatter(x=x,\n",
    "                         y=x**2,\n",
    "                         name='f(x)=x<sup>2</sup>', #HTML в подписях\n",
    "                         mode='lines+markers'),\n",
    "                         1, #Координаты на фигуре, указывающие к какому графику принадлежат\n",
    "                         2\n",
    "                        )\n",
    "fig.add_trace(go.Scatter(x=x,\n",
    "                         y=x,\n",
    "                         name='g(x)=x', #Метод графика с плавной линией\n",
    "                         mode='markers'),\n",
    "              1,\n",
    "              2\n",
    "             )\n",
    "\n",
    "fig.add_trace(go.Scatter(visible='legendonly', #Невидимый режим, показывается только при клике на легенду\n",
    "                         x=x,\n",
    "                         y=h(x),\n",
    "                         name='x=sin(x)'),\n",
    "                         2,\n",
    "                         2                         \n",
    "                        )\n",
    "fig.add_trace(go.Scatter(visible='legendonly',\n",
    "                         x=x,\n",
    "                         y=k(x),\n",
    "                         name='x=cos(x)'),\n",
    "                         2,\n",
    "                         2                        \n",
    "                        )\n",
    "fig.add_trace(go.Scatter(visible='legendonly',\n",
    "                         x=x,\n",
    "                         y=m(x),\n",
    "                         name='x=tan(x)'),              \n",
    "                         1,\n",
    "                         1                        \n",
    "                        )\n",
    "fig.update_layout(legend_orientation='h', #Смещение легенды под график\n",
    "                  margin=dict(l=0, r=0, t=30, b=0), #Убрать отступы вокруг графика\n",
    "                  legend=dict(x=.5, xanchor=\"center\"), #Смещение легенды по центру\n",
    "                  hovermode='x', #Показывает одновременно все значения Y для точки Х\n",
    "                  title='Заголовок',\n",
    "                  xaxis_title='ось Х',\n",
    "                  yaxis_title='ось Y'\n",
    "                 )\n",
    "fig.update_traces(hoverinfo='all', #Отображается значение подписи на курсоре. Например 'x+y'\n",
    "                  hovertemplate='Аргумент: %{x}<br>Функция: %{y}'\n",
    "                 )\n",
    "fig.update_xaxes(title='Ось Х графика 1', col=1, row=1)\n",
    "fig.update_yaxes(title='Ось Y графика 1', col=1, row=1)\n",
    "fig.update_xaxes(title='Ось Х графика 2', col=2, row=1)\n",
    "fig.update_yaxes(title='Ось Y графика 2', col=2, row=1)\n",
    "fig.update_xaxes(title='Ось Х графика 3', col=2, row=2)\n",
    "fig.update_yaxes(title='Ось Y графика 3', col=2, row=2)\n",
    "\n",
    "fig.show()"
   ]
  },
  {
   "cell_type": "code",
   "execution_count": 7,
   "metadata": {},
   "outputs": [
    {
     "data": {
      "application/vnd.plotly.v1+json": {
       "config": {
        "plotlyServerURL": "https://plot.ly"
       },
       "data": [
        {
         "hoverinfo": "all",
         "hovertemplate": "Аргумент: %{x}<br>Функция: %{y}",
         "marker": {
          "color": [
           0,
           0.09983341664682815,
           0.19866933079506122,
           0.2955202066613396,
           0.3894183423086505,
           0.479425538604203,
           0.5646424733950355,
           0.6442176872376911,
           0.7173560908995228,
           0.7833269096274834,
           0.8414709848078965,
           0.8912073600614354,
           0.9320390859672264,
           0.963558185417193,
           0.9854497299884603,
           0.9974949866040544,
           0.9995736030415051,
           0.9916648104524686,
           0.9738476308781951,
           0.9463000876874145,
           0.9092974268256817,
           0.8632093666488737,
           0.8084964038195901,
           0.74570521217672,
           0.6754631805511506,
           0.5984721441039564,
           0.5155013718214642,
           0.4273798802338298,
           0.33498815015590466,
           0.23924932921398198,
           0.1411200080598672,
           0.04158066243329049,
           -0.058374143427580086,
           -0.15774569414324865,
           -0.25554110202683167,
           -0.35078322768961984,
           -0.44252044329485246,
           -0.5298361409084934,
           -0.6118578909427193,
           -0.6877661591839741,
           -0.7568024953079282,
           -0.8182771110644108,
           -0.8715757724135882,
           -0.9161659367494549,
           -0.9516020738895161,
           -0.977530117665097,
           -0.9936910036334645,
           -0.9999232575641008,
           -0.9961646088358406,
           -0.9824526126243325
          ],
          "colorbar": {
           "title": {
            "text": "h(x)=sin(x)"
           }
          },
          "colorscale": [
           [
            0,
            "#000004"
           ],
           [
            0.1111111111111111,
            "#1b0c41"
           ],
           [
            0.2222222222222222,
            "#4a0c6b"
           ],
           [
            0.3333333333333333,
            "#781c6d"
           ],
           [
            0.4444444444444444,
            "#a52c60"
           ],
           [
            0.5555555555555556,
            "#cf4446"
           ],
           [
            0.6666666666666666,
            "#ed6925"
           ],
           [
            0.7777777777777778,
            "#fb9b06"
           ],
           [
            0.8888888888888888,
            "#f7d13d"
           ],
           [
            1,
            "#fcffa4"
           ]
          ],
          "size": [
           0,
           2.9950024994048445,
           5.960079923851836,
           8.865606199840188,
           11.682550269259515,
           14.38276615812609,
           16.939274201851063,
           19.326530617130732,
           21.520682726985683,
           23.499807288824503,
           25.244129544236895,
           26.73622080184306,
           27.961172579016793,
           28.906745562515788,
           29.56349189965381,
           29.924849598121632,
           29.987208091245154,
           29.74994431357406,
           29.215428926345854,
           28.389002630622436,
           27.278922804770453,
           25.89628099946621,
           24.254892114587705,
           22.3711563653016,
           20.263895416534517,
           17.954164323118693,
           15.465041154643925,
           12.821396407014893,
           10.04964450467714,
           7.17747987641946,
           4.233600241796016,
           1.2474198729987147,
           1.7512243028274026,
           4.73237082429746,
           7.6662330608049505,
           10.523496830688595,
           13.275613298845574,
           15.895084227254802,
           18.355736728281578,
           20.632984775519223,
           22.704074859237846,
           24.548313331932324,
           26.147273172407644,
           27.484978102483648,
           28.548062216685484,
           29.32590352995291,
           29.810730109003934,
           29.997697726923025,
           29.884938265075217,
           29.473578378729975
          ]
         },
         "mode": "lines+markers",
         "name": "f(x)=x<sup>2</sup>",
         "type": "scatter",
         "x": [
          0,
          0.1,
          0.2,
          0.30000000000000004,
          0.4,
          0.5,
          0.6000000000000001,
          0.7000000000000001,
          0.8,
          0.9,
          1,
          1.1,
          1.2000000000000002,
          1.3,
          1.4000000000000001,
          1.5,
          1.6,
          1.7000000000000002,
          1.8,
          1.9000000000000001,
          2,
          2.1,
          2.2,
          2.3000000000000003,
          2.4000000000000004,
          2.5,
          2.6,
          2.7,
          2.8000000000000003,
          2.9000000000000004,
          3,
          3.1,
          3.2,
          3.3000000000000003,
          3.4000000000000004,
          3.5,
          3.6,
          3.7,
          3.8000000000000003,
          3.9000000000000004,
          4,
          4.1000000000000005,
          4.2,
          4.3,
          4.4,
          4.5,
          4.6000000000000005,
          4.7,
          4.800000000000001,
          4.9
         ],
         "y": [
          0,
          0.010000000000000002,
          0.04000000000000001,
          0.09000000000000002,
          0.16000000000000003,
          0.25,
          0.3600000000000001,
          0.4900000000000001,
          0.6400000000000001,
          0.81,
          1,
          1.2100000000000002,
          1.4400000000000004,
          1.6900000000000002,
          1.9600000000000004,
          2.25,
          2.5600000000000005,
          2.8900000000000006,
          3.24,
          3.6100000000000003,
          4,
          4.41,
          4.840000000000001,
          5.290000000000001,
          5.760000000000002,
          6.25,
          6.760000000000001,
          7.290000000000001,
          7.840000000000002,
          8.410000000000002,
          9,
          9.610000000000001,
          10.240000000000002,
          10.890000000000002,
          11.560000000000002,
          12.25,
          12.96,
          13.690000000000001,
          14.440000000000001,
          15.210000000000003,
          16,
          16.810000000000006,
          17.64,
          18.49,
          19.360000000000003,
          20.25,
          21.160000000000004,
          22.090000000000003,
          23.040000000000006,
          24.010000000000005
         ]
        }
       ],
       "frames": [
        {
         "data": [
          {
           "marker": {
            "color": [
             0,
             0.09983341664682815
            ],
            "size": [
             0,
             4.991670832341407
            ]
           },
           "type": "scatter",
           "x": [
            0,
            0.1
           ],
           "y": [
            0,
            0.010000000000000002
           ]
          }
         ]
        },
        {
         "data": [
          {
           "marker": {
            "color": [
             0,
             0.09983341664682815,
             0.19866933079506122
            ],
            "size": [
             0,
             4.991670832341407,
             9.933466539753061
            ]
           },
           "type": "scatter",
           "x": [
            0,
            0.1,
            0.2
           ],
           "y": [
            0,
            0.010000000000000002,
            0.04000000000000001
           ]
          }
         ]
        },
        {
         "data": [
          {
           "marker": {
            "color": [
             0,
             0.09983341664682815,
             0.19866933079506122,
             0.2955202066613396
            ],
            "size": [
             0,
             4.991670832341407,
             9.933466539753061,
             14.77601033306698
            ]
           },
           "type": "scatter",
           "x": [
            0,
            0.1,
            0.2,
            0.30000000000000004
           ],
           "y": [
            0,
            0.010000000000000002,
            0.04000000000000001,
            0.09000000000000002
           ]
          }
         ]
        },
        {
         "data": [
          {
           "marker": {
            "color": [
             0,
             0.09983341664682815,
             0.19866933079506122,
             0.2955202066613396,
             0.3894183423086505
            ],
            "size": [
             0,
             4.991670832341407,
             9.933466539753061,
             14.77601033306698,
             19.470917115432528
            ]
           },
           "type": "scatter",
           "x": [
            0,
            0.1,
            0.2,
            0.30000000000000004,
            0.4
           ],
           "y": [
            0,
            0.010000000000000002,
            0.04000000000000001,
            0.09000000000000002,
            0.16000000000000003
           ]
          }
         ]
        },
        {
         "data": [
          {
           "marker": {
            "color": [
             0,
             0.09983341664682815,
             0.19866933079506122,
             0.2955202066613396,
             0.3894183423086505,
             0.479425538604203
            ],
            "size": [
             0,
             4.991670832341407,
             9.933466539753061,
             14.77601033306698,
             19.470917115432528,
             23.971276930210152
            ]
           },
           "type": "scatter",
           "x": [
            0,
            0.1,
            0.2,
            0.30000000000000004,
            0.4,
            0.5
           ],
           "y": [
            0,
            0.010000000000000002,
            0.04000000000000001,
            0.09000000000000002,
            0.16000000000000003,
            0.25
           ]
          }
         ]
        },
        {
         "data": [
          {
           "marker": {
            "color": [
             0,
             0.09983341664682815,
             0.19866933079506122,
             0.2955202066613396,
             0.3894183423086505,
             0.479425538604203,
             0.5646424733950355
            ],
            "size": [
             0,
             4.991670832341407,
             9.933466539753061,
             14.77601033306698,
             19.470917115432528,
             23.971276930210152,
             28.232123669751775
            ]
           },
           "type": "scatter",
           "x": [
            0,
            0.1,
            0.2,
            0.30000000000000004,
            0.4,
            0.5,
            0.6000000000000001
           ],
           "y": [
            0,
            0.010000000000000002,
            0.04000000000000001,
            0.09000000000000002,
            0.16000000000000003,
            0.25,
            0.3600000000000001
           ]
          }
         ]
        },
        {
         "data": [
          {
           "marker": {
            "color": [
             0,
             0.09983341664682815,
             0.19866933079506122,
             0.2955202066613396,
             0.3894183423086505,
             0.479425538604203,
             0.5646424733950355,
             0.6442176872376911
            ],
            "size": [
             0,
             4.991670832341407,
             9.933466539753061,
             14.77601033306698,
             19.470917115432528,
             23.971276930210152,
             28.232123669751775,
             32.21088436188456
            ]
           },
           "type": "scatter",
           "x": [
            0,
            0.1,
            0.2,
            0.30000000000000004,
            0.4,
            0.5,
            0.6000000000000001,
            0.7000000000000001
           ],
           "y": [
            0,
            0.010000000000000002,
            0.04000000000000001,
            0.09000000000000002,
            0.16000000000000003,
            0.25,
            0.3600000000000001,
            0.4900000000000001
           ]
          }
         ]
        },
        {
         "data": [
          {
           "marker": {
            "color": [
             0,
             0.09983341664682815,
             0.19866933079506122,
             0.2955202066613396,
             0.3894183423086505,
             0.479425538604203,
             0.5646424733950355,
             0.6442176872376911,
             0.7173560908995228
            ],
            "size": [
             0,
             4.991670832341407,
             9.933466539753061,
             14.77601033306698,
             19.470917115432528,
             23.971276930210152,
             28.232123669751775,
             32.21088436188456,
             35.86780454497614
            ]
           },
           "type": "scatter",
           "x": [
            0,
            0.1,
            0.2,
            0.30000000000000004,
            0.4,
            0.5,
            0.6000000000000001,
            0.7000000000000001,
            0.8
           ],
           "y": [
            0,
            0.010000000000000002,
            0.04000000000000001,
            0.09000000000000002,
            0.16000000000000003,
            0.25,
            0.3600000000000001,
            0.4900000000000001,
            0.6400000000000001
           ]
          }
         ]
        },
        {
         "data": [
          {
           "marker": {
            "color": [
             0,
             0.09983341664682815,
             0.19866933079506122,
             0.2955202066613396,
             0.3894183423086505,
             0.479425538604203,
             0.5646424733950355,
             0.6442176872376911,
             0.7173560908995228,
             0.7833269096274834
            ],
            "size": [
             0,
             4.991670832341407,
             9.933466539753061,
             14.77601033306698,
             19.470917115432528,
             23.971276930210152,
             28.232123669751775,
             32.21088436188456,
             35.86780454497614,
             39.16634548137417
            ]
           },
           "type": "scatter",
           "x": [
            0,
            0.1,
            0.2,
            0.30000000000000004,
            0.4,
            0.5,
            0.6000000000000001,
            0.7000000000000001,
            0.8,
            0.9
           ],
           "y": [
            0,
            0.010000000000000002,
            0.04000000000000001,
            0.09000000000000002,
            0.16000000000000003,
            0.25,
            0.3600000000000001,
            0.4900000000000001,
            0.6400000000000001,
            0.81
           ]
          }
         ]
        },
        {
         "data": [
          {
           "marker": {
            "color": [
             0,
             0.09983341664682815,
             0.19866933079506122,
             0.2955202066613396,
             0.3894183423086505,
             0.479425538604203,
             0.5646424733950355,
             0.6442176872376911,
             0.7173560908995228,
             0.7833269096274834,
             0.8414709848078965
            ],
            "size": [
             0,
             4.991670832341407,
             9.933466539753061,
             14.77601033306698,
             19.470917115432528,
             23.971276930210152,
             28.232123669751775,
             32.21088436188456,
             35.86780454497614,
             39.16634548137417,
             42.073549240394826
            ]
           },
           "type": "scatter",
           "x": [
            0,
            0.1,
            0.2,
            0.30000000000000004,
            0.4,
            0.5,
            0.6000000000000001,
            0.7000000000000001,
            0.8,
            0.9,
            1
           ],
           "y": [
            0,
            0.010000000000000002,
            0.04000000000000001,
            0.09000000000000002,
            0.16000000000000003,
            0.25,
            0.3600000000000001,
            0.4900000000000001,
            0.6400000000000001,
            0.81,
            1
           ]
          }
         ]
        },
        {
         "data": [
          {
           "marker": {
            "color": [
             0,
             0.09983341664682815,
             0.19866933079506122,
             0.2955202066613396,
             0.3894183423086505,
             0.479425538604203,
             0.5646424733950355,
             0.6442176872376911,
             0.7173560908995228,
             0.7833269096274834,
             0.8414709848078965,
             0.8912073600614354
            ],
            "size": [
             0,
             4.991670832341407,
             9.933466539753061,
             14.77601033306698,
             19.470917115432528,
             23.971276930210152,
             28.232123669751775,
             32.21088436188456,
             35.86780454497614,
             39.16634548137417,
             42.073549240394826,
             44.56036800307177
            ]
           },
           "type": "scatter",
           "x": [
            0,
            0.1,
            0.2,
            0.30000000000000004,
            0.4,
            0.5,
            0.6000000000000001,
            0.7000000000000001,
            0.8,
            0.9,
            1,
            1.1
           ],
           "y": [
            0,
            0.010000000000000002,
            0.04000000000000001,
            0.09000000000000002,
            0.16000000000000003,
            0.25,
            0.3600000000000001,
            0.4900000000000001,
            0.6400000000000001,
            0.81,
            1,
            1.2100000000000002
           ]
          }
         ]
        },
        {
         "data": [
          {
           "marker": {
            "color": [
             0,
             0.09983341664682815,
             0.19866933079506122,
             0.2955202066613396,
             0.3894183423086505,
             0.479425538604203,
             0.5646424733950355,
             0.6442176872376911,
             0.7173560908995228,
             0.7833269096274834,
             0.8414709848078965,
             0.8912073600614354,
             0.9320390859672264
            ],
            "size": [
             0,
             4.991670832341407,
             9.933466539753061,
             14.77601033306698,
             19.470917115432528,
             23.971276930210152,
             28.232123669751775,
             32.21088436188456,
             35.86780454497614,
             39.16634548137417,
             42.073549240394826,
             44.56036800307177,
             46.60195429836132
            ]
           },
           "type": "scatter",
           "x": [
            0,
            0.1,
            0.2,
            0.30000000000000004,
            0.4,
            0.5,
            0.6000000000000001,
            0.7000000000000001,
            0.8,
            0.9,
            1,
            1.1,
            1.2000000000000002
           ],
           "y": [
            0,
            0.010000000000000002,
            0.04000000000000001,
            0.09000000000000002,
            0.16000000000000003,
            0.25,
            0.3600000000000001,
            0.4900000000000001,
            0.6400000000000001,
            0.81,
            1,
            1.2100000000000002,
            1.4400000000000004
           ]
          }
         ]
        },
        {
         "data": [
          {
           "marker": {
            "color": [
             0,
             0.09983341664682815,
             0.19866933079506122,
             0.2955202066613396,
             0.3894183423086505,
             0.479425538604203,
             0.5646424733950355,
             0.6442176872376911,
             0.7173560908995228,
             0.7833269096274834,
             0.8414709848078965,
             0.8912073600614354,
             0.9320390859672264,
             0.963558185417193
            ],
            "size": [
             0,
             4.991670832341407,
             9.933466539753061,
             14.77601033306698,
             19.470917115432528,
             23.971276930210152,
             28.232123669751775,
             32.21088436188456,
             35.86780454497614,
             39.16634548137417,
             42.073549240394826,
             44.56036800307177,
             46.60195429836132,
             48.17790927085965
            ]
           },
           "type": "scatter",
           "x": [
            0,
            0.1,
            0.2,
            0.30000000000000004,
            0.4,
            0.5,
            0.6000000000000001,
            0.7000000000000001,
            0.8,
            0.9,
            1,
            1.1,
            1.2000000000000002,
            1.3
           ],
           "y": [
            0,
            0.010000000000000002,
            0.04000000000000001,
            0.09000000000000002,
            0.16000000000000003,
            0.25,
            0.3600000000000001,
            0.4900000000000001,
            0.6400000000000001,
            0.81,
            1,
            1.2100000000000002,
            1.4400000000000004,
            1.6900000000000002
           ]
          }
         ]
        },
        {
         "data": [
          {
           "marker": {
            "color": [
             0,
             0.09983341664682815,
             0.19866933079506122,
             0.2955202066613396,
             0.3894183423086505,
             0.479425538604203,
             0.5646424733950355,
             0.6442176872376911,
             0.7173560908995228,
             0.7833269096274834,
             0.8414709848078965,
             0.8912073600614354,
             0.9320390859672264,
             0.963558185417193,
             0.9854497299884603
            ],
            "size": [
             0,
             4.991670832341407,
             9.933466539753061,
             14.77601033306698,
             19.470917115432528,
             23.971276930210152,
             28.232123669751775,
             32.21088436188456,
             35.86780454497614,
             39.16634548137417,
             42.073549240394826,
             44.56036800307177,
             46.60195429836132,
             48.17790927085965,
             49.27248649942301
            ]
           },
           "type": "scatter",
           "x": [
            0,
            0.1,
            0.2,
            0.30000000000000004,
            0.4,
            0.5,
            0.6000000000000001,
            0.7000000000000001,
            0.8,
            0.9,
            1,
            1.1,
            1.2000000000000002,
            1.3,
            1.4000000000000001
           ],
           "y": [
            0,
            0.010000000000000002,
            0.04000000000000001,
            0.09000000000000002,
            0.16000000000000003,
            0.25,
            0.3600000000000001,
            0.4900000000000001,
            0.6400000000000001,
            0.81,
            1,
            1.2100000000000002,
            1.4400000000000004,
            1.6900000000000002,
            1.9600000000000004
           ]
          }
         ]
        },
        {
         "data": [
          {
           "marker": {
            "color": [
             0,
             0.09983341664682815,
             0.19866933079506122,
             0.2955202066613396,
             0.3894183423086505,
             0.479425538604203,
             0.5646424733950355,
             0.6442176872376911,
             0.7173560908995228,
             0.7833269096274834,
             0.8414709848078965,
             0.8912073600614354,
             0.9320390859672264,
             0.963558185417193,
             0.9854497299884603,
             0.9974949866040544
            ],
            "size": [
             0,
             4.991670832341407,
             9.933466539753061,
             14.77601033306698,
             19.470917115432528,
             23.971276930210152,
             28.232123669751775,
             32.21088436188456,
             35.86780454497614,
             39.16634548137417,
             42.073549240394826,
             44.56036800307177,
             46.60195429836132,
             48.17790927085965,
             49.27248649942301,
             49.874749330202725
            ]
           },
           "type": "scatter",
           "x": [
            0,
            0.1,
            0.2,
            0.30000000000000004,
            0.4,
            0.5,
            0.6000000000000001,
            0.7000000000000001,
            0.8,
            0.9,
            1,
            1.1,
            1.2000000000000002,
            1.3,
            1.4000000000000001,
            1.5
           ],
           "y": [
            0,
            0.010000000000000002,
            0.04000000000000001,
            0.09000000000000002,
            0.16000000000000003,
            0.25,
            0.3600000000000001,
            0.4900000000000001,
            0.6400000000000001,
            0.81,
            1,
            1.2100000000000002,
            1.4400000000000004,
            1.6900000000000002,
            1.9600000000000004,
            2.25
           ]
          }
         ]
        },
        {
         "data": [
          {
           "marker": {
            "color": [
             0,
             0.09983341664682815,
             0.19866933079506122,
             0.2955202066613396,
             0.3894183423086505,
             0.479425538604203,
             0.5646424733950355,
             0.6442176872376911,
             0.7173560908995228,
             0.7833269096274834,
             0.8414709848078965,
             0.8912073600614354,
             0.9320390859672264,
             0.963558185417193,
             0.9854497299884603,
             0.9974949866040544,
             0.9995736030415051
            ],
            "size": [
             0,
             4.991670832341407,
             9.933466539753061,
             14.77601033306698,
             19.470917115432528,
             23.971276930210152,
             28.232123669751775,
             32.21088436188456,
             35.86780454497614,
             39.16634548137417,
             42.073549240394826,
             44.56036800307177,
             46.60195429836132,
             48.17790927085965,
             49.27248649942301,
             49.874749330202725,
             49.978680152075256
            ]
           },
           "type": "scatter",
           "x": [
            0,
            0.1,
            0.2,
            0.30000000000000004,
            0.4,
            0.5,
            0.6000000000000001,
            0.7000000000000001,
            0.8,
            0.9,
            1,
            1.1,
            1.2000000000000002,
            1.3,
            1.4000000000000001,
            1.5,
            1.6
           ],
           "y": [
            0,
            0.010000000000000002,
            0.04000000000000001,
            0.09000000000000002,
            0.16000000000000003,
            0.25,
            0.3600000000000001,
            0.4900000000000001,
            0.6400000000000001,
            0.81,
            1,
            1.2100000000000002,
            1.4400000000000004,
            1.6900000000000002,
            1.9600000000000004,
            2.25,
            2.5600000000000005
           ]
          }
         ]
        },
        {
         "data": [
          {
           "marker": {
            "color": [
             0,
             0.09983341664682815,
             0.19866933079506122,
             0.2955202066613396,
             0.3894183423086505,
             0.479425538604203,
             0.5646424733950355,
             0.6442176872376911,
             0.7173560908995228,
             0.7833269096274834,
             0.8414709848078965,
             0.8912073600614354,
             0.9320390859672264,
             0.963558185417193,
             0.9854497299884603,
             0.9974949866040544,
             0.9995736030415051,
             0.9916648104524686
            ],
            "size": [
             0,
             4.991670832341407,
             9.933466539753061,
             14.77601033306698,
             19.470917115432528,
             23.971276930210152,
             28.232123669751775,
             32.21088436188456,
             35.86780454497614,
             39.16634548137417,
             42.073549240394826,
             44.56036800307177,
             46.60195429836132,
             48.17790927085965,
             49.27248649942301,
             49.874749330202725,
             49.978680152075256,
             49.58324052262343
            ]
           },
           "type": "scatter",
           "x": [
            0,
            0.1,
            0.2,
            0.30000000000000004,
            0.4,
            0.5,
            0.6000000000000001,
            0.7000000000000001,
            0.8,
            0.9,
            1,
            1.1,
            1.2000000000000002,
            1.3,
            1.4000000000000001,
            1.5,
            1.6,
            1.7000000000000002
           ],
           "y": [
            0,
            0.010000000000000002,
            0.04000000000000001,
            0.09000000000000002,
            0.16000000000000003,
            0.25,
            0.3600000000000001,
            0.4900000000000001,
            0.6400000000000001,
            0.81,
            1,
            1.2100000000000002,
            1.4400000000000004,
            1.6900000000000002,
            1.9600000000000004,
            2.25,
            2.5600000000000005,
            2.8900000000000006
           ]
          }
         ]
        },
        {
         "data": [
          {
           "marker": {
            "color": [
             0,
             0.09983341664682815,
             0.19866933079506122,
             0.2955202066613396,
             0.3894183423086505,
             0.479425538604203,
             0.5646424733950355,
             0.6442176872376911,
             0.7173560908995228,
             0.7833269096274834,
             0.8414709848078965,
             0.8912073600614354,
             0.9320390859672264,
             0.963558185417193,
             0.9854497299884603,
             0.9974949866040544,
             0.9995736030415051,
             0.9916648104524686,
             0.9738476308781951
            ],
            "size": [
             0,
             4.991670832341407,
             9.933466539753061,
             14.77601033306698,
             19.470917115432528,
             23.971276930210152,
             28.232123669751775,
             32.21088436188456,
             35.86780454497614,
             39.16634548137417,
             42.073549240394826,
             44.56036800307177,
             46.60195429836132,
             48.17790927085965,
             49.27248649942301,
             49.874749330202725,
             49.978680152075256,
             49.58324052262343,
             48.69238154390976
            ]
           },
           "type": "scatter",
           "x": [
            0,
            0.1,
            0.2,
            0.30000000000000004,
            0.4,
            0.5,
            0.6000000000000001,
            0.7000000000000001,
            0.8,
            0.9,
            1,
            1.1,
            1.2000000000000002,
            1.3,
            1.4000000000000001,
            1.5,
            1.6,
            1.7000000000000002,
            1.8
           ],
           "y": [
            0,
            0.010000000000000002,
            0.04000000000000001,
            0.09000000000000002,
            0.16000000000000003,
            0.25,
            0.3600000000000001,
            0.4900000000000001,
            0.6400000000000001,
            0.81,
            1,
            1.2100000000000002,
            1.4400000000000004,
            1.6900000000000002,
            1.9600000000000004,
            2.25,
            2.5600000000000005,
            2.8900000000000006,
            3.24
           ]
          }
         ]
        },
        {
         "data": [
          {
           "marker": {
            "color": [
             0,
             0.09983341664682815,
             0.19866933079506122,
             0.2955202066613396,
             0.3894183423086505,
             0.479425538604203,
             0.5646424733950355,
             0.6442176872376911,
             0.7173560908995228,
             0.7833269096274834,
             0.8414709848078965,
             0.8912073600614354,
             0.9320390859672264,
             0.963558185417193,
             0.9854497299884603,
             0.9974949866040544,
             0.9995736030415051,
             0.9916648104524686,
             0.9738476308781951,
             0.9463000876874145
            ],
            "size": [
             0,
             4.991670832341407,
             9.933466539753061,
             14.77601033306698,
             19.470917115432528,
             23.971276930210152,
             28.232123669751775,
             32.21088436188456,
             35.86780454497614,
             39.16634548137417,
             42.073549240394826,
             44.56036800307177,
             46.60195429836132,
             48.17790927085965,
             49.27248649942301,
             49.874749330202725,
             49.978680152075256,
             49.58324052262343,
             48.69238154390976,
             47.315004384370724
            ]
           },
           "type": "scatter",
           "x": [
            0,
            0.1,
            0.2,
            0.30000000000000004,
            0.4,
            0.5,
            0.6000000000000001,
            0.7000000000000001,
            0.8,
            0.9,
            1,
            1.1,
            1.2000000000000002,
            1.3,
            1.4000000000000001,
            1.5,
            1.6,
            1.7000000000000002,
            1.8,
            1.9000000000000001
           ],
           "y": [
            0,
            0.010000000000000002,
            0.04000000000000001,
            0.09000000000000002,
            0.16000000000000003,
            0.25,
            0.3600000000000001,
            0.4900000000000001,
            0.6400000000000001,
            0.81,
            1,
            1.2100000000000002,
            1.4400000000000004,
            1.6900000000000002,
            1.9600000000000004,
            2.25,
            2.5600000000000005,
            2.8900000000000006,
            3.24,
            3.6100000000000003
           ]
          }
         ]
        },
        {
         "data": [
          {
           "marker": {
            "color": [
             0,
             0.09983341664682815,
             0.19866933079506122,
             0.2955202066613396,
             0.3894183423086505,
             0.479425538604203,
             0.5646424733950355,
             0.6442176872376911,
             0.7173560908995228,
             0.7833269096274834,
             0.8414709848078965,
             0.8912073600614354,
             0.9320390859672264,
             0.963558185417193,
             0.9854497299884603,
             0.9974949866040544,
             0.9995736030415051,
             0.9916648104524686,
             0.9738476308781951,
             0.9463000876874145,
             0.9092974268256817
            ],
            "size": [
             0,
             4.991670832341407,
             9.933466539753061,
             14.77601033306698,
             19.470917115432528,
             23.971276930210152,
             28.232123669751775,
             32.21088436188456,
             35.86780454497614,
             39.16634548137417,
             42.073549240394826,
             44.56036800307177,
             46.60195429836132,
             48.17790927085965,
             49.27248649942301,
             49.874749330202725,
             49.978680152075256,
             49.58324052262343,
             48.69238154390976,
             47.315004384370724,
             45.46487134128409
            ]
           },
           "type": "scatter",
           "x": [
            0,
            0.1,
            0.2,
            0.30000000000000004,
            0.4,
            0.5,
            0.6000000000000001,
            0.7000000000000001,
            0.8,
            0.9,
            1,
            1.1,
            1.2000000000000002,
            1.3,
            1.4000000000000001,
            1.5,
            1.6,
            1.7000000000000002,
            1.8,
            1.9000000000000001,
            2
           ],
           "y": [
            0,
            0.010000000000000002,
            0.04000000000000001,
            0.09000000000000002,
            0.16000000000000003,
            0.25,
            0.3600000000000001,
            0.4900000000000001,
            0.6400000000000001,
            0.81,
            1,
            1.2100000000000002,
            1.4400000000000004,
            1.6900000000000002,
            1.9600000000000004,
            2.25,
            2.5600000000000005,
            2.8900000000000006,
            3.24,
            3.6100000000000003,
            4
           ]
          }
         ]
        },
        {
         "data": [
          {
           "marker": {
            "color": [
             0,
             0.09983341664682815,
             0.19866933079506122,
             0.2955202066613396,
             0.3894183423086505,
             0.479425538604203,
             0.5646424733950355,
             0.6442176872376911,
             0.7173560908995228,
             0.7833269096274834,
             0.8414709848078965,
             0.8912073600614354,
             0.9320390859672264,
             0.963558185417193,
             0.9854497299884603,
             0.9974949866040544,
             0.9995736030415051,
             0.9916648104524686,
             0.9738476308781951,
             0.9463000876874145,
             0.9092974268256817,
             0.8632093666488737
            ],
            "size": [
             0,
             4.991670832341407,
             9.933466539753061,
             14.77601033306698,
             19.470917115432528,
             23.971276930210152,
             28.232123669751775,
             32.21088436188456,
             35.86780454497614,
             39.16634548137417,
             42.073549240394826,
             44.56036800307177,
             46.60195429836132,
             48.17790927085965,
             49.27248649942301,
             49.874749330202725,
             49.978680152075256,
             49.58324052262343,
             48.69238154390976,
             47.315004384370724,
             45.46487134128409,
             43.160468332443685
            ]
           },
           "type": "scatter",
           "x": [
            0,
            0.1,
            0.2,
            0.30000000000000004,
            0.4,
            0.5,
            0.6000000000000001,
            0.7000000000000001,
            0.8,
            0.9,
            1,
            1.1,
            1.2000000000000002,
            1.3,
            1.4000000000000001,
            1.5,
            1.6,
            1.7000000000000002,
            1.8,
            1.9000000000000001,
            2,
            2.1
           ],
           "y": [
            0,
            0.010000000000000002,
            0.04000000000000001,
            0.09000000000000002,
            0.16000000000000003,
            0.25,
            0.3600000000000001,
            0.4900000000000001,
            0.6400000000000001,
            0.81,
            1,
            1.2100000000000002,
            1.4400000000000004,
            1.6900000000000002,
            1.9600000000000004,
            2.25,
            2.5600000000000005,
            2.8900000000000006,
            3.24,
            3.6100000000000003,
            4,
            4.41
           ]
          }
         ]
        },
        {
         "data": [
          {
           "marker": {
            "color": [
             0,
             0.09983341664682815,
             0.19866933079506122,
             0.2955202066613396,
             0.3894183423086505,
             0.479425538604203,
             0.5646424733950355,
             0.6442176872376911,
             0.7173560908995228,
             0.7833269096274834,
             0.8414709848078965,
             0.8912073600614354,
             0.9320390859672264,
             0.963558185417193,
             0.9854497299884603,
             0.9974949866040544,
             0.9995736030415051,
             0.9916648104524686,
             0.9738476308781951,
             0.9463000876874145,
             0.9092974268256817,
             0.8632093666488737,
             0.8084964038195901
            ],
            "size": [
             0,
             4.991670832341407,
             9.933466539753061,
             14.77601033306698,
             19.470917115432528,
             23.971276930210152,
             28.232123669751775,
             32.21088436188456,
             35.86780454497614,
             39.16634548137417,
             42.073549240394826,
             44.56036800307177,
             46.60195429836132,
             48.17790927085965,
             49.27248649942301,
             49.874749330202725,
             49.978680152075256,
             49.58324052262343,
             48.69238154390976,
             47.315004384370724,
             45.46487134128409,
             43.160468332443685,
             40.4248201909795
            ]
           },
           "type": "scatter",
           "x": [
            0,
            0.1,
            0.2,
            0.30000000000000004,
            0.4,
            0.5,
            0.6000000000000001,
            0.7000000000000001,
            0.8,
            0.9,
            1,
            1.1,
            1.2000000000000002,
            1.3,
            1.4000000000000001,
            1.5,
            1.6,
            1.7000000000000002,
            1.8,
            1.9000000000000001,
            2,
            2.1,
            2.2
           ],
           "y": [
            0,
            0.010000000000000002,
            0.04000000000000001,
            0.09000000000000002,
            0.16000000000000003,
            0.25,
            0.3600000000000001,
            0.4900000000000001,
            0.6400000000000001,
            0.81,
            1,
            1.2100000000000002,
            1.4400000000000004,
            1.6900000000000002,
            1.9600000000000004,
            2.25,
            2.5600000000000005,
            2.8900000000000006,
            3.24,
            3.6100000000000003,
            4,
            4.41,
            4.840000000000001
           ]
          }
         ]
        },
        {
         "data": [
          {
           "marker": {
            "color": [
             0,
             0.09983341664682815,
             0.19866933079506122,
             0.2955202066613396,
             0.3894183423086505,
             0.479425538604203,
             0.5646424733950355,
             0.6442176872376911,
             0.7173560908995228,
             0.7833269096274834,
             0.8414709848078965,
             0.8912073600614354,
             0.9320390859672264,
             0.963558185417193,
             0.9854497299884603,
             0.9974949866040544,
             0.9995736030415051,
             0.9916648104524686,
             0.9738476308781951,
             0.9463000876874145,
             0.9092974268256817,
             0.8632093666488737,
             0.8084964038195901,
             0.74570521217672
            ],
            "size": [
             0,
             4.991670832341407,
             9.933466539753061,
             14.77601033306698,
             19.470917115432528,
             23.971276930210152,
             28.232123669751775,
             32.21088436188456,
             35.86780454497614,
             39.16634548137417,
             42.073549240394826,
             44.56036800307177,
             46.60195429836132,
             48.17790927085965,
             49.27248649942301,
             49.874749330202725,
             49.978680152075256,
             49.58324052262343,
             48.69238154390976,
             47.315004384370724,
             45.46487134128409,
             43.160468332443685,
             40.4248201909795,
             37.285260608836005
            ]
           },
           "type": "scatter",
           "x": [
            0,
            0.1,
            0.2,
            0.30000000000000004,
            0.4,
            0.5,
            0.6000000000000001,
            0.7000000000000001,
            0.8,
            0.9,
            1,
            1.1,
            1.2000000000000002,
            1.3,
            1.4000000000000001,
            1.5,
            1.6,
            1.7000000000000002,
            1.8,
            1.9000000000000001,
            2,
            2.1,
            2.2,
            2.3000000000000003
           ],
           "y": [
            0,
            0.010000000000000002,
            0.04000000000000001,
            0.09000000000000002,
            0.16000000000000003,
            0.25,
            0.3600000000000001,
            0.4900000000000001,
            0.6400000000000001,
            0.81,
            1,
            1.2100000000000002,
            1.4400000000000004,
            1.6900000000000002,
            1.9600000000000004,
            2.25,
            2.5600000000000005,
            2.8900000000000006,
            3.24,
            3.6100000000000003,
            4,
            4.41,
            4.840000000000001,
            5.290000000000001
           ]
          }
         ]
        },
        {
         "data": [
          {
           "marker": {
            "color": [
             0,
             0.09983341664682815,
             0.19866933079506122,
             0.2955202066613396,
             0.3894183423086505,
             0.479425538604203,
             0.5646424733950355,
             0.6442176872376911,
             0.7173560908995228,
             0.7833269096274834,
             0.8414709848078965,
             0.8912073600614354,
             0.9320390859672264,
             0.963558185417193,
             0.9854497299884603,
             0.9974949866040544,
             0.9995736030415051,
             0.9916648104524686,
             0.9738476308781951,
             0.9463000876874145,
             0.9092974268256817,
             0.8632093666488737,
             0.8084964038195901,
             0.74570521217672,
             0.6754631805511506
            ],
            "size": [
             0,
             4.991670832341407,
             9.933466539753061,
             14.77601033306698,
             19.470917115432528,
             23.971276930210152,
             28.232123669751775,
             32.21088436188456,
             35.86780454497614,
             39.16634548137417,
             42.073549240394826,
             44.56036800307177,
             46.60195429836132,
             48.17790927085965,
             49.27248649942301,
             49.874749330202725,
             49.978680152075256,
             49.58324052262343,
             48.69238154390976,
             47.315004384370724,
             45.46487134128409,
             43.160468332443685,
             40.4248201909795,
             37.285260608836005,
             33.77315902755753
            ]
           },
           "type": "scatter",
           "x": [
            0,
            0.1,
            0.2,
            0.30000000000000004,
            0.4,
            0.5,
            0.6000000000000001,
            0.7000000000000001,
            0.8,
            0.9,
            1,
            1.1,
            1.2000000000000002,
            1.3,
            1.4000000000000001,
            1.5,
            1.6,
            1.7000000000000002,
            1.8,
            1.9000000000000001,
            2,
            2.1,
            2.2,
            2.3000000000000003,
            2.4000000000000004
           ],
           "y": [
            0,
            0.010000000000000002,
            0.04000000000000001,
            0.09000000000000002,
            0.16000000000000003,
            0.25,
            0.3600000000000001,
            0.4900000000000001,
            0.6400000000000001,
            0.81,
            1,
            1.2100000000000002,
            1.4400000000000004,
            1.6900000000000002,
            1.9600000000000004,
            2.25,
            2.5600000000000005,
            2.8900000000000006,
            3.24,
            3.6100000000000003,
            4,
            4.41,
            4.840000000000001,
            5.290000000000001,
            5.760000000000002
           ]
          }
         ]
        },
        {
         "data": [
          {
           "marker": {
            "color": [
             0,
             0.09983341664682815,
             0.19866933079506122,
             0.2955202066613396,
             0.3894183423086505,
             0.479425538604203,
             0.5646424733950355,
             0.6442176872376911,
             0.7173560908995228,
             0.7833269096274834,
             0.8414709848078965,
             0.8912073600614354,
             0.9320390859672264,
             0.963558185417193,
             0.9854497299884603,
             0.9974949866040544,
             0.9995736030415051,
             0.9916648104524686,
             0.9738476308781951,
             0.9463000876874145,
             0.9092974268256817,
             0.8632093666488737,
             0.8084964038195901,
             0.74570521217672,
             0.6754631805511506,
             0.5984721441039564
            ],
            "size": [
             0,
             4.991670832341407,
             9.933466539753061,
             14.77601033306698,
             19.470917115432528,
             23.971276930210152,
             28.232123669751775,
             32.21088436188456,
             35.86780454497614,
             39.16634548137417,
             42.073549240394826,
             44.56036800307177,
             46.60195429836132,
             48.17790927085965,
             49.27248649942301,
             49.874749330202725,
             49.978680152075256,
             49.58324052262343,
             48.69238154390976,
             47.315004384370724,
             45.46487134128409,
             43.160468332443685,
             40.4248201909795,
             37.285260608836005,
             33.77315902755753,
             29.923607205197822
            ]
           },
           "type": "scatter",
           "x": [
            0,
            0.1,
            0.2,
            0.30000000000000004,
            0.4,
            0.5,
            0.6000000000000001,
            0.7000000000000001,
            0.8,
            0.9,
            1,
            1.1,
            1.2000000000000002,
            1.3,
            1.4000000000000001,
            1.5,
            1.6,
            1.7000000000000002,
            1.8,
            1.9000000000000001,
            2,
            2.1,
            2.2,
            2.3000000000000003,
            2.4000000000000004,
            2.5
           ],
           "y": [
            0,
            0.010000000000000002,
            0.04000000000000001,
            0.09000000000000002,
            0.16000000000000003,
            0.25,
            0.3600000000000001,
            0.4900000000000001,
            0.6400000000000001,
            0.81,
            1,
            1.2100000000000002,
            1.4400000000000004,
            1.6900000000000002,
            1.9600000000000004,
            2.25,
            2.5600000000000005,
            2.8900000000000006,
            3.24,
            3.6100000000000003,
            4,
            4.41,
            4.840000000000001,
            5.290000000000001,
            5.760000000000002,
            6.25
           ]
          }
         ]
        },
        {
         "data": [
          {
           "marker": {
            "color": [
             0,
             0.09983341664682815,
             0.19866933079506122,
             0.2955202066613396,
             0.3894183423086505,
             0.479425538604203,
             0.5646424733950355,
             0.6442176872376911,
             0.7173560908995228,
             0.7833269096274834,
             0.8414709848078965,
             0.8912073600614354,
             0.9320390859672264,
             0.963558185417193,
             0.9854497299884603,
             0.9974949866040544,
             0.9995736030415051,
             0.9916648104524686,
             0.9738476308781951,
             0.9463000876874145,
             0.9092974268256817,
             0.8632093666488737,
             0.8084964038195901,
             0.74570521217672,
             0.6754631805511506,
             0.5984721441039564,
             0.5155013718214642
            ],
            "size": [
             0,
             4.991670832341407,
             9.933466539753061,
             14.77601033306698,
             19.470917115432528,
             23.971276930210152,
             28.232123669751775,
             32.21088436188456,
             35.86780454497614,
             39.16634548137417,
             42.073549240394826,
             44.56036800307177,
             46.60195429836132,
             48.17790927085965,
             49.27248649942301,
             49.874749330202725,
             49.978680152075256,
             49.58324052262343,
             48.69238154390976,
             47.315004384370724,
             45.46487134128409,
             43.160468332443685,
             40.4248201909795,
             37.285260608836005,
             33.77315902755753,
             29.923607205197822,
             25.775068591073207
            ]
           },
           "type": "scatter",
           "x": [
            0,
            0.1,
            0.2,
            0.30000000000000004,
            0.4,
            0.5,
            0.6000000000000001,
            0.7000000000000001,
            0.8,
            0.9,
            1,
            1.1,
            1.2000000000000002,
            1.3,
            1.4000000000000001,
            1.5,
            1.6,
            1.7000000000000002,
            1.8,
            1.9000000000000001,
            2,
            2.1,
            2.2,
            2.3000000000000003,
            2.4000000000000004,
            2.5,
            2.6
           ],
           "y": [
            0,
            0.010000000000000002,
            0.04000000000000001,
            0.09000000000000002,
            0.16000000000000003,
            0.25,
            0.3600000000000001,
            0.4900000000000001,
            0.6400000000000001,
            0.81,
            1,
            1.2100000000000002,
            1.4400000000000004,
            1.6900000000000002,
            1.9600000000000004,
            2.25,
            2.5600000000000005,
            2.8900000000000006,
            3.24,
            3.6100000000000003,
            4,
            4.41,
            4.840000000000001,
            5.290000000000001,
            5.760000000000002,
            6.25,
            6.760000000000001
           ]
          }
         ]
        },
        {
         "data": [
          {
           "marker": {
            "color": [
             0,
             0.09983341664682815,
             0.19866933079506122,
             0.2955202066613396,
             0.3894183423086505,
             0.479425538604203,
             0.5646424733950355,
             0.6442176872376911,
             0.7173560908995228,
             0.7833269096274834,
             0.8414709848078965,
             0.8912073600614354,
             0.9320390859672264,
             0.963558185417193,
             0.9854497299884603,
             0.9974949866040544,
             0.9995736030415051,
             0.9916648104524686,
             0.9738476308781951,
             0.9463000876874145,
             0.9092974268256817,
             0.8632093666488737,
             0.8084964038195901,
             0.74570521217672,
             0.6754631805511506,
             0.5984721441039564,
             0.5155013718214642,
             0.4273798802338298
            ],
            "size": [
             0,
             4.991670832341407,
             9.933466539753061,
             14.77601033306698,
             19.470917115432528,
             23.971276930210152,
             28.232123669751775,
             32.21088436188456,
             35.86780454497614,
             39.16634548137417,
             42.073549240394826,
             44.56036800307177,
             46.60195429836132,
             48.17790927085965,
             49.27248649942301,
             49.874749330202725,
             49.978680152075256,
             49.58324052262343,
             48.69238154390976,
             47.315004384370724,
             45.46487134128409,
             43.160468332443685,
             40.4248201909795,
             37.285260608836005,
             33.77315902755753,
             29.923607205197822,
             25.775068591073207,
             21.368994011691488
            ]
           },
           "type": "scatter",
           "x": [
            0,
            0.1,
            0.2,
            0.30000000000000004,
            0.4,
            0.5,
            0.6000000000000001,
            0.7000000000000001,
            0.8,
            0.9,
            1,
            1.1,
            1.2000000000000002,
            1.3,
            1.4000000000000001,
            1.5,
            1.6,
            1.7000000000000002,
            1.8,
            1.9000000000000001,
            2,
            2.1,
            2.2,
            2.3000000000000003,
            2.4000000000000004,
            2.5,
            2.6,
            2.7
           ],
           "y": [
            0,
            0.010000000000000002,
            0.04000000000000001,
            0.09000000000000002,
            0.16000000000000003,
            0.25,
            0.3600000000000001,
            0.4900000000000001,
            0.6400000000000001,
            0.81,
            1,
            1.2100000000000002,
            1.4400000000000004,
            1.6900000000000002,
            1.9600000000000004,
            2.25,
            2.5600000000000005,
            2.8900000000000006,
            3.24,
            3.6100000000000003,
            4,
            4.41,
            4.840000000000001,
            5.290000000000001,
            5.760000000000002,
            6.25,
            6.760000000000001,
            7.290000000000001
           ]
          }
         ]
        },
        {
         "data": [
          {
           "marker": {
            "color": [
             0,
             0.09983341664682815,
             0.19866933079506122,
             0.2955202066613396,
             0.3894183423086505,
             0.479425538604203,
             0.5646424733950355,
             0.6442176872376911,
             0.7173560908995228,
             0.7833269096274834,
             0.8414709848078965,
             0.8912073600614354,
             0.9320390859672264,
             0.963558185417193,
             0.9854497299884603,
             0.9974949866040544,
             0.9995736030415051,
             0.9916648104524686,
             0.9738476308781951,
             0.9463000876874145,
             0.9092974268256817,
             0.8632093666488737,
             0.8084964038195901,
             0.74570521217672,
             0.6754631805511506,
             0.5984721441039564,
             0.5155013718214642,
             0.4273798802338298,
             0.33498815015590466
            ],
            "size": [
             0,
             4.991670832341407,
             9.933466539753061,
             14.77601033306698,
             19.470917115432528,
             23.971276930210152,
             28.232123669751775,
             32.21088436188456,
             35.86780454497614,
             39.16634548137417,
             42.073549240394826,
             44.56036800307177,
             46.60195429836132,
             48.17790927085965,
             49.27248649942301,
             49.874749330202725,
             49.978680152075256,
             49.58324052262343,
             48.69238154390976,
             47.315004384370724,
             45.46487134128409,
             43.160468332443685,
             40.4248201909795,
             37.285260608836005,
             33.77315902755753,
             29.923607205197822,
             25.775068591073207,
             21.368994011691488,
             16.749407507795233
            ]
           },
           "type": "scatter",
           "x": [
            0,
            0.1,
            0.2,
            0.30000000000000004,
            0.4,
            0.5,
            0.6000000000000001,
            0.7000000000000001,
            0.8,
            0.9,
            1,
            1.1,
            1.2000000000000002,
            1.3,
            1.4000000000000001,
            1.5,
            1.6,
            1.7000000000000002,
            1.8,
            1.9000000000000001,
            2,
            2.1,
            2.2,
            2.3000000000000003,
            2.4000000000000004,
            2.5,
            2.6,
            2.7,
            2.8000000000000003
           ],
           "y": [
            0,
            0.010000000000000002,
            0.04000000000000001,
            0.09000000000000002,
            0.16000000000000003,
            0.25,
            0.3600000000000001,
            0.4900000000000001,
            0.6400000000000001,
            0.81,
            1,
            1.2100000000000002,
            1.4400000000000004,
            1.6900000000000002,
            1.9600000000000004,
            2.25,
            2.5600000000000005,
            2.8900000000000006,
            3.24,
            3.6100000000000003,
            4,
            4.41,
            4.840000000000001,
            5.290000000000001,
            5.760000000000002,
            6.25,
            6.760000000000001,
            7.290000000000001,
            7.840000000000002
           ]
          }
         ]
        },
        {
         "data": [
          {
           "marker": {
            "color": [
             0,
             0.09983341664682815,
             0.19866933079506122,
             0.2955202066613396,
             0.3894183423086505,
             0.479425538604203,
             0.5646424733950355,
             0.6442176872376911,
             0.7173560908995228,
             0.7833269096274834,
             0.8414709848078965,
             0.8912073600614354,
             0.9320390859672264,
             0.963558185417193,
             0.9854497299884603,
             0.9974949866040544,
             0.9995736030415051,
             0.9916648104524686,
             0.9738476308781951,
             0.9463000876874145,
             0.9092974268256817,
             0.8632093666488737,
             0.8084964038195901,
             0.74570521217672,
             0.6754631805511506,
             0.5984721441039564,
             0.5155013718214642,
             0.4273798802338298,
             0.33498815015590466,
             0.23924932921398198
            ],
            "size": [
             0,
             4.991670832341407,
             9.933466539753061,
             14.77601033306698,
             19.470917115432528,
             23.971276930210152,
             28.232123669751775,
             32.21088436188456,
             35.86780454497614,
             39.16634548137417,
             42.073549240394826,
             44.56036800307177,
             46.60195429836132,
             48.17790927085965,
             49.27248649942301,
             49.874749330202725,
             49.978680152075256,
             49.58324052262343,
             48.69238154390976,
             47.315004384370724,
             45.46487134128409,
             43.160468332443685,
             40.4248201909795,
             37.285260608836005,
             33.77315902755753,
             29.923607205197822,
             25.775068591073207,
             21.368994011691488,
             16.749407507795233,
             11.9624664606991
            ]
           },
           "type": "scatter",
           "x": [
            0,
            0.1,
            0.2,
            0.30000000000000004,
            0.4,
            0.5,
            0.6000000000000001,
            0.7000000000000001,
            0.8,
            0.9,
            1,
            1.1,
            1.2000000000000002,
            1.3,
            1.4000000000000001,
            1.5,
            1.6,
            1.7000000000000002,
            1.8,
            1.9000000000000001,
            2,
            2.1,
            2.2,
            2.3000000000000003,
            2.4000000000000004,
            2.5,
            2.6,
            2.7,
            2.8000000000000003,
            2.9000000000000004
           ],
           "y": [
            0,
            0.010000000000000002,
            0.04000000000000001,
            0.09000000000000002,
            0.16000000000000003,
            0.25,
            0.3600000000000001,
            0.4900000000000001,
            0.6400000000000001,
            0.81,
            1,
            1.2100000000000002,
            1.4400000000000004,
            1.6900000000000002,
            1.9600000000000004,
            2.25,
            2.5600000000000005,
            2.8900000000000006,
            3.24,
            3.6100000000000003,
            4,
            4.41,
            4.840000000000001,
            5.290000000000001,
            5.760000000000002,
            6.25,
            6.760000000000001,
            7.290000000000001,
            7.840000000000002,
            8.410000000000002
           ]
          }
         ]
        },
        {
         "data": [
          {
           "marker": {
            "color": [
             0,
             0.09983341664682815,
             0.19866933079506122,
             0.2955202066613396,
             0.3894183423086505,
             0.479425538604203,
             0.5646424733950355,
             0.6442176872376911,
             0.7173560908995228,
             0.7833269096274834,
             0.8414709848078965,
             0.8912073600614354,
             0.9320390859672264,
             0.963558185417193,
             0.9854497299884603,
             0.9974949866040544,
             0.9995736030415051,
             0.9916648104524686,
             0.9738476308781951,
             0.9463000876874145,
             0.9092974268256817,
             0.8632093666488737,
             0.8084964038195901,
             0.74570521217672,
             0.6754631805511506,
             0.5984721441039564,
             0.5155013718214642,
             0.4273798802338298,
             0.33498815015590466,
             0.23924932921398198,
             0.1411200080598672
            ],
            "size": [
             0,
             4.991670832341407,
             9.933466539753061,
             14.77601033306698,
             19.470917115432528,
             23.971276930210152,
             28.232123669751775,
             32.21088436188456,
             35.86780454497614,
             39.16634548137417,
             42.073549240394826,
             44.56036800307177,
             46.60195429836132,
             48.17790927085965,
             49.27248649942301,
             49.874749330202725,
             49.978680152075256,
             49.58324052262343,
             48.69238154390976,
             47.315004384370724,
             45.46487134128409,
             43.160468332443685,
             40.4248201909795,
             37.285260608836005,
             33.77315902755753,
             29.923607205197822,
             25.775068591073207,
             21.368994011691488,
             16.749407507795233,
             11.9624664606991,
             7.0560004029933605
            ]
           },
           "type": "scatter",
           "x": [
            0,
            0.1,
            0.2,
            0.30000000000000004,
            0.4,
            0.5,
            0.6000000000000001,
            0.7000000000000001,
            0.8,
            0.9,
            1,
            1.1,
            1.2000000000000002,
            1.3,
            1.4000000000000001,
            1.5,
            1.6,
            1.7000000000000002,
            1.8,
            1.9000000000000001,
            2,
            2.1,
            2.2,
            2.3000000000000003,
            2.4000000000000004,
            2.5,
            2.6,
            2.7,
            2.8000000000000003,
            2.9000000000000004,
            3
           ],
           "y": [
            0,
            0.010000000000000002,
            0.04000000000000001,
            0.09000000000000002,
            0.16000000000000003,
            0.25,
            0.3600000000000001,
            0.4900000000000001,
            0.6400000000000001,
            0.81,
            1,
            1.2100000000000002,
            1.4400000000000004,
            1.6900000000000002,
            1.9600000000000004,
            2.25,
            2.5600000000000005,
            2.8900000000000006,
            3.24,
            3.6100000000000003,
            4,
            4.41,
            4.840000000000001,
            5.290000000000001,
            5.760000000000002,
            6.25,
            6.760000000000001,
            7.290000000000001,
            7.840000000000002,
            8.410000000000002,
            9
           ]
          }
         ]
        },
        {
         "data": [
          {
           "marker": {
            "color": [
             0,
             0.09983341664682815,
             0.19866933079506122,
             0.2955202066613396,
             0.3894183423086505,
             0.479425538604203,
             0.5646424733950355,
             0.6442176872376911,
             0.7173560908995228,
             0.7833269096274834,
             0.8414709848078965,
             0.8912073600614354,
             0.9320390859672264,
             0.963558185417193,
             0.9854497299884603,
             0.9974949866040544,
             0.9995736030415051,
             0.9916648104524686,
             0.9738476308781951,
             0.9463000876874145,
             0.9092974268256817,
             0.8632093666488737,
             0.8084964038195901,
             0.74570521217672,
             0.6754631805511506,
             0.5984721441039564,
             0.5155013718214642,
             0.4273798802338298,
             0.33498815015590466,
             0.23924932921398198,
             0.1411200080598672,
             0.04158066243329049
            ],
            "size": [
             0,
             4.991670832341407,
             9.933466539753061,
             14.77601033306698,
             19.470917115432528,
             23.971276930210152,
             28.232123669751775,
             32.21088436188456,
             35.86780454497614,
             39.16634548137417,
             42.073549240394826,
             44.56036800307177,
             46.60195429836132,
             48.17790927085965,
             49.27248649942301,
             49.874749330202725,
             49.978680152075256,
             49.58324052262343,
             48.69238154390976,
             47.315004384370724,
             45.46487134128409,
             43.160468332443685,
             40.4248201909795,
             37.285260608836005,
             33.77315902755753,
             29.923607205197822,
             25.775068591073207,
             21.368994011691488,
             16.749407507795233,
             11.9624664606991,
             7.0560004029933605,
             2.0790331216645246
            ]
           },
           "type": "scatter",
           "x": [
            0,
            0.1,
            0.2,
            0.30000000000000004,
            0.4,
            0.5,
            0.6000000000000001,
            0.7000000000000001,
            0.8,
            0.9,
            1,
            1.1,
            1.2000000000000002,
            1.3,
            1.4000000000000001,
            1.5,
            1.6,
            1.7000000000000002,
            1.8,
            1.9000000000000001,
            2,
            2.1,
            2.2,
            2.3000000000000003,
            2.4000000000000004,
            2.5,
            2.6,
            2.7,
            2.8000000000000003,
            2.9000000000000004,
            3,
            3.1
           ],
           "y": [
            0,
            0.010000000000000002,
            0.04000000000000001,
            0.09000000000000002,
            0.16000000000000003,
            0.25,
            0.3600000000000001,
            0.4900000000000001,
            0.6400000000000001,
            0.81,
            1,
            1.2100000000000002,
            1.4400000000000004,
            1.6900000000000002,
            1.9600000000000004,
            2.25,
            2.5600000000000005,
            2.8900000000000006,
            3.24,
            3.6100000000000003,
            4,
            4.41,
            4.840000000000001,
            5.290000000000001,
            5.760000000000002,
            6.25,
            6.760000000000001,
            7.290000000000001,
            7.840000000000002,
            8.410000000000002,
            9,
            9.610000000000001
           ]
          }
         ]
        },
        {
         "data": [
          {
           "marker": {
            "color": [
             0,
             0.09983341664682815,
             0.19866933079506122,
             0.2955202066613396,
             0.3894183423086505,
             0.479425538604203,
             0.5646424733950355,
             0.6442176872376911,
             0.7173560908995228,
             0.7833269096274834,
             0.8414709848078965,
             0.8912073600614354,
             0.9320390859672264,
             0.963558185417193,
             0.9854497299884603,
             0.9974949866040544,
             0.9995736030415051,
             0.9916648104524686,
             0.9738476308781951,
             0.9463000876874145,
             0.9092974268256817,
             0.8632093666488737,
             0.8084964038195901,
             0.74570521217672,
             0.6754631805511506,
             0.5984721441039564,
             0.5155013718214642,
             0.4273798802338298,
             0.33498815015590466,
             0.23924932921398198,
             0.1411200080598672,
             0.04158066243329049,
             -0.058374143427580086
            ],
            "size": [
             0,
             4.991670832341407,
             9.933466539753061,
             14.77601033306698,
             19.470917115432528,
             23.971276930210152,
             28.232123669751775,
             32.21088436188456,
             35.86780454497614,
             39.16634548137417,
             42.073549240394826,
             44.56036800307177,
             46.60195429836132,
             48.17790927085965,
             49.27248649942301,
             49.874749330202725,
             49.978680152075256,
             49.58324052262343,
             48.69238154390976,
             47.315004384370724,
             45.46487134128409,
             43.160468332443685,
             40.4248201909795,
             37.285260608836005,
             33.77315902755753,
             29.923607205197822,
             25.775068591073207,
             21.368994011691488,
             16.749407507795233,
             11.9624664606991,
             7.0560004029933605,
             2.0790331216645246,
             2.9187071713790043
            ]
           },
           "type": "scatter",
           "x": [
            0,
            0.1,
            0.2,
            0.30000000000000004,
            0.4,
            0.5,
            0.6000000000000001,
            0.7000000000000001,
            0.8,
            0.9,
            1,
            1.1,
            1.2000000000000002,
            1.3,
            1.4000000000000001,
            1.5,
            1.6,
            1.7000000000000002,
            1.8,
            1.9000000000000001,
            2,
            2.1,
            2.2,
            2.3000000000000003,
            2.4000000000000004,
            2.5,
            2.6,
            2.7,
            2.8000000000000003,
            2.9000000000000004,
            3,
            3.1,
            3.2
           ],
           "y": [
            0,
            0.010000000000000002,
            0.04000000000000001,
            0.09000000000000002,
            0.16000000000000003,
            0.25,
            0.3600000000000001,
            0.4900000000000001,
            0.6400000000000001,
            0.81,
            1,
            1.2100000000000002,
            1.4400000000000004,
            1.6900000000000002,
            1.9600000000000004,
            2.25,
            2.5600000000000005,
            2.8900000000000006,
            3.24,
            3.6100000000000003,
            4,
            4.41,
            4.840000000000001,
            5.290000000000001,
            5.760000000000002,
            6.25,
            6.760000000000001,
            7.290000000000001,
            7.840000000000002,
            8.410000000000002,
            9,
            9.610000000000001,
            10.240000000000002
           ]
          }
         ]
        },
        {
         "data": [
          {
           "marker": {
            "color": [
             0,
             0.09983341664682815,
             0.19866933079506122,
             0.2955202066613396,
             0.3894183423086505,
             0.479425538604203,
             0.5646424733950355,
             0.6442176872376911,
             0.7173560908995228,
             0.7833269096274834,
             0.8414709848078965,
             0.8912073600614354,
             0.9320390859672264,
             0.963558185417193,
             0.9854497299884603,
             0.9974949866040544,
             0.9995736030415051,
             0.9916648104524686,
             0.9738476308781951,
             0.9463000876874145,
             0.9092974268256817,
             0.8632093666488737,
             0.8084964038195901,
             0.74570521217672,
             0.6754631805511506,
             0.5984721441039564,
             0.5155013718214642,
             0.4273798802338298,
             0.33498815015590466,
             0.23924932921398198,
             0.1411200080598672,
             0.04158066243329049,
             -0.058374143427580086,
             -0.15774569414324865
            ],
            "size": [
             0,
             4.991670832341407,
             9.933466539753061,
             14.77601033306698,
             19.470917115432528,
             23.971276930210152,
             28.232123669751775,
             32.21088436188456,
             35.86780454497614,
             39.16634548137417,
             42.073549240394826,
             44.56036800307177,
             46.60195429836132,
             48.17790927085965,
             49.27248649942301,
             49.874749330202725,
             49.978680152075256,
             49.58324052262343,
             48.69238154390976,
             47.315004384370724,
             45.46487134128409,
             43.160468332443685,
             40.4248201909795,
             37.285260608836005,
             33.77315902755753,
             29.923607205197822,
             25.775068591073207,
             21.368994011691488,
             16.749407507795233,
             11.9624664606991,
             7.0560004029933605,
             2.0790331216645246,
             2.9187071713790043,
             7.887284707162433
            ]
           },
           "type": "scatter",
           "x": [
            0,
            0.1,
            0.2,
            0.30000000000000004,
            0.4,
            0.5,
            0.6000000000000001,
            0.7000000000000001,
            0.8,
            0.9,
            1,
            1.1,
            1.2000000000000002,
            1.3,
            1.4000000000000001,
            1.5,
            1.6,
            1.7000000000000002,
            1.8,
            1.9000000000000001,
            2,
            2.1,
            2.2,
            2.3000000000000003,
            2.4000000000000004,
            2.5,
            2.6,
            2.7,
            2.8000000000000003,
            2.9000000000000004,
            3,
            3.1,
            3.2,
            3.3000000000000003
           ],
           "y": [
            0,
            0.010000000000000002,
            0.04000000000000001,
            0.09000000000000002,
            0.16000000000000003,
            0.25,
            0.3600000000000001,
            0.4900000000000001,
            0.6400000000000001,
            0.81,
            1,
            1.2100000000000002,
            1.4400000000000004,
            1.6900000000000002,
            1.9600000000000004,
            2.25,
            2.5600000000000005,
            2.8900000000000006,
            3.24,
            3.6100000000000003,
            4,
            4.41,
            4.840000000000001,
            5.290000000000001,
            5.760000000000002,
            6.25,
            6.760000000000001,
            7.290000000000001,
            7.840000000000002,
            8.410000000000002,
            9,
            9.610000000000001,
            10.240000000000002,
            10.890000000000002
           ]
          }
         ]
        },
        {
         "data": [
          {
           "marker": {
            "color": [
             0,
             0.09983341664682815,
             0.19866933079506122,
             0.2955202066613396,
             0.3894183423086505,
             0.479425538604203,
             0.5646424733950355,
             0.6442176872376911,
             0.7173560908995228,
             0.7833269096274834,
             0.8414709848078965,
             0.8912073600614354,
             0.9320390859672264,
             0.963558185417193,
             0.9854497299884603,
             0.9974949866040544,
             0.9995736030415051,
             0.9916648104524686,
             0.9738476308781951,
             0.9463000876874145,
             0.9092974268256817,
             0.8632093666488737,
             0.8084964038195901,
             0.74570521217672,
             0.6754631805511506,
             0.5984721441039564,
             0.5155013718214642,
             0.4273798802338298,
             0.33498815015590466,
             0.23924932921398198,
             0.1411200080598672,
             0.04158066243329049,
             -0.058374143427580086,
             -0.15774569414324865,
             -0.25554110202683167
            ],
            "size": [
             0,
             4.991670832341407,
             9.933466539753061,
             14.77601033306698,
             19.470917115432528,
             23.971276930210152,
             28.232123669751775,
             32.21088436188456,
             35.86780454497614,
             39.16634548137417,
             42.073549240394826,
             44.56036800307177,
             46.60195429836132,
             48.17790927085965,
             49.27248649942301,
             49.874749330202725,
             49.978680152075256,
             49.58324052262343,
             48.69238154390976,
             47.315004384370724,
             45.46487134128409,
             43.160468332443685,
             40.4248201909795,
             37.285260608836005,
             33.77315902755753,
             29.923607205197822,
             25.775068591073207,
             21.368994011691488,
             16.749407507795233,
             11.9624664606991,
             7.0560004029933605,
             2.0790331216645246,
             2.9187071713790043,
             7.887284707162433,
             12.777055101341583
            ]
           },
           "type": "scatter",
           "x": [
            0,
            0.1,
            0.2,
            0.30000000000000004,
            0.4,
            0.5,
            0.6000000000000001,
            0.7000000000000001,
            0.8,
            0.9,
            1,
            1.1,
            1.2000000000000002,
            1.3,
            1.4000000000000001,
            1.5,
            1.6,
            1.7000000000000002,
            1.8,
            1.9000000000000001,
            2,
            2.1,
            2.2,
            2.3000000000000003,
            2.4000000000000004,
            2.5,
            2.6,
            2.7,
            2.8000000000000003,
            2.9000000000000004,
            3,
            3.1,
            3.2,
            3.3000000000000003,
            3.4000000000000004
           ],
           "y": [
            0,
            0.010000000000000002,
            0.04000000000000001,
            0.09000000000000002,
            0.16000000000000003,
            0.25,
            0.3600000000000001,
            0.4900000000000001,
            0.6400000000000001,
            0.81,
            1,
            1.2100000000000002,
            1.4400000000000004,
            1.6900000000000002,
            1.9600000000000004,
            2.25,
            2.5600000000000005,
            2.8900000000000006,
            3.24,
            3.6100000000000003,
            4,
            4.41,
            4.840000000000001,
            5.290000000000001,
            5.760000000000002,
            6.25,
            6.760000000000001,
            7.290000000000001,
            7.840000000000002,
            8.410000000000002,
            9,
            9.610000000000001,
            10.240000000000002,
            10.890000000000002,
            11.560000000000002
           ]
          }
         ]
        },
        {
         "data": [
          {
           "marker": {
            "color": [
             0,
             0.09983341664682815,
             0.19866933079506122,
             0.2955202066613396,
             0.3894183423086505,
             0.479425538604203,
             0.5646424733950355,
             0.6442176872376911,
             0.7173560908995228,
             0.7833269096274834,
             0.8414709848078965,
             0.8912073600614354,
             0.9320390859672264,
             0.963558185417193,
             0.9854497299884603,
             0.9974949866040544,
             0.9995736030415051,
             0.9916648104524686,
             0.9738476308781951,
             0.9463000876874145,
             0.9092974268256817,
             0.8632093666488737,
             0.8084964038195901,
             0.74570521217672,
             0.6754631805511506,
             0.5984721441039564,
             0.5155013718214642,
             0.4273798802338298,
             0.33498815015590466,
             0.23924932921398198,
             0.1411200080598672,
             0.04158066243329049,
             -0.058374143427580086,
             -0.15774569414324865,
             -0.25554110202683167,
             -0.35078322768961984
            ],
            "size": [
             0,
             4.991670832341407,
             9.933466539753061,
             14.77601033306698,
             19.470917115432528,
             23.971276930210152,
             28.232123669751775,
             32.21088436188456,
             35.86780454497614,
             39.16634548137417,
             42.073549240394826,
             44.56036800307177,
             46.60195429836132,
             48.17790927085965,
             49.27248649942301,
             49.874749330202725,
             49.978680152075256,
             49.58324052262343,
             48.69238154390976,
             47.315004384370724,
             45.46487134128409,
             43.160468332443685,
             40.4248201909795,
             37.285260608836005,
             33.77315902755753,
             29.923607205197822,
             25.775068591073207,
             21.368994011691488,
             16.749407507795233,
             11.9624664606991,
             7.0560004029933605,
             2.0790331216645246,
             2.9187071713790043,
             7.887284707162433,
             12.777055101341583,
             17.53916138448099
            ]
           },
           "type": "scatter",
           "x": [
            0,
            0.1,
            0.2,
            0.30000000000000004,
            0.4,
            0.5,
            0.6000000000000001,
            0.7000000000000001,
            0.8,
            0.9,
            1,
            1.1,
            1.2000000000000002,
            1.3,
            1.4000000000000001,
            1.5,
            1.6,
            1.7000000000000002,
            1.8,
            1.9000000000000001,
            2,
            2.1,
            2.2,
            2.3000000000000003,
            2.4000000000000004,
            2.5,
            2.6,
            2.7,
            2.8000000000000003,
            2.9000000000000004,
            3,
            3.1,
            3.2,
            3.3000000000000003,
            3.4000000000000004,
            3.5
           ],
           "y": [
            0,
            0.010000000000000002,
            0.04000000000000001,
            0.09000000000000002,
            0.16000000000000003,
            0.25,
            0.3600000000000001,
            0.4900000000000001,
            0.6400000000000001,
            0.81,
            1,
            1.2100000000000002,
            1.4400000000000004,
            1.6900000000000002,
            1.9600000000000004,
            2.25,
            2.5600000000000005,
            2.8900000000000006,
            3.24,
            3.6100000000000003,
            4,
            4.41,
            4.840000000000001,
            5.290000000000001,
            5.760000000000002,
            6.25,
            6.760000000000001,
            7.290000000000001,
            7.840000000000002,
            8.410000000000002,
            9,
            9.610000000000001,
            10.240000000000002,
            10.890000000000002,
            11.560000000000002,
            12.25
           ]
          }
         ]
        },
        {
         "data": [
          {
           "marker": {
            "color": [
             0,
             0.09983341664682815,
             0.19866933079506122,
             0.2955202066613396,
             0.3894183423086505,
             0.479425538604203,
             0.5646424733950355,
             0.6442176872376911,
             0.7173560908995228,
             0.7833269096274834,
             0.8414709848078965,
             0.8912073600614354,
             0.9320390859672264,
             0.963558185417193,
             0.9854497299884603,
             0.9974949866040544,
             0.9995736030415051,
             0.9916648104524686,
             0.9738476308781951,
             0.9463000876874145,
             0.9092974268256817,
             0.8632093666488737,
             0.8084964038195901,
             0.74570521217672,
             0.6754631805511506,
             0.5984721441039564,
             0.5155013718214642,
             0.4273798802338298,
             0.33498815015590466,
             0.23924932921398198,
             0.1411200080598672,
             0.04158066243329049,
             -0.058374143427580086,
             -0.15774569414324865,
             -0.25554110202683167,
             -0.35078322768961984,
             -0.44252044329485246
            ],
            "size": [
             0,
             4.991670832341407,
             9.933466539753061,
             14.77601033306698,
             19.470917115432528,
             23.971276930210152,
             28.232123669751775,
             32.21088436188456,
             35.86780454497614,
             39.16634548137417,
             42.073549240394826,
             44.56036800307177,
             46.60195429836132,
             48.17790927085965,
             49.27248649942301,
             49.874749330202725,
             49.978680152075256,
             49.58324052262343,
             48.69238154390976,
             47.315004384370724,
             45.46487134128409,
             43.160468332443685,
             40.4248201909795,
             37.285260608836005,
             33.77315902755753,
             29.923607205197822,
             25.775068591073207,
             21.368994011691488,
             16.749407507795233,
             11.9624664606991,
             7.0560004029933605,
             2.0790331216645246,
             2.9187071713790043,
             7.887284707162433,
             12.777055101341583,
             17.53916138448099,
             22.126022164742622
            ]
           },
           "type": "scatter",
           "x": [
            0,
            0.1,
            0.2,
            0.30000000000000004,
            0.4,
            0.5,
            0.6000000000000001,
            0.7000000000000001,
            0.8,
            0.9,
            1,
            1.1,
            1.2000000000000002,
            1.3,
            1.4000000000000001,
            1.5,
            1.6,
            1.7000000000000002,
            1.8,
            1.9000000000000001,
            2,
            2.1,
            2.2,
            2.3000000000000003,
            2.4000000000000004,
            2.5,
            2.6,
            2.7,
            2.8000000000000003,
            2.9000000000000004,
            3,
            3.1,
            3.2,
            3.3000000000000003,
            3.4000000000000004,
            3.5,
            3.6
           ],
           "y": [
            0,
            0.010000000000000002,
            0.04000000000000001,
            0.09000000000000002,
            0.16000000000000003,
            0.25,
            0.3600000000000001,
            0.4900000000000001,
            0.6400000000000001,
            0.81,
            1,
            1.2100000000000002,
            1.4400000000000004,
            1.6900000000000002,
            1.9600000000000004,
            2.25,
            2.5600000000000005,
            2.8900000000000006,
            3.24,
            3.6100000000000003,
            4,
            4.41,
            4.840000000000001,
            5.290000000000001,
            5.760000000000002,
            6.25,
            6.760000000000001,
            7.290000000000001,
            7.840000000000002,
            8.410000000000002,
            9,
            9.610000000000001,
            10.240000000000002,
            10.890000000000002,
            11.560000000000002,
            12.25,
            12.96
           ]
          }
         ]
        },
        {
         "data": [
          {
           "marker": {
            "color": [
             0,
             0.09983341664682815,
             0.19866933079506122,
             0.2955202066613396,
             0.3894183423086505,
             0.479425538604203,
             0.5646424733950355,
             0.6442176872376911,
             0.7173560908995228,
             0.7833269096274834,
             0.8414709848078965,
             0.8912073600614354,
             0.9320390859672264,
             0.963558185417193,
             0.9854497299884603,
             0.9974949866040544,
             0.9995736030415051,
             0.9916648104524686,
             0.9738476308781951,
             0.9463000876874145,
             0.9092974268256817,
             0.8632093666488737,
             0.8084964038195901,
             0.74570521217672,
             0.6754631805511506,
             0.5984721441039564,
             0.5155013718214642,
             0.4273798802338298,
             0.33498815015590466,
             0.23924932921398198,
             0.1411200080598672,
             0.04158066243329049,
             -0.058374143427580086,
             -0.15774569414324865,
             -0.25554110202683167,
             -0.35078322768961984,
             -0.44252044329485246,
             -0.5298361409084934
            ],
            "size": [
             0,
             4.991670832341407,
             9.933466539753061,
             14.77601033306698,
             19.470917115432528,
             23.971276930210152,
             28.232123669751775,
             32.21088436188456,
             35.86780454497614,
             39.16634548137417,
             42.073549240394826,
             44.56036800307177,
             46.60195429836132,
             48.17790927085965,
             49.27248649942301,
             49.874749330202725,
             49.978680152075256,
             49.58324052262343,
             48.69238154390976,
             47.315004384370724,
             45.46487134128409,
             43.160468332443685,
             40.4248201909795,
             37.285260608836005,
             33.77315902755753,
             29.923607205197822,
             25.775068591073207,
             21.368994011691488,
             16.749407507795233,
             11.9624664606991,
             7.0560004029933605,
             2.0790331216645246,
             2.9187071713790043,
             7.887284707162433,
             12.777055101341583,
             17.53916138448099,
             22.126022164742622,
             26.49180704542467
            ]
           },
           "type": "scatter",
           "x": [
            0,
            0.1,
            0.2,
            0.30000000000000004,
            0.4,
            0.5,
            0.6000000000000001,
            0.7000000000000001,
            0.8,
            0.9,
            1,
            1.1,
            1.2000000000000002,
            1.3,
            1.4000000000000001,
            1.5,
            1.6,
            1.7000000000000002,
            1.8,
            1.9000000000000001,
            2,
            2.1,
            2.2,
            2.3000000000000003,
            2.4000000000000004,
            2.5,
            2.6,
            2.7,
            2.8000000000000003,
            2.9000000000000004,
            3,
            3.1,
            3.2,
            3.3000000000000003,
            3.4000000000000004,
            3.5,
            3.6,
            3.7
           ],
           "y": [
            0,
            0.010000000000000002,
            0.04000000000000001,
            0.09000000000000002,
            0.16000000000000003,
            0.25,
            0.3600000000000001,
            0.4900000000000001,
            0.6400000000000001,
            0.81,
            1,
            1.2100000000000002,
            1.4400000000000004,
            1.6900000000000002,
            1.9600000000000004,
            2.25,
            2.5600000000000005,
            2.8900000000000006,
            3.24,
            3.6100000000000003,
            4,
            4.41,
            4.840000000000001,
            5.290000000000001,
            5.760000000000002,
            6.25,
            6.760000000000001,
            7.290000000000001,
            7.840000000000002,
            8.410000000000002,
            9,
            9.610000000000001,
            10.240000000000002,
            10.890000000000002,
            11.560000000000002,
            12.25,
            12.96,
            13.690000000000001
           ]
          }
         ]
        },
        {
         "data": [
          {
           "marker": {
            "color": [
             0,
             0.09983341664682815,
             0.19866933079506122,
             0.2955202066613396,
             0.3894183423086505,
             0.479425538604203,
             0.5646424733950355,
             0.6442176872376911,
             0.7173560908995228,
             0.7833269096274834,
             0.8414709848078965,
             0.8912073600614354,
             0.9320390859672264,
             0.963558185417193,
             0.9854497299884603,
             0.9974949866040544,
             0.9995736030415051,
             0.9916648104524686,
             0.9738476308781951,
             0.9463000876874145,
             0.9092974268256817,
             0.8632093666488737,
             0.8084964038195901,
             0.74570521217672,
             0.6754631805511506,
             0.5984721441039564,
             0.5155013718214642,
             0.4273798802338298,
             0.33498815015590466,
             0.23924932921398198,
             0.1411200080598672,
             0.04158066243329049,
             -0.058374143427580086,
             -0.15774569414324865,
             -0.25554110202683167,
             -0.35078322768961984,
             -0.44252044329485246,
             -0.5298361409084934,
             -0.6118578909427193
            ],
            "size": [
             0,
             4.991670832341407,
             9.933466539753061,
             14.77601033306698,
             19.470917115432528,
             23.971276930210152,
             28.232123669751775,
             32.21088436188456,
             35.86780454497614,
             39.16634548137417,
             42.073549240394826,
             44.56036800307177,
             46.60195429836132,
             48.17790927085965,
             49.27248649942301,
             49.874749330202725,
             49.978680152075256,
             49.58324052262343,
             48.69238154390976,
             47.315004384370724,
             45.46487134128409,
             43.160468332443685,
             40.4248201909795,
             37.285260608836005,
             33.77315902755753,
             29.923607205197822,
             25.775068591073207,
             21.368994011691488,
             16.749407507795233,
             11.9624664606991,
             7.0560004029933605,
             2.0790331216645246,
             2.9187071713790043,
             7.887284707162433,
             12.777055101341583,
             17.53916138448099,
             22.126022164742622,
             26.49180704542467,
             30.592894547135963
            ]
           },
           "type": "scatter",
           "x": [
            0,
            0.1,
            0.2,
            0.30000000000000004,
            0.4,
            0.5,
            0.6000000000000001,
            0.7000000000000001,
            0.8,
            0.9,
            1,
            1.1,
            1.2000000000000002,
            1.3,
            1.4000000000000001,
            1.5,
            1.6,
            1.7000000000000002,
            1.8,
            1.9000000000000001,
            2,
            2.1,
            2.2,
            2.3000000000000003,
            2.4000000000000004,
            2.5,
            2.6,
            2.7,
            2.8000000000000003,
            2.9000000000000004,
            3,
            3.1,
            3.2,
            3.3000000000000003,
            3.4000000000000004,
            3.5,
            3.6,
            3.7,
            3.8000000000000003
           ],
           "y": [
            0,
            0.010000000000000002,
            0.04000000000000001,
            0.09000000000000002,
            0.16000000000000003,
            0.25,
            0.3600000000000001,
            0.4900000000000001,
            0.6400000000000001,
            0.81,
            1,
            1.2100000000000002,
            1.4400000000000004,
            1.6900000000000002,
            1.9600000000000004,
            2.25,
            2.5600000000000005,
            2.8900000000000006,
            3.24,
            3.6100000000000003,
            4,
            4.41,
            4.840000000000001,
            5.290000000000001,
            5.760000000000002,
            6.25,
            6.760000000000001,
            7.290000000000001,
            7.840000000000002,
            8.410000000000002,
            9,
            9.610000000000001,
            10.240000000000002,
            10.890000000000002,
            11.560000000000002,
            12.25,
            12.96,
            13.690000000000001,
            14.440000000000001
           ]
          }
         ]
        },
        {
         "data": [
          {
           "marker": {
            "color": [
             0,
             0.09983341664682815,
             0.19866933079506122,
             0.2955202066613396,
             0.3894183423086505,
             0.479425538604203,
             0.5646424733950355,
             0.6442176872376911,
             0.7173560908995228,
             0.7833269096274834,
             0.8414709848078965,
             0.8912073600614354,
             0.9320390859672264,
             0.963558185417193,
             0.9854497299884603,
             0.9974949866040544,
             0.9995736030415051,
             0.9916648104524686,
             0.9738476308781951,
             0.9463000876874145,
             0.9092974268256817,
             0.8632093666488737,
             0.8084964038195901,
             0.74570521217672,
             0.6754631805511506,
             0.5984721441039564,
             0.5155013718214642,
             0.4273798802338298,
             0.33498815015590466,
             0.23924932921398198,
             0.1411200080598672,
             0.04158066243329049,
             -0.058374143427580086,
             -0.15774569414324865,
             -0.25554110202683167,
             -0.35078322768961984,
             -0.44252044329485246,
             -0.5298361409084934,
             -0.6118578909427193,
             -0.6877661591839741
            ],
            "size": [
             0,
             4.991670832341407,
             9.933466539753061,
             14.77601033306698,
             19.470917115432528,
             23.971276930210152,
             28.232123669751775,
             32.21088436188456,
             35.86780454497614,
             39.16634548137417,
             42.073549240394826,
             44.56036800307177,
             46.60195429836132,
             48.17790927085965,
             49.27248649942301,
             49.874749330202725,
             49.978680152075256,
             49.58324052262343,
             48.69238154390976,
             47.315004384370724,
             45.46487134128409,
             43.160468332443685,
             40.4248201909795,
             37.285260608836005,
             33.77315902755753,
             29.923607205197822,
             25.775068591073207,
             21.368994011691488,
             16.749407507795233,
             11.9624664606991,
             7.0560004029933605,
             2.0790331216645246,
             2.9187071713790043,
             7.887284707162433,
             12.777055101341583,
             17.53916138448099,
             22.126022164742622,
             26.49180704542467,
             30.592894547135963,
             34.388307959198706
            ]
           },
           "type": "scatter",
           "x": [
            0,
            0.1,
            0.2,
            0.30000000000000004,
            0.4,
            0.5,
            0.6000000000000001,
            0.7000000000000001,
            0.8,
            0.9,
            1,
            1.1,
            1.2000000000000002,
            1.3,
            1.4000000000000001,
            1.5,
            1.6,
            1.7000000000000002,
            1.8,
            1.9000000000000001,
            2,
            2.1,
            2.2,
            2.3000000000000003,
            2.4000000000000004,
            2.5,
            2.6,
            2.7,
            2.8000000000000003,
            2.9000000000000004,
            3,
            3.1,
            3.2,
            3.3000000000000003,
            3.4000000000000004,
            3.5,
            3.6,
            3.7,
            3.8000000000000003,
            3.9000000000000004
           ],
           "y": [
            0,
            0.010000000000000002,
            0.04000000000000001,
            0.09000000000000002,
            0.16000000000000003,
            0.25,
            0.3600000000000001,
            0.4900000000000001,
            0.6400000000000001,
            0.81,
            1,
            1.2100000000000002,
            1.4400000000000004,
            1.6900000000000002,
            1.9600000000000004,
            2.25,
            2.5600000000000005,
            2.8900000000000006,
            3.24,
            3.6100000000000003,
            4,
            4.41,
            4.840000000000001,
            5.290000000000001,
            5.760000000000002,
            6.25,
            6.760000000000001,
            7.290000000000001,
            7.840000000000002,
            8.410000000000002,
            9,
            9.610000000000001,
            10.240000000000002,
            10.890000000000002,
            11.560000000000002,
            12.25,
            12.96,
            13.690000000000001,
            14.440000000000001,
            15.210000000000003
           ]
          }
         ]
        },
        {
         "data": [
          {
           "marker": {
            "color": [
             0,
             0.09983341664682815,
             0.19866933079506122,
             0.2955202066613396,
             0.3894183423086505,
             0.479425538604203,
             0.5646424733950355,
             0.6442176872376911,
             0.7173560908995228,
             0.7833269096274834,
             0.8414709848078965,
             0.8912073600614354,
             0.9320390859672264,
             0.963558185417193,
             0.9854497299884603,
             0.9974949866040544,
             0.9995736030415051,
             0.9916648104524686,
             0.9738476308781951,
             0.9463000876874145,
             0.9092974268256817,
             0.8632093666488737,
             0.8084964038195901,
             0.74570521217672,
             0.6754631805511506,
             0.5984721441039564,
             0.5155013718214642,
             0.4273798802338298,
             0.33498815015590466,
             0.23924932921398198,
             0.1411200080598672,
             0.04158066243329049,
             -0.058374143427580086,
             -0.15774569414324865,
             -0.25554110202683167,
             -0.35078322768961984,
             -0.44252044329485246,
             -0.5298361409084934,
             -0.6118578909427193,
             -0.6877661591839741,
             -0.7568024953079282
            ],
            "size": [
             0,
             4.991670832341407,
             9.933466539753061,
             14.77601033306698,
             19.470917115432528,
             23.971276930210152,
             28.232123669751775,
             32.21088436188456,
             35.86780454497614,
             39.16634548137417,
             42.073549240394826,
             44.56036800307177,
             46.60195429836132,
             48.17790927085965,
             49.27248649942301,
             49.874749330202725,
             49.978680152075256,
             49.58324052262343,
             48.69238154390976,
             47.315004384370724,
             45.46487134128409,
             43.160468332443685,
             40.4248201909795,
             37.285260608836005,
             33.77315902755753,
             29.923607205197822,
             25.775068591073207,
             21.368994011691488,
             16.749407507795233,
             11.9624664606991,
             7.0560004029933605,
             2.0790331216645246,
             2.9187071713790043,
             7.887284707162433,
             12.777055101341583,
             17.53916138448099,
             22.126022164742622,
             26.49180704542467,
             30.592894547135963,
             34.388307959198706,
             37.84012476539641
            ]
           },
           "type": "scatter",
           "x": [
            0,
            0.1,
            0.2,
            0.30000000000000004,
            0.4,
            0.5,
            0.6000000000000001,
            0.7000000000000001,
            0.8,
            0.9,
            1,
            1.1,
            1.2000000000000002,
            1.3,
            1.4000000000000001,
            1.5,
            1.6,
            1.7000000000000002,
            1.8,
            1.9000000000000001,
            2,
            2.1,
            2.2,
            2.3000000000000003,
            2.4000000000000004,
            2.5,
            2.6,
            2.7,
            2.8000000000000003,
            2.9000000000000004,
            3,
            3.1,
            3.2,
            3.3000000000000003,
            3.4000000000000004,
            3.5,
            3.6,
            3.7,
            3.8000000000000003,
            3.9000000000000004,
            4
           ],
           "y": [
            0,
            0.010000000000000002,
            0.04000000000000001,
            0.09000000000000002,
            0.16000000000000003,
            0.25,
            0.3600000000000001,
            0.4900000000000001,
            0.6400000000000001,
            0.81,
            1,
            1.2100000000000002,
            1.4400000000000004,
            1.6900000000000002,
            1.9600000000000004,
            2.25,
            2.5600000000000005,
            2.8900000000000006,
            3.24,
            3.6100000000000003,
            4,
            4.41,
            4.840000000000001,
            5.290000000000001,
            5.760000000000002,
            6.25,
            6.760000000000001,
            7.290000000000001,
            7.840000000000002,
            8.410000000000002,
            9,
            9.610000000000001,
            10.240000000000002,
            10.890000000000002,
            11.560000000000002,
            12.25,
            12.96,
            13.690000000000001,
            14.440000000000001,
            15.210000000000003,
            16
           ]
          }
         ]
        },
        {
         "data": [
          {
           "marker": {
            "color": [
             0,
             0.09983341664682815,
             0.19866933079506122,
             0.2955202066613396,
             0.3894183423086505,
             0.479425538604203,
             0.5646424733950355,
             0.6442176872376911,
             0.7173560908995228,
             0.7833269096274834,
             0.8414709848078965,
             0.8912073600614354,
             0.9320390859672264,
             0.963558185417193,
             0.9854497299884603,
             0.9974949866040544,
             0.9995736030415051,
             0.9916648104524686,
             0.9738476308781951,
             0.9463000876874145,
             0.9092974268256817,
             0.8632093666488737,
             0.8084964038195901,
             0.74570521217672,
             0.6754631805511506,
             0.5984721441039564,
             0.5155013718214642,
             0.4273798802338298,
             0.33498815015590466,
             0.23924932921398198,
             0.1411200080598672,
             0.04158066243329049,
             -0.058374143427580086,
             -0.15774569414324865,
             -0.25554110202683167,
             -0.35078322768961984,
             -0.44252044329485246,
             -0.5298361409084934,
             -0.6118578909427193,
             -0.6877661591839741,
             -0.7568024953079282,
             -0.8182771110644108
            ],
            "size": [
             0,
             4.991670832341407,
             9.933466539753061,
             14.77601033306698,
             19.470917115432528,
             23.971276930210152,
             28.232123669751775,
             32.21088436188456,
             35.86780454497614,
             39.16634548137417,
             42.073549240394826,
             44.56036800307177,
             46.60195429836132,
             48.17790927085965,
             49.27248649942301,
             49.874749330202725,
             49.978680152075256,
             49.58324052262343,
             48.69238154390976,
             47.315004384370724,
             45.46487134128409,
             43.160468332443685,
             40.4248201909795,
             37.285260608836005,
             33.77315902755753,
             29.923607205197822,
             25.775068591073207,
             21.368994011691488,
             16.749407507795233,
             11.9624664606991,
             7.0560004029933605,
             2.0790331216645246,
             2.9187071713790043,
             7.887284707162433,
             12.777055101341583,
             17.53916138448099,
             22.126022164742622,
             26.49180704542467,
             30.592894547135963,
             34.388307959198706,
             37.84012476539641,
             40.91385555322054
            ]
           },
           "type": "scatter",
           "x": [
            0,
            0.1,
            0.2,
            0.30000000000000004,
            0.4,
            0.5,
            0.6000000000000001,
            0.7000000000000001,
            0.8,
            0.9,
            1,
            1.1,
            1.2000000000000002,
            1.3,
            1.4000000000000001,
            1.5,
            1.6,
            1.7000000000000002,
            1.8,
            1.9000000000000001,
            2,
            2.1,
            2.2,
            2.3000000000000003,
            2.4000000000000004,
            2.5,
            2.6,
            2.7,
            2.8000000000000003,
            2.9000000000000004,
            3,
            3.1,
            3.2,
            3.3000000000000003,
            3.4000000000000004,
            3.5,
            3.6,
            3.7,
            3.8000000000000003,
            3.9000000000000004,
            4,
            4.1000000000000005
           ],
           "y": [
            0,
            0.010000000000000002,
            0.04000000000000001,
            0.09000000000000002,
            0.16000000000000003,
            0.25,
            0.3600000000000001,
            0.4900000000000001,
            0.6400000000000001,
            0.81,
            1,
            1.2100000000000002,
            1.4400000000000004,
            1.6900000000000002,
            1.9600000000000004,
            2.25,
            2.5600000000000005,
            2.8900000000000006,
            3.24,
            3.6100000000000003,
            4,
            4.41,
            4.840000000000001,
            5.290000000000001,
            5.760000000000002,
            6.25,
            6.760000000000001,
            7.290000000000001,
            7.840000000000002,
            8.410000000000002,
            9,
            9.610000000000001,
            10.240000000000002,
            10.890000000000002,
            11.560000000000002,
            12.25,
            12.96,
            13.690000000000001,
            14.440000000000001,
            15.210000000000003,
            16,
            16.810000000000006
           ]
          }
         ]
        },
        {
         "data": [
          {
           "marker": {
            "color": [
             0,
             0.09983341664682815,
             0.19866933079506122,
             0.2955202066613396,
             0.3894183423086505,
             0.479425538604203,
             0.5646424733950355,
             0.6442176872376911,
             0.7173560908995228,
             0.7833269096274834,
             0.8414709848078965,
             0.8912073600614354,
             0.9320390859672264,
             0.963558185417193,
             0.9854497299884603,
             0.9974949866040544,
             0.9995736030415051,
             0.9916648104524686,
             0.9738476308781951,
             0.9463000876874145,
             0.9092974268256817,
             0.8632093666488737,
             0.8084964038195901,
             0.74570521217672,
             0.6754631805511506,
             0.5984721441039564,
             0.5155013718214642,
             0.4273798802338298,
             0.33498815015590466,
             0.23924932921398198,
             0.1411200080598672,
             0.04158066243329049,
             -0.058374143427580086,
             -0.15774569414324865,
             -0.25554110202683167,
             -0.35078322768961984,
             -0.44252044329485246,
             -0.5298361409084934,
             -0.6118578909427193,
             -0.6877661591839741,
             -0.7568024953079282,
             -0.8182771110644108,
             -0.8715757724135882
            ],
            "size": [
             0,
             4.991670832341407,
             9.933466539753061,
             14.77601033306698,
             19.470917115432528,
             23.971276930210152,
             28.232123669751775,
             32.21088436188456,
             35.86780454497614,
             39.16634548137417,
             42.073549240394826,
             44.56036800307177,
             46.60195429836132,
             48.17790927085965,
             49.27248649942301,
             49.874749330202725,
             49.978680152075256,
             49.58324052262343,
             48.69238154390976,
             47.315004384370724,
             45.46487134128409,
             43.160468332443685,
             40.4248201909795,
             37.285260608836005,
             33.77315902755753,
             29.923607205197822,
             25.775068591073207,
             21.368994011691488,
             16.749407507795233,
             11.9624664606991,
             7.0560004029933605,
             2.0790331216645246,
             2.9187071713790043,
             7.887284707162433,
             12.777055101341583,
             17.53916138448099,
             22.126022164742622,
             26.49180704542467,
             30.592894547135963,
             34.388307959198706,
             37.84012476539641,
             40.91385555322054,
             43.57878862067941
            ]
           },
           "type": "scatter",
           "x": [
            0,
            0.1,
            0.2,
            0.30000000000000004,
            0.4,
            0.5,
            0.6000000000000001,
            0.7000000000000001,
            0.8,
            0.9,
            1,
            1.1,
            1.2000000000000002,
            1.3,
            1.4000000000000001,
            1.5,
            1.6,
            1.7000000000000002,
            1.8,
            1.9000000000000001,
            2,
            2.1,
            2.2,
            2.3000000000000003,
            2.4000000000000004,
            2.5,
            2.6,
            2.7,
            2.8000000000000003,
            2.9000000000000004,
            3,
            3.1,
            3.2,
            3.3000000000000003,
            3.4000000000000004,
            3.5,
            3.6,
            3.7,
            3.8000000000000003,
            3.9000000000000004,
            4,
            4.1000000000000005,
            4.2
           ],
           "y": [
            0,
            0.010000000000000002,
            0.04000000000000001,
            0.09000000000000002,
            0.16000000000000003,
            0.25,
            0.3600000000000001,
            0.4900000000000001,
            0.6400000000000001,
            0.81,
            1,
            1.2100000000000002,
            1.4400000000000004,
            1.6900000000000002,
            1.9600000000000004,
            2.25,
            2.5600000000000005,
            2.8900000000000006,
            3.24,
            3.6100000000000003,
            4,
            4.41,
            4.840000000000001,
            5.290000000000001,
            5.760000000000002,
            6.25,
            6.760000000000001,
            7.290000000000001,
            7.840000000000002,
            8.410000000000002,
            9,
            9.610000000000001,
            10.240000000000002,
            10.890000000000002,
            11.560000000000002,
            12.25,
            12.96,
            13.690000000000001,
            14.440000000000001,
            15.210000000000003,
            16,
            16.810000000000006,
            17.64
           ]
          }
         ]
        },
        {
         "data": [
          {
           "marker": {
            "color": [
             0,
             0.09983341664682815,
             0.19866933079506122,
             0.2955202066613396,
             0.3894183423086505,
             0.479425538604203,
             0.5646424733950355,
             0.6442176872376911,
             0.7173560908995228,
             0.7833269096274834,
             0.8414709848078965,
             0.8912073600614354,
             0.9320390859672264,
             0.963558185417193,
             0.9854497299884603,
             0.9974949866040544,
             0.9995736030415051,
             0.9916648104524686,
             0.9738476308781951,
             0.9463000876874145,
             0.9092974268256817,
             0.8632093666488737,
             0.8084964038195901,
             0.74570521217672,
             0.6754631805511506,
             0.5984721441039564,
             0.5155013718214642,
             0.4273798802338298,
             0.33498815015590466,
             0.23924932921398198,
             0.1411200080598672,
             0.04158066243329049,
             -0.058374143427580086,
             -0.15774569414324865,
             -0.25554110202683167,
             -0.35078322768961984,
             -0.44252044329485246,
             -0.5298361409084934,
             -0.6118578909427193,
             -0.6877661591839741,
             -0.7568024953079282,
             -0.8182771110644108,
             -0.8715757724135882,
             -0.9161659367494549
            ],
            "size": [
             0,
             4.991670832341407,
             9.933466539753061,
             14.77601033306698,
             19.470917115432528,
             23.971276930210152,
             28.232123669751775,
             32.21088436188456,
             35.86780454497614,
             39.16634548137417,
             42.073549240394826,
             44.56036800307177,
             46.60195429836132,
             48.17790927085965,
             49.27248649942301,
             49.874749330202725,
             49.978680152075256,
             49.58324052262343,
             48.69238154390976,
             47.315004384370724,
             45.46487134128409,
             43.160468332443685,
             40.4248201909795,
             37.285260608836005,
             33.77315902755753,
             29.923607205197822,
             25.775068591073207,
             21.368994011691488,
             16.749407507795233,
             11.9624664606991,
             7.0560004029933605,
             2.0790331216645246,
             2.9187071713790043,
             7.887284707162433,
             12.777055101341583,
             17.53916138448099,
             22.126022164742622,
             26.49180704542467,
             30.592894547135963,
             34.388307959198706,
             37.84012476539641,
             40.91385555322054,
             43.57878862067941,
             45.808296837472746
            ]
           },
           "type": "scatter",
           "x": [
            0,
            0.1,
            0.2,
            0.30000000000000004,
            0.4,
            0.5,
            0.6000000000000001,
            0.7000000000000001,
            0.8,
            0.9,
            1,
            1.1,
            1.2000000000000002,
            1.3,
            1.4000000000000001,
            1.5,
            1.6,
            1.7000000000000002,
            1.8,
            1.9000000000000001,
            2,
            2.1,
            2.2,
            2.3000000000000003,
            2.4000000000000004,
            2.5,
            2.6,
            2.7,
            2.8000000000000003,
            2.9000000000000004,
            3,
            3.1,
            3.2,
            3.3000000000000003,
            3.4000000000000004,
            3.5,
            3.6,
            3.7,
            3.8000000000000003,
            3.9000000000000004,
            4,
            4.1000000000000005,
            4.2,
            4.3
           ],
           "y": [
            0,
            0.010000000000000002,
            0.04000000000000001,
            0.09000000000000002,
            0.16000000000000003,
            0.25,
            0.3600000000000001,
            0.4900000000000001,
            0.6400000000000001,
            0.81,
            1,
            1.2100000000000002,
            1.4400000000000004,
            1.6900000000000002,
            1.9600000000000004,
            2.25,
            2.5600000000000005,
            2.8900000000000006,
            3.24,
            3.6100000000000003,
            4,
            4.41,
            4.840000000000001,
            5.290000000000001,
            5.760000000000002,
            6.25,
            6.760000000000001,
            7.290000000000001,
            7.840000000000002,
            8.410000000000002,
            9,
            9.610000000000001,
            10.240000000000002,
            10.890000000000002,
            11.560000000000002,
            12.25,
            12.96,
            13.690000000000001,
            14.440000000000001,
            15.210000000000003,
            16,
            16.810000000000006,
            17.64,
            18.49
           ]
          }
         ]
        },
        {
         "data": [
          {
           "marker": {
            "color": [
             0,
             0.09983341664682815,
             0.19866933079506122,
             0.2955202066613396,
             0.3894183423086505,
             0.479425538604203,
             0.5646424733950355,
             0.6442176872376911,
             0.7173560908995228,
             0.7833269096274834,
             0.8414709848078965,
             0.8912073600614354,
             0.9320390859672264,
             0.963558185417193,
             0.9854497299884603,
             0.9974949866040544,
             0.9995736030415051,
             0.9916648104524686,
             0.9738476308781951,
             0.9463000876874145,
             0.9092974268256817,
             0.8632093666488737,
             0.8084964038195901,
             0.74570521217672,
             0.6754631805511506,
             0.5984721441039564,
             0.5155013718214642,
             0.4273798802338298,
             0.33498815015590466,
             0.23924932921398198,
             0.1411200080598672,
             0.04158066243329049,
             -0.058374143427580086,
             -0.15774569414324865,
             -0.25554110202683167,
             -0.35078322768961984,
             -0.44252044329485246,
             -0.5298361409084934,
             -0.6118578909427193,
             -0.6877661591839741,
             -0.7568024953079282,
             -0.8182771110644108,
             -0.8715757724135882,
             -0.9161659367494549,
             -0.9516020738895161
            ],
            "size": [
             0,
             4.991670832341407,
             9.933466539753061,
             14.77601033306698,
             19.470917115432528,
             23.971276930210152,
             28.232123669751775,
             32.21088436188456,
             35.86780454497614,
             39.16634548137417,
             42.073549240394826,
             44.56036800307177,
             46.60195429836132,
             48.17790927085965,
             49.27248649942301,
             49.874749330202725,
             49.978680152075256,
             49.58324052262343,
             48.69238154390976,
             47.315004384370724,
             45.46487134128409,
             43.160468332443685,
             40.4248201909795,
             37.285260608836005,
             33.77315902755753,
             29.923607205197822,
             25.775068591073207,
             21.368994011691488,
             16.749407507795233,
             11.9624664606991,
             7.0560004029933605,
             2.0790331216645246,
             2.9187071713790043,
             7.887284707162433,
             12.777055101341583,
             17.53916138448099,
             22.126022164742622,
             26.49180704542467,
             30.592894547135963,
             34.388307959198706,
             37.84012476539641,
             40.91385555322054,
             43.57878862067941,
             45.808296837472746,
             47.58010369447581
            ]
           },
           "type": "scatter",
           "x": [
            0,
            0.1,
            0.2,
            0.30000000000000004,
            0.4,
            0.5,
            0.6000000000000001,
            0.7000000000000001,
            0.8,
            0.9,
            1,
            1.1,
            1.2000000000000002,
            1.3,
            1.4000000000000001,
            1.5,
            1.6,
            1.7000000000000002,
            1.8,
            1.9000000000000001,
            2,
            2.1,
            2.2,
            2.3000000000000003,
            2.4000000000000004,
            2.5,
            2.6,
            2.7,
            2.8000000000000003,
            2.9000000000000004,
            3,
            3.1,
            3.2,
            3.3000000000000003,
            3.4000000000000004,
            3.5,
            3.6,
            3.7,
            3.8000000000000003,
            3.9000000000000004,
            4,
            4.1000000000000005,
            4.2,
            4.3,
            4.4
           ],
           "y": [
            0,
            0.010000000000000002,
            0.04000000000000001,
            0.09000000000000002,
            0.16000000000000003,
            0.25,
            0.3600000000000001,
            0.4900000000000001,
            0.6400000000000001,
            0.81,
            1,
            1.2100000000000002,
            1.4400000000000004,
            1.6900000000000002,
            1.9600000000000004,
            2.25,
            2.5600000000000005,
            2.8900000000000006,
            3.24,
            3.6100000000000003,
            4,
            4.41,
            4.840000000000001,
            5.290000000000001,
            5.760000000000002,
            6.25,
            6.760000000000001,
            7.290000000000001,
            7.840000000000002,
            8.410000000000002,
            9,
            9.610000000000001,
            10.240000000000002,
            10.890000000000002,
            11.560000000000002,
            12.25,
            12.96,
            13.690000000000001,
            14.440000000000001,
            15.210000000000003,
            16,
            16.810000000000006,
            17.64,
            18.49,
            19.360000000000003
           ]
          }
         ]
        },
        {
         "data": [
          {
           "marker": {
            "color": [
             0,
             0.09983341664682815,
             0.19866933079506122,
             0.2955202066613396,
             0.3894183423086505,
             0.479425538604203,
             0.5646424733950355,
             0.6442176872376911,
             0.7173560908995228,
             0.7833269096274834,
             0.8414709848078965,
             0.8912073600614354,
             0.9320390859672264,
             0.963558185417193,
             0.9854497299884603,
             0.9974949866040544,
             0.9995736030415051,
             0.9916648104524686,
             0.9738476308781951,
             0.9463000876874145,
             0.9092974268256817,
             0.8632093666488737,
             0.8084964038195901,
             0.74570521217672,
             0.6754631805511506,
             0.5984721441039564,
             0.5155013718214642,
             0.4273798802338298,
             0.33498815015590466,
             0.23924932921398198,
             0.1411200080598672,
             0.04158066243329049,
             -0.058374143427580086,
             -0.15774569414324865,
             -0.25554110202683167,
             -0.35078322768961984,
             -0.44252044329485246,
             -0.5298361409084934,
             -0.6118578909427193,
             -0.6877661591839741,
             -0.7568024953079282,
             -0.8182771110644108,
             -0.8715757724135882,
             -0.9161659367494549,
             -0.9516020738895161,
             -0.977530117665097
            ],
            "size": [
             0,
             4.991670832341407,
             9.933466539753061,
             14.77601033306698,
             19.470917115432528,
             23.971276930210152,
             28.232123669751775,
             32.21088436188456,
             35.86780454497614,
             39.16634548137417,
             42.073549240394826,
             44.56036800307177,
             46.60195429836132,
             48.17790927085965,
             49.27248649942301,
             49.874749330202725,
             49.978680152075256,
             49.58324052262343,
             48.69238154390976,
             47.315004384370724,
             45.46487134128409,
             43.160468332443685,
             40.4248201909795,
             37.285260608836005,
             33.77315902755753,
             29.923607205197822,
             25.775068591073207,
             21.368994011691488,
             16.749407507795233,
             11.9624664606991,
             7.0560004029933605,
             2.0790331216645246,
             2.9187071713790043,
             7.887284707162433,
             12.777055101341583,
             17.53916138448099,
             22.126022164742622,
             26.49180704542467,
             30.592894547135963,
             34.388307959198706,
             37.84012476539641,
             40.91385555322054,
             43.57878862067941,
             45.808296837472746,
             47.58010369447581,
             48.87650588325485
            ]
           },
           "type": "scatter",
           "x": [
            0,
            0.1,
            0.2,
            0.30000000000000004,
            0.4,
            0.5,
            0.6000000000000001,
            0.7000000000000001,
            0.8,
            0.9,
            1,
            1.1,
            1.2000000000000002,
            1.3,
            1.4000000000000001,
            1.5,
            1.6,
            1.7000000000000002,
            1.8,
            1.9000000000000001,
            2,
            2.1,
            2.2,
            2.3000000000000003,
            2.4000000000000004,
            2.5,
            2.6,
            2.7,
            2.8000000000000003,
            2.9000000000000004,
            3,
            3.1,
            3.2,
            3.3000000000000003,
            3.4000000000000004,
            3.5,
            3.6,
            3.7,
            3.8000000000000003,
            3.9000000000000004,
            4,
            4.1000000000000005,
            4.2,
            4.3,
            4.4,
            4.5
           ],
           "y": [
            0,
            0.010000000000000002,
            0.04000000000000001,
            0.09000000000000002,
            0.16000000000000003,
            0.25,
            0.3600000000000001,
            0.4900000000000001,
            0.6400000000000001,
            0.81,
            1,
            1.2100000000000002,
            1.4400000000000004,
            1.6900000000000002,
            1.9600000000000004,
            2.25,
            2.5600000000000005,
            2.8900000000000006,
            3.24,
            3.6100000000000003,
            4,
            4.41,
            4.840000000000001,
            5.290000000000001,
            5.760000000000002,
            6.25,
            6.760000000000001,
            7.290000000000001,
            7.840000000000002,
            8.410000000000002,
            9,
            9.610000000000001,
            10.240000000000002,
            10.890000000000002,
            11.560000000000002,
            12.25,
            12.96,
            13.690000000000001,
            14.440000000000001,
            15.210000000000003,
            16,
            16.810000000000006,
            17.64,
            18.49,
            19.360000000000003,
            20.25
           ]
          }
         ]
        },
        {
         "data": [
          {
           "marker": {
            "color": [
             0,
             0.09983341664682815,
             0.19866933079506122,
             0.2955202066613396,
             0.3894183423086505,
             0.479425538604203,
             0.5646424733950355,
             0.6442176872376911,
             0.7173560908995228,
             0.7833269096274834,
             0.8414709848078965,
             0.8912073600614354,
             0.9320390859672264,
             0.963558185417193,
             0.9854497299884603,
             0.9974949866040544,
             0.9995736030415051,
             0.9916648104524686,
             0.9738476308781951,
             0.9463000876874145,
             0.9092974268256817,
             0.8632093666488737,
             0.8084964038195901,
             0.74570521217672,
             0.6754631805511506,
             0.5984721441039564,
             0.5155013718214642,
             0.4273798802338298,
             0.33498815015590466,
             0.23924932921398198,
             0.1411200080598672,
             0.04158066243329049,
             -0.058374143427580086,
             -0.15774569414324865,
             -0.25554110202683167,
             -0.35078322768961984,
             -0.44252044329485246,
             -0.5298361409084934,
             -0.6118578909427193,
             -0.6877661591839741,
             -0.7568024953079282,
             -0.8182771110644108,
             -0.8715757724135882,
             -0.9161659367494549,
             -0.9516020738895161,
             -0.977530117665097,
             -0.9936910036334645
            ],
            "size": [
             0,
             4.991670832341407,
             9.933466539753061,
             14.77601033306698,
             19.470917115432528,
             23.971276930210152,
             28.232123669751775,
             32.21088436188456,
             35.86780454497614,
             39.16634548137417,
             42.073549240394826,
             44.56036800307177,
             46.60195429836132,
             48.17790927085965,
             49.27248649942301,
             49.874749330202725,
             49.978680152075256,
             49.58324052262343,
             48.69238154390976,
             47.315004384370724,
             45.46487134128409,
             43.160468332443685,
             40.4248201909795,
             37.285260608836005,
             33.77315902755753,
             29.923607205197822,
             25.775068591073207,
             21.368994011691488,
             16.749407507795233,
             11.9624664606991,
             7.0560004029933605,
             2.0790331216645246,
             2.9187071713790043,
             7.887284707162433,
             12.777055101341583,
             17.53916138448099,
             22.126022164742622,
             26.49180704542467,
             30.592894547135963,
             34.388307959198706,
             37.84012476539641,
             40.91385555322054,
             43.57878862067941,
             45.808296837472746,
             47.58010369447581,
             48.87650588325485,
             49.684550181673224
            ]
           },
           "type": "scatter",
           "x": [
            0,
            0.1,
            0.2,
            0.30000000000000004,
            0.4,
            0.5,
            0.6000000000000001,
            0.7000000000000001,
            0.8,
            0.9,
            1,
            1.1,
            1.2000000000000002,
            1.3,
            1.4000000000000001,
            1.5,
            1.6,
            1.7000000000000002,
            1.8,
            1.9000000000000001,
            2,
            2.1,
            2.2,
            2.3000000000000003,
            2.4000000000000004,
            2.5,
            2.6,
            2.7,
            2.8000000000000003,
            2.9000000000000004,
            3,
            3.1,
            3.2,
            3.3000000000000003,
            3.4000000000000004,
            3.5,
            3.6,
            3.7,
            3.8000000000000003,
            3.9000000000000004,
            4,
            4.1000000000000005,
            4.2,
            4.3,
            4.4,
            4.5,
            4.6000000000000005
           ],
           "y": [
            0,
            0.010000000000000002,
            0.04000000000000001,
            0.09000000000000002,
            0.16000000000000003,
            0.25,
            0.3600000000000001,
            0.4900000000000001,
            0.6400000000000001,
            0.81,
            1,
            1.2100000000000002,
            1.4400000000000004,
            1.6900000000000002,
            1.9600000000000004,
            2.25,
            2.5600000000000005,
            2.8900000000000006,
            3.24,
            3.6100000000000003,
            4,
            4.41,
            4.840000000000001,
            5.290000000000001,
            5.760000000000002,
            6.25,
            6.760000000000001,
            7.290000000000001,
            7.840000000000002,
            8.410000000000002,
            9,
            9.610000000000001,
            10.240000000000002,
            10.890000000000002,
            11.560000000000002,
            12.25,
            12.96,
            13.690000000000001,
            14.440000000000001,
            15.210000000000003,
            16,
            16.810000000000006,
            17.64,
            18.49,
            19.360000000000003,
            20.25,
            21.160000000000004
           ]
          }
         ]
        },
        {
         "data": [
          {
           "marker": {
            "color": [
             0,
             0.09983341664682815,
             0.19866933079506122,
             0.2955202066613396,
             0.3894183423086505,
             0.479425538604203,
             0.5646424733950355,
             0.6442176872376911,
             0.7173560908995228,
             0.7833269096274834,
             0.8414709848078965,
             0.8912073600614354,
             0.9320390859672264,
             0.963558185417193,
             0.9854497299884603,
             0.9974949866040544,
             0.9995736030415051,
             0.9916648104524686,
             0.9738476308781951,
             0.9463000876874145,
             0.9092974268256817,
             0.8632093666488737,
             0.8084964038195901,
             0.74570521217672,
             0.6754631805511506,
             0.5984721441039564,
             0.5155013718214642,
             0.4273798802338298,
             0.33498815015590466,
             0.23924932921398198,
             0.1411200080598672,
             0.04158066243329049,
             -0.058374143427580086,
             -0.15774569414324865,
             -0.25554110202683167,
             -0.35078322768961984,
             -0.44252044329485246,
             -0.5298361409084934,
             -0.6118578909427193,
             -0.6877661591839741,
             -0.7568024953079282,
             -0.8182771110644108,
             -0.8715757724135882,
             -0.9161659367494549,
             -0.9516020738895161,
             -0.977530117665097,
             -0.9936910036334645,
             -0.9999232575641008
            ],
            "size": [
             0,
             4.991670832341407,
             9.933466539753061,
             14.77601033306698,
             19.470917115432528,
             23.971276930210152,
             28.232123669751775,
             32.21088436188456,
             35.86780454497614,
             39.16634548137417,
             42.073549240394826,
             44.56036800307177,
             46.60195429836132,
             48.17790927085965,
             49.27248649942301,
             49.874749330202725,
             49.978680152075256,
             49.58324052262343,
             48.69238154390976,
             47.315004384370724,
             45.46487134128409,
             43.160468332443685,
             40.4248201909795,
             37.285260608836005,
             33.77315902755753,
             29.923607205197822,
             25.775068591073207,
             21.368994011691488,
             16.749407507795233,
             11.9624664606991,
             7.0560004029933605,
             2.0790331216645246,
             2.9187071713790043,
             7.887284707162433,
             12.777055101341583,
             17.53916138448099,
             22.126022164742622,
             26.49180704542467,
             30.592894547135963,
             34.388307959198706,
             37.84012476539641,
             40.91385555322054,
             43.57878862067941,
             45.808296837472746,
             47.58010369447581,
             48.87650588325485,
             49.684550181673224,
             49.99616287820504
            ]
           },
           "type": "scatter",
           "x": [
            0,
            0.1,
            0.2,
            0.30000000000000004,
            0.4,
            0.5,
            0.6000000000000001,
            0.7000000000000001,
            0.8,
            0.9,
            1,
            1.1,
            1.2000000000000002,
            1.3,
            1.4000000000000001,
            1.5,
            1.6,
            1.7000000000000002,
            1.8,
            1.9000000000000001,
            2,
            2.1,
            2.2,
            2.3000000000000003,
            2.4000000000000004,
            2.5,
            2.6,
            2.7,
            2.8000000000000003,
            2.9000000000000004,
            3,
            3.1,
            3.2,
            3.3000000000000003,
            3.4000000000000004,
            3.5,
            3.6,
            3.7,
            3.8000000000000003,
            3.9000000000000004,
            4,
            4.1000000000000005,
            4.2,
            4.3,
            4.4,
            4.5,
            4.6000000000000005,
            4.7
           ],
           "y": [
            0,
            0.010000000000000002,
            0.04000000000000001,
            0.09000000000000002,
            0.16000000000000003,
            0.25,
            0.3600000000000001,
            0.4900000000000001,
            0.6400000000000001,
            0.81,
            1,
            1.2100000000000002,
            1.4400000000000004,
            1.6900000000000002,
            1.9600000000000004,
            2.25,
            2.5600000000000005,
            2.8900000000000006,
            3.24,
            3.6100000000000003,
            4,
            4.41,
            4.840000000000001,
            5.290000000000001,
            5.760000000000002,
            6.25,
            6.760000000000001,
            7.290000000000001,
            7.840000000000002,
            8.410000000000002,
            9,
            9.610000000000001,
            10.240000000000002,
            10.890000000000002,
            11.560000000000002,
            12.25,
            12.96,
            13.690000000000001,
            14.440000000000001,
            15.210000000000003,
            16,
            16.810000000000006,
            17.64,
            18.49,
            19.360000000000003,
            20.25,
            21.160000000000004,
            22.090000000000003
           ]
          }
         ]
        },
        {
         "data": [
          {
           "marker": {
            "color": [
             0,
             0.09983341664682815,
             0.19866933079506122,
             0.2955202066613396,
             0.3894183423086505,
             0.479425538604203,
             0.5646424733950355,
             0.6442176872376911,
             0.7173560908995228,
             0.7833269096274834,
             0.8414709848078965,
             0.8912073600614354,
             0.9320390859672264,
             0.963558185417193,
             0.9854497299884603,
             0.9974949866040544,
             0.9995736030415051,
             0.9916648104524686,
             0.9738476308781951,
             0.9463000876874145,
             0.9092974268256817,
             0.8632093666488737,
             0.8084964038195901,
             0.74570521217672,
             0.6754631805511506,
             0.5984721441039564,
             0.5155013718214642,
             0.4273798802338298,
             0.33498815015590466,
             0.23924932921398198,
             0.1411200080598672,
             0.04158066243329049,
             -0.058374143427580086,
             -0.15774569414324865,
             -0.25554110202683167,
             -0.35078322768961984,
             -0.44252044329485246,
             -0.5298361409084934,
             -0.6118578909427193,
             -0.6877661591839741,
             -0.7568024953079282,
             -0.8182771110644108,
             -0.8715757724135882,
             -0.9161659367494549,
             -0.9516020738895161,
             -0.977530117665097,
             -0.9936910036334645,
             -0.9999232575641008,
             -0.9961646088358406
            ],
            "size": [
             0,
             4.991670832341407,
             9.933466539753061,
             14.77601033306698,
             19.470917115432528,
             23.971276930210152,
             28.232123669751775,
             32.21088436188456,
             35.86780454497614,
             39.16634548137417,
             42.073549240394826,
             44.56036800307177,
             46.60195429836132,
             48.17790927085965,
             49.27248649942301,
             49.874749330202725,
             49.978680152075256,
             49.58324052262343,
             48.69238154390976,
             47.315004384370724,
             45.46487134128409,
             43.160468332443685,
             40.4248201909795,
             37.285260608836005,
             33.77315902755753,
             29.923607205197822,
             25.775068591073207,
             21.368994011691488,
             16.749407507795233,
             11.9624664606991,
             7.0560004029933605,
             2.0790331216645246,
             2.9187071713790043,
             7.887284707162433,
             12.777055101341583,
             17.53916138448099,
             22.126022164742622,
             26.49180704542467,
             30.592894547135963,
             34.388307959198706,
             37.84012476539641,
             40.91385555322054,
             43.57878862067941,
             45.808296837472746,
             47.58010369447581,
             48.87650588325485,
             49.684550181673224,
             49.99616287820504,
             49.80823044179203
            ]
           },
           "type": "scatter",
           "x": [
            0,
            0.1,
            0.2,
            0.30000000000000004,
            0.4,
            0.5,
            0.6000000000000001,
            0.7000000000000001,
            0.8,
            0.9,
            1,
            1.1,
            1.2000000000000002,
            1.3,
            1.4000000000000001,
            1.5,
            1.6,
            1.7000000000000002,
            1.8,
            1.9000000000000001,
            2,
            2.1,
            2.2,
            2.3000000000000003,
            2.4000000000000004,
            2.5,
            2.6,
            2.7,
            2.8000000000000003,
            2.9000000000000004,
            3,
            3.1,
            3.2,
            3.3000000000000003,
            3.4000000000000004,
            3.5,
            3.6,
            3.7,
            3.8000000000000003,
            3.9000000000000004,
            4,
            4.1000000000000005,
            4.2,
            4.3,
            4.4,
            4.5,
            4.6000000000000005,
            4.7,
            4.800000000000001
           ],
           "y": [
            0,
            0.010000000000000002,
            0.04000000000000001,
            0.09000000000000002,
            0.16000000000000003,
            0.25,
            0.3600000000000001,
            0.4900000000000001,
            0.6400000000000001,
            0.81,
            1,
            1.2100000000000002,
            1.4400000000000004,
            1.6900000000000002,
            1.9600000000000004,
            2.25,
            2.5600000000000005,
            2.8900000000000006,
            3.24,
            3.6100000000000003,
            4,
            4.41,
            4.840000000000001,
            5.290000000000001,
            5.760000000000002,
            6.25,
            6.760000000000001,
            7.290000000000001,
            7.840000000000002,
            8.410000000000002,
            9,
            9.610000000000001,
            10.240000000000002,
            10.890000000000002,
            11.560000000000002,
            12.25,
            12.96,
            13.690000000000001,
            14.440000000000001,
            15.210000000000003,
            16,
            16.810000000000006,
            17.64,
            18.49,
            19.360000000000003,
            20.25,
            21.160000000000004,
            22.090000000000003,
            23.040000000000006
           ]
          }
         ]
        },
        {
         "data": [
          {
           "marker": {
            "color": [
             0,
             0.09983341664682815,
             0.19866933079506122,
             0.2955202066613396,
             0.3894183423086505,
             0.479425538604203,
             0.5646424733950355,
             0.6442176872376911,
             0.7173560908995228,
             0.7833269096274834,
             0.8414709848078965,
             0.8912073600614354,
             0.9320390859672264,
             0.963558185417193,
             0.9854497299884603,
             0.9974949866040544,
             0.9995736030415051,
             0.9916648104524686,
             0.9738476308781951,
             0.9463000876874145,
             0.9092974268256817,
             0.8632093666488737,
             0.8084964038195901,
             0.74570521217672,
             0.6754631805511506,
             0.5984721441039564,
             0.5155013718214642,
             0.4273798802338298,
             0.33498815015590466,
             0.23924932921398198,
             0.1411200080598672,
             0.04158066243329049,
             -0.058374143427580086,
             -0.15774569414324865,
             -0.25554110202683167,
             -0.35078322768961984,
             -0.44252044329485246,
             -0.5298361409084934,
             -0.6118578909427193,
             -0.6877661591839741,
             -0.7568024953079282,
             -0.8182771110644108,
             -0.8715757724135882,
             -0.9161659367494549,
             -0.9516020738895161,
             -0.977530117665097,
             -0.9936910036334645,
             -0.9999232575641008,
             -0.9961646088358406,
             -0.9824526126243325
            ],
            "size": [
             0,
             4.991670832341407,
             9.933466539753061,
             14.77601033306698,
             19.470917115432528,
             23.971276930210152,
             28.232123669751775,
             32.21088436188456,
             35.86780454497614,
             39.16634548137417,
             42.073549240394826,
             44.56036800307177,
             46.60195429836132,
             48.17790927085965,
             49.27248649942301,
             49.874749330202725,
             49.978680152075256,
             49.58324052262343,
             48.69238154390976,
             47.315004384370724,
             45.46487134128409,
             43.160468332443685,
             40.4248201909795,
             37.285260608836005,
             33.77315902755753,
             29.923607205197822,
             25.775068591073207,
             21.368994011691488,
             16.749407507795233,
             11.9624664606991,
             7.0560004029933605,
             2.0790331216645246,
             2.9187071713790043,
             7.887284707162433,
             12.777055101341583,
             17.53916138448099,
             22.126022164742622,
             26.49180704542467,
             30.592894547135963,
             34.388307959198706,
             37.84012476539641,
             40.91385555322054,
             43.57878862067941,
             45.808296837472746,
             47.58010369447581,
             48.87650588325485,
             49.684550181673224,
             49.99616287820504,
             49.80823044179203,
             49.12263063121662
            ]
           },
           "type": "scatter",
           "x": [
            0,
            0.1,
            0.2,
            0.30000000000000004,
            0.4,
            0.5,
            0.6000000000000001,
            0.7000000000000001,
            0.8,
            0.9,
            1,
            1.1,
            1.2000000000000002,
            1.3,
            1.4000000000000001,
            1.5,
            1.6,
            1.7000000000000002,
            1.8,
            1.9000000000000001,
            2,
            2.1,
            2.2,
            2.3000000000000003,
            2.4000000000000004,
            2.5,
            2.6,
            2.7,
            2.8000000000000003,
            2.9000000000000004,
            3,
            3.1,
            3.2,
            3.3000000000000003,
            3.4000000000000004,
            3.5,
            3.6,
            3.7,
            3.8000000000000003,
            3.9000000000000004,
            4,
            4.1000000000000005,
            4.2,
            4.3,
            4.4,
            4.5,
            4.6000000000000005,
            4.7,
            4.800000000000001,
            4.9
           ],
           "y": [
            0,
            0.010000000000000002,
            0.04000000000000001,
            0.09000000000000002,
            0.16000000000000003,
            0.25,
            0.3600000000000001,
            0.4900000000000001,
            0.6400000000000001,
            0.81,
            1,
            1.2100000000000002,
            1.4400000000000004,
            1.6900000000000002,
            1.9600000000000004,
            2.25,
            2.5600000000000005,
            2.8900000000000006,
            3.24,
            3.6100000000000003,
            4,
            4.41,
            4.840000000000001,
            5.290000000000001,
            5.760000000000002,
            6.25,
            6.760000000000001,
            7.290000000000001,
            7.840000000000002,
            8.410000000000002,
            9,
            9.610000000000001,
            10.240000000000002,
            10.890000000000002,
            11.560000000000002,
            12.25,
            12.96,
            13.690000000000001,
            14.440000000000001,
            15.210000000000003,
            16,
            16.810000000000006,
            17.64,
            18.49,
            19.360000000000003,
            20.25,
            21.160000000000004,
            22.090000000000003,
            23.040000000000006,
            24.010000000000005
           ]
          }
         ]
        }
       ],
       "layout": {
        "legend": {
         "orientation": "h",
         "x": 0.5,
         "xanchor": "center"
        },
        "margin": {
         "b": 0,
         "l": 0,
         "r": 0,
         "t": 30
        },
        "template": {
         "data": {
          "bar": [
           {
            "error_x": {
             "color": "#2a3f5f"
            },
            "error_y": {
             "color": "#2a3f5f"
            },
            "marker": {
             "line": {
              "color": "#E5ECF6",
              "width": 0.5
             }
            },
            "type": "bar"
           }
          ],
          "barpolar": [
           {
            "marker": {
             "line": {
              "color": "#E5ECF6",
              "width": 0.5
             }
            },
            "type": "barpolar"
           }
          ],
          "carpet": [
           {
            "aaxis": {
             "endlinecolor": "#2a3f5f",
             "gridcolor": "white",
             "linecolor": "white",
             "minorgridcolor": "white",
             "startlinecolor": "#2a3f5f"
            },
            "baxis": {
             "endlinecolor": "#2a3f5f",
             "gridcolor": "white",
             "linecolor": "white",
             "minorgridcolor": "white",
             "startlinecolor": "#2a3f5f"
            },
            "type": "carpet"
           }
          ],
          "choropleth": [
           {
            "colorbar": {
             "outlinewidth": 0,
             "ticks": ""
            },
            "type": "choropleth"
           }
          ],
          "contour": [
           {
            "colorbar": {
             "outlinewidth": 0,
             "ticks": ""
            },
            "colorscale": [
             [
              0,
              "#0d0887"
             ],
             [
              0.1111111111111111,
              "#46039f"
             ],
             [
              0.2222222222222222,
              "#7201a8"
             ],
             [
              0.3333333333333333,
              "#9c179e"
             ],
             [
              0.4444444444444444,
              "#bd3786"
             ],
             [
              0.5555555555555556,
              "#d8576b"
             ],
             [
              0.6666666666666666,
              "#ed7953"
             ],
             [
              0.7777777777777778,
              "#fb9f3a"
             ],
             [
              0.8888888888888888,
              "#fdca26"
             ],
             [
              1,
              "#f0f921"
             ]
            ],
            "type": "contour"
           }
          ],
          "contourcarpet": [
           {
            "colorbar": {
             "outlinewidth": 0,
             "ticks": ""
            },
            "type": "contourcarpet"
           }
          ],
          "heatmap": [
           {
            "colorbar": {
             "outlinewidth": 0,
             "ticks": ""
            },
            "colorscale": [
             [
              0,
              "#0d0887"
             ],
             [
              0.1111111111111111,
              "#46039f"
             ],
             [
              0.2222222222222222,
              "#7201a8"
             ],
             [
              0.3333333333333333,
              "#9c179e"
             ],
             [
              0.4444444444444444,
              "#bd3786"
             ],
             [
              0.5555555555555556,
              "#d8576b"
             ],
             [
              0.6666666666666666,
              "#ed7953"
             ],
             [
              0.7777777777777778,
              "#fb9f3a"
             ],
             [
              0.8888888888888888,
              "#fdca26"
             ],
             [
              1,
              "#f0f921"
             ]
            ],
            "type": "heatmap"
           }
          ],
          "heatmapgl": [
           {
            "colorbar": {
             "outlinewidth": 0,
             "ticks": ""
            },
            "colorscale": [
             [
              0,
              "#0d0887"
             ],
             [
              0.1111111111111111,
              "#46039f"
             ],
             [
              0.2222222222222222,
              "#7201a8"
             ],
             [
              0.3333333333333333,
              "#9c179e"
             ],
             [
              0.4444444444444444,
              "#bd3786"
             ],
             [
              0.5555555555555556,
              "#d8576b"
             ],
             [
              0.6666666666666666,
              "#ed7953"
             ],
             [
              0.7777777777777778,
              "#fb9f3a"
             ],
             [
              0.8888888888888888,
              "#fdca26"
             ],
             [
              1,
              "#f0f921"
             ]
            ],
            "type": "heatmapgl"
           }
          ],
          "histogram": [
           {
            "marker": {
             "colorbar": {
              "outlinewidth": 0,
              "ticks": ""
             }
            },
            "type": "histogram"
           }
          ],
          "histogram2d": [
           {
            "colorbar": {
             "outlinewidth": 0,
             "ticks": ""
            },
            "colorscale": [
             [
              0,
              "#0d0887"
             ],
             [
              0.1111111111111111,
              "#46039f"
             ],
             [
              0.2222222222222222,
              "#7201a8"
             ],
             [
              0.3333333333333333,
              "#9c179e"
             ],
             [
              0.4444444444444444,
              "#bd3786"
             ],
             [
              0.5555555555555556,
              "#d8576b"
             ],
             [
              0.6666666666666666,
              "#ed7953"
             ],
             [
              0.7777777777777778,
              "#fb9f3a"
             ],
             [
              0.8888888888888888,
              "#fdca26"
             ],
             [
              1,
              "#f0f921"
             ]
            ],
            "type": "histogram2d"
           }
          ],
          "histogram2dcontour": [
           {
            "colorbar": {
             "outlinewidth": 0,
             "ticks": ""
            },
            "colorscale": [
             [
              0,
              "#0d0887"
             ],
             [
              0.1111111111111111,
              "#46039f"
             ],
             [
              0.2222222222222222,
              "#7201a8"
             ],
             [
              0.3333333333333333,
              "#9c179e"
             ],
             [
              0.4444444444444444,
              "#bd3786"
             ],
             [
              0.5555555555555556,
              "#d8576b"
             ],
             [
              0.6666666666666666,
              "#ed7953"
             ],
             [
              0.7777777777777778,
              "#fb9f3a"
             ],
             [
              0.8888888888888888,
              "#fdca26"
             ],
             [
              1,
              "#f0f921"
             ]
            ],
            "type": "histogram2dcontour"
           }
          ],
          "mesh3d": [
           {
            "colorbar": {
             "outlinewidth": 0,
             "ticks": ""
            },
            "type": "mesh3d"
           }
          ],
          "parcoords": [
           {
            "line": {
             "colorbar": {
              "outlinewidth": 0,
              "ticks": ""
             }
            },
            "type": "parcoords"
           }
          ],
          "pie": [
           {
            "automargin": true,
            "type": "pie"
           }
          ],
          "scatter": [
           {
            "marker": {
             "colorbar": {
              "outlinewidth": 0,
              "ticks": ""
             }
            },
            "type": "scatter"
           }
          ],
          "scatter3d": [
           {
            "line": {
             "colorbar": {
              "outlinewidth": 0,
              "ticks": ""
             }
            },
            "marker": {
             "colorbar": {
              "outlinewidth": 0,
              "ticks": ""
             }
            },
            "type": "scatter3d"
           }
          ],
          "scattercarpet": [
           {
            "marker": {
             "colorbar": {
              "outlinewidth": 0,
              "ticks": ""
             }
            },
            "type": "scattercarpet"
           }
          ],
          "scattergeo": [
           {
            "marker": {
             "colorbar": {
              "outlinewidth": 0,
              "ticks": ""
             }
            },
            "type": "scattergeo"
           }
          ],
          "scattergl": [
           {
            "marker": {
             "colorbar": {
              "outlinewidth": 0,
              "ticks": ""
             }
            },
            "type": "scattergl"
           }
          ],
          "scattermapbox": [
           {
            "marker": {
             "colorbar": {
              "outlinewidth": 0,
              "ticks": ""
             }
            },
            "type": "scattermapbox"
           }
          ],
          "scatterpolar": [
           {
            "marker": {
             "colorbar": {
              "outlinewidth": 0,
              "ticks": ""
             }
            },
            "type": "scatterpolar"
           }
          ],
          "scatterpolargl": [
           {
            "marker": {
             "colorbar": {
              "outlinewidth": 0,
              "ticks": ""
             }
            },
            "type": "scatterpolargl"
           }
          ],
          "scatterternary": [
           {
            "marker": {
             "colorbar": {
              "outlinewidth": 0,
              "ticks": ""
             }
            },
            "type": "scatterternary"
           }
          ],
          "surface": [
           {
            "colorbar": {
             "outlinewidth": 0,
             "ticks": ""
            },
            "colorscale": [
             [
              0,
              "#0d0887"
             ],
             [
              0.1111111111111111,
              "#46039f"
             ],
             [
              0.2222222222222222,
              "#7201a8"
             ],
             [
              0.3333333333333333,
              "#9c179e"
             ],
             [
              0.4444444444444444,
              "#bd3786"
             ],
             [
              0.5555555555555556,
              "#d8576b"
             ],
             [
              0.6666666666666666,
              "#ed7953"
             ],
             [
              0.7777777777777778,
              "#fb9f3a"
             ],
             [
              0.8888888888888888,
              "#fdca26"
             ],
             [
              1,
              "#f0f921"
             ]
            ],
            "type": "surface"
           }
          ],
          "table": [
           {
            "cells": {
             "fill": {
              "color": "#EBF0F8"
             },
             "line": {
              "color": "white"
             }
            },
            "header": {
             "fill": {
              "color": "#C8D4E3"
             },
             "line": {
              "color": "white"
             }
            },
            "type": "table"
           }
          ]
         },
         "layout": {
          "annotationdefaults": {
           "arrowcolor": "#2a3f5f",
           "arrowhead": 0,
           "arrowwidth": 1
          },
          "autotypenumbers": "strict",
          "coloraxis": {
           "colorbar": {
            "outlinewidth": 0,
            "ticks": ""
           }
          },
          "colorscale": {
           "diverging": [
            [
             0,
             "#8e0152"
            ],
            [
             0.1,
             "#c51b7d"
            ],
            [
             0.2,
             "#de77ae"
            ],
            [
             0.3,
             "#f1b6da"
            ],
            [
             0.4,
             "#fde0ef"
            ],
            [
             0.5,
             "#f7f7f7"
            ],
            [
             0.6,
             "#e6f5d0"
            ],
            [
             0.7,
             "#b8e186"
            ],
            [
             0.8,
             "#7fbc41"
            ],
            [
             0.9,
             "#4d9221"
            ],
            [
             1,
             "#276419"
            ]
           ],
           "sequential": [
            [
             0,
             "#0d0887"
            ],
            [
             0.1111111111111111,
             "#46039f"
            ],
            [
             0.2222222222222222,
             "#7201a8"
            ],
            [
             0.3333333333333333,
             "#9c179e"
            ],
            [
             0.4444444444444444,
             "#bd3786"
            ],
            [
             0.5555555555555556,
             "#d8576b"
            ],
            [
             0.6666666666666666,
             "#ed7953"
            ],
            [
             0.7777777777777778,
             "#fb9f3a"
            ],
            [
             0.8888888888888888,
             "#fdca26"
            ],
            [
             1,
             "#f0f921"
            ]
           ],
           "sequentialminus": [
            [
             0,
             "#0d0887"
            ],
            [
             0.1111111111111111,
             "#46039f"
            ],
            [
             0.2222222222222222,
             "#7201a8"
            ],
            [
             0.3333333333333333,
             "#9c179e"
            ],
            [
             0.4444444444444444,
             "#bd3786"
            ],
            [
             0.5555555555555556,
             "#d8576b"
            ],
            [
             0.6666666666666666,
             "#ed7953"
            ],
            [
             0.7777777777777778,
             "#fb9f3a"
            ],
            [
             0.8888888888888888,
             "#fdca26"
            ],
            [
             1,
             "#f0f921"
            ]
           ]
          },
          "colorway": [
           "#636efa",
           "#EF553B",
           "#00cc96",
           "#ab63fa",
           "#FFA15A",
           "#19d3f3",
           "#FF6692",
           "#B6E880",
           "#FF97FF",
           "#FECB52"
          ],
          "font": {
           "color": "#2a3f5f"
          },
          "geo": {
           "bgcolor": "white",
           "lakecolor": "white",
           "landcolor": "#E5ECF6",
           "showlakes": true,
           "showland": true,
           "subunitcolor": "white"
          },
          "hoverlabel": {
           "align": "left"
          },
          "hovermode": "closest",
          "mapbox": {
           "style": "light"
          },
          "paper_bgcolor": "white",
          "plot_bgcolor": "#E5ECF6",
          "polar": {
           "angularaxis": {
            "gridcolor": "white",
            "linecolor": "white",
            "ticks": ""
           },
           "bgcolor": "#E5ECF6",
           "radialaxis": {
            "gridcolor": "white",
            "linecolor": "white",
            "ticks": ""
           }
          },
          "scene": {
           "xaxis": {
            "backgroundcolor": "#E5ECF6",
            "gridcolor": "white",
            "gridwidth": 2,
            "linecolor": "white",
            "showbackground": true,
            "ticks": "",
            "zerolinecolor": "white"
           },
           "yaxis": {
            "backgroundcolor": "#E5ECF6",
            "gridcolor": "white",
            "gridwidth": 2,
            "linecolor": "white",
            "showbackground": true,
            "ticks": "",
            "zerolinecolor": "white"
           },
           "zaxis": {
            "backgroundcolor": "#E5ECF6",
            "gridcolor": "white",
            "gridwidth": 2,
            "linecolor": "white",
            "showbackground": true,
            "ticks": "",
            "zerolinecolor": "white"
           }
          },
          "shapedefaults": {
           "line": {
            "color": "#2a3f5f"
           }
          },
          "ternary": {
           "aaxis": {
            "gridcolor": "white",
            "linecolor": "white",
            "ticks": ""
           },
           "baxis": {
            "gridcolor": "white",
            "linecolor": "white",
            "ticks": ""
           },
           "bgcolor": "#E5ECF6",
           "caxis": {
            "gridcolor": "white",
            "linecolor": "white",
            "ticks": ""
           }
          },
          "title": {
           "x": 0.05
          },
          "xaxis": {
           "automargin": true,
           "gridcolor": "white",
           "linecolor": "white",
           "ticks": "",
           "title": {
            "standoff": 15
           },
           "zerolinecolor": "white",
           "zerolinewidth": 2
          },
          "yaxis": {
           "automargin": true,
           "gridcolor": "white",
           "linecolor": "white",
           "ticks": "",
           "title": {
            "standoff": 15
           },
           "zerolinecolor": "white",
           "zerolinewidth": 2
          }
         }
        },
        "updatemenus": [
         {
          "buttons": [
           {
            "args": [
             null,
             {
              "fromcurrent": true
             }
            ],
            "label": "►",
            "method": "animate"
           },
           {
            "args": [
             [
              null
             ],
             {
              "frame": {
               "duration": 0,
               "redraw": false
              },
              "mode": "immediate",
              "transition": {
               "duration": 0
              }
             }
            ],
            "label": "❚❚",
            "method": "animate"
           }
          ],
          "type": "buttons"
         }
        ]
       }
      },
      "text/html": [
       "<div>                            <div id=\"7f018130-98ba-42f1-988a-98f187e7a692\" class=\"plotly-graph-div\" style=\"height:525px; width:100%;\"></div>            <script type=\"text/javascript\">                require([\"plotly\"], function(Plotly) {                    window.PLOTLYENV=window.PLOTLYENV || {};                                    if (document.getElementById(\"7f018130-98ba-42f1-988a-98f187e7a692\")) {                    Plotly.newPlot(                        \"7f018130-98ba-42f1-988a-98f187e7a692\",                        [{\"hoverinfo\": \"all\", \"hovertemplate\": \"\\u0410\\u0440\\u0433\\u0443\\u043c\\u0435\\u043d\\u0442: %{x}<br>\\u0424\\u0443\\u043d\\u043a\\u0446\\u0438\\u044f: %{y}\", \"marker\": {\"color\": [0.0, 0.09983341664682815, 0.19866933079506122, 0.2955202066613396, 0.3894183423086505, 0.479425538604203, 0.5646424733950355, 0.6442176872376911, 0.7173560908995228, 0.7833269096274834, 0.8414709848078965, 0.8912073600614354, 0.9320390859672264, 0.963558185417193, 0.9854497299884603, 0.9974949866040544, 0.9995736030415051, 0.9916648104524686, 0.9738476308781951, 0.9463000876874145, 0.9092974268256817, 0.8632093666488737, 0.8084964038195901, 0.74570521217672, 0.6754631805511506, 0.5984721441039564, 0.5155013718214642, 0.4273798802338298, 0.33498815015590466, 0.23924932921398198, 0.1411200080598672, 0.04158066243329049, -0.058374143427580086, -0.15774569414324865, -0.25554110202683167, -0.35078322768961984, -0.44252044329485246, -0.5298361409084934, -0.6118578909427193, -0.6877661591839741, -0.7568024953079282, -0.8182771110644108, -0.8715757724135882, -0.9161659367494549, -0.9516020738895161, -0.977530117665097, -0.9936910036334645, -0.9999232575641008, -0.9961646088358406, -0.9824526126243325], \"colorbar\": {\"title\": {\"text\": \"h(x)=sin(x)\"}}, \"colorscale\": [[0.0, \"#000004\"], [0.1111111111111111, \"#1b0c41\"], [0.2222222222222222, \"#4a0c6b\"], [0.3333333333333333, \"#781c6d\"], [0.4444444444444444, \"#a52c60\"], [0.5555555555555556, \"#cf4446\"], [0.6666666666666666, \"#ed6925\"], [0.7777777777777778, \"#fb9b06\"], [0.8888888888888888, \"#f7d13d\"], [1.0, \"#fcffa4\"]], \"size\": [0.0, 2.9950024994048445, 5.960079923851836, 8.865606199840188, 11.682550269259515, 14.38276615812609, 16.939274201851063, 19.326530617130732, 21.520682726985683, 23.499807288824503, 25.244129544236895, 26.73622080184306, 27.961172579016793, 28.906745562515788, 29.56349189965381, 29.924849598121632, 29.987208091245154, 29.74994431357406, 29.215428926345854, 28.389002630622436, 27.278922804770453, 25.89628099946621, 24.254892114587705, 22.3711563653016, 20.263895416534517, 17.954164323118693, 15.465041154643925, 12.821396407014893, 10.04964450467714, 7.17747987641946, 4.233600241796016, 1.2474198729987147, 1.7512243028274026, 4.73237082429746, 7.6662330608049505, 10.523496830688595, 13.275613298845574, 15.895084227254802, 18.355736728281578, 20.632984775519223, 22.704074859237846, 24.548313331932324, 26.147273172407644, 27.484978102483648, 28.548062216685484, 29.32590352995291, 29.810730109003934, 29.997697726923025, 29.884938265075217, 29.473578378729975]}, \"mode\": \"lines+markers\", \"name\": \"f(x)=x<sup>2</sup>\", \"type\": \"scatter\", \"x\": [0.0, 0.1, 0.2, 0.30000000000000004, 0.4, 0.5, 0.6000000000000001, 0.7000000000000001, 0.8, 0.9, 1.0, 1.1, 1.2000000000000002, 1.3, 1.4000000000000001, 1.5, 1.6, 1.7000000000000002, 1.8, 1.9000000000000001, 2.0, 2.1, 2.2, 2.3000000000000003, 2.4000000000000004, 2.5, 2.6, 2.7, 2.8000000000000003, 2.9000000000000004, 3.0, 3.1, 3.2, 3.3000000000000003, 3.4000000000000004, 3.5, 3.6, 3.7, 3.8000000000000003, 3.9000000000000004, 4.0, 4.1000000000000005, 4.2, 4.3, 4.4, 4.5, 4.6000000000000005, 4.7, 4.800000000000001, 4.9], \"y\": [0.0, 0.010000000000000002, 0.04000000000000001, 0.09000000000000002, 0.16000000000000003, 0.25, 0.3600000000000001, 0.4900000000000001, 0.6400000000000001, 0.81, 1.0, 1.2100000000000002, 1.4400000000000004, 1.6900000000000002, 1.9600000000000004, 2.25, 2.5600000000000005, 2.8900000000000006, 3.24, 3.6100000000000003, 4.0, 4.41, 4.840000000000001, 5.290000000000001, 5.760000000000002, 6.25, 6.760000000000001, 7.290000000000001, 7.840000000000002, 8.410000000000002, 9.0, 9.610000000000001, 10.240000000000002, 10.890000000000002, 11.560000000000002, 12.25, 12.96, 13.690000000000001, 14.440000000000001, 15.210000000000003, 16.0, 16.810000000000006, 17.64, 18.49, 19.360000000000003, 20.25, 21.160000000000004, 22.090000000000003, 23.040000000000006, 24.010000000000005]}],                        {\"legend\": {\"orientation\": \"h\", \"x\": 0.5, \"xanchor\": \"center\"}, \"margin\": {\"b\": 0, \"l\": 0, \"r\": 0, \"t\": 30}, \"template\": {\"data\": {\"bar\": [{\"error_x\": {\"color\": \"#2a3f5f\"}, \"error_y\": {\"color\": \"#2a3f5f\"}, \"marker\": {\"line\": {\"color\": \"#E5ECF6\", \"width\": 0.5}}, \"type\": \"bar\"}], \"barpolar\": [{\"marker\": {\"line\": {\"color\": \"#E5ECF6\", \"width\": 0.5}}, \"type\": \"barpolar\"}], \"carpet\": [{\"aaxis\": {\"endlinecolor\": \"#2a3f5f\", \"gridcolor\": \"white\", \"linecolor\": \"white\", \"minorgridcolor\": \"white\", \"startlinecolor\": \"#2a3f5f\"}, \"baxis\": {\"endlinecolor\": \"#2a3f5f\", \"gridcolor\": \"white\", \"linecolor\": \"white\", \"minorgridcolor\": \"white\", \"startlinecolor\": \"#2a3f5f\"}, \"type\": \"carpet\"}], \"choropleth\": [{\"colorbar\": {\"outlinewidth\": 0, \"ticks\": \"\"}, \"type\": \"choropleth\"}], \"contour\": [{\"colorbar\": {\"outlinewidth\": 0, \"ticks\": \"\"}, \"colorscale\": [[0.0, \"#0d0887\"], [0.1111111111111111, \"#46039f\"], [0.2222222222222222, \"#7201a8\"], [0.3333333333333333, \"#9c179e\"], [0.4444444444444444, \"#bd3786\"], [0.5555555555555556, \"#d8576b\"], [0.6666666666666666, \"#ed7953\"], [0.7777777777777778, \"#fb9f3a\"], [0.8888888888888888, \"#fdca26\"], [1.0, \"#f0f921\"]], \"type\": \"contour\"}], \"contourcarpet\": [{\"colorbar\": {\"outlinewidth\": 0, \"ticks\": \"\"}, \"type\": \"contourcarpet\"}], \"heatmap\": [{\"colorbar\": {\"outlinewidth\": 0, \"ticks\": \"\"}, \"colorscale\": [[0.0, \"#0d0887\"], [0.1111111111111111, \"#46039f\"], [0.2222222222222222, \"#7201a8\"], [0.3333333333333333, \"#9c179e\"], [0.4444444444444444, \"#bd3786\"], [0.5555555555555556, \"#d8576b\"], [0.6666666666666666, \"#ed7953\"], [0.7777777777777778, \"#fb9f3a\"], [0.8888888888888888, \"#fdca26\"], [1.0, \"#f0f921\"]], \"type\": \"heatmap\"}], \"heatmapgl\": [{\"colorbar\": {\"outlinewidth\": 0, \"ticks\": \"\"}, \"colorscale\": [[0.0, \"#0d0887\"], [0.1111111111111111, \"#46039f\"], [0.2222222222222222, \"#7201a8\"], [0.3333333333333333, \"#9c179e\"], [0.4444444444444444, \"#bd3786\"], [0.5555555555555556, \"#d8576b\"], [0.6666666666666666, \"#ed7953\"], [0.7777777777777778, \"#fb9f3a\"], [0.8888888888888888, \"#fdca26\"], [1.0, \"#f0f921\"]], \"type\": \"heatmapgl\"}], \"histogram\": [{\"marker\": {\"colorbar\": {\"outlinewidth\": 0, \"ticks\": \"\"}}, \"type\": \"histogram\"}], \"histogram2d\": [{\"colorbar\": {\"outlinewidth\": 0, \"ticks\": \"\"}, \"colorscale\": [[0.0, \"#0d0887\"], [0.1111111111111111, \"#46039f\"], [0.2222222222222222, \"#7201a8\"], [0.3333333333333333, \"#9c179e\"], [0.4444444444444444, \"#bd3786\"], [0.5555555555555556, \"#d8576b\"], [0.6666666666666666, \"#ed7953\"], [0.7777777777777778, \"#fb9f3a\"], [0.8888888888888888, \"#fdca26\"], [1.0, \"#f0f921\"]], \"type\": \"histogram2d\"}], \"histogram2dcontour\": [{\"colorbar\": {\"outlinewidth\": 0, \"ticks\": \"\"}, \"colorscale\": [[0.0, \"#0d0887\"], [0.1111111111111111, \"#46039f\"], [0.2222222222222222, \"#7201a8\"], [0.3333333333333333, \"#9c179e\"], [0.4444444444444444, \"#bd3786\"], [0.5555555555555556, \"#d8576b\"], [0.6666666666666666, \"#ed7953\"], [0.7777777777777778, \"#fb9f3a\"], [0.8888888888888888, \"#fdca26\"], [1.0, \"#f0f921\"]], \"type\": \"histogram2dcontour\"}], \"mesh3d\": [{\"colorbar\": {\"outlinewidth\": 0, \"ticks\": \"\"}, \"type\": \"mesh3d\"}], \"parcoords\": [{\"line\": {\"colorbar\": {\"outlinewidth\": 0, \"ticks\": \"\"}}, \"type\": \"parcoords\"}], \"pie\": [{\"automargin\": true, \"type\": \"pie\"}], \"scatter\": [{\"marker\": {\"colorbar\": {\"outlinewidth\": 0, \"ticks\": \"\"}}, \"type\": \"scatter\"}], \"scatter3d\": [{\"line\": {\"colorbar\": {\"outlinewidth\": 0, \"ticks\": \"\"}}, \"marker\": {\"colorbar\": {\"outlinewidth\": 0, \"ticks\": \"\"}}, \"type\": \"scatter3d\"}], \"scattercarpet\": [{\"marker\": {\"colorbar\": {\"outlinewidth\": 0, \"ticks\": \"\"}}, \"type\": \"scattercarpet\"}], \"scattergeo\": [{\"marker\": {\"colorbar\": {\"outlinewidth\": 0, \"ticks\": \"\"}}, \"type\": \"scattergeo\"}], \"scattergl\": [{\"marker\": {\"colorbar\": {\"outlinewidth\": 0, \"ticks\": \"\"}}, \"type\": \"scattergl\"}], \"scattermapbox\": [{\"marker\": {\"colorbar\": {\"outlinewidth\": 0, \"ticks\": \"\"}}, \"type\": \"scattermapbox\"}], \"scatterpolar\": [{\"marker\": {\"colorbar\": {\"outlinewidth\": 0, \"ticks\": \"\"}}, \"type\": \"scatterpolar\"}], \"scatterpolargl\": [{\"marker\": {\"colorbar\": {\"outlinewidth\": 0, \"ticks\": \"\"}}, \"type\": \"scatterpolargl\"}], \"scatterternary\": [{\"marker\": {\"colorbar\": {\"outlinewidth\": 0, \"ticks\": \"\"}}, \"type\": \"scatterternary\"}], \"surface\": [{\"colorbar\": {\"outlinewidth\": 0, \"ticks\": \"\"}, \"colorscale\": [[0.0, \"#0d0887\"], [0.1111111111111111, \"#46039f\"], [0.2222222222222222, \"#7201a8\"], [0.3333333333333333, \"#9c179e\"], [0.4444444444444444, \"#bd3786\"], [0.5555555555555556, \"#d8576b\"], [0.6666666666666666, \"#ed7953\"], [0.7777777777777778, \"#fb9f3a\"], [0.8888888888888888, \"#fdca26\"], [1.0, \"#f0f921\"]], \"type\": \"surface\"}], \"table\": [{\"cells\": {\"fill\": {\"color\": \"#EBF0F8\"}, \"line\": {\"color\": \"white\"}}, \"header\": {\"fill\": {\"color\": \"#C8D4E3\"}, \"line\": {\"color\": \"white\"}}, \"type\": \"table\"}]}, \"layout\": {\"annotationdefaults\": {\"arrowcolor\": \"#2a3f5f\", \"arrowhead\": 0, \"arrowwidth\": 1}, \"autotypenumbers\": \"strict\", \"coloraxis\": {\"colorbar\": {\"outlinewidth\": 0, \"ticks\": \"\"}}, \"colorscale\": {\"diverging\": [[0, \"#8e0152\"], [0.1, \"#c51b7d\"], [0.2, \"#de77ae\"], [0.3, \"#f1b6da\"], [0.4, \"#fde0ef\"], [0.5, \"#f7f7f7\"], [0.6, \"#e6f5d0\"], [0.7, \"#b8e186\"], [0.8, \"#7fbc41\"], [0.9, \"#4d9221\"], [1, \"#276419\"]], \"sequential\": [[0.0, \"#0d0887\"], [0.1111111111111111, \"#46039f\"], [0.2222222222222222, \"#7201a8\"], [0.3333333333333333, \"#9c179e\"], [0.4444444444444444, \"#bd3786\"], [0.5555555555555556, \"#d8576b\"], [0.6666666666666666, \"#ed7953\"], [0.7777777777777778, \"#fb9f3a\"], [0.8888888888888888, \"#fdca26\"], [1.0, \"#f0f921\"]], \"sequentialminus\": [[0.0, \"#0d0887\"], [0.1111111111111111, \"#46039f\"], [0.2222222222222222, \"#7201a8\"], [0.3333333333333333, \"#9c179e\"], [0.4444444444444444, \"#bd3786\"], [0.5555555555555556, \"#d8576b\"], [0.6666666666666666, \"#ed7953\"], [0.7777777777777778, \"#fb9f3a\"], [0.8888888888888888, \"#fdca26\"], [1.0, \"#f0f921\"]]}, \"colorway\": [\"#636efa\", \"#EF553B\", \"#00cc96\", \"#ab63fa\", \"#FFA15A\", \"#19d3f3\", \"#FF6692\", \"#B6E880\", \"#FF97FF\", \"#FECB52\"], \"font\": {\"color\": \"#2a3f5f\"}, \"geo\": {\"bgcolor\": \"white\", \"lakecolor\": \"white\", \"landcolor\": \"#E5ECF6\", \"showlakes\": true, \"showland\": true, \"subunitcolor\": \"white\"}, \"hoverlabel\": {\"align\": \"left\"}, \"hovermode\": \"closest\", \"mapbox\": {\"style\": \"light\"}, \"paper_bgcolor\": \"white\", \"plot_bgcolor\": \"#E5ECF6\", \"polar\": {\"angularaxis\": {\"gridcolor\": \"white\", \"linecolor\": \"white\", \"ticks\": \"\"}, \"bgcolor\": \"#E5ECF6\", \"radialaxis\": {\"gridcolor\": \"white\", \"linecolor\": \"white\", \"ticks\": \"\"}}, \"scene\": {\"xaxis\": {\"backgroundcolor\": \"#E5ECF6\", \"gridcolor\": \"white\", \"gridwidth\": 2, \"linecolor\": \"white\", \"showbackground\": true, \"ticks\": \"\", \"zerolinecolor\": \"white\"}, \"yaxis\": {\"backgroundcolor\": \"#E5ECF6\", \"gridcolor\": \"white\", \"gridwidth\": 2, \"linecolor\": \"white\", \"showbackground\": true, \"ticks\": \"\", \"zerolinecolor\": \"white\"}, \"zaxis\": {\"backgroundcolor\": \"#E5ECF6\", \"gridcolor\": \"white\", \"gridwidth\": 2, \"linecolor\": \"white\", \"showbackground\": true, \"ticks\": \"\", \"zerolinecolor\": \"white\"}}, \"shapedefaults\": {\"line\": {\"color\": \"#2a3f5f\"}}, \"ternary\": {\"aaxis\": {\"gridcolor\": \"white\", \"linecolor\": \"white\", \"ticks\": \"\"}, \"baxis\": {\"gridcolor\": \"white\", \"linecolor\": \"white\", \"ticks\": \"\"}, \"bgcolor\": \"#E5ECF6\", \"caxis\": {\"gridcolor\": \"white\", \"linecolor\": \"white\", \"ticks\": \"\"}}, \"title\": {\"x\": 0.05}, \"xaxis\": {\"automargin\": true, \"gridcolor\": \"white\", \"linecolor\": \"white\", \"ticks\": \"\", \"title\": {\"standoff\": 15}, \"zerolinecolor\": \"white\", \"zerolinewidth\": 2}, \"yaxis\": {\"automargin\": true, \"gridcolor\": \"white\", \"linecolor\": \"white\", \"ticks\": \"\", \"title\": {\"standoff\": 15}, \"zerolinecolor\": \"white\", \"zerolinewidth\": 2}}}, \"updatemenus\": [{\"buttons\": [{\"args\": [null, {\"fromcurrent\": true}], \"label\": \"\\u25ba\", \"method\": \"animate\"}, {\"args\": [[null], {\"frame\": {\"duration\": 0, \"redraw\": false}, \"mode\": \"immediate\", \"transition\": {\"duration\": 0}}], \"label\": \"\\u275a\\u275a\", \"method\": \"animate\"}], \"type\": \"buttons\"}]},                        {\"responsive\": true}                    ).then(function(){\n",
       "                            Plotly.addFrames('7f018130-98ba-42f1-988a-98f187e7a692', [{\"data\": [{\"marker\": {\"color\": [0.0, 0.09983341664682815], \"size\": [0.0, 4.991670832341407]}, \"x\": [0.0, 0.1], \"y\": [0.0, 0.010000000000000002], \"type\": \"scatter\"}]}, {\"data\": [{\"marker\": {\"color\": [0.0, 0.09983341664682815, 0.19866933079506122], \"size\": [0.0, 4.991670832341407, 9.933466539753061]}, \"x\": [0.0, 0.1, 0.2], \"y\": [0.0, 0.010000000000000002, 0.04000000000000001], \"type\": \"scatter\"}]}, {\"data\": [{\"marker\": {\"color\": [0.0, 0.09983341664682815, 0.19866933079506122, 0.2955202066613396], \"size\": [0.0, 4.991670832341407, 9.933466539753061, 14.77601033306698]}, \"x\": [0.0, 0.1, 0.2, 0.30000000000000004], \"y\": [0.0, 0.010000000000000002, 0.04000000000000001, 0.09000000000000002], \"type\": \"scatter\"}]}, {\"data\": [{\"marker\": {\"color\": [0.0, 0.09983341664682815, 0.19866933079506122, 0.2955202066613396, 0.3894183423086505], \"size\": [0.0, 4.991670832341407, 9.933466539753061, 14.77601033306698, 19.470917115432528]}, \"x\": [0.0, 0.1, 0.2, 0.30000000000000004, 0.4], \"y\": [0.0, 0.010000000000000002, 0.04000000000000001, 0.09000000000000002, 0.16000000000000003], \"type\": \"scatter\"}]}, {\"data\": [{\"marker\": {\"color\": [0.0, 0.09983341664682815, 0.19866933079506122, 0.2955202066613396, 0.3894183423086505, 0.479425538604203], \"size\": [0.0, 4.991670832341407, 9.933466539753061, 14.77601033306698, 19.470917115432528, 23.971276930210152]}, \"x\": [0.0, 0.1, 0.2, 0.30000000000000004, 0.4, 0.5], \"y\": [0.0, 0.010000000000000002, 0.04000000000000001, 0.09000000000000002, 0.16000000000000003, 0.25], \"type\": \"scatter\"}]}, {\"data\": [{\"marker\": {\"color\": [0.0, 0.09983341664682815, 0.19866933079506122, 0.2955202066613396, 0.3894183423086505, 0.479425538604203, 0.5646424733950355], \"size\": [0.0, 4.991670832341407, 9.933466539753061, 14.77601033306698, 19.470917115432528, 23.971276930210152, 28.232123669751775]}, \"x\": [0.0, 0.1, 0.2, 0.30000000000000004, 0.4, 0.5, 0.6000000000000001], \"y\": [0.0, 0.010000000000000002, 0.04000000000000001, 0.09000000000000002, 0.16000000000000003, 0.25, 0.3600000000000001], \"type\": \"scatter\"}]}, {\"data\": [{\"marker\": {\"color\": [0.0, 0.09983341664682815, 0.19866933079506122, 0.2955202066613396, 0.3894183423086505, 0.479425538604203, 0.5646424733950355, 0.6442176872376911], \"size\": [0.0, 4.991670832341407, 9.933466539753061, 14.77601033306698, 19.470917115432528, 23.971276930210152, 28.232123669751775, 32.21088436188456]}, \"x\": [0.0, 0.1, 0.2, 0.30000000000000004, 0.4, 0.5, 0.6000000000000001, 0.7000000000000001], \"y\": [0.0, 0.010000000000000002, 0.04000000000000001, 0.09000000000000002, 0.16000000000000003, 0.25, 0.3600000000000001, 0.4900000000000001], \"type\": \"scatter\"}]}, {\"data\": [{\"marker\": {\"color\": [0.0, 0.09983341664682815, 0.19866933079506122, 0.2955202066613396, 0.3894183423086505, 0.479425538604203, 0.5646424733950355, 0.6442176872376911, 0.7173560908995228], \"size\": [0.0, 4.991670832341407, 9.933466539753061, 14.77601033306698, 19.470917115432528, 23.971276930210152, 28.232123669751775, 32.21088436188456, 35.86780454497614]}, \"x\": [0.0, 0.1, 0.2, 0.30000000000000004, 0.4, 0.5, 0.6000000000000001, 0.7000000000000001, 0.8], \"y\": [0.0, 0.010000000000000002, 0.04000000000000001, 0.09000000000000002, 0.16000000000000003, 0.25, 0.3600000000000001, 0.4900000000000001, 0.6400000000000001], \"type\": \"scatter\"}]}, {\"data\": [{\"marker\": {\"color\": [0.0, 0.09983341664682815, 0.19866933079506122, 0.2955202066613396, 0.3894183423086505, 0.479425538604203, 0.5646424733950355, 0.6442176872376911, 0.7173560908995228, 0.7833269096274834], \"size\": [0.0, 4.991670832341407, 9.933466539753061, 14.77601033306698, 19.470917115432528, 23.971276930210152, 28.232123669751775, 32.21088436188456, 35.86780454497614, 39.16634548137417]}, \"x\": [0.0, 0.1, 0.2, 0.30000000000000004, 0.4, 0.5, 0.6000000000000001, 0.7000000000000001, 0.8, 0.9], \"y\": [0.0, 0.010000000000000002, 0.04000000000000001, 0.09000000000000002, 0.16000000000000003, 0.25, 0.3600000000000001, 0.4900000000000001, 0.6400000000000001, 0.81], \"type\": \"scatter\"}]}, {\"data\": [{\"marker\": {\"color\": [0.0, 0.09983341664682815, 0.19866933079506122, 0.2955202066613396, 0.3894183423086505, 0.479425538604203, 0.5646424733950355, 0.6442176872376911, 0.7173560908995228, 0.7833269096274834, 0.8414709848078965], \"size\": [0.0, 4.991670832341407, 9.933466539753061, 14.77601033306698, 19.470917115432528, 23.971276930210152, 28.232123669751775, 32.21088436188456, 35.86780454497614, 39.16634548137417, 42.073549240394826]}, \"x\": [0.0, 0.1, 0.2, 0.30000000000000004, 0.4, 0.5, 0.6000000000000001, 0.7000000000000001, 0.8, 0.9, 1.0], \"y\": [0.0, 0.010000000000000002, 0.04000000000000001, 0.09000000000000002, 0.16000000000000003, 0.25, 0.3600000000000001, 0.4900000000000001, 0.6400000000000001, 0.81, 1.0], \"type\": \"scatter\"}]}, {\"data\": [{\"marker\": {\"color\": [0.0, 0.09983341664682815, 0.19866933079506122, 0.2955202066613396, 0.3894183423086505, 0.479425538604203, 0.5646424733950355, 0.6442176872376911, 0.7173560908995228, 0.7833269096274834, 0.8414709848078965, 0.8912073600614354], \"size\": [0.0, 4.991670832341407, 9.933466539753061, 14.77601033306698, 19.470917115432528, 23.971276930210152, 28.232123669751775, 32.21088436188456, 35.86780454497614, 39.16634548137417, 42.073549240394826, 44.56036800307177]}, \"x\": [0.0, 0.1, 0.2, 0.30000000000000004, 0.4, 0.5, 0.6000000000000001, 0.7000000000000001, 0.8, 0.9, 1.0, 1.1], \"y\": [0.0, 0.010000000000000002, 0.04000000000000001, 0.09000000000000002, 0.16000000000000003, 0.25, 0.3600000000000001, 0.4900000000000001, 0.6400000000000001, 0.81, 1.0, 1.2100000000000002], \"type\": \"scatter\"}]}, {\"data\": [{\"marker\": {\"color\": [0.0, 0.09983341664682815, 0.19866933079506122, 0.2955202066613396, 0.3894183423086505, 0.479425538604203, 0.5646424733950355, 0.6442176872376911, 0.7173560908995228, 0.7833269096274834, 0.8414709848078965, 0.8912073600614354, 0.9320390859672264], \"size\": [0.0, 4.991670832341407, 9.933466539753061, 14.77601033306698, 19.470917115432528, 23.971276930210152, 28.232123669751775, 32.21088436188456, 35.86780454497614, 39.16634548137417, 42.073549240394826, 44.56036800307177, 46.60195429836132]}, \"x\": [0.0, 0.1, 0.2, 0.30000000000000004, 0.4, 0.5, 0.6000000000000001, 0.7000000000000001, 0.8, 0.9, 1.0, 1.1, 1.2000000000000002], \"y\": [0.0, 0.010000000000000002, 0.04000000000000001, 0.09000000000000002, 0.16000000000000003, 0.25, 0.3600000000000001, 0.4900000000000001, 0.6400000000000001, 0.81, 1.0, 1.2100000000000002, 1.4400000000000004], \"type\": \"scatter\"}]}, {\"data\": [{\"marker\": {\"color\": [0.0, 0.09983341664682815, 0.19866933079506122, 0.2955202066613396, 0.3894183423086505, 0.479425538604203, 0.5646424733950355, 0.6442176872376911, 0.7173560908995228, 0.7833269096274834, 0.8414709848078965, 0.8912073600614354, 0.9320390859672264, 0.963558185417193], \"size\": [0.0, 4.991670832341407, 9.933466539753061, 14.77601033306698, 19.470917115432528, 23.971276930210152, 28.232123669751775, 32.21088436188456, 35.86780454497614, 39.16634548137417, 42.073549240394826, 44.56036800307177, 46.60195429836132, 48.17790927085965]}, \"x\": [0.0, 0.1, 0.2, 0.30000000000000004, 0.4, 0.5, 0.6000000000000001, 0.7000000000000001, 0.8, 0.9, 1.0, 1.1, 1.2000000000000002, 1.3], \"y\": [0.0, 0.010000000000000002, 0.04000000000000001, 0.09000000000000002, 0.16000000000000003, 0.25, 0.3600000000000001, 0.4900000000000001, 0.6400000000000001, 0.81, 1.0, 1.2100000000000002, 1.4400000000000004, 1.6900000000000002], \"type\": \"scatter\"}]}, {\"data\": [{\"marker\": {\"color\": [0.0, 0.09983341664682815, 0.19866933079506122, 0.2955202066613396, 0.3894183423086505, 0.479425538604203, 0.5646424733950355, 0.6442176872376911, 0.7173560908995228, 0.7833269096274834, 0.8414709848078965, 0.8912073600614354, 0.9320390859672264, 0.963558185417193, 0.9854497299884603], \"size\": [0.0, 4.991670832341407, 9.933466539753061, 14.77601033306698, 19.470917115432528, 23.971276930210152, 28.232123669751775, 32.21088436188456, 35.86780454497614, 39.16634548137417, 42.073549240394826, 44.56036800307177, 46.60195429836132, 48.17790927085965, 49.27248649942301]}, \"x\": [0.0, 0.1, 0.2, 0.30000000000000004, 0.4, 0.5, 0.6000000000000001, 0.7000000000000001, 0.8, 0.9, 1.0, 1.1, 1.2000000000000002, 1.3, 1.4000000000000001], \"y\": [0.0, 0.010000000000000002, 0.04000000000000001, 0.09000000000000002, 0.16000000000000003, 0.25, 0.3600000000000001, 0.4900000000000001, 0.6400000000000001, 0.81, 1.0, 1.2100000000000002, 1.4400000000000004, 1.6900000000000002, 1.9600000000000004], \"type\": \"scatter\"}]}, {\"data\": [{\"marker\": {\"color\": [0.0, 0.09983341664682815, 0.19866933079506122, 0.2955202066613396, 0.3894183423086505, 0.479425538604203, 0.5646424733950355, 0.6442176872376911, 0.7173560908995228, 0.7833269096274834, 0.8414709848078965, 0.8912073600614354, 0.9320390859672264, 0.963558185417193, 0.9854497299884603, 0.9974949866040544], \"size\": [0.0, 4.991670832341407, 9.933466539753061, 14.77601033306698, 19.470917115432528, 23.971276930210152, 28.232123669751775, 32.21088436188456, 35.86780454497614, 39.16634548137417, 42.073549240394826, 44.56036800307177, 46.60195429836132, 48.17790927085965, 49.27248649942301, 49.874749330202725]}, \"x\": [0.0, 0.1, 0.2, 0.30000000000000004, 0.4, 0.5, 0.6000000000000001, 0.7000000000000001, 0.8, 0.9, 1.0, 1.1, 1.2000000000000002, 1.3, 1.4000000000000001, 1.5], \"y\": [0.0, 0.010000000000000002, 0.04000000000000001, 0.09000000000000002, 0.16000000000000003, 0.25, 0.3600000000000001, 0.4900000000000001, 0.6400000000000001, 0.81, 1.0, 1.2100000000000002, 1.4400000000000004, 1.6900000000000002, 1.9600000000000004, 2.25], \"type\": \"scatter\"}]}, {\"data\": [{\"marker\": {\"color\": [0.0, 0.09983341664682815, 0.19866933079506122, 0.2955202066613396, 0.3894183423086505, 0.479425538604203, 0.5646424733950355, 0.6442176872376911, 0.7173560908995228, 0.7833269096274834, 0.8414709848078965, 0.8912073600614354, 0.9320390859672264, 0.963558185417193, 0.9854497299884603, 0.9974949866040544, 0.9995736030415051], \"size\": [0.0, 4.991670832341407, 9.933466539753061, 14.77601033306698, 19.470917115432528, 23.971276930210152, 28.232123669751775, 32.21088436188456, 35.86780454497614, 39.16634548137417, 42.073549240394826, 44.56036800307177, 46.60195429836132, 48.17790927085965, 49.27248649942301, 49.874749330202725, 49.978680152075256]}, \"x\": [0.0, 0.1, 0.2, 0.30000000000000004, 0.4, 0.5, 0.6000000000000001, 0.7000000000000001, 0.8, 0.9, 1.0, 1.1, 1.2000000000000002, 1.3, 1.4000000000000001, 1.5, 1.6], \"y\": [0.0, 0.010000000000000002, 0.04000000000000001, 0.09000000000000002, 0.16000000000000003, 0.25, 0.3600000000000001, 0.4900000000000001, 0.6400000000000001, 0.81, 1.0, 1.2100000000000002, 1.4400000000000004, 1.6900000000000002, 1.9600000000000004, 2.25, 2.5600000000000005], \"type\": \"scatter\"}]}, {\"data\": [{\"marker\": {\"color\": [0.0, 0.09983341664682815, 0.19866933079506122, 0.2955202066613396, 0.3894183423086505, 0.479425538604203, 0.5646424733950355, 0.6442176872376911, 0.7173560908995228, 0.7833269096274834, 0.8414709848078965, 0.8912073600614354, 0.9320390859672264, 0.963558185417193, 0.9854497299884603, 0.9974949866040544, 0.9995736030415051, 0.9916648104524686], \"size\": [0.0, 4.991670832341407, 9.933466539753061, 14.77601033306698, 19.470917115432528, 23.971276930210152, 28.232123669751775, 32.21088436188456, 35.86780454497614, 39.16634548137417, 42.073549240394826, 44.56036800307177, 46.60195429836132, 48.17790927085965, 49.27248649942301, 49.874749330202725, 49.978680152075256, 49.58324052262343]}, \"x\": [0.0, 0.1, 0.2, 0.30000000000000004, 0.4, 0.5, 0.6000000000000001, 0.7000000000000001, 0.8, 0.9, 1.0, 1.1, 1.2000000000000002, 1.3, 1.4000000000000001, 1.5, 1.6, 1.7000000000000002], \"y\": [0.0, 0.010000000000000002, 0.04000000000000001, 0.09000000000000002, 0.16000000000000003, 0.25, 0.3600000000000001, 0.4900000000000001, 0.6400000000000001, 0.81, 1.0, 1.2100000000000002, 1.4400000000000004, 1.6900000000000002, 1.9600000000000004, 2.25, 2.5600000000000005, 2.8900000000000006], \"type\": \"scatter\"}]}, {\"data\": [{\"marker\": {\"color\": [0.0, 0.09983341664682815, 0.19866933079506122, 0.2955202066613396, 0.3894183423086505, 0.479425538604203, 0.5646424733950355, 0.6442176872376911, 0.7173560908995228, 0.7833269096274834, 0.8414709848078965, 0.8912073600614354, 0.9320390859672264, 0.963558185417193, 0.9854497299884603, 0.9974949866040544, 0.9995736030415051, 0.9916648104524686, 0.9738476308781951], \"size\": [0.0, 4.991670832341407, 9.933466539753061, 14.77601033306698, 19.470917115432528, 23.971276930210152, 28.232123669751775, 32.21088436188456, 35.86780454497614, 39.16634548137417, 42.073549240394826, 44.56036800307177, 46.60195429836132, 48.17790927085965, 49.27248649942301, 49.874749330202725, 49.978680152075256, 49.58324052262343, 48.69238154390976]}, \"x\": [0.0, 0.1, 0.2, 0.30000000000000004, 0.4, 0.5, 0.6000000000000001, 0.7000000000000001, 0.8, 0.9, 1.0, 1.1, 1.2000000000000002, 1.3, 1.4000000000000001, 1.5, 1.6, 1.7000000000000002, 1.8], \"y\": [0.0, 0.010000000000000002, 0.04000000000000001, 0.09000000000000002, 0.16000000000000003, 0.25, 0.3600000000000001, 0.4900000000000001, 0.6400000000000001, 0.81, 1.0, 1.2100000000000002, 1.4400000000000004, 1.6900000000000002, 1.9600000000000004, 2.25, 2.5600000000000005, 2.8900000000000006, 3.24], \"type\": \"scatter\"}]}, {\"data\": [{\"marker\": {\"color\": [0.0, 0.09983341664682815, 0.19866933079506122, 0.2955202066613396, 0.3894183423086505, 0.479425538604203, 0.5646424733950355, 0.6442176872376911, 0.7173560908995228, 0.7833269096274834, 0.8414709848078965, 0.8912073600614354, 0.9320390859672264, 0.963558185417193, 0.9854497299884603, 0.9974949866040544, 0.9995736030415051, 0.9916648104524686, 0.9738476308781951, 0.9463000876874145], \"size\": [0.0, 4.991670832341407, 9.933466539753061, 14.77601033306698, 19.470917115432528, 23.971276930210152, 28.232123669751775, 32.21088436188456, 35.86780454497614, 39.16634548137417, 42.073549240394826, 44.56036800307177, 46.60195429836132, 48.17790927085965, 49.27248649942301, 49.874749330202725, 49.978680152075256, 49.58324052262343, 48.69238154390976, 47.315004384370724]}, \"x\": [0.0, 0.1, 0.2, 0.30000000000000004, 0.4, 0.5, 0.6000000000000001, 0.7000000000000001, 0.8, 0.9, 1.0, 1.1, 1.2000000000000002, 1.3, 1.4000000000000001, 1.5, 1.6, 1.7000000000000002, 1.8, 1.9000000000000001], \"y\": [0.0, 0.010000000000000002, 0.04000000000000001, 0.09000000000000002, 0.16000000000000003, 0.25, 0.3600000000000001, 0.4900000000000001, 0.6400000000000001, 0.81, 1.0, 1.2100000000000002, 1.4400000000000004, 1.6900000000000002, 1.9600000000000004, 2.25, 2.5600000000000005, 2.8900000000000006, 3.24, 3.6100000000000003], \"type\": \"scatter\"}]}, {\"data\": [{\"marker\": {\"color\": [0.0, 0.09983341664682815, 0.19866933079506122, 0.2955202066613396, 0.3894183423086505, 0.479425538604203, 0.5646424733950355, 0.6442176872376911, 0.7173560908995228, 0.7833269096274834, 0.8414709848078965, 0.8912073600614354, 0.9320390859672264, 0.963558185417193, 0.9854497299884603, 0.9974949866040544, 0.9995736030415051, 0.9916648104524686, 0.9738476308781951, 0.9463000876874145, 0.9092974268256817], \"size\": [0.0, 4.991670832341407, 9.933466539753061, 14.77601033306698, 19.470917115432528, 23.971276930210152, 28.232123669751775, 32.21088436188456, 35.86780454497614, 39.16634548137417, 42.073549240394826, 44.56036800307177, 46.60195429836132, 48.17790927085965, 49.27248649942301, 49.874749330202725, 49.978680152075256, 49.58324052262343, 48.69238154390976, 47.315004384370724, 45.46487134128409]}, \"x\": [0.0, 0.1, 0.2, 0.30000000000000004, 0.4, 0.5, 0.6000000000000001, 0.7000000000000001, 0.8, 0.9, 1.0, 1.1, 1.2000000000000002, 1.3, 1.4000000000000001, 1.5, 1.6, 1.7000000000000002, 1.8, 1.9000000000000001, 2.0], \"y\": [0.0, 0.010000000000000002, 0.04000000000000001, 0.09000000000000002, 0.16000000000000003, 0.25, 0.3600000000000001, 0.4900000000000001, 0.6400000000000001, 0.81, 1.0, 1.2100000000000002, 1.4400000000000004, 1.6900000000000002, 1.9600000000000004, 2.25, 2.5600000000000005, 2.8900000000000006, 3.24, 3.6100000000000003, 4.0], \"type\": \"scatter\"}]}, {\"data\": [{\"marker\": {\"color\": [0.0, 0.09983341664682815, 0.19866933079506122, 0.2955202066613396, 0.3894183423086505, 0.479425538604203, 0.5646424733950355, 0.6442176872376911, 0.7173560908995228, 0.7833269096274834, 0.8414709848078965, 0.8912073600614354, 0.9320390859672264, 0.963558185417193, 0.9854497299884603, 0.9974949866040544, 0.9995736030415051, 0.9916648104524686, 0.9738476308781951, 0.9463000876874145, 0.9092974268256817, 0.8632093666488737], \"size\": [0.0, 4.991670832341407, 9.933466539753061, 14.77601033306698, 19.470917115432528, 23.971276930210152, 28.232123669751775, 32.21088436188456, 35.86780454497614, 39.16634548137417, 42.073549240394826, 44.56036800307177, 46.60195429836132, 48.17790927085965, 49.27248649942301, 49.874749330202725, 49.978680152075256, 49.58324052262343, 48.69238154390976, 47.315004384370724, 45.46487134128409, 43.160468332443685]}, \"x\": [0.0, 0.1, 0.2, 0.30000000000000004, 0.4, 0.5, 0.6000000000000001, 0.7000000000000001, 0.8, 0.9, 1.0, 1.1, 1.2000000000000002, 1.3, 1.4000000000000001, 1.5, 1.6, 1.7000000000000002, 1.8, 1.9000000000000001, 2.0, 2.1], \"y\": [0.0, 0.010000000000000002, 0.04000000000000001, 0.09000000000000002, 0.16000000000000003, 0.25, 0.3600000000000001, 0.4900000000000001, 0.6400000000000001, 0.81, 1.0, 1.2100000000000002, 1.4400000000000004, 1.6900000000000002, 1.9600000000000004, 2.25, 2.5600000000000005, 2.8900000000000006, 3.24, 3.6100000000000003, 4.0, 4.41], \"type\": \"scatter\"}]}, {\"data\": [{\"marker\": {\"color\": [0.0, 0.09983341664682815, 0.19866933079506122, 0.2955202066613396, 0.3894183423086505, 0.479425538604203, 0.5646424733950355, 0.6442176872376911, 0.7173560908995228, 0.7833269096274834, 0.8414709848078965, 0.8912073600614354, 0.9320390859672264, 0.963558185417193, 0.9854497299884603, 0.9974949866040544, 0.9995736030415051, 0.9916648104524686, 0.9738476308781951, 0.9463000876874145, 0.9092974268256817, 0.8632093666488737, 0.8084964038195901], \"size\": [0.0, 4.991670832341407, 9.933466539753061, 14.77601033306698, 19.470917115432528, 23.971276930210152, 28.232123669751775, 32.21088436188456, 35.86780454497614, 39.16634548137417, 42.073549240394826, 44.56036800307177, 46.60195429836132, 48.17790927085965, 49.27248649942301, 49.874749330202725, 49.978680152075256, 49.58324052262343, 48.69238154390976, 47.315004384370724, 45.46487134128409, 43.160468332443685, 40.4248201909795]}, \"x\": [0.0, 0.1, 0.2, 0.30000000000000004, 0.4, 0.5, 0.6000000000000001, 0.7000000000000001, 0.8, 0.9, 1.0, 1.1, 1.2000000000000002, 1.3, 1.4000000000000001, 1.5, 1.6, 1.7000000000000002, 1.8, 1.9000000000000001, 2.0, 2.1, 2.2], \"y\": [0.0, 0.010000000000000002, 0.04000000000000001, 0.09000000000000002, 0.16000000000000003, 0.25, 0.3600000000000001, 0.4900000000000001, 0.6400000000000001, 0.81, 1.0, 1.2100000000000002, 1.4400000000000004, 1.6900000000000002, 1.9600000000000004, 2.25, 2.5600000000000005, 2.8900000000000006, 3.24, 3.6100000000000003, 4.0, 4.41, 4.840000000000001], \"type\": \"scatter\"}]}, {\"data\": [{\"marker\": {\"color\": [0.0, 0.09983341664682815, 0.19866933079506122, 0.2955202066613396, 0.3894183423086505, 0.479425538604203, 0.5646424733950355, 0.6442176872376911, 0.7173560908995228, 0.7833269096274834, 0.8414709848078965, 0.8912073600614354, 0.9320390859672264, 0.963558185417193, 0.9854497299884603, 0.9974949866040544, 0.9995736030415051, 0.9916648104524686, 0.9738476308781951, 0.9463000876874145, 0.9092974268256817, 0.8632093666488737, 0.8084964038195901, 0.74570521217672], \"size\": [0.0, 4.991670832341407, 9.933466539753061, 14.77601033306698, 19.470917115432528, 23.971276930210152, 28.232123669751775, 32.21088436188456, 35.86780454497614, 39.16634548137417, 42.073549240394826, 44.56036800307177, 46.60195429836132, 48.17790927085965, 49.27248649942301, 49.874749330202725, 49.978680152075256, 49.58324052262343, 48.69238154390976, 47.315004384370724, 45.46487134128409, 43.160468332443685, 40.4248201909795, 37.285260608836005]}, \"x\": [0.0, 0.1, 0.2, 0.30000000000000004, 0.4, 0.5, 0.6000000000000001, 0.7000000000000001, 0.8, 0.9, 1.0, 1.1, 1.2000000000000002, 1.3, 1.4000000000000001, 1.5, 1.6, 1.7000000000000002, 1.8, 1.9000000000000001, 2.0, 2.1, 2.2, 2.3000000000000003], \"y\": [0.0, 0.010000000000000002, 0.04000000000000001, 0.09000000000000002, 0.16000000000000003, 0.25, 0.3600000000000001, 0.4900000000000001, 0.6400000000000001, 0.81, 1.0, 1.2100000000000002, 1.4400000000000004, 1.6900000000000002, 1.9600000000000004, 2.25, 2.5600000000000005, 2.8900000000000006, 3.24, 3.6100000000000003, 4.0, 4.41, 4.840000000000001, 5.290000000000001], \"type\": \"scatter\"}]}, {\"data\": [{\"marker\": {\"color\": [0.0, 0.09983341664682815, 0.19866933079506122, 0.2955202066613396, 0.3894183423086505, 0.479425538604203, 0.5646424733950355, 0.6442176872376911, 0.7173560908995228, 0.7833269096274834, 0.8414709848078965, 0.8912073600614354, 0.9320390859672264, 0.963558185417193, 0.9854497299884603, 0.9974949866040544, 0.9995736030415051, 0.9916648104524686, 0.9738476308781951, 0.9463000876874145, 0.9092974268256817, 0.8632093666488737, 0.8084964038195901, 0.74570521217672, 0.6754631805511506], \"size\": [0.0, 4.991670832341407, 9.933466539753061, 14.77601033306698, 19.470917115432528, 23.971276930210152, 28.232123669751775, 32.21088436188456, 35.86780454497614, 39.16634548137417, 42.073549240394826, 44.56036800307177, 46.60195429836132, 48.17790927085965, 49.27248649942301, 49.874749330202725, 49.978680152075256, 49.58324052262343, 48.69238154390976, 47.315004384370724, 45.46487134128409, 43.160468332443685, 40.4248201909795, 37.285260608836005, 33.77315902755753]}, \"x\": [0.0, 0.1, 0.2, 0.30000000000000004, 0.4, 0.5, 0.6000000000000001, 0.7000000000000001, 0.8, 0.9, 1.0, 1.1, 1.2000000000000002, 1.3, 1.4000000000000001, 1.5, 1.6, 1.7000000000000002, 1.8, 1.9000000000000001, 2.0, 2.1, 2.2, 2.3000000000000003, 2.4000000000000004], \"y\": [0.0, 0.010000000000000002, 0.04000000000000001, 0.09000000000000002, 0.16000000000000003, 0.25, 0.3600000000000001, 0.4900000000000001, 0.6400000000000001, 0.81, 1.0, 1.2100000000000002, 1.4400000000000004, 1.6900000000000002, 1.9600000000000004, 2.25, 2.5600000000000005, 2.8900000000000006, 3.24, 3.6100000000000003, 4.0, 4.41, 4.840000000000001, 5.290000000000001, 5.760000000000002], \"type\": \"scatter\"}]}, {\"data\": [{\"marker\": {\"color\": [0.0, 0.09983341664682815, 0.19866933079506122, 0.2955202066613396, 0.3894183423086505, 0.479425538604203, 0.5646424733950355, 0.6442176872376911, 0.7173560908995228, 0.7833269096274834, 0.8414709848078965, 0.8912073600614354, 0.9320390859672264, 0.963558185417193, 0.9854497299884603, 0.9974949866040544, 0.9995736030415051, 0.9916648104524686, 0.9738476308781951, 0.9463000876874145, 0.9092974268256817, 0.8632093666488737, 0.8084964038195901, 0.74570521217672, 0.6754631805511506, 0.5984721441039564], \"size\": [0.0, 4.991670832341407, 9.933466539753061, 14.77601033306698, 19.470917115432528, 23.971276930210152, 28.232123669751775, 32.21088436188456, 35.86780454497614, 39.16634548137417, 42.073549240394826, 44.56036800307177, 46.60195429836132, 48.17790927085965, 49.27248649942301, 49.874749330202725, 49.978680152075256, 49.58324052262343, 48.69238154390976, 47.315004384370724, 45.46487134128409, 43.160468332443685, 40.4248201909795, 37.285260608836005, 33.77315902755753, 29.923607205197822]}, \"x\": [0.0, 0.1, 0.2, 0.30000000000000004, 0.4, 0.5, 0.6000000000000001, 0.7000000000000001, 0.8, 0.9, 1.0, 1.1, 1.2000000000000002, 1.3, 1.4000000000000001, 1.5, 1.6, 1.7000000000000002, 1.8, 1.9000000000000001, 2.0, 2.1, 2.2, 2.3000000000000003, 2.4000000000000004, 2.5], \"y\": [0.0, 0.010000000000000002, 0.04000000000000001, 0.09000000000000002, 0.16000000000000003, 0.25, 0.3600000000000001, 0.4900000000000001, 0.6400000000000001, 0.81, 1.0, 1.2100000000000002, 1.4400000000000004, 1.6900000000000002, 1.9600000000000004, 2.25, 2.5600000000000005, 2.8900000000000006, 3.24, 3.6100000000000003, 4.0, 4.41, 4.840000000000001, 5.290000000000001, 5.760000000000002, 6.25], \"type\": \"scatter\"}]}, {\"data\": [{\"marker\": {\"color\": [0.0, 0.09983341664682815, 0.19866933079506122, 0.2955202066613396, 0.3894183423086505, 0.479425538604203, 0.5646424733950355, 0.6442176872376911, 0.7173560908995228, 0.7833269096274834, 0.8414709848078965, 0.8912073600614354, 0.9320390859672264, 0.963558185417193, 0.9854497299884603, 0.9974949866040544, 0.9995736030415051, 0.9916648104524686, 0.9738476308781951, 0.9463000876874145, 0.9092974268256817, 0.8632093666488737, 0.8084964038195901, 0.74570521217672, 0.6754631805511506, 0.5984721441039564, 0.5155013718214642], \"size\": [0.0, 4.991670832341407, 9.933466539753061, 14.77601033306698, 19.470917115432528, 23.971276930210152, 28.232123669751775, 32.21088436188456, 35.86780454497614, 39.16634548137417, 42.073549240394826, 44.56036800307177, 46.60195429836132, 48.17790927085965, 49.27248649942301, 49.874749330202725, 49.978680152075256, 49.58324052262343, 48.69238154390976, 47.315004384370724, 45.46487134128409, 43.160468332443685, 40.4248201909795, 37.285260608836005, 33.77315902755753, 29.923607205197822, 25.775068591073207]}, \"x\": [0.0, 0.1, 0.2, 0.30000000000000004, 0.4, 0.5, 0.6000000000000001, 0.7000000000000001, 0.8, 0.9, 1.0, 1.1, 1.2000000000000002, 1.3, 1.4000000000000001, 1.5, 1.6, 1.7000000000000002, 1.8, 1.9000000000000001, 2.0, 2.1, 2.2, 2.3000000000000003, 2.4000000000000004, 2.5, 2.6], \"y\": [0.0, 0.010000000000000002, 0.04000000000000001, 0.09000000000000002, 0.16000000000000003, 0.25, 0.3600000000000001, 0.4900000000000001, 0.6400000000000001, 0.81, 1.0, 1.2100000000000002, 1.4400000000000004, 1.6900000000000002, 1.9600000000000004, 2.25, 2.5600000000000005, 2.8900000000000006, 3.24, 3.6100000000000003, 4.0, 4.41, 4.840000000000001, 5.290000000000001, 5.760000000000002, 6.25, 6.760000000000001], \"type\": \"scatter\"}]}, {\"data\": [{\"marker\": {\"color\": [0.0, 0.09983341664682815, 0.19866933079506122, 0.2955202066613396, 0.3894183423086505, 0.479425538604203, 0.5646424733950355, 0.6442176872376911, 0.7173560908995228, 0.7833269096274834, 0.8414709848078965, 0.8912073600614354, 0.9320390859672264, 0.963558185417193, 0.9854497299884603, 0.9974949866040544, 0.9995736030415051, 0.9916648104524686, 0.9738476308781951, 0.9463000876874145, 0.9092974268256817, 0.8632093666488737, 0.8084964038195901, 0.74570521217672, 0.6754631805511506, 0.5984721441039564, 0.5155013718214642, 0.4273798802338298], \"size\": [0.0, 4.991670832341407, 9.933466539753061, 14.77601033306698, 19.470917115432528, 23.971276930210152, 28.232123669751775, 32.21088436188456, 35.86780454497614, 39.16634548137417, 42.073549240394826, 44.56036800307177, 46.60195429836132, 48.17790927085965, 49.27248649942301, 49.874749330202725, 49.978680152075256, 49.58324052262343, 48.69238154390976, 47.315004384370724, 45.46487134128409, 43.160468332443685, 40.4248201909795, 37.285260608836005, 33.77315902755753, 29.923607205197822, 25.775068591073207, 21.368994011691488]}, \"x\": [0.0, 0.1, 0.2, 0.30000000000000004, 0.4, 0.5, 0.6000000000000001, 0.7000000000000001, 0.8, 0.9, 1.0, 1.1, 1.2000000000000002, 1.3, 1.4000000000000001, 1.5, 1.6, 1.7000000000000002, 1.8, 1.9000000000000001, 2.0, 2.1, 2.2, 2.3000000000000003, 2.4000000000000004, 2.5, 2.6, 2.7], \"y\": [0.0, 0.010000000000000002, 0.04000000000000001, 0.09000000000000002, 0.16000000000000003, 0.25, 0.3600000000000001, 0.4900000000000001, 0.6400000000000001, 0.81, 1.0, 1.2100000000000002, 1.4400000000000004, 1.6900000000000002, 1.9600000000000004, 2.25, 2.5600000000000005, 2.8900000000000006, 3.24, 3.6100000000000003, 4.0, 4.41, 4.840000000000001, 5.290000000000001, 5.760000000000002, 6.25, 6.760000000000001, 7.290000000000001], \"type\": \"scatter\"}]}, {\"data\": [{\"marker\": {\"color\": [0.0, 0.09983341664682815, 0.19866933079506122, 0.2955202066613396, 0.3894183423086505, 0.479425538604203, 0.5646424733950355, 0.6442176872376911, 0.7173560908995228, 0.7833269096274834, 0.8414709848078965, 0.8912073600614354, 0.9320390859672264, 0.963558185417193, 0.9854497299884603, 0.9974949866040544, 0.9995736030415051, 0.9916648104524686, 0.9738476308781951, 0.9463000876874145, 0.9092974268256817, 0.8632093666488737, 0.8084964038195901, 0.74570521217672, 0.6754631805511506, 0.5984721441039564, 0.5155013718214642, 0.4273798802338298, 0.33498815015590466], \"size\": [0.0, 4.991670832341407, 9.933466539753061, 14.77601033306698, 19.470917115432528, 23.971276930210152, 28.232123669751775, 32.21088436188456, 35.86780454497614, 39.16634548137417, 42.073549240394826, 44.56036800307177, 46.60195429836132, 48.17790927085965, 49.27248649942301, 49.874749330202725, 49.978680152075256, 49.58324052262343, 48.69238154390976, 47.315004384370724, 45.46487134128409, 43.160468332443685, 40.4248201909795, 37.285260608836005, 33.77315902755753, 29.923607205197822, 25.775068591073207, 21.368994011691488, 16.749407507795233]}, \"x\": [0.0, 0.1, 0.2, 0.30000000000000004, 0.4, 0.5, 0.6000000000000001, 0.7000000000000001, 0.8, 0.9, 1.0, 1.1, 1.2000000000000002, 1.3, 1.4000000000000001, 1.5, 1.6, 1.7000000000000002, 1.8, 1.9000000000000001, 2.0, 2.1, 2.2, 2.3000000000000003, 2.4000000000000004, 2.5, 2.6, 2.7, 2.8000000000000003], \"y\": [0.0, 0.010000000000000002, 0.04000000000000001, 0.09000000000000002, 0.16000000000000003, 0.25, 0.3600000000000001, 0.4900000000000001, 0.6400000000000001, 0.81, 1.0, 1.2100000000000002, 1.4400000000000004, 1.6900000000000002, 1.9600000000000004, 2.25, 2.5600000000000005, 2.8900000000000006, 3.24, 3.6100000000000003, 4.0, 4.41, 4.840000000000001, 5.290000000000001, 5.760000000000002, 6.25, 6.760000000000001, 7.290000000000001, 7.840000000000002], \"type\": \"scatter\"}]}, {\"data\": [{\"marker\": {\"color\": [0.0, 0.09983341664682815, 0.19866933079506122, 0.2955202066613396, 0.3894183423086505, 0.479425538604203, 0.5646424733950355, 0.6442176872376911, 0.7173560908995228, 0.7833269096274834, 0.8414709848078965, 0.8912073600614354, 0.9320390859672264, 0.963558185417193, 0.9854497299884603, 0.9974949866040544, 0.9995736030415051, 0.9916648104524686, 0.9738476308781951, 0.9463000876874145, 0.9092974268256817, 0.8632093666488737, 0.8084964038195901, 0.74570521217672, 0.6754631805511506, 0.5984721441039564, 0.5155013718214642, 0.4273798802338298, 0.33498815015590466, 0.23924932921398198], \"size\": [0.0, 4.991670832341407, 9.933466539753061, 14.77601033306698, 19.470917115432528, 23.971276930210152, 28.232123669751775, 32.21088436188456, 35.86780454497614, 39.16634548137417, 42.073549240394826, 44.56036800307177, 46.60195429836132, 48.17790927085965, 49.27248649942301, 49.874749330202725, 49.978680152075256, 49.58324052262343, 48.69238154390976, 47.315004384370724, 45.46487134128409, 43.160468332443685, 40.4248201909795, 37.285260608836005, 33.77315902755753, 29.923607205197822, 25.775068591073207, 21.368994011691488, 16.749407507795233, 11.9624664606991]}, \"x\": [0.0, 0.1, 0.2, 0.30000000000000004, 0.4, 0.5, 0.6000000000000001, 0.7000000000000001, 0.8, 0.9, 1.0, 1.1, 1.2000000000000002, 1.3, 1.4000000000000001, 1.5, 1.6, 1.7000000000000002, 1.8, 1.9000000000000001, 2.0, 2.1, 2.2, 2.3000000000000003, 2.4000000000000004, 2.5, 2.6, 2.7, 2.8000000000000003, 2.9000000000000004], \"y\": [0.0, 0.010000000000000002, 0.04000000000000001, 0.09000000000000002, 0.16000000000000003, 0.25, 0.3600000000000001, 0.4900000000000001, 0.6400000000000001, 0.81, 1.0, 1.2100000000000002, 1.4400000000000004, 1.6900000000000002, 1.9600000000000004, 2.25, 2.5600000000000005, 2.8900000000000006, 3.24, 3.6100000000000003, 4.0, 4.41, 4.840000000000001, 5.290000000000001, 5.760000000000002, 6.25, 6.760000000000001, 7.290000000000001, 7.840000000000002, 8.410000000000002], \"type\": \"scatter\"}]}, {\"data\": [{\"marker\": {\"color\": [0.0, 0.09983341664682815, 0.19866933079506122, 0.2955202066613396, 0.3894183423086505, 0.479425538604203, 0.5646424733950355, 0.6442176872376911, 0.7173560908995228, 0.7833269096274834, 0.8414709848078965, 0.8912073600614354, 0.9320390859672264, 0.963558185417193, 0.9854497299884603, 0.9974949866040544, 0.9995736030415051, 0.9916648104524686, 0.9738476308781951, 0.9463000876874145, 0.9092974268256817, 0.8632093666488737, 0.8084964038195901, 0.74570521217672, 0.6754631805511506, 0.5984721441039564, 0.5155013718214642, 0.4273798802338298, 0.33498815015590466, 0.23924932921398198, 0.1411200080598672], \"size\": [0.0, 4.991670832341407, 9.933466539753061, 14.77601033306698, 19.470917115432528, 23.971276930210152, 28.232123669751775, 32.21088436188456, 35.86780454497614, 39.16634548137417, 42.073549240394826, 44.56036800307177, 46.60195429836132, 48.17790927085965, 49.27248649942301, 49.874749330202725, 49.978680152075256, 49.58324052262343, 48.69238154390976, 47.315004384370724, 45.46487134128409, 43.160468332443685, 40.4248201909795, 37.285260608836005, 33.77315902755753, 29.923607205197822, 25.775068591073207, 21.368994011691488, 16.749407507795233, 11.9624664606991, 7.0560004029933605]}, \"x\": [0.0, 0.1, 0.2, 0.30000000000000004, 0.4, 0.5, 0.6000000000000001, 0.7000000000000001, 0.8, 0.9, 1.0, 1.1, 1.2000000000000002, 1.3, 1.4000000000000001, 1.5, 1.6, 1.7000000000000002, 1.8, 1.9000000000000001, 2.0, 2.1, 2.2, 2.3000000000000003, 2.4000000000000004, 2.5, 2.6, 2.7, 2.8000000000000003, 2.9000000000000004, 3.0], \"y\": [0.0, 0.010000000000000002, 0.04000000000000001, 0.09000000000000002, 0.16000000000000003, 0.25, 0.3600000000000001, 0.4900000000000001, 0.6400000000000001, 0.81, 1.0, 1.2100000000000002, 1.4400000000000004, 1.6900000000000002, 1.9600000000000004, 2.25, 2.5600000000000005, 2.8900000000000006, 3.24, 3.6100000000000003, 4.0, 4.41, 4.840000000000001, 5.290000000000001, 5.760000000000002, 6.25, 6.760000000000001, 7.290000000000001, 7.840000000000002, 8.410000000000002, 9.0], \"type\": \"scatter\"}]}, {\"data\": [{\"marker\": {\"color\": [0.0, 0.09983341664682815, 0.19866933079506122, 0.2955202066613396, 0.3894183423086505, 0.479425538604203, 0.5646424733950355, 0.6442176872376911, 0.7173560908995228, 0.7833269096274834, 0.8414709848078965, 0.8912073600614354, 0.9320390859672264, 0.963558185417193, 0.9854497299884603, 0.9974949866040544, 0.9995736030415051, 0.9916648104524686, 0.9738476308781951, 0.9463000876874145, 0.9092974268256817, 0.8632093666488737, 0.8084964038195901, 0.74570521217672, 0.6754631805511506, 0.5984721441039564, 0.5155013718214642, 0.4273798802338298, 0.33498815015590466, 0.23924932921398198, 0.1411200080598672, 0.04158066243329049], \"size\": [0.0, 4.991670832341407, 9.933466539753061, 14.77601033306698, 19.470917115432528, 23.971276930210152, 28.232123669751775, 32.21088436188456, 35.86780454497614, 39.16634548137417, 42.073549240394826, 44.56036800307177, 46.60195429836132, 48.17790927085965, 49.27248649942301, 49.874749330202725, 49.978680152075256, 49.58324052262343, 48.69238154390976, 47.315004384370724, 45.46487134128409, 43.160468332443685, 40.4248201909795, 37.285260608836005, 33.77315902755753, 29.923607205197822, 25.775068591073207, 21.368994011691488, 16.749407507795233, 11.9624664606991, 7.0560004029933605, 2.0790331216645246]}, \"x\": [0.0, 0.1, 0.2, 0.30000000000000004, 0.4, 0.5, 0.6000000000000001, 0.7000000000000001, 0.8, 0.9, 1.0, 1.1, 1.2000000000000002, 1.3, 1.4000000000000001, 1.5, 1.6, 1.7000000000000002, 1.8, 1.9000000000000001, 2.0, 2.1, 2.2, 2.3000000000000003, 2.4000000000000004, 2.5, 2.6, 2.7, 2.8000000000000003, 2.9000000000000004, 3.0, 3.1], \"y\": [0.0, 0.010000000000000002, 0.04000000000000001, 0.09000000000000002, 0.16000000000000003, 0.25, 0.3600000000000001, 0.4900000000000001, 0.6400000000000001, 0.81, 1.0, 1.2100000000000002, 1.4400000000000004, 1.6900000000000002, 1.9600000000000004, 2.25, 2.5600000000000005, 2.8900000000000006, 3.24, 3.6100000000000003, 4.0, 4.41, 4.840000000000001, 5.290000000000001, 5.760000000000002, 6.25, 6.760000000000001, 7.290000000000001, 7.840000000000002, 8.410000000000002, 9.0, 9.610000000000001], \"type\": \"scatter\"}]}, {\"data\": [{\"marker\": {\"color\": [0.0, 0.09983341664682815, 0.19866933079506122, 0.2955202066613396, 0.3894183423086505, 0.479425538604203, 0.5646424733950355, 0.6442176872376911, 0.7173560908995228, 0.7833269096274834, 0.8414709848078965, 0.8912073600614354, 0.9320390859672264, 0.963558185417193, 0.9854497299884603, 0.9974949866040544, 0.9995736030415051, 0.9916648104524686, 0.9738476308781951, 0.9463000876874145, 0.9092974268256817, 0.8632093666488737, 0.8084964038195901, 0.74570521217672, 0.6754631805511506, 0.5984721441039564, 0.5155013718214642, 0.4273798802338298, 0.33498815015590466, 0.23924932921398198, 0.1411200080598672, 0.04158066243329049, -0.058374143427580086], \"size\": [0.0, 4.991670832341407, 9.933466539753061, 14.77601033306698, 19.470917115432528, 23.971276930210152, 28.232123669751775, 32.21088436188456, 35.86780454497614, 39.16634548137417, 42.073549240394826, 44.56036800307177, 46.60195429836132, 48.17790927085965, 49.27248649942301, 49.874749330202725, 49.978680152075256, 49.58324052262343, 48.69238154390976, 47.315004384370724, 45.46487134128409, 43.160468332443685, 40.4248201909795, 37.285260608836005, 33.77315902755753, 29.923607205197822, 25.775068591073207, 21.368994011691488, 16.749407507795233, 11.9624664606991, 7.0560004029933605, 2.0790331216645246, 2.9187071713790043]}, \"x\": [0.0, 0.1, 0.2, 0.30000000000000004, 0.4, 0.5, 0.6000000000000001, 0.7000000000000001, 0.8, 0.9, 1.0, 1.1, 1.2000000000000002, 1.3, 1.4000000000000001, 1.5, 1.6, 1.7000000000000002, 1.8, 1.9000000000000001, 2.0, 2.1, 2.2, 2.3000000000000003, 2.4000000000000004, 2.5, 2.6, 2.7, 2.8000000000000003, 2.9000000000000004, 3.0, 3.1, 3.2], \"y\": [0.0, 0.010000000000000002, 0.04000000000000001, 0.09000000000000002, 0.16000000000000003, 0.25, 0.3600000000000001, 0.4900000000000001, 0.6400000000000001, 0.81, 1.0, 1.2100000000000002, 1.4400000000000004, 1.6900000000000002, 1.9600000000000004, 2.25, 2.5600000000000005, 2.8900000000000006, 3.24, 3.6100000000000003, 4.0, 4.41, 4.840000000000001, 5.290000000000001, 5.760000000000002, 6.25, 6.760000000000001, 7.290000000000001, 7.840000000000002, 8.410000000000002, 9.0, 9.610000000000001, 10.240000000000002], \"type\": \"scatter\"}]}, {\"data\": [{\"marker\": {\"color\": [0.0, 0.09983341664682815, 0.19866933079506122, 0.2955202066613396, 0.3894183423086505, 0.479425538604203, 0.5646424733950355, 0.6442176872376911, 0.7173560908995228, 0.7833269096274834, 0.8414709848078965, 0.8912073600614354, 0.9320390859672264, 0.963558185417193, 0.9854497299884603, 0.9974949866040544, 0.9995736030415051, 0.9916648104524686, 0.9738476308781951, 0.9463000876874145, 0.9092974268256817, 0.8632093666488737, 0.8084964038195901, 0.74570521217672, 0.6754631805511506, 0.5984721441039564, 0.5155013718214642, 0.4273798802338298, 0.33498815015590466, 0.23924932921398198, 0.1411200080598672, 0.04158066243329049, -0.058374143427580086, -0.15774569414324865], \"size\": [0.0, 4.991670832341407, 9.933466539753061, 14.77601033306698, 19.470917115432528, 23.971276930210152, 28.232123669751775, 32.21088436188456, 35.86780454497614, 39.16634548137417, 42.073549240394826, 44.56036800307177, 46.60195429836132, 48.17790927085965, 49.27248649942301, 49.874749330202725, 49.978680152075256, 49.58324052262343, 48.69238154390976, 47.315004384370724, 45.46487134128409, 43.160468332443685, 40.4248201909795, 37.285260608836005, 33.77315902755753, 29.923607205197822, 25.775068591073207, 21.368994011691488, 16.749407507795233, 11.9624664606991, 7.0560004029933605, 2.0790331216645246, 2.9187071713790043, 7.887284707162433]}, \"x\": [0.0, 0.1, 0.2, 0.30000000000000004, 0.4, 0.5, 0.6000000000000001, 0.7000000000000001, 0.8, 0.9, 1.0, 1.1, 1.2000000000000002, 1.3, 1.4000000000000001, 1.5, 1.6, 1.7000000000000002, 1.8, 1.9000000000000001, 2.0, 2.1, 2.2, 2.3000000000000003, 2.4000000000000004, 2.5, 2.6, 2.7, 2.8000000000000003, 2.9000000000000004, 3.0, 3.1, 3.2, 3.3000000000000003], \"y\": [0.0, 0.010000000000000002, 0.04000000000000001, 0.09000000000000002, 0.16000000000000003, 0.25, 0.3600000000000001, 0.4900000000000001, 0.6400000000000001, 0.81, 1.0, 1.2100000000000002, 1.4400000000000004, 1.6900000000000002, 1.9600000000000004, 2.25, 2.5600000000000005, 2.8900000000000006, 3.24, 3.6100000000000003, 4.0, 4.41, 4.840000000000001, 5.290000000000001, 5.760000000000002, 6.25, 6.760000000000001, 7.290000000000001, 7.840000000000002, 8.410000000000002, 9.0, 9.610000000000001, 10.240000000000002, 10.890000000000002], \"type\": \"scatter\"}]}, {\"data\": [{\"marker\": {\"color\": [0.0, 0.09983341664682815, 0.19866933079506122, 0.2955202066613396, 0.3894183423086505, 0.479425538604203, 0.5646424733950355, 0.6442176872376911, 0.7173560908995228, 0.7833269096274834, 0.8414709848078965, 0.8912073600614354, 0.9320390859672264, 0.963558185417193, 0.9854497299884603, 0.9974949866040544, 0.9995736030415051, 0.9916648104524686, 0.9738476308781951, 0.9463000876874145, 0.9092974268256817, 0.8632093666488737, 0.8084964038195901, 0.74570521217672, 0.6754631805511506, 0.5984721441039564, 0.5155013718214642, 0.4273798802338298, 0.33498815015590466, 0.23924932921398198, 0.1411200080598672, 0.04158066243329049, -0.058374143427580086, -0.15774569414324865, -0.25554110202683167], \"size\": [0.0, 4.991670832341407, 9.933466539753061, 14.77601033306698, 19.470917115432528, 23.971276930210152, 28.232123669751775, 32.21088436188456, 35.86780454497614, 39.16634548137417, 42.073549240394826, 44.56036800307177, 46.60195429836132, 48.17790927085965, 49.27248649942301, 49.874749330202725, 49.978680152075256, 49.58324052262343, 48.69238154390976, 47.315004384370724, 45.46487134128409, 43.160468332443685, 40.4248201909795, 37.285260608836005, 33.77315902755753, 29.923607205197822, 25.775068591073207, 21.368994011691488, 16.749407507795233, 11.9624664606991, 7.0560004029933605, 2.0790331216645246, 2.9187071713790043, 7.887284707162433, 12.777055101341583]}, \"x\": [0.0, 0.1, 0.2, 0.30000000000000004, 0.4, 0.5, 0.6000000000000001, 0.7000000000000001, 0.8, 0.9, 1.0, 1.1, 1.2000000000000002, 1.3, 1.4000000000000001, 1.5, 1.6, 1.7000000000000002, 1.8, 1.9000000000000001, 2.0, 2.1, 2.2, 2.3000000000000003, 2.4000000000000004, 2.5, 2.6, 2.7, 2.8000000000000003, 2.9000000000000004, 3.0, 3.1, 3.2, 3.3000000000000003, 3.4000000000000004], \"y\": [0.0, 0.010000000000000002, 0.04000000000000001, 0.09000000000000002, 0.16000000000000003, 0.25, 0.3600000000000001, 0.4900000000000001, 0.6400000000000001, 0.81, 1.0, 1.2100000000000002, 1.4400000000000004, 1.6900000000000002, 1.9600000000000004, 2.25, 2.5600000000000005, 2.8900000000000006, 3.24, 3.6100000000000003, 4.0, 4.41, 4.840000000000001, 5.290000000000001, 5.760000000000002, 6.25, 6.760000000000001, 7.290000000000001, 7.840000000000002, 8.410000000000002, 9.0, 9.610000000000001, 10.240000000000002, 10.890000000000002, 11.560000000000002], \"type\": \"scatter\"}]}, {\"data\": [{\"marker\": {\"color\": [0.0, 0.09983341664682815, 0.19866933079506122, 0.2955202066613396, 0.3894183423086505, 0.479425538604203, 0.5646424733950355, 0.6442176872376911, 0.7173560908995228, 0.7833269096274834, 0.8414709848078965, 0.8912073600614354, 0.9320390859672264, 0.963558185417193, 0.9854497299884603, 0.9974949866040544, 0.9995736030415051, 0.9916648104524686, 0.9738476308781951, 0.9463000876874145, 0.9092974268256817, 0.8632093666488737, 0.8084964038195901, 0.74570521217672, 0.6754631805511506, 0.5984721441039564, 0.5155013718214642, 0.4273798802338298, 0.33498815015590466, 0.23924932921398198, 0.1411200080598672, 0.04158066243329049, -0.058374143427580086, -0.15774569414324865, -0.25554110202683167, -0.35078322768961984], \"size\": [0.0, 4.991670832341407, 9.933466539753061, 14.77601033306698, 19.470917115432528, 23.971276930210152, 28.232123669751775, 32.21088436188456, 35.86780454497614, 39.16634548137417, 42.073549240394826, 44.56036800307177, 46.60195429836132, 48.17790927085965, 49.27248649942301, 49.874749330202725, 49.978680152075256, 49.58324052262343, 48.69238154390976, 47.315004384370724, 45.46487134128409, 43.160468332443685, 40.4248201909795, 37.285260608836005, 33.77315902755753, 29.923607205197822, 25.775068591073207, 21.368994011691488, 16.749407507795233, 11.9624664606991, 7.0560004029933605, 2.0790331216645246, 2.9187071713790043, 7.887284707162433, 12.777055101341583, 17.53916138448099]}, \"x\": [0.0, 0.1, 0.2, 0.30000000000000004, 0.4, 0.5, 0.6000000000000001, 0.7000000000000001, 0.8, 0.9, 1.0, 1.1, 1.2000000000000002, 1.3, 1.4000000000000001, 1.5, 1.6, 1.7000000000000002, 1.8, 1.9000000000000001, 2.0, 2.1, 2.2, 2.3000000000000003, 2.4000000000000004, 2.5, 2.6, 2.7, 2.8000000000000003, 2.9000000000000004, 3.0, 3.1, 3.2, 3.3000000000000003, 3.4000000000000004, 3.5], \"y\": [0.0, 0.010000000000000002, 0.04000000000000001, 0.09000000000000002, 0.16000000000000003, 0.25, 0.3600000000000001, 0.4900000000000001, 0.6400000000000001, 0.81, 1.0, 1.2100000000000002, 1.4400000000000004, 1.6900000000000002, 1.9600000000000004, 2.25, 2.5600000000000005, 2.8900000000000006, 3.24, 3.6100000000000003, 4.0, 4.41, 4.840000000000001, 5.290000000000001, 5.760000000000002, 6.25, 6.760000000000001, 7.290000000000001, 7.840000000000002, 8.410000000000002, 9.0, 9.610000000000001, 10.240000000000002, 10.890000000000002, 11.560000000000002, 12.25], \"type\": \"scatter\"}]}, {\"data\": [{\"marker\": {\"color\": [0.0, 0.09983341664682815, 0.19866933079506122, 0.2955202066613396, 0.3894183423086505, 0.479425538604203, 0.5646424733950355, 0.6442176872376911, 0.7173560908995228, 0.7833269096274834, 0.8414709848078965, 0.8912073600614354, 0.9320390859672264, 0.963558185417193, 0.9854497299884603, 0.9974949866040544, 0.9995736030415051, 0.9916648104524686, 0.9738476308781951, 0.9463000876874145, 0.9092974268256817, 0.8632093666488737, 0.8084964038195901, 0.74570521217672, 0.6754631805511506, 0.5984721441039564, 0.5155013718214642, 0.4273798802338298, 0.33498815015590466, 0.23924932921398198, 0.1411200080598672, 0.04158066243329049, -0.058374143427580086, -0.15774569414324865, -0.25554110202683167, -0.35078322768961984, -0.44252044329485246], \"size\": [0.0, 4.991670832341407, 9.933466539753061, 14.77601033306698, 19.470917115432528, 23.971276930210152, 28.232123669751775, 32.21088436188456, 35.86780454497614, 39.16634548137417, 42.073549240394826, 44.56036800307177, 46.60195429836132, 48.17790927085965, 49.27248649942301, 49.874749330202725, 49.978680152075256, 49.58324052262343, 48.69238154390976, 47.315004384370724, 45.46487134128409, 43.160468332443685, 40.4248201909795, 37.285260608836005, 33.77315902755753, 29.923607205197822, 25.775068591073207, 21.368994011691488, 16.749407507795233, 11.9624664606991, 7.0560004029933605, 2.0790331216645246, 2.9187071713790043, 7.887284707162433, 12.777055101341583, 17.53916138448099, 22.126022164742622]}, \"x\": [0.0, 0.1, 0.2, 0.30000000000000004, 0.4, 0.5, 0.6000000000000001, 0.7000000000000001, 0.8, 0.9, 1.0, 1.1, 1.2000000000000002, 1.3, 1.4000000000000001, 1.5, 1.6, 1.7000000000000002, 1.8, 1.9000000000000001, 2.0, 2.1, 2.2, 2.3000000000000003, 2.4000000000000004, 2.5, 2.6, 2.7, 2.8000000000000003, 2.9000000000000004, 3.0, 3.1, 3.2, 3.3000000000000003, 3.4000000000000004, 3.5, 3.6], \"y\": [0.0, 0.010000000000000002, 0.04000000000000001, 0.09000000000000002, 0.16000000000000003, 0.25, 0.3600000000000001, 0.4900000000000001, 0.6400000000000001, 0.81, 1.0, 1.2100000000000002, 1.4400000000000004, 1.6900000000000002, 1.9600000000000004, 2.25, 2.5600000000000005, 2.8900000000000006, 3.24, 3.6100000000000003, 4.0, 4.41, 4.840000000000001, 5.290000000000001, 5.760000000000002, 6.25, 6.760000000000001, 7.290000000000001, 7.840000000000002, 8.410000000000002, 9.0, 9.610000000000001, 10.240000000000002, 10.890000000000002, 11.560000000000002, 12.25, 12.96], \"type\": \"scatter\"}]}, {\"data\": [{\"marker\": {\"color\": [0.0, 0.09983341664682815, 0.19866933079506122, 0.2955202066613396, 0.3894183423086505, 0.479425538604203, 0.5646424733950355, 0.6442176872376911, 0.7173560908995228, 0.7833269096274834, 0.8414709848078965, 0.8912073600614354, 0.9320390859672264, 0.963558185417193, 0.9854497299884603, 0.9974949866040544, 0.9995736030415051, 0.9916648104524686, 0.9738476308781951, 0.9463000876874145, 0.9092974268256817, 0.8632093666488737, 0.8084964038195901, 0.74570521217672, 0.6754631805511506, 0.5984721441039564, 0.5155013718214642, 0.4273798802338298, 0.33498815015590466, 0.23924932921398198, 0.1411200080598672, 0.04158066243329049, -0.058374143427580086, -0.15774569414324865, -0.25554110202683167, -0.35078322768961984, -0.44252044329485246, -0.5298361409084934], \"size\": [0.0, 4.991670832341407, 9.933466539753061, 14.77601033306698, 19.470917115432528, 23.971276930210152, 28.232123669751775, 32.21088436188456, 35.86780454497614, 39.16634548137417, 42.073549240394826, 44.56036800307177, 46.60195429836132, 48.17790927085965, 49.27248649942301, 49.874749330202725, 49.978680152075256, 49.58324052262343, 48.69238154390976, 47.315004384370724, 45.46487134128409, 43.160468332443685, 40.4248201909795, 37.285260608836005, 33.77315902755753, 29.923607205197822, 25.775068591073207, 21.368994011691488, 16.749407507795233, 11.9624664606991, 7.0560004029933605, 2.0790331216645246, 2.9187071713790043, 7.887284707162433, 12.777055101341583, 17.53916138448099, 22.126022164742622, 26.49180704542467]}, \"x\": [0.0, 0.1, 0.2, 0.30000000000000004, 0.4, 0.5, 0.6000000000000001, 0.7000000000000001, 0.8, 0.9, 1.0, 1.1, 1.2000000000000002, 1.3, 1.4000000000000001, 1.5, 1.6, 1.7000000000000002, 1.8, 1.9000000000000001, 2.0, 2.1, 2.2, 2.3000000000000003, 2.4000000000000004, 2.5, 2.6, 2.7, 2.8000000000000003, 2.9000000000000004, 3.0, 3.1, 3.2, 3.3000000000000003, 3.4000000000000004, 3.5, 3.6, 3.7], \"y\": [0.0, 0.010000000000000002, 0.04000000000000001, 0.09000000000000002, 0.16000000000000003, 0.25, 0.3600000000000001, 0.4900000000000001, 0.6400000000000001, 0.81, 1.0, 1.2100000000000002, 1.4400000000000004, 1.6900000000000002, 1.9600000000000004, 2.25, 2.5600000000000005, 2.8900000000000006, 3.24, 3.6100000000000003, 4.0, 4.41, 4.840000000000001, 5.290000000000001, 5.760000000000002, 6.25, 6.760000000000001, 7.290000000000001, 7.840000000000002, 8.410000000000002, 9.0, 9.610000000000001, 10.240000000000002, 10.890000000000002, 11.560000000000002, 12.25, 12.96, 13.690000000000001], \"type\": \"scatter\"}]}, {\"data\": [{\"marker\": {\"color\": [0.0, 0.09983341664682815, 0.19866933079506122, 0.2955202066613396, 0.3894183423086505, 0.479425538604203, 0.5646424733950355, 0.6442176872376911, 0.7173560908995228, 0.7833269096274834, 0.8414709848078965, 0.8912073600614354, 0.9320390859672264, 0.963558185417193, 0.9854497299884603, 0.9974949866040544, 0.9995736030415051, 0.9916648104524686, 0.9738476308781951, 0.9463000876874145, 0.9092974268256817, 0.8632093666488737, 0.8084964038195901, 0.74570521217672, 0.6754631805511506, 0.5984721441039564, 0.5155013718214642, 0.4273798802338298, 0.33498815015590466, 0.23924932921398198, 0.1411200080598672, 0.04158066243329049, -0.058374143427580086, -0.15774569414324865, -0.25554110202683167, -0.35078322768961984, -0.44252044329485246, -0.5298361409084934, -0.6118578909427193], \"size\": [0.0, 4.991670832341407, 9.933466539753061, 14.77601033306698, 19.470917115432528, 23.971276930210152, 28.232123669751775, 32.21088436188456, 35.86780454497614, 39.16634548137417, 42.073549240394826, 44.56036800307177, 46.60195429836132, 48.17790927085965, 49.27248649942301, 49.874749330202725, 49.978680152075256, 49.58324052262343, 48.69238154390976, 47.315004384370724, 45.46487134128409, 43.160468332443685, 40.4248201909795, 37.285260608836005, 33.77315902755753, 29.923607205197822, 25.775068591073207, 21.368994011691488, 16.749407507795233, 11.9624664606991, 7.0560004029933605, 2.0790331216645246, 2.9187071713790043, 7.887284707162433, 12.777055101341583, 17.53916138448099, 22.126022164742622, 26.49180704542467, 30.592894547135963]}, \"x\": [0.0, 0.1, 0.2, 0.30000000000000004, 0.4, 0.5, 0.6000000000000001, 0.7000000000000001, 0.8, 0.9, 1.0, 1.1, 1.2000000000000002, 1.3, 1.4000000000000001, 1.5, 1.6, 1.7000000000000002, 1.8, 1.9000000000000001, 2.0, 2.1, 2.2, 2.3000000000000003, 2.4000000000000004, 2.5, 2.6, 2.7, 2.8000000000000003, 2.9000000000000004, 3.0, 3.1, 3.2, 3.3000000000000003, 3.4000000000000004, 3.5, 3.6, 3.7, 3.8000000000000003], \"y\": [0.0, 0.010000000000000002, 0.04000000000000001, 0.09000000000000002, 0.16000000000000003, 0.25, 0.3600000000000001, 0.4900000000000001, 0.6400000000000001, 0.81, 1.0, 1.2100000000000002, 1.4400000000000004, 1.6900000000000002, 1.9600000000000004, 2.25, 2.5600000000000005, 2.8900000000000006, 3.24, 3.6100000000000003, 4.0, 4.41, 4.840000000000001, 5.290000000000001, 5.760000000000002, 6.25, 6.760000000000001, 7.290000000000001, 7.840000000000002, 8.410000000000002, 9.0, 9.610000000000001, 10.240000000000002, 10.890000000000002, 11.560000000000002, 12.25, 12.96, 13.690000000000001, 14.440000000000001], \"type\": \"scatter\"}]}, {\"data\": [{\"marker\": {\"color\": [0.0, 0.09983341664682815, 0.19866933079506122, 0.2955202066613396, 0.3894183423086505, 0.479425538604203, 0.5646424733950355, 0.6442176872376911, 0.7173560908995228, 0.7833269096274834, 0.8414709848078965, 0.8912073600614354, 0.9320390859672264, 0.963558185417193, 0.9854497299884603, 0.9974949866040544, 0.9995736030415051, 0.9916648104524686, 0.9738476308781951, 0.9463000876874145, 0.9092974268256817, 0.8632093666488737, 0.8084964038195901, 0.74570521217672, 0.6754631805511506, 0.5984721441039564, 0.5155013718214642, 0.4273798802338298, 0.33498815015590466, 0.23924932921398198, 0.1411200080598672, 0.04158066243329049, -0.058374143427580086, -0.15774569414324865, -0.25554110202683167, -0.35078322768961984, -0.44252044329485246, -0.5298361409084934, -0.6118578909427193, -0.6877661591839741], \"size\": [0.0, 4.991670832341407, 9.933466539753061, 14.77601033306698, 19.470917115432528, 23.971276930210152, 28.232123669751775, 32.21088436188456, 35.86780454497614, 39.16634548137417, 42.073549240394826, 44.56036800307177, 46.60195429836132, 48.17790927085965, 49.27248649942301, 49.874749330202725, 49.978680152075256, 49.58324052262343, 48.69238154390976, 47.315004384370724, 45.46487134128409, 43.160468332443685, 40.4248201909795, 37.285260608836005, 33.77315902755753, 29.923607205197822, 25.775068591073207, 21.368994011691488, 16.749407507795233, 11.9624664606991, 7.0560004029933605, 2.0790331216645246, 2.9187071713790043, 7.887284707162433, 12.777055101341583, 17.53916138448099, 22.126022164742622, 26.49180704542467, 30.592894547135963, 34.388307959198706]}, \"x\": [0.0, 0.1, 0.2, 0.30000000000000004, 0.4, 0.5, 0.6000000000000001, 0.7000000000000001, 0.8, 0.9, 1.0, 1.1, 1.2000000000000002, 1.3, 1.4000000000000001, 1.5, 1.6, 1.7000000000000002, 1.8, 1.9000000000000001, 2.0, 2.1, 2.2, 2.3000000000000003, 2.4000000000000004, 2.5, 2.6, 2.7, 2.8000000000000003, 2.9000000000000004, 3.0, 3.1, 3.2, 3.3000000000000003, 3.4000000000000004, 3.5, 3.6, 3.7, 3.8000000000000003, 3.9000000000000004], \"y\": [0.0, 0.010000000000000002, 0.04000000000000001, 0.09000000000000002, 0.16000000000000003, 0.25, 0.3600000000000001, 0.4900000000000001, 0.6400000000000001, 0.81, 1.0, 1.2100000000000002, 1.4400000000000004, 1.6900000000000002, 1.9600000000000004, 2.25, 2.5600000000000005, 2.8900000000000006, 3.24, 3.6100000000000003, 4.0, 4.41, 4.840000000000001, 5.290000000000001, 5.760000000000002, 6.25, 6.760000000000001, 7.290000000000001, 7.840000000000002, 8.410000000000002, 9.0, 9.610000000000001, 10.240000000000002, 10.890000000000002, 11.560000000000002, 12.25, 12.96, 13.690000000000001, 14.440000000000001, 15.210000000000003], \"type\": \"scatter\"}]}, {\"data\": [{\"marker\": {\"color\": [0.0, 0.09983341664682815, 0.19866933079506122, 0.2955202066613396, 0.3894183423086505, 0.479425538604203, 0.5646424733950355, 0.6442176872376911, 0.7173560908995228, 0.7833269096274834, 0.8414709848078965, 0.8912073600614354, 0.9320390859672264, 0.963558185417193, 0.9854497299884603, 0.9974949866040544, 0.9995736030415051, 0.9916648104524686, 0.9738476308781951, 0.9463000876874145, 0.9092974268256817, 0.8632093666488737, 0.8084964038195901, 0.74570521217672, 0.6754631805511506, 0.5984721441039564, 0.5155013718214642, 0.4273798802338298, 0.33498815015590466, 0.23924932921398198, 0.1411200080598672, 0.04158066243329049, -0.058374143427580086, -0.15774569414324865, -0.25554110202683167, -0.35078322768961984, -0.44252044329485246, -0.5298361409084934, -0.6118578909427193, -0.6877661591839741, -0.7568024953079282], \"size\": [0.0, 4.991670832341407, 9.933466539753061, 14.77601033306698, 19.470917115432528, 23.971276930210152, 28.232123669751775, 32.21088436188456, 35.86780454497614, 39.16634548137417, 42.073549240394826, 44.56036800307177, 46.60195429836132, 48.17790927085965, 49.27248649942301, 49.874749330202725, 49.978680152075256, 49.58324052262343, 48.69238154390976, 47.315004384370724, 45.46487134128409, 43.160468332443685, 40.4248201909795, 37.285260608836005, 33.77315902755753, 29.923607205197822, 25.775068591073207, 21.368994011691488, 16.749407507795233, 11.9624664606991, 7.0560004029933605, 2.0790331216645246, 2.9187071713790043, 7.887284707162433, 12.777055101341583, 17.53916138448099, 22.126022164742622, 26.49180704542467, 30.592894547135963, 34.388307959198706, 37.84012476539641]}, \"x\": [0.0, 0.1, 0.2, 0.30000000000000004, 0.4, 0.5, 0.6000000000000001, 0.7000000000000001, 0.8, 0.9, 1.0, 1.1, 1.2000000000000002, 1.3, 1.4000000000000001, 1.5, 1.6, 1.7000000000000002, 1.8, 1.9000000000000001, 2.0, 2.1, 2.2, 2.3000000000000003, 2.4000000000000004, 2.5, 2.6, 2.7, 2.8000000000000003, 2.9000000000000004, 3.0, 3.1, 3.2, 3.3000000000000003, 3.4000000000000004, 3.5, 3.6, 3.7, 3.8000000000000003, 3.9000000000000004, 4.0], \"y\": [0.0, 0.010000000000000002, 0.04000000000000001, 0.09000000000000002, 0.16000000000000003, 0.25, 0.3600000000000001, 0.4900000000000001, 0.6400000000000001, 0.81, 1.0, 1.2100000000000002, 1.4400000000000004, 1.6900000000000002, 1.9600000000000004, 2.25, 2.5600000000000005, 2.8900000000000006, 3.24, 3.6100000000000003, 4.0, 4.41, 4.840000000000001, 5.290000000000001, 5.760000000000002, 6.25, 6.760000000000001, 7.290000000000001, 7.840000000000002, 8.410000000000002, 9.0, 9.610000000000001, 10.240000000000002, 10.890000000000002, 11.560000000000002, 12.25, 12.96, 13.690000000000001, 14.440000000000001, 15.210000000000003, 16.0], \"type\": \"scatter\"}]}, {\"data\": [{\"marker\": {\"color\": [0.0, 0.09983341664682815, 0.19866933079506122, 0.2955202066613396, 0.3894183423086505, 0.479425538604203, 0.5646424733950355, 0.6442176872376911, 0.7173560908995228, 0.7833269096274834, 0.8414709848078965, 0.8912073600614354, 0.9320390859672264, 0.963558185417193, 0.9854497299884603, 0.9974949866040544, 0.9995736030415051, 0.9916648104524686, 0.9738476308781951, 0.9463000876874145, 0.9092974268256817, 0.8632093666488737, 0.8084964038195901, 0.74570521217672, 0.6754631805511506, 0.5984721441039564, 0.5155013718214642, 0.4273798802338298, 0.33498815015590466, 0.23924932921398198, 0.1411200080598672, 0.04158066243329049, -0.058374143427580086, -0.15774569414324865, -0.25554110202683167, -0.35078322768961984, -0.44252044329485246, -0.5298361409084934, -0.6118578909427193, -0.6877661591839741, -0.7568024953079282, -0.8182771110644108], \"size\": [0.0, 4.991670832341407, 9.933466539753061, 14.77601033306698, 19.470917115432528, 23.971276930210152, 28.232123669751775, 32.21088436188456, 35.86780454497614, 39.16634548137417, 42.073549240394826, 44.56036800307177, 46.60195429836132, 48.17790927085965, 49.27248649942301, 49.874749330202725, 49.978680152075256, 49.58324052262343, 48.69238154390976, 47.315004384370724, 45.46487134128409, 43.160468332443685, 40.4248201909795, 37.285260608836005, 33.77315902755753, 29.923607205197822, 25.775068591073207, 21.368994011691488, 16.749407507795233, 11.9624664606991, 7.0560004029933605, 2.0790331216645246, 2.9187071713790043, 7.887284707162433, 12.777055101341583, 17.53916138448099, 22.126022164742622, 26.49180704542467, 30.592894547135963, 34.388307959198706, 37.84012476539641, 40.91385555322054]}, \"x\": [0.0, 0.1, 0.2, 0.30000000000000004, 0.4, 0.5, 0.6000000000000001, 0.7000000000000001, 0.8, 0.9, 1.0, 1.1, 1.2000000000000002, 1.3, 1.4000000000000001, 1.5, 1.6, 1.7000000000000002, 1.8, 1.9000000000000001, 2.0, 2.1, 2.2, 2.3000000000000003, 2.4000000000000004, 2.5, 2.6, 2.7, 2.8000000000000003, 2.9000000000000004, 3.0, 3.1, 3.2, 3.3000000000000003, 3.4000000000000004, 3.5, 3.6, 3.7, 3.8000000000000003, 3.9000000000000004, 4.0, 4.1000000000000005], \"y\": [0.0, 0.010000000000000002, 0.04000000000000001, 0.09000000000000002, 0.16000000000000003, 0.25, 0.3600000000000001, 0.4900000000000001, 0.6400000000000001, 0.81, 1.0, 1.2100000000000002, 1.4400000000000004, 1.6900000000000002, 1.9600000000000004, 2.25, 2.5600000000000005, 2.8900000000000006, 3.24, 3.6100000000000003, 4.0, 4.41, 4.840000000000001, 5.290000000000001, 5.760000000000002, 6.25, 6.760000000000001, 7.290000000000001, 7.840000000000002, 8.410000000000002, 9.0, 9.610000000000001, 10.240000000000002, 10.890000000000002, 11.560000000000002, 12.25, 12.96, 13.690000000000001, 14.440000000000001, 15.210000000000003, 16.0, 16.810000000000006], \"type\": \"scatter\"}]}, {\"data\": [{\"marker\": {\"color\": [0.0, 0.09983341664682815, 0.19866933079506122, 0.2955202066613396, 0.3894183423086505, 0.479425538604203, 0.5646424733950355, 0.6442176872376911, 0.7173560908995228, 0.7833269096274834, 0.8414709848078965, 0.8912073600614354, 0.9320390859672264, 0.963558185417193, 0.9854497299884603, 0.9974949866040544, 0.9995736030415051, 0.9916648104524686, 0.9738476308781951, 0.9463000876874145, 0.9092974268256817, 0.8632093666488737, 0.8084964038195901, 0.74570521217672, 0.6754631805511506, 0.5984721441039564, 0.5155013718214642, 0.4273798802338298, 0.33498815015590466, 0.23924932921398198, 0.1411200080598672, 0.04158066243329049, -0.058374143427580086, -0.15774569414324865, -0.25554110202683167, -0.35078322768961984, -0.44252044329485246, -0.5298361409084934, -0.6118578909427193, -0.6877661591839741, -0.7568024953079282, -0.8182771110644108, -0.8715757724135882], \"size\": [0.0, 4.991670832341407, 9.933466539753061, 14.77601033306698, 19.470917115432528, 23.971276930210152, 28.232123669751775, 32.21088436188456, 35.86780454497614, 39.16634548137417, 42.073549240394826, 44.56036800307177, 46.60195429836132, 48.17790927085965, 49.27248649942301, 49.874749330202725, 49.978680152075256, 49.58324052262343, 48.69238154390976, 47.315004384370724, 45.46487134128409, 43.160468332443685, 40.4248201909795, 37.285260608836005, 33.77315902755753, 29.923607205197822, 25.775068591073207, 21.368994011691488, 16.749407507795233, 11.9624664606991, 7.0560004029933605, 2.0790331216645246, 2.9187071713790043, 7.887284707162433, 12.777055101341583, 17.53916138448099, 22.126022164742622, 26.49180704542467, 30.592894547135963, 34.388307959198706, 37.84012476539641, 40.91385555322054, 43.57878862067941]}, \"x\": [0.0, 0.1, 0.2, 0.30000000000000004, 0.4, 0.5, 0.6000000000000001, 0.7000000000000001, 0.8, 0.9, 1.0, 1.1, 1.2000000000000002, 1.3, 1.4000000000000001, 1.5, 1.6, 1.7000000000000002, 1.8, 1.9000000000000001, 2.0, 2.1, 2.2, 2.3000000000000003, 2.4000000000000004, 2.5, 2.6, 2.7, 2.8000000000000003, 2.9000000000000004, 3.0, 3.1, 3.2, 3.3000000000000003, 3.4000000000000004, 3.5, 3.6, 3.7, 3.8000000000000003, 3.9000000000000004, 4.0, 4.1000000000000005, 4.2], \"y\": [0.0, 0.010000000000000002, 0.04000000000000001, 0.09000000000000002, 0.16000000000000003, 0.25, 0.3600000000000001, 0.4900000000000001, 0.6400000000000001, 0.81, 1.0, 1.2100000000000002, 1.4400000000000004, 1.6900000000000002, 1.9600000000000004, 2.25, 2.5600000000000005, 2.8900000000000006, 3.24, 3.6100000000000003, 4.0, 4.41, 4.840000000000001, 5.290000000000001, 5.760000000000002, 6.25, 6.760000000000001, 7.290000000000001, 7.840000000000002, 8.410000000000002, 9.0, 9.610000000000001, 10.240000000000002, 10.890000000000002, 11.560000000000002, 12.25, 12.96, 13.690000000000001, 14.440000000000001, 15.210000000000003, 16.0, 16.810000000000006, 17.64], \"type\": \"scatter\"}]}, {\"data\": [{\"marker\": {\"color\": [0.0, 0.09983341664682815, 0.19866933079506122, 0.2955202066613396, 0.3894183423086505, 0.479425538604203, 0.5646424733950355, 0.6442176872376911, 0.7173560908995228, 0.7833269096274834, 0.8414709848078965, 0.8912073600614354, 0.9320390859672264, 0.963558185417193, 0.9854497299884603, 0.9974949866040544, 0.9995736030415051, 0.9916648104524686, 0.9738476308781951, 0.9463000876874145, 0.9092974268256817, 0.8632093666488737, 0.8084964038195901, 0.74570521217672, 0.6754631805511506, 0.5984721441039564, 0.5155013718214642, 0.4273798802338298, 0.33498815015590466, 0.23924932921398198, 0.1411200080598672, 0.04158066243329049, -0.058374143427580086, -0.15774569414324865, -0.25554110202683167, -0.35078322768961984, -0.44252044329485246, -0.5298361409084934, -0.6118578909427193, -0.6877661591839741, -0.7568024953079282, -0.8182771110644108, -0.8715757724135882, -0.9161659367494549], \"size\": [0.0, 4.991670832341407, 9.933466539753061, 14.77601033306698, 19.470917115432528, 23.971276930210152, 28.232123669751775, 32.21088436188456, 35.86780454497614, 39.16634548137417, 42.073549240394826, 44.56036800307177, 46.60195429836132, 48.17790927085965, 49.27248649942301, 49.874749330202725, 49.978680152075256, 49.58324052262343, 48.69238154390976, 47.315004384370724, 45.46487134128409, 43.160468332443685, 40.4248201909795, 37.285260608836005, 33.77315902755753, 29.923607205197822, 25.775068591073207, 21.368994011691488, 16.749407507795233, 11.9624664606991, 7.0560004029933605, 2.0790331216645246, 2.9187071713790043, 7.887284707162433, 12.777055101341583, 17.53916138448099, 22.126022164742622, 26.49180704542467, 30.592894547135963, 34.388307959198706, 37.84012476539641, 40.91385555322054, 43.57878862067941, 45.808296837472746]}, \"x\": [0.0, 0.1, 0.2, 0.30000000000000004, 0.4, 0.5, 0.6000000000000001, 0.7000000000000001, 0.8, 0.9, 1.0, 1.1, 1.2000000000000002, 1.3, 1.4000000000000001, 1.5, 1.6, 1.7000000000000002, 1.8, 1.9000000000000001, 2.0, 2.1, 2.2, 2.3000000000000003, 2.4000000000000004, 2.5, 2.6, 2.7, 2.8000000000000003, 2.9000000000000004, 3.0, 3.1, 3.2, 3.3000000000000003, 3.4000000000000004, 3.5, 3.6, 3.7, 3.8000000000000003, 3.9000000000000004, 4.0, 4.1000000000000005, 4.2, 4.3], \"y\": [0.0, 0.010000000000000002, 0.04000000000000001, 0.09000000000000002, 0.16000000000000003, 0.25, 0.3600000000000001, 0.4900000000000001, 0.6400000000000001, 0.81, 1.0, 1.2100000000000002, 1.4400000000000004, 1.6900000000000002, 1.9600000000000004, 2.25, 2.5600000000000005, 2.8900000000000006, 3.24, 3.6100000000000003, 4.0, 4.41, 4.840000000000001, 5.290000000000001, 5.760000000000002, 6.25, 6.760000000000001, 7.290000000000001, 7.840000000000002, 8.410000000000002, 9.0, 9.610000000000001, 10.240000000000002, 10.890000000000002, 11.560000000000002, 12.25, 12.96, 13.690000000000001, 14.440000000000001, 15.210000000000003, 16.0, 16.810000000000006, 17.64, 18.49], \"type\": \"scatter\"}]}, {\"data\": [{\"marker\": {\"color\": [0.0, 0.09983341664682815, 0.19866933079506122, 0.2955202066613396, 0.3894183423086505, 0.479425538604203, 0.5646424733950355, 0.6442176872376911, 0.7173560908995228, 0.7833269096274834, 0.8414709848078965, 0.8912073600614354, 0.9320390859672264, 0.963558185417193, 0.9854497299884603, 0.9974949866040544, 0.9995736030415051, 0.9916648104524686, 0.9738476308781951, 0.9463000876874145, 0.9092974268256817, 0.8632093666488737, 0.8084964038195901, 0.74570521217672, 0.6754631805511506, 0.5984721441039564, 0.5155013718214642, 0.4273798802338298, 0.33498815015590466, 0.23924932921398198, 0.1411200080598672, 0.04158066243329049, -0.058374143427580086, -0.15774569414324865, -0.25554110202683167, -0.35078322768961984, -0.44252044329485246, -0.5298361409084934, -0.6118578909427193, -0.6877661591839741, -0.7568024953079282, -0.8182771110644108, -0.8715757724135882, -0.9161659367494549, -0.9516020738895161], \"size\": [0.0, 4.991670832341407, 9.933466539753061, 14.77601033306698, 19.470917115432528, 23.971276930210152, 28.232123669751775, 32.21088436188456, 35.86780454497614, 39.16634548137417, 42.073549240394826, 44.56036800307177, 46.60195429836132, 48.17790927085965, 49.27248649942301, 49.874749330202725, 49.978680152075256, 49.58324052262343, 48.69238154390976, 47.315004384370724, 45.46487134128409, 43.160468332443685, 40.4248201909795, 37.285260608836005, 33.77315902755753, 29.923607205197822, 25.775068591073207, 21.368994011691488, 16.749407507795233, 11.9624664606991, 7.0560004029933605, 2.0790331216645246, 2.9187071713790043, 7.887284707162433, 12.777055101341583, 17.53916138448099, 22.126022164742622, 26.49180704542467, 30.592894547135963, 34.388307959198706, 37.84012476539641, 40.91385555322054, 43.57878862067941, 45.808296837472746, 47.58010369447581]}, \"x\": [0.0, 0.1, 0.2, 0.30000000000000004, 0.4, 0.5, 0.6000000000000001, 0.7000000000000001, 0.8, 0.9, 1.0, 1.1, 1.2000000000000002, 1.3, 1.4000000000000001, 1.5, 1.6, 1.7000000000000002, 1.8, 1.9000000000000001, 2.0, 2.1, 2.2, 2.3000000000000003, 2.4000000000000004, 2.5, 2.6, 2.7, 2.8000000000000003, 2.9000000000000004, 3.0, 3.1, 3.2, 3.3000000000000003, 3.4000000000000004, 3.5, 3.6, 3.7, 3.8000000000000003, 3.9000000000000004, 4.0, 4.1000000000000005, 4.2, 4.3, 4.4], \"y\": [0.0, 0.010000000000000002, 0.04000000000000001, 0.09000000000000002, 0.16000000000000003, 0.25, 0.3600000000000001, 0.4900000000000001, 0.6400000000000001, 0.81, 1.0, 1.2100000000000002, 1.4400000000000004, 1.6900000000000002, 1.9600000000000004, 2.25, 2.5600000000000005, 2.8900000000000006, 3.24, 3.6100000000000003, 4.0, 4.41, 4.840000000000001, 5.290000000000001, 5.760000000000002, 6.25, 6.760000000000001, 7.290000000000001, 7.840000000000002, 8.410000000000002, 9.0, 9.610000000000001, 10.240000000000002, 10.890000000000002, 11.560000000000002, 12.25, 12.96, 13.690000000000001, 14.440000000000001, 15.210000000000003, 16.0, 16.810000000000006, 17.64, 18.49, 19.360000000000003], \"type\": \"scatter\"}]}, {\"data\": [{\"marker\": {\"color\": [0.0, 0.09983341664682815, 0.19866933079506122, 0.2955202066613396, 0.3894183423086505, 0.479425538604203, 0.5646424733950355, 0.6442176872376911, 0.7173560908995228, 0.7833269096274834, 0.8414709848078965, 0.8912073600614354, 0.9320390859672264, 0.963558185417193, 0.9854497299884603, 0.9974949866040544, 0.9995736030415051, 0.9916648104524686, 0.9738476308781951, 0.9463000876874145, 0.9092974268256817, 0.8632093666488737, 0.8084964038195901, 0.74570521217672, 0.6754631805511506, 0.5984721441039564, 0.5155013718214642, 0.4273798802338298, 0.33498815015590466, 0.23924932921398198, 0.1411200080598672, 0.04158066243329049, -0.058374143427580086, -0.15774569414324865, -0.25554110202683167, -0.35078322768961984, -0.44252044329485246, -0.5298361409084934, -0.6118578909427193, -0.6877661591839741, -0.7568024953079282, -0.8182771110644108, -0.8715757724135882, -0.9161659367494549, -0.9516020738895161, -0.977530117665097], \"size\": [0.0, 4.991670832341407, 9.933466539753061, 14.77601033306698, 19.470917115432528, 23.971276930210152, 28.232123669751775, 32.21088436188456, 35.86780454497614, 39.16634548137417, 42.073549240394826, 44.56036800307177, 46.60195429836132, 48.17790927085965, 49.27248649942301, 49.874749330202725, 49.978680152075256, 49.58324052262343, 48.69238154390976, 47.315004384370724, 45.46487134128409, 43.160468332443685, 40.4248201909795, 37.285260608836005, 33.77315902755753, 29.923607205197822, 25.775068591073207, 21.368994011691488, 16.749407507795233, 11.9624664606991, 7.0560004029933605, 2.0790331216645246, 2.9187071713790043, 7.887284707162433, 12.777055101341583, 17.53916138448099, 22.126022164742622, 26.49180704542467, 30.592894547135963, 34.388307959198706, 37.84012476539641, 40.91385555322054, 43.57878862067941, 45.808296837472746, 47.58010369447581, 48.87650588325485]}, \"x\": [0.0, 0.1, 0.2, 0.30000000000000004, 0.4, 0.5, 0.6000000000000001, 0.7000000000000001, 0.8, 0.9, 1.0, 1.1, 1.2000000000000002, 1.3, 1.4000000000000001, 1.5, 1.6, 1.7000000000000002, 1.8, 1.9000000000000001, 2.0, 2.1, 2.2, 2.3000000000000003, 2.4000000000000004, 2.5, 2.6, 2.7, 2.8000000000000003, 2.9000000000000004, 3.0, 3.1, 3.2, 3.3000000000000003, 3.4000000000000004, 3.5, 3.6, 3.7, 3.8000000000000003, 3.9000000000000004, 4.0, 4.1000000000000005, 4.2, 4.3, 4.4, 4.5], \"y\": [0.0, 0.010000000000000002, 0.04000000000000001, 0.09000000000000002, 0.16000000000000003, 0.25, 0.3600000000000001, 0.4900000000000001, 0.6400000000000001, 0.81, 1.0, 1.2100000000000002, 1.4400000000000004, 1.6900000000000002, 1.9600000000000004, 2.25, 2.5600000000000005, 2.8900000000000006, 3.24, 3.6100000000000003, 4.0, 4.41, 4.840000000000001, 5.290000000000001, 5.760000000000002, 6.25, 6.760000000000001, 7.290000000000001, 7.840000000000002, 8.410000000000002, 9.0, 9.610000000000001, 10.240000000000002, 10.890000000000002, 11.560000000000002, 12.25, 12.96, 13.690000000000001, 14.440000000000001, 15.210000000000003, 16.0, 16.810000000000006, 17.64, 18.49, 19.360000000000003, 20.25], \"type\": \"scatter\"}]}, {\"data\": [{\"marker\": {\"color\": [0.0, 0.09983341664682815, 0.19866933079506122, 0.2955202066613396, 0.3894183423086505, 0.479425538604203, 0.5646424733950355, 0.6442176872376911, 0.7173560908995228, 0.7833269096274834, 0.8414709848078965, 0.8912073600614354, 0.9320390859672264, 0.963558185417193, 0.9854497299884603, 0.9974949866040544, 0.9995736030415051, 0.9916648104524686, 0.9738476308781951, 0.9463000876874145, 0.9092974268256817, 0.8632093666488737, 0.8084964038195901, 0.74570521217672, 0.6754631805511506, 0.5984721441039564, 0.5155013718214642, 0.4273798802338298, 0.33498815015590466, 0.23924932921398198, 0.1411200080598672, 0.04158066243329049, -0.058374143427580086, -0.15774569414324865, -0.25554110202683167, -0.35078322768961984, -0.44252044329485246, -0.5298361409084934, -0.6118578909427193, -0.6877661591839741, -0.7568024953079282, -0.8182771110644108, -0.8715757724135882, -0.9161659367494549, -0.9516020738895161, -0.977530117665097, -0.9936910036334645], \"size\": [0.0, 4.991670832341407, 9.933466539753061, 14.77601033306698, 19.470917115432528, 23.971276930210152, 28.232123669751775, 32.21088436188456, 35.86780454497614, 39.16634548137417, 42.073549240394826, 44.56036800307177, 46.60195429836132, 48.17790927085965, 49.27248649942301, 49.874749330202725, 49.978680152075256, 49.58324052262343, 48.69238154390976, 47.315004384370724, 45.46487134128409, 43.160468332443685, 40.4248201909795, 37.285260608836005, 33.77315902755753, 29.923607205197822, 25.775068591073207, 21.368994011691488, 16.749407507795233, 11.9624664606991, 7.0560004029933605, 2.0790331216645246, 2.9187071713790043, 7.887284707162433, 12.777055101341583, 17.53916138448099, 22.126022164742622, 26.49180704542467, 30.592894547135963, 34.388307959198706, 37.84012476539641, 40.91385555322054, 43.57878862067941, 45.808296837472746, 47.58010369447581, 48.87650588325485, 49.684550181673224]}, \"x\": [0.0, 0.1, 0.2, 0.30000000000000004, 0.4, 0.5, 0.6000000000000001, 0.7000000000000001, 0.8, 0.9, 1.0, 1.1, 1.2000000000000002, 1.3, 1.4000000000000001, 1.5, 1.6, 1.7000000000000002, 1.8, 1.9000000000000001, 2.0, 2.1, 2.2, 2.3000000000000003, 2.4000000000000004, 2.5, 2.6, 2.7, 2.8000000000000003, 2.9000000000000004, 3.0, 3.1, 3.2, 3.3000000000000003, 3.4000000000000004, 3.5, 3.6, 3.7, 3.8000000000000003, 3.9000000000000004, 4.0, 4.1000000000000005, 4.2, 4.3, 4.4, 4.5, 4.6000000000000005], \"y\": [0.0, 0.010000000000000002, 0.04000000000000001, 0.09000000000000002, 0.16000000000000003, 0.25, 0.3600000000000001, 0.4900000000000001, 0.6400000000000001, 0.81, 1.0, 1.2100000000000002, 1.4400000000000004, 1.6900000000000002, 1.9600000000000004, 2.25, 2.5600000000000005, 2.8900000000000006, 3.24, 3.6100000000000003, 4.0, 4.41, 4.840000000000001, 5.290000000000001, 5.760000000000002, 6.25, 6.760000000000001, 7.290000000000001, 7.840000000000002, 8.410000000000002, 9.0, 9.610000000000001, 10.240000000000002, 10.890000000000002, 11.560000000000002, 12.25, 12.96, 13.690000000000001, 14.440000000000001, 15.210000000000003, 16.0, 16.810000000000006, 17.64, 18.49, 19.360000000000003, 20.25, 21.160000000000004], \"type\": \"scatter\"}]}, {\"data\": [{\"marker\": {\"color\": [0.0, 0.09983341664682815, 0.19866933079506122, 0.2955202066613396, 0.3894183423086505, 0.479425538604203, 0.5646424733950355, 0.6442176872376911, 0.7173560908995228, 0.7833269096274834, 0.8414709848078965, 0.8912073600614354, 0.9320390859672264, 0.963558185417193, 0.9854497299884603, 0.9974949866040544, 0.9995736030415051, 0.9916648104524686, 0.9738476308781951, 0.9463000876874145, 0.9092974268256817, 0.8632093666488737, 0.8084964038195901, 0.74570521217672, 0.6754631805511506, 0.5984721441039564, 0.5155013718214642, 0.4273798802338298, 0.33498815015590466, 0.23924932921398198, 0.1411200080598672, 0.04158066243329049, -0.058374143427580086, -0.15774569414324865, -0.25554110202683167, -0.35078322768961984, -0.44252044329485246, -0.5298361409084934, -0.6118578909427193, -0.6877661591839741, -0.7568024953079282, -0.8182771110644108, -0.8715757724135882, -0.9161659367494549, -0.9516020738895161, -0.977530117665097, -0.9936910036334645, -0.9999232575641008], \"size\": [0.0, 4.991670832341407, 9.933466539753061, 14.77601033306698, 19.470917115432528, 23.971276930210152, 28.232123669751775, 32.21088436188456, 35.86780454497614, 39.16634548137417, 42.073549240394826, 44.56036800307177, 46.60195429836132, 48.17790927085965, 49.27248649942301, 49.874749330202725, 49.978680152075256, 49.58324052262343, 48.69238154390976, 47.315004384370724, 45.46487134128409, 43.160468332443685, 40.4248201909795, 37.285260608836005, 33.77315902755753, 29.923607205197822, 25.775068591073207, 21.368994011691488, 16.749407507795233, 11.9624664606991, 7.0560004029933605, 2.0790331216645246, 2.9187071713790043, 7.887284707162433, 12.777055101341583, 17.53916138448099, 22.126022164742622, 26.49180704542467, 30.592894547135963, 34.388307959198706, 37.84012476539641, 40.91385555322054, 43.57878862067941, 45.808296837472746, 47.58010369447581, 48.87650588325485, 49.684550181673224, 49.99616287820504]}, \"x\": [0.0, 0.1, 0.2, 0.30000000000000004, 0.4, 0.5, 0.6000000000000001, 0.7000000000000001, 0.8, 0.9, 1.0, 1.1, 1.2000000000000002, 1.3, 1.4000000000000001, 1.5, 1.6, 1.7000000000000002, 1.8, 1.9000000000000001, 2.0, 2.1, 2.2, 2.3000000000000003, 2.4000000000000004, 2.5, 2.6, 2.7, 2.8000000000000003, 2.9000000000000004, 3.0, 3.1, 3.2, 3.3000000000000003, 3.4000000000000004, 3.5, 3.6, 3.7, 3.8000000000000003, 3.9000000000000004, 4.0, 4.1000000000000005, 4.2, 4.3, 4.4, 4.5, 4.6000000000000005, 4.7], \"y\": [0.0, 0.010000000000000002, 0.04000000000000001, 0.09000000000000002, 0.16000000000000003, 0.25, 0.3600000000000001, 0.4900000000000001, 0.6400000000000001, 0.81, 1.0, 1.2100000000000002, 1.4400000000000004, 1.6900000000000002, 1.9600000000000004, 2.25, 2.5600000000000005, 2.8900000000000006, 3.24, 3.6100000000000003, 4.0, 4.41, 4.840000000000001, 5.290000000000001, 5.760000000000002, 6.25, 6.760000000000001, 7.290000000000001, 7.840000000000002, 8.410000000000002, 9.0, 9.610000000000001, 10.240000000000002, 10.890000000000002, 11.560000000000002, 12.25, 12.96, 13.690000000000001, 14.440000000000001, 15.210000000000003, 16.0, 16.810000000000006, 17.64, 18.49, 19.360000000000003, 20.25, 21.160000000000004, 22.090000000000003], \"type\": \"scatter\"}]}, {\"data\": [{\"marker\": {\"color\": [0.0, 0.09983341664682815, 0.19866933079506122, 0.2955202066613396, 0.3894183423086505, 0.479425538604203, 0.5646424733950355, 0.6442176872376911, 0.7173560908995228, 0.7833269096274834, 0.8414709848078965, 0.8912073600614354, 0.9320390859672264, 0.963558185417193, 0.9854497299884603, 0.9974949866040544, 0.9995736030415051, 0.9916648104524686, 0.9738476308781951, 0.9463000876874145, 0.9092974268256817, 0.8632093666488737, 0.8084964038195901, 0.74570521217672, 0.6754631805511506, 0.5984721441039564, 0.5155013718214642, 0.4273798802338298, 0.33498815015590466, 0.23924932921398198, 0.1411200080598672, 0.04158066243329049, -0.058374143427580086, -0.15774569414324865, -0.25554110202683167, -0.35078322768961984, -0.44252044329485246, -0.5298361409084934, -0.6118578909427193, -0.6877661591839741, -0.7568024953079282, -0.8182771110644108, -0.8715757724135882, -0.9161659367494549, -0.9516020738895161, -0.977530117665097, -0.9936910036334645, -0.9999232575641008, -0.9961646088358406], \"size\": [0.0, 4.991670832341407, 9.933466539753061, 14.77601033306698, 19.470917115432528, 23.971276930210152, 28.232123669751775, 32.21088436188456, 35.86780454497614, 39.16634548137417, 42.073549240394826, 44.56036800307177, 46.60195429836132, 48.17790927085965, 49.27248649942301, 49.874749330202725, 49.978680152075256, 49.58324052262343, 48.69238154390976, 47.315004384370724, 45.46487134128409, 43.160468332443685, 40.4248201909795, 37.285260608836005, 33.77315902755753, 29.923607205197822, 25.775068591073207, 21.368994011691488, 16.749407507795233, 11.9624664606991, 7.0560004029933605, 2.0790331216645246, 2.9187071713790043, 7.887284707162433, 12.777055101341583, 17.53916138448099, 22.126022164742622, 26.49180704542467, 30.592894547135963, 34.388307959198706, 37.84012476539641, 40.91385555322054, 43.57878862067941, 45.808296837472746, 47.58010369447581, 48.87650588325485, 49.684550181673224, 49.99616287820504, 49.80823044179203]}, \"x\": [0.0, 0.1, 0.2, 0.30000000000000004, 0.4, 0.5, 0.6000000000000001, 0.7000000000000001, 0.8, 0.9, 1.0, 1.1, 1.2000000000000002, 1.3, 1.4000000000000001, 1.5, 1.6, 1.7000000000000002, 1.8, 1.9000000000000001, 2.0, 2.1, 2.2, 2.3000000000000003, 2.4000000000000004, 2.5, 2.6, 2.7, 2.8000000000000003, 2.9000000000000004, 3.0, 3.1, 3.2, 3.3000000000000003, 3.4000000000000004, 3.5, 3.6, 3.7, 3.8000000000000003, 3.9000000000000004, 4.0, 4.1000000000000005, 4.2, 4.3, 4.4, 4.5, 4.6000000000000005, 4.7, 4.800000000000001], \"y\": [0.0, 0.010000000000000002, 0.04000000000000001, 0.09000000000000002, 0.16000000000000003, 0.25, 0.3600000000000001, 0.4900000000000001, 0.6400000000000001, 0.81, 1.0, 1.2100000000000002, 1.4400000000000004, 1.6900000000000002, 1.9600000000000004, 2.25, 2.5600000000000005, 2.8900000000000006, 3.24, 3.6100000000000003, 4.0, 4.41, 4.840000000000001, 5.290000000000001, 5.760000000000002, 6.25, 6.760000000000001, 7.290000000000001, 7.840000000000002, 8.410000000000002, 9.0, 9.610000000000001, 10.240000000000002, 10.890000000000002, 11.560000000000002, 12.25, 12.96, 13.690000000000001, 14.440000000000001, 15.210000000000003, 16.0, 16.810000000000006, 17.64, 18.49, 19.360000000000003, 20.25, 21.160000000000004, 22.090000000000003, 23.040000000000006], \"type\": \"scatter\"}]}, {\"data\": [{\"marker\": {\"color\": [0.0, 0.09983341664682815, 0.19866933079506122, 0.2955202066613396, 0.3894183423086505, 0.479425538604203, 0.5646424733950355, 0.6442176872376911, 0.7173560908995228, 0.7833269096274834, 0.8414709848078965, 0.8912073600614354, 0.9320390859672264, 0.963558185417193, 0.9854497299884603, 0.9974949866040544, 0.9995736030415051, 0.9916648104524686, 0.9738476308781951, 0.9463000876874145, 0.9092974268256817, 0.8632093666488737, 0.8084964038195901, 0.74570521217672, 0.6754631805511506, 0.5984721441039564, 0.5155013718214642, 0.4273798802338298, 0.33498815015590466, 0.23924932921398198, 0.1411200080598672, 0.04158066243329049, -0.058374143427580086, -0.15774569414324865, -0.25554110202683167, -0.35078322768961984, -0.44252044329485246, -0.5298361409084934, -0.6118578909427193, -0.6877661591839741, -0.7568024953079282, -0.8182771110644108, -0.8715757724135882, -0.9161659367494549, -0.9516020738895161, -0.977530117665097, -0.9936910036334645, -0.9999232575641008, -0.9961646088358406, -0.9824526126243325], \"size\": [0.0, 4.991670832341407, 9.933466539753061, 14.77601033306698, 19.470917115432528, 23.971276930210152, 28.232123669751775, 32.21088436188456, 35.86780454497614, 39.16634548137417, 42.073549240394826, 44.56036800307177, 46.60195429836132, 48.17790927085965, 49.27248649942301, 49.874749330202725, 49.978680152075256, 49.58324052262343, 48.69238154390976, 47.315004384370724, 45.46487134128409, 43.160468332443685, 40.4248201909795, 37.285260608836005, 33.77315902755753, 29.923607205197822, 25.775068591073207, 21.368994011691488, 16.749407507795233, 11.9624664606991, 7.0560004029933605, 2.0790331216645246, 2.9187071713790043, 7.887284707162433, 12.777055101341583, 17.53916138448099, 22.126022164742622, 26.49180704542467, 30.592894547135963, 34.388307959198706, 37.84012476539641, 40.91385555322054, 43.57878862067941, 45.808296837472746, 47.58010369447581, 48.87650588325485, 49.684550181673224, 49.99616287820504, 49.80823044179203, 49.12263063121662]}, \"x\": [0.0, 0.1, 0.2, 0.30000000000000004, 0.4, 0.5, 0.6000000000000001, 0.7000000000000001, 0.8, 0.9, 1.0, 1.1, 1.2000000000000002, 1.3, 1.4000000000000001, 1.5, 1.6, 1.7000000000000002, 1.8, 1.9000000000000001, 2.0, 2.1, 2.2, 2.3000000000000003, 2.4000000000000004, 2.5, 2.6, 2.7, 2.8000000000000003, 2.9000000000000004, 3.0, 3.1, 3.2, 3.3000000000000003, 3.4000000000000004, 3.5, 3.6, 3.7, 3.8000000000000003, 3.9000000000000004, 4.0, 4.1000000000000005, 4.2, 4.3, 4.4, 4.5, 4.6000000000000005, 4.7, 4.800000000000001, 4.9], \"y\": [0.0, 0.010000000000000002, 0.04000000000000001, 0.09000000000000002, 0.16000000000000003, 0.25, 0.3600000000000001, 0.4900000000000001, 0.6400000000000001, 0.81, 1.0, 1.2100000000000002, 1.4400000000000004, 1.6900000000000002, 1.9600000000000004, 2.25, 2.5600000000000005, 2.8900000000000006, 3.24, 3.6100000000000003, 4.0, 4.41, 4.840000000000001, 5.290000000000001, 5.760000000000002, 6.25, 6.760000000000001, 7.290000000000001, 7.840000000000002, 8.410000000000002, 9.0, 9.610000000000001, 10.240000000000002, 10.890000000000002, 11.560000000000002, 12.25, 12.96, 13.690000000000001, 14.440000000000001, 15.210000000000003, 16.0, 16.810000000000006, 17.64, 18.49, 19.360000000000003, 20.25, 21.160000000000004, 22.090000000000003, 23.040000000000006, 24.010000000000005], \"type\": \"scatter\"}]}]);\n",
       "                        }).then(function(){\n",
       "                            \n",
       "var gd = document.getElementById('7f018130-98ba-42f1-988a-98f187e7a692');\n",
       "var x = new MutationObserver(function (mutations, observer) {{\n",
       "        var display = window.getComputedStyle(gd).display;\n",
       "        if (!display || display === 'none') {{\n",
       "            console.log([gd, 'removed!']);\n",
       "            Plotly.purge(gd);\n",
       "            observer.disconnect();\n",
       "        }}\n",
       "}});\n",
       "\n",
       "// Listen for the removal of the full notebook cells\n",
       "var notebookContainer = gd.closest('#notebook-container');\n",
       "if (notebookContainer) {{\n",
       "    x.observe(notebookContainer, {childList: true});\n",
       "}}\n",
       "\n",
       "// Listen for the clearing of the current output cell\n",
       "var outputEl = gd.closest('.output');\n",
       "if (outputEl) {{\n",
       "    x.observe(outputEl, {childList: true});\n",
       "}}\n",
       "\n",
       "                        })                };                });            </script>        </div>"
      ]
     },
     "metadata": {},
     "output_type": "display_data"
    }
   ],
   "source": [
    "fig = go.Figure() #создаем фигуру\n",
    "fig.add_trace(go.Scatter(x=x,\n",
    "                         y=x**2,\n",
    "                         name='f(x)=x<sup>2</sup>', #HTML в подписях\n",
    "                         mode='lines+markers',\n",
    "                         marker=dict(color=h(x), #Словарь, в котором столько же цветов, сколько точек\n",
    "                                     colorbar=dict(title=\"h(x)=sin(x)\"), #Боковая полоса. Цвета те же что у точек\n",
    "                                     colorscale='Inferno', #Стиль цветовой гаммы\n",
    "                                     size=30*abs(h(x))) #стиль маркера  \n",
    "                        ))\n",
    "\n",
    "frames=[] #Словарь, куда будут откладываться все фреймы для анимированного показа\n",
    "for i in range(1, len(x)): #Циклом создаем нужные фреймы\n",
    "    frames.append(go.Frame(data=[go.Scatter(x=x[:i+1], y=f(x[:i+1]), marker=dict(color=h(x[:i+1]), size=50*abs(h(x[:i+1]))))]))\n",
    "    \n",
    "fig.frames = frames #Атрибут для создания анимированной фигуры\n",
    "\n",
    "fig.update_layout(legend_orientation='h', #Смещение легенды под график\n",
    "                  margin=dict(l=0, r=0, t=30, b=0), #Убрать отступы вокруг графика\n",
    "                  legend=dict(x=.5, xanchor=\"center\"), #Смещение легенды по центру                  \n",
    "                  updatemenus=[dict(type=\"buttons\", #Задаем кнопки Старт, Пауза анимации\n",
    "                                    buttons=[dict(label=\"►\",\n",
    "                                                  method=\"animate\",\n",
    "                                                  args=[None,\n",
    "                                                        {\"fromcurrent\": True}]),\n",
    "                                             dict(label=\"❚❚\",\n",
    "                                                  method=\"animate\",\n",
    "                                                  args=[[None],\n",
    "                                                        {\"frame\": {\"duration\": 0, \"redraw\": False},\n",
    "                                                         \"mode\": \"immediate\",\n",
    "                                                         \"transition\": {\"duration\": 0}}])])]\n",
    "                 )\n",
    "fig.update_traces(hoverinfo='all', #Отображается значение подписи на курсоре. Например 'x+y'\n",
    "                  hovertemplate='Аргумент: %{x}<br>Функция: %{y}'\n",
    "                 )\n",
    "fig.show()"
   ]
  },
  {
   "cell_type": "code",
   "execution_count": null,
   "metadata": {},
   "outputs": [],
   "source": []
  },
  {
   "cell_type": "code",
   "execution_count": null,
   "metadata": {},
   "outputs": [],
   "source": []
  }
 ],
 "metadata": {
  "kernelspec": {
   "display_name": "Python 3",
   "language": "python",
   "name": "python3"
  },
  "language_info": {
   "codemirror_mode": {
    "name": "ipython",
    "version": 3
   },
   "file_extension": ".py",
   "mimetype": "text/x-python",
   "name": "python",
   "nbconvert_exporter": "python",
   "pygments_lexer": "ipython3",
   "version": "3.8.3"
  }
 },
 "nbformat": 4,
 "nbformat_minor": 4
}
