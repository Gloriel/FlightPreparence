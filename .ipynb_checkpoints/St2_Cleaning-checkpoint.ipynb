{
 "cells": [
  {
   "cell_type": "markdown",
   "metadata": {},
   "source": [
    "Data Quality (Validity, Accuracy, Completeness, Consistency, Uniformity): \n",
    "Согласованность, Точность, Уникальность, Полнота, Своевременность, Доступность и т.д.\n",
    "\n",
    "DType Constraints: значения в столбце должны иметь определенный тип данных\n",
    "Range Constraints: числа или даты должны попадать в определенный диапазон\n",
    "Mandatory Constraints: некоторые столбцы не могут быть пустыми\n",
    "Unique Constraints: поле или комбинация полей должны быть уникальными в наборе данных\n",
    "Set-Membership: значения столбца происходят из набора дискретных значений\n",
    "Ограничения внешнего ключа: как и в реляционных БД, столбец внешнего ключа не может иметь значение, которого нет в первичном ключе.\n",
    "Шаблоны регулярных выражений: текстовые поля, которые должны быть в определенном шаблоне. Например (999) 999–9999.\n",
    "Cross-field validation: должны выполняться определенные условия, охватывающие несколько полей. Например, дата выписки пациента из больницы не может быть раньше даты госпитализации.\n",
    "Разница между достоверностью и точностью. Живете на земле? Правда. Где именно? \n",
    "Completeness: степень, в которой все необходимые данные известны\n",
    "Consistency: степень соответствия данных в одном или нескольких БД\n",
    "Uniformity: степень, в которой данные указываются с использованием одной и той же единицы измерения."
   ]
  },
  {
   "cell_type": "code",
   "execution_count": null,
   "metadata": {},
   "outputs": [],
   "source": [
    "#Исправление опечаток\n",
    "dataframe['gender'].map({'m': 'male', fem.': 'female', ...})\n",
    "re.sub (r \"\\ ^ m \\ $\", ' Male ', ' male ', flags = re. IGNORECASE )"
   ]
  },
  {
   "cell_type": "code",
   "execution_count": null,
   "metadata": {},
   "outputs": [],
   "source": [
    "#Недостающие значения. Drop или Impute\n",
    "#Заполнить проблеы средним значением\n",
    "rand = np.random.randint(average_age - 2*std_age, average_age + 2*std_age, size = count_nan_age)\n",
    "dataframe[\"age\"][np.isnan(dataframe[\"age\"])] = rand\n",
    "#Заполнить пробелы линейной регрессией (если нет выбросов)\n",
    "#Hot-deck взять схожие переменных из другой БД\n"
   ]
  }
 ],
 "metadata": {
  "kernelspec": {
   "display_name": "Python 3",
   "language": "python",
   "name": "python3"
  },
  "language_info": {
   "codemirror_mode": {
    "name": "ipython",
    "version": 3
   },
   "file_extension": ".py",
   "mimetype": "text/x-python",
   "name": "python",
   "nbconvert_exporter": "python",
   "pygments_lexer": "ipython3",
   "version": "3.8.3"
  }
 },
 "nbformat": 4,
 "nbformat_minor": 4
}
