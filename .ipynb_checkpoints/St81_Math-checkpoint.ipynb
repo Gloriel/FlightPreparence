{
 "cells": [
  {
   "cell_type": "markdown",
   "metadata": {},
   "source": [
    "* https://stepik.org/lesson/107131/step/7?unit=161041\n",
    "* https://habr.com/ru/company/ruvds/blog/494720/\n",
    "* https://pythonworld.ru/tipy-dannyx-v-python/spiski-list-funkcii-i-metody-spiskov.html\n",
    "* https://pythonworld.ru/numpy/100-exercises.html"
   ]
  },
  {
   "cell_type": "code",
   "execution_count": 1,
   "metadata": {
    "ExecuteTime": {
     "end_time": "2021-02-25T05:20:38.844989Z",
     "start_time": "2021-02-25T05:20:37.379254Z"
    }
   },
   "outputs": [],
   "source": [
    "import pandas as pd\n",
    "import numpy as np\n",
    "import matplotlib.pyplot as plt\n",
    "%matplotlib inline"
   ]
  },
  {
   "cell_type": "code",
   "execution_count": 42,
   "metadata": {
    "ExecuteTime": {
     "end_time": "2021-02-25T08:07:15.341423Z",
     "start_time": "2021-02-25T08:07:11.172387Z"
    }
   },
   "outputs": [
    {
     "name": "stdout",
     "output_type": "stream",
     "text": [
      "6\n",
      "2 3\n"
     ]
    },
    {
     "data": {
      "text/plain": [
       "array([[0, 1, 2],\n",
       "       [3, 4, 5]])"
      ]
     },
     "execution_count": 42,
     "metadata": {},
     "output_type": "execute_result"
    }
   ],
   "source": [
    "Z = np.arange(n).reshape(int(m[0]),int(m[1]))"
   ]
  },
  {
   "cell_type": "code",
   "execution_count": 43,
   "metadata": {
    "ExecuteTime": {
     "end_time": "2021-02-25T08:42:38.390086Z",
     "start_time": "2021-02-25T08:42:38.165046Z"
    }
   },
   "outputs": [
    {
     "data": {
      "text/plain": [
       "[<matplotlib.lines.Line2D at 0x1e6c6931670>]"
      ]
     },
     "execution_count": 43,
     "metadata": {},
     "output_type": "execute_result"
    },
    {
     "data": {
      "image/png": "[encoded data removed]",
      "text/plain": [
       "<Figure size 432x288 with 1 Axes>"
      ]
     },
     "metadata": {
      "needs_background": "light"
     },
     "output_type": "display_data"
    }
   ],
   "source": [
    "x = [4,5,2,3,1]\n",
    "y = [2,1,4,3,5]\n",
    "\n",
    "plt.plot(x,y)"
   ]
  },
  {
   "cell_type": "code",
   "execution_count": null,
   "metadata": {},
   "outputs": [],
   "source": [
    "NonZerros = np.nonzero(Z)"
   ]
  },
  {
   "cell_type": "code",
   "execution_count": null,
   "metadata": {
    "ExecuteTime": {
     "end_time": "2021-02-24T05:34:21.104911Z",
     "start_time": "2021-02-24T05:34:13.278679Z"
    }
   },
   "outputs": [],
   "source": [
    "a = input().split(', ')\n",
    "a = list(map(int, a))\n",
    "b = input().split(', ')\n",
    "b = list(map(int, b))\n",
    "\n",
    "V1 = np.array(a)\n",
    "V2 = np.array([a[-2]])\n",
    "V3 = np.array(a[::-2])\n",
    "V4 = np.array(a[0::3])\n",
    "V5 = np.array(range(0, len(a)))\n",
    "V3 = V1 + V2\n",
    "V4 = V1[::2] * V2[::-2] "
   ]
  },
  {
   "cell_type": "code",
   "execution_count": null,
   "metadata": {
    "ExecuteTime": {
     "end_time": "2021-02-24T09:36:30.434424Z",
     "start_time": "2021-02-24T09:36:30.382412Z"
    }
   },
   "outputs": [],
   "source": [
    "data = {'animal': ['cat', 'cat', 'snake', 'dog', 'dog', 'cat', 'snake', 'cat', 'dog', 'dog'],\n",
    "        'age': [2.5, 3, 0.5, np.nan, 5, 2, 4.5, np.nan, 7, 3],\n",
    "        'visits': [1, 3, 2, 3, 2, 3, 1, 1, 2, 1],\n",
    "        'priority': ['yes', 'yes', 'no', 'yes', 'no', 'no', 'no', 'yes', 'no', 'no']}\n",
    "\n",
    "labels = ['a', 'b', 'c', 'd', 'e', 'f', 'g', 'h', 'i', 'j']\n",
    "\n",
    "df = pd.DataFrame(data=data, index=labels)\n",
    "print(df[col][row])"
   ]
  },
  {
   "cell_type": "code",
   "execution_count": 35,
   "metadata": {
    "ExecuteTime": {
     "end_time": "2021-02-25T07:30:07.567997Z",
     "start_time": "2021-02-25T07:30:07.554006Z"
    }
   },
   "outputs": [
    {
     "name": "stdout",
     "output_type": "stream",
     "text": [
      "[[0 0 0 0 0]\n",
      " [1 0 0 0 0]\n",
      " [0 2 0 0 0]\n",
      " [0 0 3 0 0]\n",
      " [0 0 0 4 0]]\n"
     ]
    }
   ],
   "source": [
    "Z = np.diag(np.arange(1, 5), k=-1)\n",
    "print(Z)"
   ]
  },
  {
   "cell_type": "code",
   "execution_count": null,
   "metadata": {
    "ExecuteTime": {
     "end_time": "2021-02-24T05:39:10.242893Z",
     "start_time": "2021-02-24T05:39:10.219943Z"
    }
   },
   "outputs": [],
   "source": [
    "V1 = np.array(a)\n",
    "V2 = np.array(b)\n",
    "V = V1[V1%V2[-2] == 0]/V2[-2]\n",
    "V"
   ]
  },
  {
   "cell_type": "code",
   "execution_count": 27,
   "metadata": {
    "ExecuteTime": {
     "end_time": "2021-02-25T05:43:24.148807Z",
     "start_time": "2021-02-25T05:43:21.127755Z"
    }
   },
   "outputs": [
    {
     "name": "stdout",
     "output_type": "stream",
     "text": [
      "5\n",
      "(array([0, 1, 4], dtype=int64),)\n"
     ]
    }
   ],
   "source": [
    "Z = np.zeros(int(input()))\n",
    "Z = np.arange(9).reshape(3,3)\n",
    "nz = np.nonzero([1,2,0,0,4,0])\n",
    "print(nz)"
   ]
  },
  {
   "cell_type": "code",
   "execution_count": 21,
   "metadata": {
    "ExecuteTime": {
     "end_time": "2021-02-25T05:37:20.571202Z",
     "start_time": "2021-02-25T05:37:20.536200Z"
    }
   },
   "outputs": [
    {
     "data": {
      "text/plain": [
       "8"
      ]
     },
     "execution_count": 21,
     "metadata": {},
     "output_type": "execute_result"
    }
   ],
   "source": [
    "M1 = np.array((\n",
    "    (1., 2., 3., 0.),\n",
    "    (4., 5., 6., 0.),\n",
    "    (0., 1., 1., 6.),\n",
    "    (7., 8., 9., 0.)\n",
    "))\n",
    "\n",
    "M2 = np.copy(M1)\n",
    "M2[-2] = np.sin((M2[-2]*np.pi)/6)\n",
    "M2[:,-2] = np.e**(M2[:,-2])\n",
    "\n",
    "M2.itemsize"
   ]
  },
  {
   "cell_type": "code",
   "execution_count": 25,
   "metadata": {
    "ExecuteTime": {
     "end_time": "2021-02-25T05:40:44.242862Z",
     "start_time": "2021-02-25T05:40:44.225828Z"
    }
   },
   "outputs": [
    {
     "name": "stdout",
     "output_type": "stream",
     "text": [
      "[2.5 2.5 2.5 2.5 2.5 2.5 2.5 2.5 2.5 2.5]\n"
     ]
    }
   ],
   "source": [
    "Z = np.full(10, 2.5)\n",
    "print(Z)"
   ]
  },
  {
   "cell_type": "code",
   "execution_count": null,
   "metadata": {
    "ExecuteTime": {
     "end_time": "2021-02-24T08:08:02.191581Z",
     "start_time": "2021-02-24T08:08:02.158627Z"
    }
   },
   "outputs": [],
   "source": [
    "M2 = np.copy(M1)\n",
    "M2[-2] = np.sin((M2[-2]*np.pi)/6)\n",
    "M2[:,-2] = np.e**(M2[:,-2])\n"
   ]
  },
  {
   "cell_type": "code",
   "execution_count": null,
   "metadata": {
    "ExecuteTime": {
     "end_time": "2021-02-23T12:26:23.278363Z",
     "start_time": "2021-02-23T12:26:23.264361Z"
    }
   },
   "outputs": [],
   "source": [
    "# Предел\n",
    "from math import exp\n",
    "def f(x):\n",
    "    return (exp(x)-1)/x\n",
    "\n",
    "x0 =  0\n",
    "dx_list = [1, 0.1, 0.01, 0.000001]\n",
    "for dx in dx_list:\n",
    "    print(f(x0+dx))"
   ]
  },
  {
   "cell_type": "code",
   "execution_count": null,
   "metadata": {
    "ExecuteTime": {
     "end_time": "2021-02-23T07:37:06.690836Z",
     "start_time": "2021-02-23T07:37:05.835788Z"
    }
   },
   "outputs": [],
   "source": [
    "def f(x):\n",
    "    return x**3\n",
    "\n",
    "# Производная (геометрически)\n",
    "def g(x):\n",
    "    return a*x + b\n",
    "\n",
    "x0 = 4\n",
    "dx = 0.0001\n",
    "a = (f(x0+dx)- f(x0))/dx\n",
    "b = f(x0) - a*x0\n",
    "\n",
    "x = np.arange(-1, 5, 0.01)\n",
    "plt.plot(x, f(x))\n",
    "plt.plot(x, g(x))   "
   ]
  },
  {
   "cell_type": "code",
   "execution_count": null,
   "metadata": {
    "ExecuteTime": {
     "end_time": "2021-02-23T07:47:29.797235Z",
     "start_time": "2021-02-23T07:47:29.764236Z"
    }
   },
   "outputs": [],
   "source": [
    "a = [1, 5, 2, 7, 1, 9, 3, 8, 5, 9]\n",
    "max(a)\n",
    "L = ['mim', 'extra', '', 'x-files', 'xyz', 'xapple', 'apple']\n",
    "sorted(L, key=len)"
   ]
  },
  {
   "cell_type": "code",
   "execution_count": null,
   "metadata": {
    "ExecuteTime": {
     "end_time": "2021-02-23T08:53:34.236029Z",
     "start_time": "2021-02-23T08:53:34.200022Z"
    }
   },
   "outputs": [],
   "source": [
    "L = ['mim', 'extra', '', 'x-files', 'xyz', 'xapple', 'apple']\n",
    "\n",
    "\n",
    "def math_ends(words):\n",
    "    counter = 0\n",
    "    for word in words:\n",
    "        if len(word) > 1 and word[0] == word[-1]:\n",
    "            counter += 1\n",
    "    return counter\n",
    "\n",
    "\n",
    "def front_x(words):\n",
    "    x_first = [word for word in words if word and word[0] == 'x']\n",
    "    not_x_first = [word for word in words if word and word[0] != 'x']\n",
    "    return sorted(x_first + not_x_first)\n",
    "\n",
    "\n",
    "sorted(tuples, key=lambda elem: elem[-1])"
   ]
  },
  {
   "cell_type": "code",
   "execution_count": null,
   "metadata": {},
   "outputs": [],
   "source": [
    "def numerics(n):\n",
    "    return [int(i) for i in str(n)]\n",
    "\n",
    "def kaprekar_step(L):\n",
    "    x=\"\".join(map(str, sorted(numerics(L))))\n",
    "    return int(x[::-1]) - int(x)\n",
    "\n",
    "def kaprekar_loop(n):\n",
    "    print(n)\n",
    "    while n != 6174:\n",
    "        return kaprekar_loop(kaprekar_step(n))"
   ]
  },
  {
   "cell_type": "code",
   "execution_count": 24,
   "metadata": {
    "ExecuteTime": {
     "end_time": "2021-02-25T05:39:13.287844Z",
     "start_time": "2021-02-25T05:39:13.262801Z"
    }
   },
   "outputs": [
    {
     "data": {
      "text/plain": [
       "88"
      ]
     },
     "execution_count": 24,
     "metadata": {},
     "output_type": "execute_result"
    }
   ],
   "source": [
    "# Линейно независимые вектора (их любые сочетания не приводят к нулевому вектору)\n",
    "e1 = np.array([1., 2., 3., 1., 4., 3., 2., 5., 6., 7., 9.])\n",
    "e2 = np.array([1., 2., 1., 1., 4., 3., 2., 4.])\n",
    "\n",
    "e1.nbytes"
   ]
  },
  {
   "cell_type": "code",
   "execution_count": null,
   "metadata": {},
   "outputs": [],
   "source": []
  },
  {
   "cell_type": "code",
   "execution_count": null,
   "metadata": {
    "ExecuteTime": {
     "end_time": "2021-02-23T12:45:44.628311Z",
     "start_time": "2021-02-23T12:45:44.573264Z"
    }
   },
   "outputs": [],
   "source": [
    "# Линейно зависсимые вектора, поскольку а можно выразить через остальные\n",
    "a = np.array([-3., 10., 0.])\n",
    "3*e1 - 2*e2 + 1*a\n",
    "a == -3*e1 + 2*e2 # array([ True,  True,  True])"
   ]
  },
  {
   "cell_type": "code",
   "execution_count": null,
   "metadata": {
    "ExecuteTime": {
     "end_time": "2021-02-23T11:44:38.882779Z",
     "start_time": "2021-02-23T11:44:38.865771Z"
    }
   },
   "outputs": [],
   "source": [
    "# Создание матрицы \n",
    "M=np.array([e1, e2, a])\n",
    "# Максимально возможное число линейно независимых строк или столбцов в матрице\n",
    "np.linalg.matrix_rank(M)\n",
    "\n",
    "b1, b2, b3 = M[:, 0], M[:, 1], M[:, 2]\n",
    "b1"
   ]
  },
  {
   "cell_type": "code",
   "execution_count": null,
   "metadata": {
    "ExecuteTime": {
     "end_time": "2021-02-23T12:09:23.353119Z",
     "start_time": "2021-02-23T12:09:23.343134Z"
    }
   },
   "outputs": [],
   "source": [
    "# Выбрать варианты, при которых ветора в матрице независимы\n",
    "M = np.array([\n",
    "    [0, 0, 1, 1, 1, 0],\n",
    "    [1, 0, 1, 1, 0, 0],\n",
    "    [1, 1, 0, 0, 1, 0],\n",
    "    [1, 0, 0, 1, 0, 1],\n",
    "    [0, 0, 1, 0, 1, 1],\n",
    "    [0, 1, 1, 1, 0, 0]\n",
    "])\n",
    "\n",
    "# Пошаговая проверка на скаляры показывает, что только в одном варианте есть ранг диагональной матрицы, где все независимы \n",
    "for a, b, c, d, e, f in M:\n",
    "    N = np.array([\n",
    "        [a, 0, 0],\n",
    "        [b, d, 0],\n",
    "        [c, e, f]\n",
    "    ])\n",
    "    print(N)\n",
    "    print(np.linalg.matrix_rank(N))\n",
    "    print(a, b, c, d, e, f)\n",
    "    print()"
   ]
  },
  {
   "cell_type": "code",
   "execution_count": null,
   "metadata": {
    "ExecuteTime": {
     "end_time": "2021-02-23T12:49:52.863203Z",
     "start_time": "2021-02-23T12:49:52.835211Z"
    }
   },
   "outputs": [],
   "source": [
    "# Манхеттенская метрика - координатная разность двух векторов по модулю (проверка сходства истинных цифр и предсказания)\n",
    "manhattan = sum(abs(e1 - e2))\n",
    "\n",
    "# Косинусное расстояние - метрика, где определяется косинусная близость (больше - лучше)\n",
    "# Рассчитаем скалярное произведение, норму и соответственно косинусную близость\n",
    "cos_check = (np.dot(e1, e2))/ (np.linalg.norm(e1))*(np.linalg.norm(e2))\n",
    "\n",
    "# Рассчитаем косинусное расстояние\n",
    "from scipy.spatial.distance import cosine\n",
    "cosine(e1, e2)"
   ]
  },
  {
   "cell_type": "code",
   "execution_count": null,
   "metadata": {
    "ExecuteTime": {
     "end_time": "2021-02-22T19:01:20.481059Z",
     "start_time": "2021-02-22T19:01:20.467057Z"
    }
   },
   "outputs": [],
   "source": [
    "a = [1, 5, 2, 7, 1, 9, 3, 8, 5, 9]\n",
    "a = list(set(a))\n",
    "a = \"___\".join(str(a))"
   ]
  },
  {
   "cell_type": "code",
   "execution_count": null,
   "metadata": {
    "ExecuteTime": {
     "end_time": "2021-02-23T05:42:25.987090Z",
     "start_time": "2021-02-23T05:42:25.957083Z"
    }
   },
   "outputs": [],
   "source": [
    "a = [1, 5, 2, 7, 1, 9, 3, 8, 5, 9]\n",
    "print(*a)"
   ]
  },
  {
   "cell_type": "code",
   "execution_count": null,
   "metadata": {
    "ExecuteTime": {
     "end_time": "2021-02-22T19:01:31.235524Z",
     "start_time": "2021-02-22T19:01:25.891279Z"
    }
   },
   "outputs": [],
   "source": [
    "a = input()\n",
    "a = a.split()\n",
    "a = list(int(i) for i in a)\n",
    "b = 0\n",
    "for i in a:\n",
    "    b += i\n",
    "print(b)\n",
    "\n",
    "print(sum(map(int, input().split())))\n"
   ]
  },
  {
   "cell_type": "code",
   "execution_count": null,
   "metadata": {
    "ExecuteTime": {
     "end_time": "2021-02-21T08:10:59.698366Z",
     "start_time": "2021-02-21T08:10:55.319544Z"
    }
   },
   "outputs": [],
   "source": [
    "a = input().split('&')\n",
    "a = list(set(a))\n",
    "c = \" \".join(a)\n",
    "print(c)"
   ]
  },
  {
   "cell_type": "code",
   "execution_count": null,
   "metadata": {
    "ExecuteTime": {
     "end_time": "2021-02-21T08:55:03.829130Z",
     "start_time": "2021-02-21T08:55:02.199831Z"
    }
   },
   "outputs": [],
   "source": [
    "a = input().split()\n",
    "a = \"-$-\".join(a[::-1])\n",
    "print(a)"
   ]
  },
  {
   "cell_type": "code",
   "execution_count": null,
   "metadata": {
    "ExecuteTime": {
     "end_time": "2021-02-21T08:59:55.753291Z",
     "start_time": "2021-02-21T08:59:51.685556Z"
    }
   },
   "outputs": [],
   "source": [
    "a = input().split()\n",
    "count = len(a)\n",
    "count_one = a.count('one')\n",
    "print(count, count_one)"
   ]
  },
  {
   "cell_type": "code",
   "execution_count": null,
   "metadata": {
    "ExecuteTime": {
     "end_time": "2021-02-21T09:05:38.876830Z",
     "start_time": "2021-02-21T09:05:36.325008Z"
    }
   },
   "outputs": [],
   "source": []
  },
  {
   "cell_type": "code",
   "execution_count": null,
   "metadata": {
    "ExecuteTime": {
     "end_time": "2021-02-21T09:10:01.731449Z",
     "start_time": "2021-02-21T09:10:01.718451Z"
    }
   },
   "outputs": [],
   "source": [
    "from copy import deepcopy\n",
    "L2 = deepcopy(L1)  "
   ]
  },
  {
   "cell_type": "code",
   "execution_count": null,
   "metadata": {
    "ExecuteTime": {
     "end_time": "2021-02-21T05:44:26.007380Z",
     "start_time": "2021-02-21T05:44:25.995382Z"
    }
   },
   "outputs": [],
   "source": [
    "a = 5\n",
    "b = 5\n",
    "c = 5\n",
    "p = (a+b+c)/2\n",
    "s = (p*(p-a)*(p-b)*(p-c))**0.5\n",
    "print((a+b+c))\n",
    "print(s)"
   ]
  },
  {
   "cell_type": "code",
   "execution_count": null,
   "metadata": {
    "ExecuteTime": {
     "end_time": "2021-02-21T06:09:44.951303Z",
     "start_time": "2021-02-21T06:09:41.423105Z"
    }
   },
   "outputs": [],
   "source": [
    "import math\n",
    "a = float(input())\n",
    "p = 6*a\n",
    "s = a/(2*math.tan(180/6))\n",
    "S = s*p/2\n",
    "q = 3*a/2\n",
    "main_S = S+6*q\n",
    "print(main_S)"
   ]
  },
  {
   "cell_type": "code",
   "execution_count": null,
   "metadata": {
    "ExecuteTime": {
     "end_time": "2021-02-21T06:41:40.575345Z",
     "start_time": "2021-02-21T06:41:38.112459Z"
    }
   },
   "outputs": [],
   "source": [
    "side_length = float(input())\n",
    "small_side_length = side_length/2\n",
    "trian_l = float(3*side_length/2)\n",
    "trian_s = float(3*small_side_length/2)\n",
    "multi_area = (trian_l*(trian_l - side_length)*(trian_l - side_length)*(trian_l - side_length))**0.5\n",
    "trian_area = (trian_s*(trian_s - small_side_length)*(trian_s - small_side_length)*(trian_s - small_side_length))**0.5\n",
    "square_area = side_length**2\n",
    "whole_area = round(6*multi_area+6*trian_area+3*square_area)\n",
    "print(whole_area)"
   ]
  },
  {
   "cell_type": "code",
   "execution_count": null,
   "metadata": {
    "ExecuteTime": {
     "end_time": "2021-02-21T07:28:11.004107Z",
     "start_time": "2021-02-21T07:28:09.855406Z"
    }
   },
   "outputs": [],
   "source": [
    "side_length = float(input())\n",
    "surface = (3*(25+10*(5)**0.5)**0.5)*side_length**2\n",
    "inner = (side_length**3)*(15+7*(5)**0.5)/4\n",
    "print(round(surface, 2))\n",
    "print(round(inner, 2))"
   ]
  },
  {
   "cell_type": "code",
   "execution_count": null,
   "metadata": {
    "ExecuteTime": {
     "end_time": "2021-02-21T07:36:51.552412Z",
     "start_time": "2021-02-21T07:36:38.717938Z"
    }
   },
   "outputs": [],
   "source": [
    "# скорость сближения \n",
    "L = int(input())\n",
    "v1 = int(input())\n",
    "v2 = int(input())\n",
    "vm = int(input())\n",
    "live_fly = (L/(v1+v2))*vm\n",
    "print(int(live_fly))\n"
   ]
  },
  {
   "cell_type": "code",
   "execution_count": null,
   "metadata": {
    "ExecuteTime": {
     "end_time": "2021-02-21T07:34:58.429548Z",
     "start_time": "2021-02-21T07:34:58.414535Z"
    }
   },
   "outputs": [],
   "source": [
    "live_fly"
   ]
  },
  {
   "cell_type": "code",
   "execution_count": null,
   "metadata": {
    "ExecuteTime": {
     "end_time": "2021-02-21T09:59:30.247354Z",
     "start_time": "2021-02-21T09:59:24.620868Z"
    }
   },
   "outputs": [],
   "source": [
    "print(input(), input(), sep=\"$\")"
   ]
  },
  {
   "cell_type": "code",
   "execution_count": null,
   "metadata": {
    "ExecuteTime": {
     "end_time": "2021-02-21T10:47:47.913733Z",
     "start_time": "2021-02-21T10:47:47.906758Z"
    }
   },
   "outputs": [],
   "source": [
    "L = \"['mix', 'extra', '', 'x-files', 'xyz', 'xapple', 'apple']\"\n",
    "L = L.replace(\"[\", \"\")\n",
    "L = L.replace(\"]\", \"\")\n",
    "L = L.replace(\"'\", \"\")\n",
    "L = L.split(\", \")\n",
    "print(L)\n",
    "print(type(L))"
   ]
  },
  {
   "cell_type": "code",
   "execution_count": null,
   "metadata": {
    "ExecuteTime": {
     "end_time": "2021-02-21T11:12:16.686873Z",
     "start_time": "2021-02-21T11:12:11.837836Z"
    }
   },
   "outputs": [],
   "source": [
    "a = input()\n",
    "if a == \"0\":\n",
    "    print('Division by zero!')\n",
    "else:\n",
    "    b = int(input())\n",
    "    c = b/int(a)\n",
    "    print(round(c, 1))"
   ]
  },
  {
   "cell_type": "code",
   "execution_count": null,
   "metadata": {
    "ExecuteTime": {
     "end_time": "2021-02-21T15:43:57.364593Z",
     "start_time": "2021-02-21T15:43:45.630220Z"
    },
    "scrolled": true
   },
   "outputs": [],
   "source": [
    "a = input()  \n",
    "\n",
    "if a == 'int':\n",
    "    b=int(input())\n",
    "    c=int(input())\n",
    "    if b != 0 or c !=0:\n",
    "        print(b+c)\n",
    "    else:\n",
    "        print( \"Empty Ints\")       \n",
    "\n",
    "elif a == 'str':        \n",
    "    z = input() \n",
    "    if z:\n",
    "        print(z)\n",
    "    else:\n",
    "        print(\"Empty String\")\n",
    "\n",
    "elif a == 'list':\n",
    "    x = input().split()    \n",
    "    if x:\n",
    "        print(x[-1])        \n",
    "    else:\n",
    "        print(\"Empty List\")\n",
    "else:\n",
    "    print('Unknown type')"
   ]
  },
  {
   "cell_type": "code",
   "execution_count": null,
   "metadata": {
    "ExecuteTime": {
     "end_time": "2021-02-22T06:06:39.448100Z",
     "start_time": "2021-02-22T06:06:38.007571Z"
    }
   },
   "outputs": [],
   "source": [
    "a = int(input())\n",
    "for i in range(0, a):\n",
    "    if i%2 ==0:\n",
    "        print(i**2)"
   ]
  },
  {
   "cell_type": "code",
   "execution_count": null,
   "metadata": {
    "ExecuteTime": {
     "end_time": "2021-02-22T06:23:22.291825Z",
     "start_time": "2021-02-22T06:23:08.664744Z"
    }
   },
   "outputs": [],
   "source": [
    "b = 0\n",
    "while True:\n",
    "    a = input()\n",
    "    if a == 'The End':\n",
    "        break   \n",
    "    else:\n",
    "        b += int(a)        \n",
    "print(b)\n",
    "     \n",
    "    "
   ]
  },
  {
   "cell_type": "code",
   "execution_count": null,
   "metadata": {
    "ExecuteTime": {
     "end_time": "2021-02-22T06:27:28.792750Z",
     "start_time": "2021-02-22T06:27:22.522849Z"
    }
   },
   "outputs": [],
   "source": [
    "a = input().split()\n",
    "for i in a:\n",
    "    if i[0] != \"*\":\n",
    "        print(i)\n",
    "    else:\n",
    "        continue"
   ]
  },
  {
   "cell_type": "code",
   "execution_count": null,
   "metadata": {
    "ExecuteTime": {
     "end_time": "2021-02-22T06:40:56.196622Z",
     "start_time": "2021-02-22T06:40:53.575952Z"
    }
   },
   "outputs": [],
   "source": [
    "a = int(input())\n",
    "for i in range(2, 30000):\n",
    "    if a%i == 0:\n",
    "        print(i)\n",
    "        break"
   ]
  },
  {
   "cell_type": "code",
   "execution_count": null,
   "metadata": {
    "ExecuteTime": {
     "end_time": "2021-02-22T06:46:30.978730Z",
     "start_time": "2021-02-22T06:46:27.746716Z"
    }
   },
   "outputs": [],
   "source": [
    "a = int(input())\n",
    "for i in range(1, abs(a)):\n",
    "    print(i**3)"
   ]
  },
  {
   "cell_type": "code",
   "execution_count": null,
   "metadata": {
    "ExecuteTime": {
     "end_time": "2021-02-22T08:27:24.176632Z",
     "start_time": "2021-02-22T08:27:24.152636Z"
    }
   },
   "outputs": [],
   "source": [
    "def Kfactorial(n, k=1):\n",
    "    if n == 0 or n == 1:\n",
    "        return 1    \n",
    "    elif n <= k:\n",
    "        return n    \n",
    "    elif n > k:\n",
    "        return n*Kfactorial(n-k, k)\n",
    "       "
   ]
  },
  {
   "cell_type": "code",
   "execution_count": null,
   "metadata": {
    "ExecuteTime": {
     "end_time": "2021-02-22T10:21:17.781661Z",
     "start_time": "2021-02-22T10:21:17.772662Z"
    }
   },
   "outputs": [],
   "source": [
    "def convert(L):    \n",
    "    for num, i in enumerate(L):\n",
    "        i = int(i)\n",
    "        L[num] = i     \n",
    "    return L\n",
    "\n",
    "def convert(L):\n",
    "    return list(map(int, L))"
   ]
  },
  {
   "cell_type": "code",
   "execution_count": null,
   "metadata": {
    "ExecuteTime": {
     "end_time": "2021-02-22T09:09:24.613853Z",
     "start_time": "2021-02-22T09:09:24.593804Z"
    }
   },
   "outputs": [],
   "source": [
    "def translate(number, n=2):\n",
    "    result = \"\"\n",
    "    while number > 0:\n",
    "        result = str(number % n) + result\n",
    "        number //= n  \n",
    "    return result"
   ]
  },
  {
   "cell_type": "code",
   "execution_count": null,
   "metadata": {
    "ExecuteTime": {
     "end_time": "2021-02-22T10:06:26.014099Z",
     "start_time": "2021-02-22T10:06:25.990056Z"
    }
   },
   "outputs": [],
   "source": [
    "def factorial(n):\n",
    "    if n == 0 or n == 1:\n",
    "        return 1\n",
    "    else:\n",
    "        return n*factorial(n-1)\n",
    "    \n",
    "def sfactorial(n):    \n",
    "    result = 1\n",
    "    if n == 0 or n == 1:\n",
    "        return 1\n",
    "    while n > 1:\n",
    "        result *= factorial(n)\n",
    "        n -=1\n",
    "    return result "
   ]
  },
  {
   "cell_type": "code",
   "execution_count": null,
   "metadata": {
    "ExecuteTime": {
     "end_time": "2021-02-22T10:26:22.003939Z",
     "start_time": "2021-02-22T10:26:21.977896Z"
    }
   },
   "outputs": [],
   "source": [
    "f = open(str(input()), 'r', encoding='utf-8')\n",
    "print(f.readlines()[-2])def convert(L):    \n",
    "    for num, i in enumerate(L):\n",
    "        i = int(i)\n",
    "        L[num] = i     \n",
    "    return L\n",
    "\n",
    "\n",
    "def max_convert(L):\n",
    "    max_result = 0\n",
    "    max_index = 0\n",
    "    L = list(map(int, L))    \n",
    "    for num, i in enumerate(L):\n",
    "        if i > max_result:\n",
    "            max_result = i\n",
    "            max_index = num   \n",
    "    return max_index\n",
    "\n",
    "def maxId(L):\n",
    "    return L.index(max(L, key=int))"
   ]
  },
  {
   "cell_type": "code",
   "execution_count": null,
   "metadata": {
    "ExecuteTime": {
     "end_time": "2021-02-22T12:44:05.992378Z",
     "start_time": "2021-02-22T12:44:05.968329Z"
    }
   },
   "outputs": [],
   "source": [
    "f = [1, 2, '3', '4', '5', 6]\n",
    "z = 0\n",
    "for i in f:\n",
    "    if type(i) is int:\n",
    "        z += i\n",
    "print(z)"
   ]
  },
  {
   "cell_type": "code",
   "execution_count": null,
   "metadata": {
    "ExecuteTime": {
     "end_time": "2021-02-22T13:58:54.546427Z",
     "start_time": "2021-02-22T13:58:54.529414Z"
    }
   },
   "outputs": [],
   "source": [
    "sheet = open(sheet).readlines()\n",
    "mean = open(mean).read()\n",
    "\n",
    "result = 0\n",
    "students = 0\n",
    "for i in sheet:\n",
    "    i = i.split()\n",
    "    if i[-1] == '(экзамен)' or i[-1] == '(автомат)':\n",
    "        result += int(i[-2])\n",
    "        students += 1\n",
    "        \n",
    "check_result = result/students\n",
    "if int(check_result) == int(mean):\n",
    "    print(\"OK\")\n",
    "else:\n",
    "    print('ERROR')\n",
    "\n",
    "\n",
    "\n",
    "with open(sheet) as sh:\n",
    "    marks = []\n",
    "    for line in sh:\n",
    "        if '(экзамен)' in line or '(автомат)' in line:\n",
    "            marks.append(line.split()[-2])\n",
    "with open(mean) as mn:\n",
    "    if float(mn.read()) == sum(map(int, marks)) / len(marks):\n",
    "        print('OK')\n",
    "    else: print('ERROR')\n",
    "    \n"
   ]
  },
  {
   "cell_type": "code",
   "execution_count": null,
   "metadata": {
    "ExecuteTime": {
     "end_time": "2021-02-22T18:54:27.890555Z",
     "start_time": "2021-02-22T18:54:27.877557Z"
    }
   },
   "outputs": [],
   "source": [
    "a = list(i for i in \"упожилого\")\n",
    "for b in reversed(a): \n",
    "    print(b)"
   ]
  },
  {
   "cell_type": "code",
   "execution_count": null,
   "metadata": {
    "ExecuteTime": {
     "end_time": "2021-02-22T18:58:51.197405Z",
     "start_time": "2021-02-22T18:58:51.187375Z"
    }
   },
   "outputs": [],
   "source": [
    "a = list(i for i in range(10, 0, -1))\n",
    "print(a)"
   ]
  },
  {
   "cell_type": "code",
   "execution_count": null,
   "metadata": {
    "ExecuteTime": {
     "end_time": "2021-02-23T05:31:47.973088Z",
     "start_time": "2021-02-23T05:31:47.954135Z"
    }
   },
   "outputs": [],
   "source": [
    "for it in range(10, -1, -2):\n",
    "    print(it, end = \", \")"
   ]
  },
  {
   "cell_type": "code",
   "execution_count": null,
   "metadata": {},
   "outputs": [],
   "source": []
  },
  {
   "cell_type": "code",
   "execution_count": null,
   "metadata": {},
   "outputs": [],
   "source": [
    "with open(file_name, 'w', encoding='utf-8') as f:\n",
    "    print(f.read())\n",
    "    print(f.readlines())\n",
    "    if f.read():\n",
    "        f.seek(0)    \n",
    "    text = event\n",
    "    for num, i in enumerate(f):\n",
    "        f.writelines(\"event\", num, str(text)) \n",
    "        \n",
    "import os.path\n",
    "a = input()\n",
    "if os.path.isfile(a)\n"
   ]
  }
 ],
 "metadata": {
  "hide_input": false,
  "kernelspec": {
   "display_name": "Python 3",
   "language": "python",
   "name": "python3"
  },
  "language_info": {
   "codemirror_mode": {
    "name": "ipython",
    "version": 3
   },
   "file_extension": ".py",
   "mimetype": "text/x-python",
   "name": "python",
   "nbconvert_exporter": "python",
   "pygments_lexer": "ipython3",
   "version": "3.8.3"
  },
  "latex_envs": {
   "LaTeX_envs_menu_present": true,
   "autoclose": false,
   "autocomplete": true,
   "bibliofile": "biblio.bib",
   "cite_by": "apalike",
   "current_citInitial": 1,
   "eqLabelWithNumbers": true,
   "eqNumInitial": 1,
   "hotkeys": {
    "equation": "Ctrl-E",
    "itemize": "Ctrl-I"
   },
   "labels_anchors": false,
   "latex_user_defs": false,
   "report_style_numbering": false,
   "user_envs_cfg": false
  },
  "nbTranslate": {
   "displayLangs": [
    "*"
   ],
   "hotkey": "alt-t",
   "langInMainMenu": true,
   "sourceLang": "en",
   "targetLang": "fr",
   "useGoogleTranslate": true
  },
  "toc": {
   "base_numbering": 1,
   "nav_menu": {},
   "number_sections": true,
   "sideBar": true,
   "skip_h1_title": false,
   "title_cell": "Table of Contents",
   "title_sidebar": "Contents",
   "toc_cell": false,
   "toc_position": {},
   "toc_section_display": true,
   "toc_window_display": false
  },
  "varInspector": {
   "cols": {
    "lenName": 16,
    "lenType": 16,
    "lenVar": 40
   },
   "kernels_config": {
    "python": {
     "delete_cmd_postfix": "",
     "delete_cmd_prefix": "del ",
     "library": "var_list.py",
     "varRefreshCmd": "print(var_dic_list())"
    },
    "r": {
     "delete_cmd_postfix": ") ",
     "delete_cmd_prefix": "rm(",
     "library": "var_list.r",
     "varRefreshCmd": "cat(var_dic_list()) "
    }
   },
   "types_to_exclude": [
    "module",
    "function",
    "builtin_function_or_method",
    "instance",
    "_Feature"
   ],
   "window_display": false
  }
 },
 "nbformat": 4,
 "nbformat_minor": 4
}
