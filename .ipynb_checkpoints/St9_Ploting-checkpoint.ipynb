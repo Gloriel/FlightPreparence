{
 "cells": [
  {
   "cell_type": "markdown",
   "metadata": {},
   "source": [
    "* Ссылки \n",
    "  * [Гайд по SNS](https://nagornyy.me/courses/data-science/intro-to-seaborn/).<br>\n",
    "  * [Построение графиков](https://pcnews.ru/blogs/spargalka_po_vizualizacii_dannyh_v_python_s_pomosu_plotly-986119.html).<br>\n",
    "  * [Продвинутая визуализация](https://habr.com/ru/company/skillfactory/blog/510320/).<br>\n",
    "  * [Все графики](https://prog-help.ru/python/kollekcija-prodvinutoj-vizualizacii-v-matplotlib-i-seaborn-s-primerami/).<br>"
   ]
  },
  {
   "cell_type": "code",
   "execution_count": 4,
   "metadata": {
    "ExecuteTime": {
     "end_time": "2021-02-26T12:37:20.766508Z",
     "start_time": "2021-02-26T12:37:20.731514Z"
    },
    "code_folding": [],
    "run_control": {
     "marked": false
    }
   },
   "outputs": [
    {
     "data": {
      "text/html": [
       "        <script type=\"text/javascript\">\n",
       "        window.PlotlyConfig = {MathJaxConfig: 'local'};\n",
       "        if (window.MathJax) {MathJax.Hub.Config({SVG: {font: \"STIX-Web\"}});}\n",
       "        if (typeof require !== 'undefined') {\n",
       "        require.undef(\"plotly\");\n",
       "        requirejs.config({\n",
       "            paths: {\n",
       "                'plotly': ['https://cdn.plot.ly/plotly-latest.min']\n",
       "            }\n",
       "        });\n",
       "        require(['plotly'], function(Plotly) {\n",
       "            window._Plotly = Plotly;\n",
       "        });\n",
       "        }\n",
       "        </script>\n",
       "        "
      ]
     },
     "metadata": {},
     "output_type": "display_data"
    },
    {
     "data": {
      "text/html": [
       "        <script type=\"text/javascript\">\n",
       "        window.PlotlyConfig = {MathJaxConfig: 'local'};\n",
       "        if (window.MathJax) {MathJax.Hub.Config({SVG: {font: \"STIX-Web\"}});}\n",
       "        if (typeof require !== 'undefined') {\n",
       "        require.undef(\"plotly\");\n",
       "        requirejs.config({\n",
       "            paths: {\n",
       "                'plotly': ['https://cdn.plot.ly/plotly-latest.min']\n",
       "            }\n",
       "        });\n",
       "        require(['plotly'], function(Plotly) {\n",
       "            window._Plotly = Plotly;\n",
       "        });\n",
       "        }\n",
       "        </script>\n",
       "        "
      ]
     },
     "metadata": {},
     "output_type": "display_data"
    },
    {
     "data": {
      "text/html": [
       "        <script type=\"text/javascript\">\n",
       "        window.PlotlyConfig = {MathJaxConfig: 'local'};\n",
       "        if (window.MathJax) {MathJax.Hub.Config({SVG: {font: \"STIX-Web\"}});}\n",
       "        if (typeof require !== 'undefined') {\n",
       "        require.undef(\"plotly\");\n",
       "        requirejs.config({\n",
       "            paths: {\n",
       "                'plotly': ['https://cdn.plot.ly/plotly-latest.min']\n",
       "            }\n",
       "        });\n",
       "        require(['plotly'], function(Plotly) {\n",
       "            window._Plotly = Plotly;\n",
       "        });\n",
       "        }\n",
       "        </script>\n",
       "        "
      ]
     },
     "metadata": {},
     "output_type": "display_data"
    }
   ],
   "source": [
    "from pylab import rcParams\n",
    "import plotly.graph_objects as go\n",
    "from plotly.offline import download_plotlyjs, init_notebook_mode, plot, iplot\n",
    "import warnings\n",
    "import numpy as np\n",
    "import pandas as pd\n",
    "import plotly\n",
    "from IPython.display import Image\n",
    "import matplotlib\n",
    "from IPython.core.interactiveshell import InteractiveShell\n",
    "from wordcloud import WordCloud\n",
    "import seaborn as sns\n",
    "import matplotlib.pyplot as plt\n",
    "from plotly.subplots import make_subplots\n",
    "import plotly.express as px\n",
    "import plotly.graph_objs as go\n",
    "import chart_studio.plotly as py\n",
    "import cufflinks\n",
    "cufflinks.go_offline(connected=True)\n",
    "init_notebook_mode(connected=True)\n",
    "%matplotlib inline\n",
    "warnings.filterwarnings(\"ignore\")\n",
    "rcParams['figure.figsize'] = 16, 10\n",
    "pd.set_option('display.width', 85)\n",
    "pd.set_option('display.max_columns', 8)\n",
    "init_notebook_mode(connected=True)\n",
    "pd.options.display.float_format = '{:,.1f}'.format\n",
    "InteractiveShell.ast_node_interactivity = 'all'\n",
    "\n",
    "# columns = ['SEQN', 'Alcohol101', 'Alcohol110', 'Alcohol130', 'Smoking', 'Gender',\n",
    "#        'Age', 'Race', 'Country', 'Education', 'Family', 'HouseSize',\n",
    "#        'Salary', 'SDMVPSU', 'SDMVSTRA', 'INDFMPIR', 'BloodPressureSY1', 'BloodPressureDI1', 'BloodPressureSY2',\n",
    "#        'BloodPressureDI2', 'Weight', 'Height', 'BodyIndex', 'BodyLeg', 'BodyArm', 'BodyArm2',\n",
    "#        'BodyWaist', 'HIQ210']\n",
    "# , names=columns\n",
    "\n",
    "df = pd.read_csv('df.csv')\n",
    "# df = df[1:]"
   ]
  },
  {
   "cell_type": "code",
   "execution_count": 2,
   "metadata": {
    "ExecuteTime": {
     "end_time": "2021-02-26T12:36:41.941509Z",
     "start_time": "2021-02-26T12:36:41.927420Z"
    }
   },
   "outputs": [],
   "source": [
    "pd.set_option('display.max_rows', 100)\n",
    "pd.set_option('display.max_columns', 100)\n",
    "pd.set_option('precision', 2)"
   ]
  },
  {
   "cell_type": "code",
   "execution_count": 6,
   "metadata": {
    "ExecuteTime": {
     "end_time": "2021-02-26T12:37:56.231685Z",
     "start_time": "2021-02-26T12:37:56.148186Z"
    }
   },
   "outputs": [
    {
     "data": {
      "text/html": [
       "<div>\n",
       "<style scoped>\n",
       "    .dataframe tbody tr th:only-of-type {\n",
       "        vertical-align: middle;\n",
       "    }\n",
       "\n",
       "    .dataframe tbody tr th {\n",
       "        vertical-align: top;\n",
       "    }\n",
       "\n",
       "    .dataframe thead th {\n",
       "        text-align: right;\n",
       "    }\n",
       "</style>\n",
       "<table border=\"1\" class=\"dataframe\">\n",
       "  <thead>\n",
       "    <tr style=\"text-align: right;\">\n",
       "      <th></th>\n",
       "      <th>SEQN</th>\n",
       "      <th>ALQ101</th>\n",
       "      <th>ALQ110</th>\n",
       "      <th>ALQ130</th>\n",
       "      <th>...</th>\n",
       "      <th>BMXARML</th>\n",
       "      <th>BMXARMC</th>\n",
       "      <th>BMXWAIST</th>\n",
       "      <th>HIQ210</th>\n",
       "    </tr>\n",
       "  </thead>\n",
       "  <tbody>\n",
       "    <tr>\n",
       "      <th>count</th>\n",
       "      <td>5,735.0</td>\n",
       "      <td>5,208.0</td>\n",
       "      <td>1,731.0</td>\n",
       "      <td>3,379.0</td>\n",
       "      <td>...</td>\n",
       "      <td>5,427.0</td>\n",
       "      <td>5,427.0</td>\n",
       "      <td>5,368.0</td>\n",
       "      <td>4,732.0</td>\n",
       "    </tr>\n",
       "    <tr>\n",
       "      <th>mean</th>\n",
       "      <td>88,678.6</td>\n",
       "      <td>1.3</td>\n",
       "      <td>1.6</td>\n",
       "      <td>3.9</td>\n",
       "      <td>...</td>\n",
       "      <td>37.1</td>\n",
       "      <td>33.1</td>\n",
       "      <td>99.6</td>\n",
       "      <td>1.9</td>\n",
       "    </tr>\n",
       "    <tr>\n",
       "      <th>std</th>\n",
       "      <td>2,882.1</td>\n",
       "      <td>0.5</td>\n",
       "      <td>0.6</td>\n",
       "      <td>34.3</td>\n",
       "      <td>...</td>\n",
       "      <td>2.8</td>\n",
       "      <td>5.3</td>\n",
       "      <td>16.8</td>\n",
       "      <td>0.4</td>\n",
       "    </tr>\n",
       "    <tr>\n",
       "      <th>min</th>\n",
       "      <td>83,732.0</td>\n",
       "      <td>1.0</td>\n",
       "      <td>1.0</td>\n",
       "      <td>1.0</td>\n",
       "      <td>...</td>\n",
       "      <td>28.2</td>\n",
       "      <td>17.1</td>\n",
       "      <td>58.7</td>\n",
       "      <td>1.0</td>\n",
       "    </tr>\n",
       "    <tr>\n",
       "      <th>25%</th>\n",
       "      <td>86,164.0</td>\n",
       "      <td>1.0</td>\n",
       "      <td>1.0</td>\n",
       "      <td>1.0</td>\n",
       "      <td>...</td>\n",
       "      <td>35.2</td>\n",
       "      <td>29.5</td>\n",
       "      <td>87.6</td>\n",
       "      <td>2.0</td>\n",
       "    </tr>\n",
       "    <tr>\n",
       "      <th>50%</th>\n",
       "      <td>88,668.0</td>\n",
       "      <td>1.0</td>\n",
       "      <td>2.0</td>\n",
       "      <td>2.0</td>\n",
       "      <td>...</td>\n",
       "      <td>37.1</td>\n",
       "      <td>32.7</td>\n",
       "      <td>98.3</td>\n",
       "      <td>2.0</td>\n",
       "    </tr>\n",
       "    <tr>\n",
       "      <th>75%</th>\n",
       "      <td>91,178.5</td>\n",
       "      <td>2.0</td>\n",
       "      <td>2.0</td>\n",
       "      <td>3.0</td>\n",
       "      <td>...</td>\n",
       "      <td>39.0</td>\n",
       "      <td>36.2</td>\n",
       "      <td>109.3</td>\n",
       "      <td>2.0</td>\n",
       "    </tr>\n",
       "    <tr>\n",
       "      <th>max</th>\n",
       "      <td>93,702.0</td>\n",
       "      <td>9.0</td>\n",
       "      <td>9.0</td>\n",
       "      <td>999.0</td>\n",
       "      <td>...</td>\n",
       "      <td>47.4</td>\n",
       "      <td>58.4</td>\n",
       "      <td>171.6</td>\n",
       "      <td>9.0</td>\n",
       "    </tr>\n",
       "  </tbody>\n",
       "</table>\n",
       "<p>8 rows × 28 columns</p>\n",
       "</div>"
      ],
      "text/plain": [
       "          SEQN  ALQ101  ALQ110  ALQ130  ...  BMXARML  BMXARMC  BMXWAIST  HIQ210\n",
       "count  5,735.0 5,208.0 1,731.0 3,379.0  ...  5,427.0  5,427.0   5,368.0 4,732.0\n",
       "mean  88,678.6     1.3     1.6     3.9  ...     37.1     33.1      99.6     1.9\n",
       "std    2,882.1     0.5     0.6    34.3  ...      2.8      5.3      16.8     0.4\n",
       "min   83,732.0     1.0     1.0     1.0  ...     28.2     17.1      58.7     1.0\n",
       "25%   86,164.0     1.0     1.0     1.0  ...     35.2     29.5      87.6     2.0\n",
       "50%   88,668.0     1.0     2.0     2.0  ...     37.1     32.7      98.3     2.0\n",
       "75%   91,178.5     2.0     2.0     3.0  ...     39.0     36.2     109.3     2.0\n",
       "max   93,702.0     9.0     9.0   999.0  ...     47.4     58.4     171.6     9.0\n",
       "\n",
       "[8 rows x 28 columns]"
      ]
     },
     "execution_count": 6,
     "metadata": {},
     "output_type": "execute_result"
    }
   ],
   "source": [
    "df.describe()"
   ]
  },
  {
   "cell_type": "code",
   "execution_count": null,
   "metadata": {
    "ExecuteTime": {
     "end_time": "2021-02-26T12:30:02.885315Z",
     "start_time": "2021-02-26T12:30:02.865317Z"
    }
   },
   "outputs": [],
   "source": [
    "# Преобразуем числовые данные в объектные\n",
    "df['Gender'] = df.Gender.replace({1: \"Male\", 2: \"Female\"})\n",
    "df['Education'] = df.Education.replace(\n",
    "    {1: \"<9\", 2: \"9-11\", 3: \"HS/GED\", 4: \"Some college/AA\", 5: \"College\", 7: \"Refused\", 9: \"Don't know\"})\n",
    "df['Family'] = df.Family.replace({1: \"Married\", 2: \"Widowed\", 3: \"Divorced\",\n",
    "                                  4: \"Separated\", 5: \"Never married\", 6: \"Living w/partner\", 77: \"Refused\"})"
   ]
  },
  {
   "cell_type": "code",
   "execution_count": null,
   "metadata": {
    "ExecuteTime": {
     "end_time": "2021-02-26T12:23:47.890760Z",
     "start_time": "2021-02-26T12:23:47.875756Z"
    }
   },
   "outputs": [],
   "source": [
    "# Добавим новый столбец, с массой тела, умноженной на 10\n",
    "df[\"dot_size\"] = df.BodyIndex*10"
   ]
  },
  {
   "cell_type": "code",
   "execution_count": null,
   "metadata": {
    "ExecuteTime": {
     "end_time": "2021-02-26T12:23:47.906758Z",
     "start_time": "2021-02-26T12:23:47.892734Z"
    }
   },
   "outputs": [],
   "source": [
    "# Уменьшим фрейм\n",
    "df = df.loc[:500, :]\n",
    "df.shape"
   ]
  },
  {
   "cell_type": "code",
   "execution_count": null,
   "metadata": {
    "ExecuteTime": {
     "end_time": "2021-02-26T12:26:15.339925Z",
     "start_time": "2021-02-26T12:26:15.317876Z"
    }
   },
   "outputs": [],
   "source": [
    "df['Family'].unique()"
   ]
  },
  {
   "cell_type": "code",
   "execution_count": null,
   "metadata": {
    "ExecuteTime": {
     "end_time": "2021-02-26T12:23:48.582817Z",
     "start_time": "2021-02-26T12:23:47.909756Z"
    },
    "scrolled": true
   },
   "outputs": [],
   "source": [
    "# Диаграмма рассеяния\n",
    "from scipy.spatial import ConvexHull\n",
    "\n",
    "# Функция, которая добавляет в график очерченную область, где переменные предикторов соответствуют определенному критерию\n",
    "from scipy.spatial import ConvexHull\n",
    "def encircle(x, y, ax=None, **kw):\n",
    "    if not ax:\n",
    "        ax = plt.gca()\n",
    "    p = np.c_[x, y]\n",
    "    hull = ConvexHull(p)\n",
    "    poly = plt.Polygon(p[hull.vertices, :], **kw)\n",
    "    ax.add_patch(poly)\n",
    "\n",
    "category = df['Family'].unique()\n",
    "\n",
    "plt.figure(figsize=(16, 8), dpi=80, facecolor=\"w\", edgecolor=\"k\")\n",
    "for i, cat in enumerate(category):\n",
    "    plt.scatter(\"BloodPressureDI1\", \"BloodPressureSY1\",  # X Y\n",
    "                # В каждом цикле проходим по одному значению переменных из колонки\n",
    "                data=df.loc[df.Family == cat, :],\n",
    "                s='dot_size',  # ЗАвисимость размера точки от значения в другой колонке фрейма\n",
    "                label=str(cat))\n",
    "\n",
    "# Задаем целевой предиктор\n",
    "df_encircle = df.loc[(df[\"Age\"] > 40), :].dropna()\n",
    "# Ограничиваем область и делаем ей заливку\n",
    "encircle(df_encircle.BloodPressureDI1, df_encircle.BloodPressureSY1, ec=\"k\", fc=\"gold\", alpha=0.1)\n",
    "encircle(df_encircle.BloodPressureDI1, df_encircle.BloodPressureSY1,\n",
    "         ec=\"firebrick\", fc=\"none\", linewidth=1.5)\n",
    "\n",
    "plt.gca().set(xlabel='BloodPressureDI1', ylabel='BloodPressureSY1')\n",
    "plt.xticks(fontsize=12)\n",
    "plt.yticks(fontsize=12)\n",
    "plt.title(\"Bubble Plot with Encircling\", fontsize=22)\n",
    "plt.legend(fontsize=12)\n",
    "plt.show();"
   ]
  },
  {
   "cell_type": "code",
   "execution_count": null,
   "metadata": {
    "ExecuteTime": {
     "end_time": "2021-02-26T12:23:48.600732Z",
     "start_time": "2021-02-26T12:23:46.398Z"
    }
   },
   "outputs": [],
   "source": [
    "# точечная диаграмма\n",
    "fig, ax = plt.subplots(figsize=(16, 8), dpi=80)\n",
    "sns.stripplot(df.BloodPressureSY1, df.BodyIndex, jitter=0.45, size=8, ax=ax, linewidth=0.5)\n",
    "plt.title(\"Systolic Blood pressure vs Body mass index\")\n",
    "plt.tick_params(axis='x', which='major', labelsize=12, rotation=90)\n",
    "plt.show();"
   ]
  },
  {
   "cell_type": "code",
   "execution_count": null,
   "metadata": {
    "ExecuteTime": {
     "end_time": "2021-02-26T12:23:48.600732Z",
     "start_time": "2021-02-26T12:23:46.419Z"
    }
   },
   "outputs": [],
   "source": [
    "# Точечные диаграммы с ящиками помогают когда данных очень много\n",
    "fig, ax = plt.subplots(figsize=(30, 12))\n",
    "ax = sns.boxplot(x=\"BloodPressureDI1\", y = \"BloodPressureSY1\", data=df)\n",
    "ax.tick_params(rotation=90, labelsize=18)\n",
    "ax = sns.stripplot(x = \"BloodPressureDI1\", y = \"BloodPressureSY1\", data=df)"
   ]
  },
  {
   "cell_type": "code",
   "execution_count": null,
   "metadata": {
    "ExecuteTime": {
     "end_time": "2021-02-26T12:23:48.601733Z",
     "start_time": "2021-02-26T12:23:46.437Z"
    }
   },
   "outputs": [],
   "source": [
    "# Точечная диаграмма, разделенная по дополнительному предиктору (hue)\n",
    "fig, ax = plt.subplots(figsize=(16,10), dpi= 80)    \n",
    "sns.stripplot(df.BloodPressureDI1, df.BloodPressureSY1, s=10, hue = df.Race, ax=ax)\n",
    "plt.title(\"Stripplot for Systolic vs Diastolic Blood Pressure\", fontsize=20)\n",
    "plt.tick_params(rotation=90)\n",
    "plt.show();"
   ]
  },
  {
   "cell_type": "code",
   "execution_count": null,
   "metadata": {
    "ExecuteTime": {
     "end_time": "2021-02-26T12:23:48.602735Z",
     "start_time": "2021-02-26T12:23:46.455Z"
    }
   },
   "outputs": [],
   "source": [
    "#Скрипичная дияграмма\n",
    "fig, ax = plt.subplots(figsize=(30, 12))\n",
    "ax = sns.violinplot(x= \"Family\", y=\"Age\", data=df, inner=None, color=\"0.4\")\n",
    "ax = sns.stripplot(x= \"Family\", y=\"Age\", data=df)\n",
    "ax.tick_params(rotation=90, labelsize=28)"
   ]
  },
  {
   "cell_type": "code",
   "execution_count": null,
   "metadata": {
    "ExecuteTime": {
     "end_time": "2021-02-26T12:23:48.603732Z",
     "start_time": "2021-02-26T12:23:46.477Z"
    }
   },
   "outputs": [],
   "source": [
    "# Скрипичная диаграмма зависимости отклика от предиктора, с разделением по второму предиктору (hue) \n",
    "fig = plt.figure(figsize=(16, 8), dpi=80)\n",
    "\n",
    "# Добавление второго графика, справа\n",
    "grid=plt.GridSpec(4, 4, hspace=0.5, wspace=0.2)\n",
    "ax_main = fig.add_subplot(grid[:, :-1])\n",
    "ax_right = fig.add_subplot(grid[:, -1], xticklabels=[], yticklabels=[])\n",
    "\n",
    "sns.violinplot(x= \"Family\", y = \"BloodPressureDI1\", hue = \"Age\", data = df, color= \"0.2\", ax=ax_main)\n",
    "sns.stripplot(x= \"Family\", y = \"BloodPressureDI1\", data = df, ax=ax_main)\n",
    "\n",
    "ax_right.hist(df.BloodPressureDI1, histtype='stepfilled', orientation='horizontal', color='grey')\n",
    "ax_main.title.set_fontsize(14)\n",
    "ax_main.tick_params(rotation=10, labelsize=14)\n",
    "\n",
    "plt.show()"
   ]
  },
  {
   "cell_type": "code",
   "execution_count": null,
   "metadata": {
    "ExecuteTime": {
     "end_time": "2021-02-26T12:23:48.604733Z",
     "start_time": "2021-02-26T12:23:46.499Z"
    }
   },
   "outputs": [],
   "source": [
    "# Диаграммы с линией линейной регрессии. Зависимость отклика от предиктора, разделенных по доп. предиктору\n",
    "\n",
    "g = sns.lmplot(x='Height', y='Weight', hue='Gender', data=df,\n",
    "               aspect=1.5, robust=True, palette='tab10',\n",
    "               scatter_kws=dict(s=60, linewidths=.7, edgecolors='black'))\n",
    "plt.title(\"Height vs weight with line of best fit grouped by Gender\", fontsize=20)\n",
    "plt.show()"
   ]
  },
  {
   "cell_type": "code",
   "execution_count": null,
   "metadata": {
    "ExecuteTime": {
     "end_time": "2021-02-26T12:23:48.606734Z",
     "start_time": "2021-02-26T12:23:46.519Z"
    }
   },
   "outputs": [],
   "source": [
    "# Индивидуальные диаграммы с линией регрессии. Отклик и предиктор с доп. графиками для второго предиктора\n",
    "\n",
    "fig = plt.figure(figsize=(20, 8), dpi=80)\n",
    "g = sns.lmplot(x='Height', y='Weight', data = df, robust = True,\n",
    "              palette=\"Set1\", col=\"Race\", # Указываем на разделение на колонки по параметрам в доп. предикторе\n",
    "              scatter_kws=dict(s=60, linewidths=0.7, edgecolors=\"black\"))\n",
    "plt.xticks(fontsize=12, )\n",
    "plt.yticks(fontsize=12)\n",
    "plt.show();"
   ]
  },
  {
   "cell_type": "code",
   "execution_count": null,
   "metadata": {
    "ExecuteTime": {
     "end_time": "2021-02-26T12:23:48.607732Z",
     "start_time": "2021-02-26T12:23:46.537Z"
    }
   },
   "outputs": [],
   "source": [
    "# Парные диаграммы для EDA.Взаимозависимости 4 пар предикторов, разделенных по пятому\n",
    "plt.figure(figsize=(10,8), dpi= 80)\n",
    "sns.color_palette(\"hls\", 8)\n",
    "sns.pairplot(df[['Weight', 'Height', 'BodyIndex', 'BodyWaist', \"Race\"]], kind=\"scatter\", hue=\"Race\", plot_kws=dict(s=30))\n",
    "plt.show();"
   ]
  },
  {
   "cell_type": "code",
   "execution_count": null,
   "metadata": {
    "ExecuteTime": {
     "end_time": "2021-02-26T12:23:48.608735Z",
     "start_time": "2021-02-26T12:23:46.556Z"
    }
   },
   "outputs": [],
   "source": [
    "# Расходящиеся столбики\n",
    "\n",
    "x = df.loc[:, \"BloodPressureSY1\"]\n",
    "df[\"BloodPressureSY1_n\"] = (x - x.mean())/x.std()  # Стандартизируем данные\n",
    "# Задаем цвета для положительных и отрицательных значений\n",
    "df['colors'] = ['red' if i < 0 else 'blue' for i in df[\"BloodPressureSY1_n\"]]\n",
    "df.sort_values(\"BloodPressureSY1_n\", inplace=True)\n",
    "df.reset_index(inplace=True)\n",
    "plt.figure(figsize=(16, 10), dpi=80)\n",
    "plt.hlines(y=df.HouseSize, xmin=0, xmax=df.BloodPressureSY1_n,\n",
    "           color=df.colors, linewidth=3)  # Центрируем по стандартизированным\n",
    "plt.gca().set(ylabel=\"HouseSize\", xlabel=\"BPXSY1_n\")\n",
    "plt.yticks(df.HouseSize, fontsize=14)\n",
    "plt.grid(linestyle='--', alpha=0.5)\n",
    "plt.show()"
   ]
  },
  {
   "cell_type": "code",
   "execution_count": null,
   "metadata": {
    "ExecuteTime": {
     "end_time": "2021-02-26T12:23:48.609736Z",
     "start_time": "2021-02-26T12:23:46.576Z"
    }
   },
   "outputs": [],
   "source": [
    "# Расходящиеся столбики\n",
    "x = df.loc[:, \"BloodPressureSY1\"]\n",
    "df['colors'] = ['coral' if i < 0 else 'lightgreen' for i in df[\"BloodPressureSY1_n\"]]\n",
    "y_ticks = np.arange(16, 82, 8) #Задаем шкалу для оси Y. старт, стоп, шаг\n",
    "plt.figure(figsize=(16, 10), dpi=80)\n",
    "plt.hlines(y = df.Age, xmin=0, xmax = df.BloodPressureSY1_n, color=df.colors, linewidth=3)\n",
    "plt.gca().set(ylabel=\"Age\", xlabel = \"BloodPressureSY1\")\n",
    "plt.yticks(y_ticks, fontsize=14)\n",
    "plt.grid(linestyle='--', alpha=0.5)\n",
    "plt.show();"
   ]
  },
  {
   "cell_type": "code",
   "execution_count": null,
   "metadata": {
    "ExecuteTime": {
     "end_time": "2021-02-26T12:23:48.611734Z",
     "start_time": "2021-02-26T12:23:46.595Z"
    }
   },
   "outputs": [],
   "source": [
    "df[df['Gender'] == 'Male']['Salary'].agg(np.median) \n",
    "df[(df['Gender'] == 'Male') & (df['DMDMARTL'] != 'Married')]['Salary'].agg(np.median)"
   ]
  },
  {
   "cell_type": "code",
   "execution_count": null,
   "metadata": {
    "ExecuteTime": {
     "end_time": "2021-02-26T12:23:48.612733Z",
     "start_time": "2021-02-26T12:23:46.611Z"
    }
   },
   "outputs": [],
   "source": [
    "# средние показатели предикторов, сгруппированных для другого\n",
    "df.groupby(['Gender'])[['HouseSize', 'Age', 'Salary']].agg(np.median)"
   ]
  },
  {
   "cell_type": "code",
   "execution_count": null,
   "metadata": {
    "ExecuteTime": {
     "end_time": "2021-02-26T12:23:48.613735Z",
     "start_time": "2021-02-26T12:23:46.626Z"
    }
   },
   "outputs": [],
   "source": [
    "# Выделение нового предиктора на основе произвольных действий с другими\n",
    "df['Rich'] = (df['Salary'] > df['Salary'].quantile(.75)).astype(int) #Верхняя четверть богатых"
   ]
  },
  {
   "cell_type": "code",
   "execution_count": null,
   "metadata": {
    "ExecuteTime": {
     "end_time": "2021-02-26T12:23:48.613735Z",
     "start_time": "2021-02-26T12:23:46.642Z"
    }
   },
   "outputs": [],
   "source": [
    "def binar_gender(gender):\n",
    "    return 0 if gender == \"Female\" else 1\n",
    "df['Gender'].apply(binar_gender).describe()"
   ]
  },
  {
   "cell_type": "code",
   "execution_count": null,
   "metadata": {
    "ExecuteTime": {
     "end_time": "2021-02-26T12:23:48.614734Z",
     "start_time": "2021-02-26T12:23:46.657Z"
    }
   },
   "outputs": [],
   "source": [
    "num_feat = [x for x in df.columns if df[x].dtype !=\"object\"]\n",
    "df[num_feat].apply(np.mean)"
   ]
  },
  {
   "cell_type": "code",
   "execution_count": null,
   "metadata": {
    "ExecuteTime": {
     "end_time": "2021-02-26T12:23:48.616733Z",
     "start_time": "2021-02-26T12:23:46.672Z"
    }
   },
   "outputs": [],
   "source": [
    "df.sort_values('Age', ascending=False)"
   ]
  },
  {
   "cell_type": "code",
   "execution_count": null,
   "metadata": {
    "ExecuteTime": {
     "end_time": "2021-02-26T12:23:48.616733Z",
     "start_time": "2021-02-26T12:23:46.685Z"
    },
    "scrolled": true
   },
   "outputs": [],
   "source": [
    "pd.crosstab(df['Gender'], df['Rich'], normalize=True)"
   ]
  },
  {
   "cell_type": "code",
   "execution_count": null,
   "metadata": {
    "ExecuteTime": {
     "end_time": "2021-02-26T12:23:48.617733Z",
     "start_time": "2021-02-26T12:23:46.700Z"
    }
   },
   "outputs": [],
   "source": [
    "df.pivot_table(['Age', 'Salary'], ['Gender'], aggfunc='median')"
   ]
  },
  {
   "cell_type": "code",
   "execution_count": null,
   "metadata": {
    "ExecuteTime": {
     "end_time": "2021-02-26T12:23:48.618732Z",
     "start_time": "2021-02-26T12:23:46.716Z"
    }
   },
   "outputs": [],
   "source": [
    "df.hist();"
   ]
  },
  {
   "cell_type": "code",
   "execution_count": null,
   "metadata": {
    "ExecuteTime": {
     "end_time": "2021-02-26T12:23:48.619732Z",
     "start_time": "2021-02-26T12:23:46.735Z"
    }
   },
   "outputs": [],
   "source": [
    "# Выборка для всего фрейма, ограниченная по заданным параметрам одного из предикторов(например, только топ-5 значений)\n",
    "a = df[df['Age'].isin(df['Age'].value_counts().head().index)]\n",
    "sns.countplot(a['Age']);"
   ]
  },
  {
   "cell_type": "code",
   "execution_count": null,
   "metadata": {
    "ExecuteTime": {
     "end_time": "2021-02-26T12:23:48.620732Z",
     "start_time": "2021-02-26T12:23:46.756Z"
    }
   },
   "outputs": [],
   "source": [
    "# Взаимодействие количественнях предикторов\n",
    "num_feat = [x for x in df.columns if df[x].dtype !=\"object\"]\n",
    "num_feat.remove('index')"
   ]
  },
  {
   "cell_type": "code",
   "execution_count": null,
   "metadata": {
    "ExecuteTime": {
     "end_time": "2021-02-26T12:23:48.621732Z",
     "start_time": "2021-02-26T12:23:46.774Z"
    }
   },
   "outputs": [],
   "source": [
    "df[num_feat].hist();"
   ]
  },
  {
   "cell_type": "code",
   "execution_count": null,
   "metadata": {
    "ExecuteTime": {
     "end_time": "2021-02-26T12:23:48.622734Z",
     "start_time": "2021-02-26T12:23:46.802Z"
    }
   },
   "outputs": [],
   "source": [
    "plt.scatter(df['Age'], df[\"Salary\"]);"
   ]
  },
  {
   "cell_type": "code",
   "execution_count": null,
   "metadata": {},
   "outputs": [],
   "source": []
  },
  {
   "cell_type": "code",
   "execution_count": null,
   "metadata": {},
   "outputs": [],
   "source": []
  },
  {
   "cell_type": "code",
   "execution_count": null,
   "metadata": {},
   "outputs": [],
   "source": []
  },
  {
   "cell_type": "code",
   "execution_count": null,
   "metadata": {},
   "outputs": [],
   "source": []
  }
 ],
 "metadata": {
  "hide_input": false,
  "kernelspec": {
   "display_name": "Python 3",
   "language": "python",
   "name": "python3"
  },
  "language_info": {
   "codemirror_mode": {
    "name": "ipython",
    "version": 3
   },
   "file_extension": ".py",
   "mimetype": "text/x-python",
   "name": "python",
   "nbconvert_exporter": "python",
   "pygments_lexer": "ipython3",
   "version": "3.8.3"
  },
  "latex_envs": {
   "LaTeX_envs_menu_present": true,
   "autoclose": false,
   "autocomplete": true,
   "bibliofile": "biblio.bib",
   "cite_by": "apalike",
   "current_citInitial": 1,
   "eqLabelWithNumbers": true,
   "eqNumInitial": 1,
   "hotkeys": {
    "equation": "Ctrl-E",
    "itemize": "Ctrl-I"
   },
   "labels_anchors": false,
   "latex_user_defs": false,
   "report_style_numbering": false,
   "user_envs_cfg": false
  },
  "nbTranslate": {
   "displayLangs": [
    "*"
   ],
   "hotkey": "alt-t",
   "langInMainMenu": true,
   "sourceLang": "en",
   "targetLang": "fr",
   "useGoogleTranslate": true
  },
  "toc": {
   "base_numbering": 1,
   "nav_menu": {
    "height": "12px",
    "width": "160px"
   },
   "number_sections": true,
   "sideBar": true,
   "skip_h1_title": false,
   "title_cell": "Table of Contents",
   "title_sidebar": "Contents",
   "toc_cell": false,
   "toc_position": {},
   "toc_section_display": true,
   "toc_window_display": false
  },
  "varInspector": {
   "cols": {
    "lenName": 16,
    "lenType": 16,
    "lenVar": 40
   },
   "kernels_config": {
    "python": {
     "delete_cmd_postfix": "",
     "delete_cmd_prefix": "del ",
     "library": "var_list.py",
     "varRefreshCmd": "print(var_dic_list())"
    },
    "r": {
     "delete_cmd_postfix": ") ",
     "delete_cmd_prefix": "rm(",
     "library": "var_list.r",
     "varRefreshCmd": "cat(var_dic_list()) "
    }
   },
   "position": {
    "height": "420px",
    "left": "13px",
    "right": "20px",
    "top": "240px",
    "width": "350px"
   },
   "types_to_exclude": [
    "module",
    "function",
    "builtin_function_or_method",
    "instance",
    "_Feature"
   ],
   "window_display": true
  }
 },
 "nbformat": 4,
 "nbformat_minor": 4
}
