{
 "cells": [
  {
   "cell_type": "markdown",
   "metadata": {},
   "source": [
    "https://towardsdatascience.com/10-machine-learning-methods-that-every-data-scientist-should-know-3cc96e0eeee9\n",
    "\n",
    "The ten methods machine learning knowledge and skill:\n",
    "\n",
    "*Regression\n",
    "*Classification\n",
    "*Clustering\n",
    "*Dimensionality Reduction\n",
    "*Ensemble Methods\n",
    "*Neural Nets and Deep Learning\n",
    "*Transfer Learning\n",
    "*Reinforcement Learning\n",
    "*Natural Language Processing\n",
    "*Word Embeddings"
   ]
  },
  {
   "cell_type": "code",
   "execution_count": null,
   "metadata": {},
   "outputs": [],
   "source": []
  }
 ],
 "metadata": {
  "kernelspec": {
   "display_name": "Python 3",
   "language": "python",
   "name": "python3"
  },
  "language_info": {
   "codemirror_mode": {
    "name": "ipython",
    "version": 3
   },
   "file_extension": ".py",
   "mimetype": "text/x-python",
   "name": "python",
   "nbconvert_exporter": "python",
   "pygments_lexer": "ipython3",
   "version": "3.8.3"
  }
 },
 "nbformat": 4,
 "nbformat_minor": 4
}
