{
 "cells": [
  {
   "cell_type": "code",
   "execution_count": null,
   "metadata": {
    "ExecuteTime": {
     "end_time": "2021-02-21T08:01:37.931579Z",
     "start_time": "2021-02-21T08:01:37.921610Z"
    }
   },
   "outputs": [],
   "source": [
    "a = [1, 5, 2, 7, 1, 9, 3, 8, 5, 9]\n",
    "a = list(set(a))\n",
    "a = \"___\".join(str(a))"
   ]
  },
  {
   "cell_type": "code",
   "execution_count": null,
   "metadata": {
    "ExecuteTime": {
     "end_time": "2021-02-21T08:02:33.738759Z",
     "start_time": "2021-02-21T08:02:33.728773Z"
    }
   },
   "outputs": [],
   "source": [
    "a = [1, 5, 2, 7, 1, 9, 3, 8, 5, 9]\n",
    "print(*a)"
   ]
  },
  {
   "cell_type": "code",
   "execution_count": null,
   "metadata": {
    "ExecuteTime": {
     "end_time": "2021-02-21T07:55:56.303994Z",
     "start_time": "2021-02-21T07:55:53.434714Z"
    }
   },
   "outputs": [],
   "source": [
    "a = input()\n",
    "a = a.split()\n",
    "a = list(int(i) for i in a)\n",
    "b = 0\n",
    "for i in a:\n",
    "    b += i\n",
    "print(b)\n",
    "\n",
    "print(sum(map(int, input().split())))\n"
   ]
  },
  {
   "cell_type": "code",
   "execution_count": null,
   "metadata": {
    "ExecuteTime": {
     "end_time": "2021-02-21T08:10:59.698366Z",
     "start_time": "2021-02-21T08:10:55.319544Z"
    }
   },
   "outputs": [],
   "source": [
    "a = input().split('&')\n",
    "a = list(set(a))\n",
    "c = \" \".join(a)\n",
    "print(c)"
   ]
  },
  {
   "cell_type": "code",
   "execution_count": null,
   "metadata": {
    "ExecuteTime": {
     "end_time": "2021-02-21T08:55:03.829130Z",
     "start_time": "2021-02-21T08:55:02.199831Z"
    }
   },
   "outputs": [],
   "source": [
    "a = input().split()\n",
    "a = \"-$-\".join(a[::-1])\n",
    "print(a)"
   ]
  },
  {
   "cell_type": "code",
   "execution_count": null,
   "metadata": {
    "ExecuteTime": {
     "end_time": "2021-02-21T08:59:55.753291Z",
     "start_time": "2021-02-21T08:59:51.685556Z"
    }
   },
   "outputs": [],
   "source": [
    "a = input().split()\n",
    "count = len(a)\n",
    "count_one = a.count('one')\n",
    "print(count, count_one)"
   ]
  },
  {
   "cell_type": "code",
   "execution_count": null,
   "metadata": {
    "ExecuteTime": {
     "end_time": "2021-02-21T09:05:38.876830Z",
     "start_time": "2021-02-21T09:05:36.325008Z"
    }
   },
   "outputs": [],
   "source": []
  },
  {
   "cell_type": "code",
   "execution_count": null,
   "metadata": {
    "ExecuteTime": {
     "end_time": "2021-02-21T09:10:01.731449Z",
     "start_time": "2021-02-21T09:10:01.718451Z"
    }
   },
   "outputs": [],
   "source": [
    "from copy import deepcopy\n",
    "L2 = deepcopy(L1)  "
   ]
  },
  {
   "cell_type": "code",
   "execution_count": null,
   "metadata": {
    "ExecuteTime": {
     "end_time": "2021-02-21T05:44:26.007380Z",
     "start_time": "2021-02-21T05:44:25.995382Z"
    }
   },
   "outputs": [],
   "source": [
    "a = 5\n",
    "b = 5\n",
    "c = 5\n",
    "p = (a+b+c)/2\n",
    "s = (p*(p-a)*(p-b)*(p-c))**0.5\n",
    "print((a+b+c))\n",
    "print(s)"
   ]
  },
  {
   "cell_type": "code",
   "execution_count": null,
   "metadata": {
    "ExecuteTime": {
     "end_time": "2021-02-21T06:09:44.951303Z",
     "start_time": "2021-02-21T06:09:41.423105Z"
    }
   },
   "outputs": [],
   "source": [
    "import math\n",
    "a = float(input())\n",
    "p = 6*a\n",
    "s = a/(2*math.tan(180/6))\n",
    "S = s*p/2\n",
    "q = 3*a/2\n",
    "main_S = S+6*q\n",
    "print(main_S)"
   ]
  },
  {
   "cell_type": "code",
   "execution_count": null,
   "metadata": {
    "ExecuteTime": {
     "end_time": "2021-02-21T06:41:40.575345Z",
     "start_time": "2021-02-21T06:41:38.112459Z"
    }
   },
   "outputs": [],
   "source": [
    "side_length = float(input())\n",
    "small_side_length = side_length/2\n",
    "trian_l = float(3*side_length/2)\n",
    "trian_s = float(3*small_side_length/2)\n",
    "multi_area = (trian_l*(trian_l - side_length)*(trian_l - side_length)*(trian_l - side_length))**0.5\n",
    "trian_area = (trian_s*(trian_s - small_side_length)*(trian_s - small_side_length)*(trian_s - small_side_length))**0.5\n",
    "square_area = side_length**2\n",
    "whole_area = round(6*multi_area+6*trian_area+3*square_area)\n",
    "print(whole_area)"
   ]
  },
  {
   "cell_type": "code",
   "execution_count": null,
   "metadata": {
    "ExecuteTime": {
     "end_time": "2021-02-21T07:28:11.004107Z",
     "start_time": "2021-02-21T07:28:09.855406Z"
    }
   },
   "outputs": [],
   "source": [
    "side_length = float(input())\n",
    "surface = (3*(25+10*(5)**0.5)**0.5)*side_length**2\n",
    "inner = (side_length**3)*(15+7*(5)**0.5)/4\n",
    "print(round(surface, 2))\n",
    "print(round(inner, 2))"
   ]
  },
  {
   "cell_type": "code",
   "execution_count": null,
   "metadata": {
    "ExecuteTime": {
     "end_time": "2021-02-21T07:36:51.552412Z",
     "start_time": "2021-02-21T07:36:38.717938Z"
    }
   },
   "outputs": [],
   "source": [
    "# скорость сближения \n",
    "L = int(input())\n",
    "v1 = int(input())\n",
    "v2 = int(input())\n",
    "vm = int(input())\n",
    "live_fly = (L/(v1+v2))*vm\n",
    "print(int(live_fly))\n"
   ]
  },
  {
   "cell_type": "code",
   "execution_count": null,
   "metadata": {
    "ExecuteTime": {
     "end_time": "2021-02-21T07:34:58.429548Z",
     "start_time": "2021-02-21T07:34:58.414535Z"
    }
   },
   "outputs": [],
   "source": [
    "live_fly"
   ]
  },
  {
   "cell_type": "code",
   "execution_count": null,
   "metadata": {
    "ExecuteTime": {
     "end_time": "2021-02-21T09:59:30.247354Z",
     "start_time": "2021-02-21T09:59:24.620868Z"
    }
   },
   "outputs": [],
   "source": [
    "print(input(), input(), sep=\"$\")"
   ]
  },
  {
   "cell_type": "code",
   "execution_count": null,
   "metadata": {
    "ExecuteTime": {
     "end_time": "2021-02-21T10:47:47.913733Z",
     "start_time": "2021-02-21T10:47:47.906758Z"
    }
   },
   "outputs": [],
   "source": [
    "L = \"['mix', 'extra', '', 'x-files', 'xyz', 'xapple', 'apple']\"\n",
    "L = L.replace(\"[\", \"\")\n",
    "L = L.replace(\"]\", \"\")\n",
    "L = L.replace(\"'\", \"\")\n",
    "L = L.split(\", \")\n",
    "print(L)\n",
    "print(type(L))"
   ]
  },
  {
   "cell_type": "code",
   "execution_count": null,
   "metadata": {
    "ExecuteTime": {
     "end_time": "2021-02-21T11:12:16.686873Z",
     "start_time": "2021-02-21T11:12:11.837836Z"
    }
   },
   "outputs": [],
   "source": [
    "a = input()\n",
    "if a == \"0\":\n",
    "    print('Division by zero!')\n",
    "else:\n",
    "    b = int(input())\n",
    "    c = b/int(a)\n",
    "    print(round(c, 1))"
   ]
  },
  {
   "cell_type": "code",
   "execution_count": null,
   "metadata": {
    "ExecuteTime": {
     "end_time": "2021-02-21T15:43:57.364593Z",
     "start_time": "2021-02-21T15:43:45.630220Z"
    },
    "scrolled": true
   },
   "outputs": [],
   "source": [
    "a = input()  \n",
    "\n",
    "if a == 'int':\n",
    "    b=int(input())\n",
    "    c=int(input())\n",
    "    if b != 0 or c !=0:\n",
    "        print(b+c)\n",
    "    else:\n",
    "        print( \"Empty Ints\")       \n",
    "\n",
    "elif a == 'str':        \n",
    "    z = input() \n",
    "    if z:\n",
    "        print(z)\n",
    "    else:\n",
    "        print(\"Empty String\")\n",
    "\n",
    "elif a == 'list':\n",
    "    x = input().split()    \n",
    "    if x:\n",
    "        print(x[-1])        \n",
    "    else:\n",
    "        print(\"Empty List\")\n",
    "else:\n",
    "    print('Unknown type')"
   ]
  },
  {
   "cell_type": "code",
   "execution_count": null,
   "metadata": {
    "ExecuteTime": {
     "end_time": "2021-02-22T06:06:39.448100Z",
     "start_time": "2021-02-22T06:06:38.007571Z"
    }
   },
   "outputs": [],
   "source": [
    "a = int(input())\n",
    "for i in range(0, a):\n",
    "    if i%2 ==0:\n",
    "        print(i**2)"
   ]
  },
  {
   "cell_type": "code",
   "execution_count": null,
   "metadata": {
    "ExecuteTime": {
     "end_time": "2021-02-22T06:23:22.291825Z",
     "start_time": "2021-02-22T06:23:08.664744Z"
    }
   },
   "outputs": [],
   "source": [
    "b = 0\n",
    "while True:\n",
    "    a = input()\n",
    "    if a == 'The End':\n",
    "        break   \n",
    "    else:\n",
    "        b += int(a)        \n",
    "print(b)\n",
    "     \n",
    "    "
   ]
  },
  {
   "cell_type": "code",
   "execution_count": null,
   "metadata": {
    "ExecuteTime": {
     "end_time": "2021-02-22T06:27:28.792750Z",
     "start_time": "2021-02-22T06:27:22.522849Z"
    }
   },
   "outputs": [],
   "source": [
    "a = input().split()\n",
    "for i in a:\n",
    "    if i[0] != \"*\":\n",
    "        print(i)\n",
    "    else:\n",
    "        continue"
   ]
  },
  {
   "cell_type": "code",
   "execution_count": null,
   "metadata": {
    "ExecuteTime": {
     "end_time": "2021-02-22T06:40:56.196622Z",
     "start_time": "2021-02-22T06:40:53.575952Z"
    }
   },
   "outputs": [],
   "source": [
    "a = int(input())\n",
    "for i in range(2, 30000):\n",
    "    if a%i == 0:\n",
    "        print(i)\n",
    "        break"
   ]
  },
  {
   "cell_type": "code",
   "execution_count": null,
   "metadata": {
    "ExecuteTime": {
     "end_time": "2021-02-22T06:46:30.978730Z",
     "start_time": "2021-02-22T06:46:27.746716Z"
    }
   },
   "outputs": [],
   "source": [
    "a = int(input())\n",
    "for i in range(1, abs(a)):\n",
    "    print(i**3)"
   ]
  },
  {
   "cell_type": "code",
   "execution_count": null,
   "metadata": {},
   "outputs": [],
   "source": [
    "def Kfactorial(n, k=2):\n",
    "    if n == 0:\n",
    "        return 1\n",
    "    elif n == 1:\n",
    "        return 1\n",
    "    else:\n",
    "        return n*dfactorial(n-k)    "
   ]
  }
 ],
 "metadata": {
  "hide_input": false,
  "kernelspec": {
   "display_name": "Python 3",
   "language": "python",
   "name": "python3"
  },
  "language_info": {
   "codemirror_mode": {
    "name": "ipython",
    "version": 3
   },
   "file_extension": ".py",
   "mimetype": "text/x-python",
   "name": "python",
   "nbconvert_exporter": "python",
   "pygments_lexer": "ipython3",
   "version": "3.8.3"
  },
  "latex_envs": {
   "LaTeX_envs_menu_present": true,
   "autoclose": false,
   "autocomplete": true,
   "bibliofile": "biblio.bib",
   "cite_by": "apalike",
   "current_citInitial": 1,
   "eqLabelWithNumbers": true,
   "eqNumInitial": 1,
   "hotkeys": {
    "equation": "Ctrl-E",
    "itemize": "Ctrl-I"
   },
   "labels_anchors": false,
   "latex_user_defs": false,
   "report_style_numbering": false,
   "user_envs_cfg": false
  },
  "nbTranslate": {
   "displayLangs": [
    "*"
   ],
   "hotkey": "alt-t",
   "langInMainMenu": true,
   "sourceLang": "en",
   "targetLang": "fr",
   "useGoogleTranslate": true
  },
  "toc": {
   "base_numbering": 1,
   "nav_menu": {},
   "number_sections": true,
   "sideBar": true,
   "skip_h1_title": false,
   "title_cell": "Table of Contents",
   "title_sidebar": "Contents",
   "toc_cell": false,
   "toc_position": {},
   "toc_section_display": true,
   "toc_window_display": false
  },
  "varInspector": {
   "cols": {
    "lenName": 16,
    "lenType": 16,
    "lenVar": 40
   },
   "kernels_config": {
    "python": {
     "delete_cmd_postfix": "",
     "delete_cmd_prefix": "del ",
     "library": "var_list.py",
     "varRefreshCmd": "print(var_dic_list())"
    },
    "r": {
     "delete_cmd_postfix": ") ",
     "delete_cmd_prefix": "rm(",
     "library": "var_list.r",
     "varRefreshCmd": "cat(var_dic_list()) "
    }
   },
   "types_to_exclude": [
    "module",
    "function",
    "builtin_function_or_method",
    "instance",
    "_Feature"
   ],
   "window_display": false
  }
 },
 "nbformat": 4,
 "nbformat_minor": 4
}
