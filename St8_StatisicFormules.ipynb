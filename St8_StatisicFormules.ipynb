{
 "cells": [
  {
   "cell_type": "code",
   "execution_count": 1,
   "metadata": {},
   "outputs": [],
   "source": [
    "import os\n",
    "import csv\n",
    "import numpy as np\n",
    "import pandas as pd\n",
    "import matplotlib \n",
    "import matplotlib.pyplot as plt\n",
    "import seaborn as sns\n",
    "from pylab import plot,show,hist\n",
    "from scipy.stats.kde import gaussian_kde\n",
    "#%config InlineBackend.figure_format = 'svg'\n",
    "matplotlib.style.use('ggplot')\n",
    "%matplotlib inline\n",
    "\n",
    "os.chdir(r'C:\\Users\\Mr Alex\\Documents\\GitHub\\FlightPreparence')\n",
    "data = pd.read_csv('AmesHousing.txt', sep=\"\\t\", header = 0, index_col=False)"
   ]
  },
  {
   "cell_type": "code",
   "execution_count": null,
   "metadata": {
    "scrolled": false
   },
   "outputs": [],
   "source": [
    "#Число наблюдений(N1), попавших в столбец. H = C*N1 \n",
    "#H = N1/(N*длина интервала) - в таком случае гистограмма будет вероятностной, то есть в пределах единицы\n",
    "#Плотность распределения f(x) позволяет рассчитать вероятность P(A) попаданий в определенный интервал\n",
    "#Математическое ожидание EX - это среднее арифметическое\n",
    "#В гистограмме наибольший вес имеет площадь столбца\n",
    "data['SalePrice'].hist(bins=60)"
   ]
  },
  {
   "cell_type": "code",
   "execution_count": null,
   "metadata": {},
   "outputs": [],
   "source": [
    "#Гистограмма нужна чтобы оценить одну группу\n",
    "#Вероятностная гистограмма \n",
    "data['SalePrice'].hist(density=True, bins=60)"
   ]
  },
  {
   "cell_type": "code",
   "execution_count": null,
   "metadata": {},
   "outputs": [],
   "source": [
    "#Ядерная оценка плотности Скотта-Сильвермана - обобщение гистограммы F(t) = (1/n*h)*сумма всех наблюдений K(t-Xi/h)\n",
    "#Распределение Японечникова определяет плотность К - симметричная, неотрицательная, с интегралом=1\n",
    "sns.displot(data['SalePrice'], bins=50)\n",
    "show()"
   ]
  },
  {
   "cell_type": "code",
   "execution_count": 6,
   "metadata": {},
   "outputs": [
    {
     "data": {
      "text/plain": [
       "<matplotlib.legend.Legend at 0x1675dd5dd60>"
      ]
     },
     "execution_count": 6,
     "metadata": {},
     "output_type": "execute_result"
    },
    {
     "data": {
      "image/png": "[encoded data removed]",
      "text/plain": [
       "<Figure size 432x288 with 1 Axes>"
      ]
     },
     "metadata": {
      "needs_background": "light"
     },
     "output_type": "display_data"
    }
   ],
   "source": [
    "#Для сравнения параметров важно их нормализовать\n",
    "data.groupby('MS Zoning')['SalePrice'].plot.hist(density=True)\n",
    "plt.legend()"
   ]
  },
  {
   "cell_type": "code",
   "execution_count": null,
   "metadata": {},
   "outputs": [],
   "source": [
    "#Для сравнения нескольких групп лучше использовать box-plot"
   ]
  },
  {
   "cell_type": "code",
   "execution_count": null,
   "metadata": {},
   "outputs": [],
   "source": []
  },
  {
   "cell_type": "code",
   "execution_count": null,
   "metadata": {},
   "outputs": [],
   "source": []
  },
  {
   "cell_type": "code",
   "execution_count": null,
   "metadata": {},
   "outputs": [],
   "source": []
  },
  {
   "cell_type": "code",
   "execution_count": null,
   "metadata": {},
   "outputs": [],
   "source": [
    "#Вычисление статистической погрешности для случайной выборки\n",
    "\n",
    "#Расчет объема выборки\n",
    "N = 40000 #Генеральная совокупность\n",
    "P = 0.95 #Доверительный уровень в 95% \n",
    "Z = 1.96 #коэффициент доверительного уровня (p = 95%, Z=1,96)(p=99%,   Z=2,58)\n",
    "p = 0.5 #доля респондентов с  наличием исследуемого признака,\n",
    "q = (1 - p) #доля респондентов, у которых исследуемый признак отсутствует,\n",
    "delta = 0.05 #Задаваемая предельная ошибка выборки.\n",
    "n = (Z**2)*p*q/delta**2 #объем выборки\n",
    "\n",
    "print(\"Рекомендуемый объем выборки для данной аудитории:\", int(n), \"человек\")"
   ]
  },
  {
   "cell_type": "code",
   "execution_count": null,
   "metadata": {},
   "outputs": [],
   "source": [
    "#Стратифицированная выборка. Предварительное разделение на страты по определенным признакам\n",
    "#Кластерная или групповая выборка. Разделение генеральной на однотипные кластеры\n",
    "#Типы переменных. Количественные(непрерывные, дискретные). Номинальные (несравниваемые). Ранговые (порядковые)\n",
    "#Гистограмма частот - форма распределения количественного признака\n",
    "#Описательная статистика. Меры центральной тенденции. Меры изменчивости\n",
    "#МЦТ. Мода - самый частый признак. Медиана - делит упорядоченное множество пополам. Среднее значение\n",
    "#МИ. Размах - Xmax-Xmin. Дисперсия D - средний квадрат отклонений индивидуальных значений от средней величины.\n",
    "#D = сумма(Xинд - Xсред)**2/n-1. Хсред генеральной совокупности обозначается как мю, М\n",
    "#Стандартное отклонение, \"сигма\", sd = D**0.5\n",
    "#Квантили как и медиана делят УМ на равные части. \n",
    "#Напр. квартиль - на 4 для Box Plot. Чем шире ящик тем выше вариативность. \"Усы\" в 1,5 значения \"ящика\""
   ]
  },
  {
   "cell_type": "code",
   "execution_count": null,
   "metadata": {},
   "outputs": [],
   "source": [
    "#Нормальное распределение. Унимодально и симметрично \n",
    "#Z-Стандартизация: преобразование в тип, где М=0, sd = 1. Правило одной, двух и трех \"сигм\"\n",
    "#Z=(Xинд-М)/sd Пример: по таблице Z, где Хсред=150, sd=8, превышать Xинд будет 0.5z или 30% \n",
    "#Центральная предельная теорема. Для выборок стандартная ошибка среднего se=SDинд/n**0.5, где n - число элементов выборки\n",
    "#Если n выборка репрезентативная и число элементов > 30, то se=0.5\n",
    "#Интервал для поиска М генеральной совокупности(доверительный интервал): для 95% выборок Хсред ± 1.96*se включат в себя М\n",
    "#Статистическая проверка гипотез. Z=(Xсред-M)/se =(18,5-20)/0.5 = -3. Вероятность получить такой результат 0.0027\n",
    "#P-уровень значимости. Если p>0.05, то нет оснований отклонять данную гипотезу#"
   ]
  },
  {
   "cell_type": "code",
   "execution_count": null,
   "metadata": {},
   "outputs": [],
   "source": [
    "#Распределение Стьюдента (t-distribution) для n<30 - более высокие хвосты распределений.Число степеней свободы df=n-1\n",
    "#t заменяет Z в распределении Стьюдента. t=(Xинд-M)/(sd/n**0.5)\n",
    "#Парный t-тест или критерий t-Стьюдента.  X1сред - Х2сред = А , se=((sd1**2/n1)+(sd2**2/n2))**0.5 , df=n1+n2-2\n",
    "#При t = A/se и df можно рассчитать p при котором M1-M2=0\n",
    "#Q-Q Plot показывает насколько выборочные значения соответствуют предсказанным(из нормального распределеня)\n",
    "#Тесты Колмогорова-Смирнова и Shapiro-Wilk позволяют проверить выборку на принадлежность ГС и нормальность распредеелния\n",
    "#Непараметрический аналог: U-критерий Манна-Витни переводит значения в ранговую шкалу"
   ]
  },
  {
   "cell_type": "code",
   "execution_count": null,
   "metadata": {},
   "outputs": [],
   "source": [
    "#Дисперсионный анализ. Если межгрупповой показатель изменчивости сильно превышает внутригрупповой, то средние разнятся\n",
    "#SST - общая сумма квадратов показывает общую изменчивость данных. Сумма(Xинд-Xсред)**2  SST = SSW+SSB\n",
    "#SSW - сумма квадратов внутригрупповая. Сумма(X1инд-Х1сред)**2 + ...(XNинд-ХNсред)**2\n",
    "#SSB - сумма квадратов межгрупповая. SSB= n(X1сред - Хсред)**2 + ...n(XNсред-Хсред)**2\n",
    "#Распределение Фишера, F-значение. F=(ssb/n-1)/(ssw/N-n). При верности нулевой гипотезы значения F очень маленькие\n",
    "#Поправка Бонферрони на множественную проверку гипотез. a = ai/n  НО: мешает получить значимые уровни различия\n",
    "#FDR или критерий Тьюки считает p-уровень для сравниваемых пар Xтэ=Xa-Xб\n",
    "#Двухакторный дисперсионный анализ SStotal=SSW+SSBa +SSBb + SSBa*SSBb\n",
    "#Взаимодействие факторов в ANOVA\n",
    "#Дисперсионный анализ требует нормальности распределения зависимой переменной и гомогенности дисперсии(тест Левена)"
   ]
  },
  {
   "cell_type": "code",
   "execution_count": null,
   "metadata": {},
   "outputs": [],
   "source": [
    "#Корреляция. Scatter-plot или диагратта рассеивания\n",
    "#Сила и направление взаимосвязи определяется ковариацией. cov=Сумма((Xi-Xсред)*(Yi-Yсред))/N-1\n",
    "#Коэффициент корреляции Пирсона находится в промежутке [-1; 1] и считается как Rxy=cov/SDx*SDy\n",
    "#Коэффициент детерминации r**2 показывает влияние дисперсии одной переменной на другую в промежутке [0; 1]\n",
    "#Коэффициент Спирмена позволяет блокировать выбросы через ранги. d=X-Y. Rs=1-6*сумма d**2/N(N**2-1)\n",
    "#Иногда корреляция обусловлена третьей переменной"
   ]
  },
  {
   "cell_type": "code",
   "execution_count": null,
   "metadata": {},
   "outputs": [],
   "source": [
    "#Регрессионнный анализ позволяет исследовать взаимосвязи переменных и делать линию тренда\n",
    "#Простая линейная регрессия. Взаимосвязь 2-х переменных. Y-зависимая, X-независимая \n",
    "#Y=B0(intercept)+B1(slope). Зачение Y, где линия пересекает ось, угол наклона линии к оси X\n",
    "#Метод наименьших квадратов(МНК) находит оптимальные параметры B0 и B1, чтобы сумма квадратов остатков (SS) была минимальна\n",
    "#Y=B0+B1*X1\n",
    "#B1 = SDy/SDx*Rxy, B0 = (Yсред-B1*Xсред), t = B1/se, df=N-2 Если B1 близка к нулю, то взаимосвязи почти нет\n",
    "#Коэффтцтент детерминации R**2 = 1-(SSres/SStotal) доля дисперсии Y, объясняемая регрессионной моделью. Чем больше R , тем лучше\n",
    "#Требования: линейная вхаимосвязь X Y, нормальное распределение остатков, гомоскедатичность(изменчивость) остатков"
   ]
  },
  {
   "cell_type": "code",
   "execution_count": null,
   "metadata": {},
   "outputs": [],
   "source": [
    "#Множественная регрессия  Y= B0+B1*X1 + ... + BN*XN   Многомерный scatter-plot\n",
    "#Дополнительно требует: мультиколлинеарность(без сильной корреляции или идентичности), нормальное распределение переменных.\n",
    "#t-критерий показывает оказываемое влияние каждого предиктора. Если 0, то влияния нет\n",
    "#Для множественной регрессии используется \"Исправленный\" R**2"
   ]
  },
  {
   "cell_type": "code",
   "execution_count": null,
   "metadata": {},
   "outputs": [],
   "source": [
    "#Классификация \n",
    "#Логистическая регрессия позволяет исседовать взаимосвязи для зависимой переменной с двумя значениями (0,1)\n",
    "#Кластерный (иерархический) анализ - поиск и группировка объектов по определенным признакам и сведение в Tree"
   ]
  },
  {
   "cell_type": "code",
   "execution_count": null,
   "metadata": {},
   "outputs": [],
   "source": [
    "#Расчет ошибки выбоки для доли признака\n",
    "#Случай 1. Генеральная совокупность значительно больше выборки\n",
    "n = 384 #Объем выборки\n",
    "m = 276 #Число объектов выборки с нужными параметрами (True)\n",
    "p = m/n #Вероятность на основе практических данных\n",
    "sigma = n/2*((p*(1-p)/n*(1-n/N)))**0.5 \n",
    "print('Результат выборки один составит: ', \\\n",
    "      float(\"{0:.1f}\".format(p*100)), \"±\", float(\"{0:.1f}\".format(sigma)), \"%\")\n",
    "\n",
    "#Случай 2. Генеральная совокупность сопоставима с объемом выборки\n",
    "N = 2500\n",
    "delta = Z*((p*q/n)*((N-n)/(N-1)))**0.5 \n",
    "print(\"Точность результатов выборки два составит: \", \"±\", float(\"{0:.1f}\".format(delta*100)), \"%\")"
   ]
  },
  {
   "cell_type": "code",
   "execution_count": null,
   "metadata": {},
   "outputs": [],
   "source": [
    "#Рассчет доверительного интервала\n",
    "P = 0.99 #Доверительный уровень в 99% \n",
    "Z = 2.58 #коэффициент доверительного уровня \n",
    "p = 0.2 #доля респондентов с наличием исследуемого признака,\n",
    "q = (1 - p) #доля респондентов, у которых исследуемый признак отсутствует,\n",
    "n = 1000 #Объем выборки\n",
    "\n",
    "sigma = Z*(p*q/n)**0.5 #Погрешность оценки\n",
    "\n",
    "print('Точность результатов конкретной выборки составит: ±', float(\"{0:.2f}\".format(sigma*100)), \"%\")\n",
    "print('Доверительный интервал составит:', float(\"{0:.2f}\".format((p - sigma)*100)), \"% ;\", \\\n",
    "                                            float(\"{0:.2f}\".format((p + sigma)*100)), \"%\")"
   ]
  },
  {
   "cell_type": "code",
   "execution_count": null,
   "metadata": {},
   "outputs": [],
   "source": [
    "#Ненормальные распределения\n",
    "#Сгладить распределение, уменьшив шкалу на основании полезности данных, удалив аномалии\n",
    "#Логарифмировать переменные (не забываем про ноль в исходной переменной). Схлопывает экстремальные значения\n",
    "#Логарифмирование отлично работает с ассиметричными распределениями\n",
    "#Если логарифмы переменных зависимы линейно, то значит сами переменные зависят нелинейно \n",
    "#Применить непараметрический критерий (ранговое распределение)\n",
    "#Преобразование Бокса-Кокса подбирает оптимальную степень для возведения в нее mathworks.com/help/finance/boxcox.html \n",
    "#Bootstrap и метод Монте-Карло. Сравнивать медиану, мин, макс, 13-процентиль, среднее"
   ]
  },
  {
   "cell_type": "code",
   "execution_count": null,
   "metadata": {},
   "outputs": [],
   "source": [
    "#Retention/Churn"
   ]
  },
  {
   "cell_type": "code",
   "execution_count": null,
   "metadata": {},
   "outputs": [],
   "source": []
  },
  {
   "cell_type": "code",
   "execution_count": null,
   "metadata": {},
   "outputs": [],
   "source": []
  },
  {
   "cell_type": "code",
   "execution_count": null,
   "metadata": {},
   "outputs": [],
   "source": []
  }
 ],
 "metadata": {
  "kernelspec": {
   "display_name": "Python 3",
   "language": "python",
   "name": "python3"
  },
  "language_info": {
   "codemirror_mode": {
    "name": "ipython",
    "version": 3
   },
   "file_extension": ".py",
   "mimetype": "text/x-python",
   "name": "python",
   "nbconvert_exporter": "python",
   "pygments_lexer": "ipython3",
   "version": "3.8.3"
  }
 },
 "nbformat": 4,
 "nbformat_minor": 4
}
