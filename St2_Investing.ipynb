{
 "cells": [
  {
   "cell_type": "markdown",
   "metadata": {},
   "source": [
    "* Ссылки\n",
    "  * [Подготовка данных в проекте](https://habr.com/ru/post/470650/).<br>\n",
    "  * [Разведочный анализ данных](https://www.kaggle.com/emstrakhov/eda-with-pandas).<br>\n",
    "  * [Построение графиков](https://pcnews.ru/blogs/spargalka_po_vizualizacii_dannyh_v_python_s_pomosu_plotly-986119.html).<br>\n",
    "  * [Продвинутая визуализация](https://habr.com/ru/company/skillfactory/blog/510320/).<br>\n",
    "  * [Machine Learning course](https://mlcourse.ai/).<br>\n",
    "  * [Фреймы в pandas](https://habr.com/ru/company/ruvds/blog/494720/)<br>\n",
    "  * [Открытие фрейма в pandas](https://pandas.pydata.org/pandas-docs/stable/reference/api/pandas.read_csv.html)<br>\n",
    "  * [Сортировка в pandas](https://pandas.pydata.org/pandas-docs/stable/reference/api/pandas.DataFrame.sort_values.html)"
   ]
  },
  {
   "cell_type": "code",
   "execution_count": 1,
   "metadata": {
    "ExecuteTime": {
     "end_time": "2021-06-27T08:51:59.339946Z",
     "start_time": "2021-06-27T08:51:55.518712Z"
    },
    "run_control": {
     "marked": false
    }
   },
   "outputs": [
    {
     "data": {
      "text/html": [
       "        <script type=\"text/javascript\">\n",
       "        window.PlotlyConfig = {MathJaxConfig: 'local'};\n",
       "        if (window.MathJax) {MathJax.Hub.Config({SVG: {font: \"STIX-Web\"}});}\n",
       "        if (typeof require !== 'undefined') {\n",
       "        require.undef(\"plotly\");\n",
       "        requirejs.config({\n",
       "            paths: {\n",
       "                'plotly': ['https://cdn.plot.ly/plotly-latest.min']\n",
       "            }\n",
       "        });\n",
       "        require(['plotly'], function(Plotly) {\n",
       "            window._Plotly = Plotly;\n",
       "        });\n",
       "        }\n",
       "        </script>\n",
       "        "
      ]
     },
     "metadata": {},
     "output_type": "display_data"
    },
    {
     "data": {
      "text/html": [
       "        <script type=\"text/javascript\">\n",
       "        window.PlotlyConfig = {MathJaxConfig: 'local'};\n",
       "        if (window.MathJax) {MathJax.Hub.Config({SVG: {font: \"STIX-Web\"}});}\n",
       "        if (typeof require !== 'undefined') {\n",
       "        require.undef(\"plotly\");\n",
       "        requirejs.config({\n",
       "            paths: {\n",
       "                'plotly': ['https://cdn.plot.ly/plotly-latest.min']\n",
       "            }\n",
       "        });\n",
       "        require(['plotly'], function(Plotly) {\n",
       "            window._Plotly = Plotly;\n",
       "        });\n",
       "        }\n",
       "        </script>\n",
       "        "
      ]
     },
     "metadata": {},
     "output_type": "display_data"
    },
    {
     "data": {
      "text/html": [
       "        <script type=\"text/javascript\">\n",
       "        window.PlotlyConfig = {MathJaxConfig: 'local'};\n",
       "        if (window.MathJax) {MathJax.Hub.Config({SVG: {font: \"STIX-Web\"}});}\n",
       "        if (typeof require !== 'undefined') {\n",
       "        require.undef(\"plotly\");\n",
       "        requirejs.config({\n",
       "            paths: {\n",
       "                'plotly': ['https://cdn.plot.ly/plotly-latest.min']\n",
       "            }\n",
       "        });\n",
       "        require(['plotly'], function(Plotly) {\n",
       "            window._Plotly = Plotly;\n",
       "        });\n",
       "        }\n",
       "        </script>\n",
       "        "
      ]
     },
     "metadata": {},
     "output_type": "display_data"
    }
   ],
   "source": [
    "from pylab import rcParams\n",
    "import plotly.graph_objects as go\n",
    "from plotly.offline import download_plotlyjs, init_notebook_mode, plot, iplot\n",
    "import warnings\n",
    "import numpy as np\n",
    "import pandas as pd\n",
    "import plotly\n",
    "from IPython.display import Image\n",
    "import matplotlib\n",
    "from IPython.core.interactiveshell import InteractiveShell\n",
    "from wordcloud import WordCloud\n",
    "import seaborn as sns\n",
    "import matplotlib.pyplot as plt\n",
    "from plotly.subplots import make_subplots\n",
    "import plotly.express as px\n",
    "import plotly.graph_objs as go\n",
    "import chart_studio.plotly as py\n",
    "import cufflinks\n",
    "cufflinks.go_offline(connected=True)\n",
    "init_notebook_mode(connected=True)\n",
    "%matplotlib inline\n",
    "warnings.filterwarnings(\"ignore\")\n",
    "rcParams['figure.figsize'] = 15, 8\n",
    "pd.set_option('display.width', 85)\n",
    "pd.set_option('display.max_columns', 8)\n",
    "init_notebook_mode(connected=True)\n",
    "pd.options.display.float_format = '{:,.1f}'.format\n",
    "InteractiveShell.ast_node_interactivity = 'all'\n",
    "\n"
   ]
  },
  {
   "cell_type": "code",
   "execution_count": 2,
   "metadata": {
    "ExecuteTime": {
     "end_time": "2021-06-27T08:52:26.544637Z",
     "start_time": "2021-06-27T08:52:26.522667Z"
    }
   },
   "outputs": [
    {
     "data": {
      "text/plain": [
       "True"
      ]
     },
     "execution_count": 2,
     "metadata": {},
     "output_type": "execute_result"
    },
    {
     "data": {
      "text/plain": [
       "True"
      ]
     },
     "execution_count": 2,
     "metadata": {},
     "output_type": "execute_result"
    }
   ],
   "source": [
    "import os.path\n",
    "os.path.isfile('DayCap.csv')\n",
    "os.path.exists('../FlightPreparence')"
   ]
  },
  {
   "cell_type": "code",
   "execution_count": 3,
   "metadata": {
    "ExecuteTime": {
     "end_time": "2021-06-27T08:56:23.369419Z",
     "start_time": "2021-06-27T08:56:23.348402Z"
    }
   },
   "outputs": [],
   "source": [
    "df = pd.read_csv('DayCap.csv')"
   ]
  },
  {
   "cell_type": "code",
   "execution_count": null,
   "metadata": {
    "ExecuteTime": {
     "end_time": "2021-02-26T05:14:39.473156Z",
     "start_time": "2021-02-26T05:14:39.409104Z"
    }
   },
   "outputs": [],
   "source": [
    "df = pd.read_csv('train.csv')\n",
    "tsd = pd.read_csv('test.csv')\n",
    "comb = pd.concat([df, tsd], axis=0)\n",
    "merg = pd.merge(df, tsd, on=('ID'), how ='left', left_on=('ID'), right_on=('NEW_ID'))\n",
    "\n",
    "#df = pd.read_csv('AmesHousing.txt', sep=\"\\t\", header = 0, encoding='cp1251', index_col=False)\n",
    "#df = pd.read_csv('beverage_r.csv', sep=\";\", decimal=',', parse_dates=[0], index_col='numb.obs')\n",
    "#df = pd.read_csv('diamond.dat', header=None, sep='\\s+', names=['weight', 'price'])\n",
    "#df = pd.read_csv('adult.test', header=None, names=columns, na_values=' ?', skiprows=1)"
   ]
  },
  {
   "cell_type": "code",
   "execution_count": 5,
   "metadata": {
    "ExecuteTime": {
     "end_time": "2021-06-27T08:56:46.733102Z",
     "start_time": "2021-06-27T08:56:46.723089Z"
    }
   },
   "outputs": [
    {
     "data": {
      "text/html": [
       "<div>\n",
       "<style scoped>\n",
       "    .dataframe tbody tr th:only-of-type {\n",
       "        vertical-align: middle;\n",
       "    }\n",
       "\n",
       "    .dataframe tbody tr th {\n",
       "        vertical-align: top;\n",
       "    }\n",
       "\n",
       "    .dataframe thead th {\n",
       "        text-align: right;\n",
       "    }\n",
       "</style>\n",
       "<table border=\"1\" class=\"dataframe\">\n",
       "  <thead>\n",
       "    <tr style=\"text-align: right;\">\n",
       "      <th></th>\n",
       "      <th>Time</th>\n",
       "      <th>Vews</th>\n",
       "      <th>ER</th>\n",
       "      <th>ADV</th>\n",
       "      <th>...</th>\n",
       "      <th>IQ</th>\n",
       "      <th>Relevant</th>\n",
       "      <th>Summ</th>\n",
       "      <th>Subscribe</th>\n",
       "    </tr>\n",
       "  </thead>\n",
       "  <tbody>\n",
       "    <tr>\n",
       "      <th>0</th>\n",
       "      <td>12:00:00</td>\n",
       "      <td>3 215</td>\n",
       "      <td>20,00</td>\n",
       "      <td>1</td>\n",
       "      <td>...</td>\n",
       "      <td>8</td>\n",
       "      <td>8</td>\n",
       "      <td>24</td>\n",
       "      <td>48</td>\n",
       "    </tr>\n",
       "    <tr>\n",
       "      <th>1</th>\n",
       "      <td>19:00:00</td>\n",
       "      <td>671</td>\n",
       "      <td>14,50</td>\n",
       "      <td>1</td>\n",
       "      <td>...</td>\n",
       "      <td>10</td>\n",
       "      <td>9</td>\n",
       "      <td>27</td>\n",
       "      <td>38</td>\n",
       "    </tr>\n",
       "    <tr>\n",
       "      <th>2</th>\n",
       "      <td>18:00:00</td>\n",
       "      <td>9 308</td>\n",
       "      <td>17,50</td>\n",
       "      <td>1</td>\n",
       "      <td>...</td>\n",
       "      <td>5</td>\n",
       "      <td>5</td>\n",
       "      <td>13</td>\n",
       "      <td>47</td>\n",
       "    </tr>\n",
       "    <tr>\n",
       "      <th>3</th>\n",
       "      <td>14:00:00</td>\n",
       "      <td>7 642</td>\n",
       "      <td>9,80</td>\n",
       "      <td>1</td>\n",
       "      <td>...</td>\n",
       "      <td>8</td>\n",
       "      <td>7</td>\n",
       "      <td>19</td>\n",
       "      <td>104</td>\n",
       "    </tr>\n",
       "    <tr>\n",
       "      <th>4</th>\n",
       "      <td>15:00:00</td>\n",
       "      <td>294</td>\n",
       "      <td>30,30</td>\n",
       "      <td>1</td>\n",
       "      <td>...</td>\n",
       "      <td>10</td>\n",
       "      <td>10</td>\n",
       "      <td>27</td>\n",
       "      <td>30</td>\n",
       "    </tr>\n",
       "  </tbody>\n",
       "</table>\n",
       "<p>5 rows × 9 columns</p>\n",
       "</div>"
      ],
      "text/plain": [
       "       Time   Vews     ER  ADV  ...  IQ  Relevant  Summ  Subscribe\n",
       "0  12:00:00  3 215  20,00    1  ...   8         8    24         48\n",
       "1  19:00:00    671  14,50    1  ...  10         9    27         38\n",
       "2  18:00:00  9 308  17,50    1  ...   5         5    13         47\n",
       "3  14:00:00  7 642   9,80    1  ...   8         7    19        104\n",
       "4  15:00:00    294  30,30    1  ...  10        10    27         30\n",
       "\n",
       "[5 rows x 9 columns]"
      ]
     },
     "execution_count": 5,
     "metadata": {},
     "output_type": "execute_result"
    }
   ],
   "source": [
    "pd.set_option('display.max_rows', 100)\n",
    "df.head()"
   ]
  },
  {
   "cell_type": "code",
   "execution_count": 21,
   "metadata": {
    "ExecuteTime": {
     "end_time": "2021-06-27T09:06:17.917055Z",
     "start_time": "2021-06-27T09:06:17.888060Z"
    },
    "scrolled": true
   },
   "outputs": [
    {
     "data": {
      "text/html": [
       "<div>\n",
       "<style scoped>\n",
       "    .dataframe tbody tr th:only-of-type {\n",
       "        vertical-align: middle;\n",
       "    }\n",
       "\n",
       "    .dataframe tbody tr th {\n",
       "        vertical-align: top;\n",
       "    }\n",
       "\n",
       "    .dataframe thead th {\n",
       "        text-align: right;\n",
       "    }\n",
       "</style>\n",
       "<table border=\"1\" class=\"dataframe\">\n",
       "  <thead>\n",
       "    <tr style=\"text-align: right;\">\n",
       "      <th></th>\n",
       "      <th>index</th>\n",
       "      <th>Time</th>\n",
       "      <th>Vews</th>\n",
       "      <th>ER</th>\n",
       "      <th>...</th>\n",
       "      <th>IQ</th>\n",
       "      <th>Relevant</th>\n",
       "      <th>Summ</th>\n",
       "      <th>Subscribe</th>\n",
       "    </tr>\n",
       "  </thead>\n",
       "  <tbody>\n",
       "    <tr>\n",
       "      <th>0</th>\n",
       "      <td>min</td>\n",
       "      <td>1900-01-01 09:00:00</td>\n",
       "      <td>81.0</td>\n",
       "      <td>nan</td>\n",
       "      <td>...</td>\n",
       "      <td>5</td>\n",
       "      <td>1</td>\n",
       "      <td>8</td>\n",
       "      <td>0</td>\n",
       "    </tr>\n",
       "    <tr>\n",
       "      <th>1</th>\n",
       "      <td>max</td>\n",
       "      <td>1900-01-01 22:00:00</td>\n",
       "      <td>998.0</td>\n",
       "      <td>nan</td>\n",
       "      <td>...</td>\n",
       "      <td>10</td>\n",
       "      <td>10</td>\n",
       "      <td>28</td>\n",
       "      <td>104</td>\n",
       "    </tr>\n",
       "    <tr>\n",
       "      <th>2</th>\n",
       "      <td>count</td>\n",
       "      <td>38</td>\n",
       "      <td>24.0</td>\n",
       "      <td>0.0</td>\n",
       "      <td>...</td>\n",
       "      <td>38</td>\n",
       "      <td>38</td>\n",
       "      <td>38</td>\n",
       "      <td>38</td>\n",
       "    </tr>\n",
       "    <tr>\n",
       "      <th>3</th>\n",
       "      <td>nunique</td>\n",
       "      <td>19</td>\n",
       "      <td>23.0</td>\n",
       "      <td>0.0</td>\n",
       "      <td>...</td>\n",
       "      <td>6</td>\n",
       "      <td>10</td>\n",
       "      <td>17</td>\n",
       "      <td>24</td>\n",
       "    </tr>\n",
       "  </tbody>\n",
       "</table>\n",
       "<p>4 rows × 10 columns</p>\n",
       "</div>"
      ],
      "text/plain": [
       "     index                 Time  Vews  ER  ...  IQ  Relevant  Summ  Subscribe\n",
       "0      min  1900-01-01 09:00:00  81.0 nan  ...   5         1     8          0\n",
       "1      max  1900-01-01 22:00:00 998.0 nan  ...  10        10    28        104\n",
       "2    count                   38  24.0 0.0  ...  38        38    38         38\n",
       "3  nunique                   19  23.0 0.0  ...   6        10    17         24\n",
       "\n",
       "[4 rows x 10 columns]"
      ]
     },
     "execution_count": 21,
     "metadata": {},
     "output_type": "execute_result"
    }
   ],
   "source": [
    "# Фрейм со статистикой по колонкам (для графиков)\n",
    "df_stat = df.agg(['min','max','count','nunique']).reset_index(drop=False)\n",
    "df_stat.rename(columns={'min':'Минимальный балл', 'max':'Максимальный балл', \n",
    "                      'count':'Всего', 'nunique' : 'Уникальных значений'})"
   ]
  },
  {
   "cell_type": "code",
   "execution_count": 7,
   "metadata": {
    "ExecuteTime": {
     "end_time": "2021-06-27T08:57:23.745663Z",
     "start_time": "2021-06-27T08:57:23.219531Z"
    }
   },
   "outputs": [
    {
     "ename": "KeyError",
     "evalue": "'data'",
     "output_type": "error",
     "traceback": [
      "\u001b[1;31m---------------------------------------------------------------------------\u001b[0m",
      "\u001b[1;31mKeyError\u001b[0m                                  Traceback (most recent call last)",
      "\u001b[1;32mC:\\Anaconda3\\lib\\site-packages\\pandas\\core\\indexes\\base.py\u001b[0m in \u001b[0;36mget_loc\u001b[1;34m(self, key, method, tolerance)\u001b[0m\n\u001b[0;32m   2894\u001b[0m             \u001b[1;32mtry\u001b[0m\u001b[1;33m:\u001b[0m\u001b[1;33m\u001b[0m\u001b[1;33m\u001b[0m\u001b[0m\n\u001b[1;32m-> 2895\u001b[1;33m                 \u001b[1;32mreturn\u001b[0m \u001b[0mself\u001b[0m\u001b[1;33m.\u001b[0m\u001b[0m_engine\u001b[0m\u001b[1;33m.\u001b[0m\u001b[0mget_loc\u001b[0m\u001b[1;33m(\u001b[0m\u001b[0mcasted_key\u001b[0m\u001b[1;33m)\u001b[0m\u001b[1;33m\u001b[0m\u001b[1;33m\u001b[0m\u001b[0m\n\u001b[0m\u001b[0;32m   2896\u001b[0m             \u001b[1;32mexcept\u001b[0m \u001b[0mKeyError\u001b[0m \u001b[1;32mas\u001b[0m \u001b[0merr\u001b[0m\u001b[1;33m:\u001b[0m\u001b[1;33m\u001b[0m\u001b[1;33m\u001b[0m\u001b[0m\n",
      "\u001b[1;32mpandas\\_libs\\index.pyx\u001b[0m in \u001b[0;36mpandas._libs.index.IndexEngine.get_loc\u001b[1;34m()\u001b[0m\n",
      "\u001b[1;32mpandas\\_libs\\index.pyx\u001b[0m in \u001b[0;36mpandas._libs.index.IndexEngine.get_loc\u001b[1;34m()\u001b[0m\n",
      "\u001b[1;32mpandas\\_libs\\hashtable_class_helper.pxi\u001b[0m in \u001b[0;36mpandas._libs.hashtable.PyObjectHashTable.get_item\u001b[1;34m()\u001b[0m\n",
      "\u001b[1;32mpandas\\_libs\\hashtable_class_helper.pxi\u001b[0m in \u001b[0;36mpandas._libs.hashtable.PyObjectHashTable.get_item\u001b[1;34m()\u001b[0m\n",
      "\u001b[1;31mKeyError\u001b[0m: 'data'",
      "\nThe above exception was the direct cause of the following exception:\n",
      "\u001b[1;31mKeyError\u001b[0m                                  Traceback (most recent call last)",
      "\u001b[1;32m<ipython-input-7-e295a9991656>\u001b[0m in \u001b[0;36m<module>\u001b[1;34m\u001b[0m\n\u001b[1;32m----> 1\u001b[1;33m \u001b[0mlen\u001b[0m\u001b[1;33m(\u001b[0m\u001b[0mdf\u001b[0m\u001b[1;33m[\u001b[0m\u001b[1;34m'data'\u001b[0m\u001b[1;33m]\u001b[0m\u001b[1;33m.\u001b[0m\u001b[0msort_values\u001b[0m\u001b[1;33m(\u001b[0m\u001b[1;33m)\u001b[0m\u001b[1;33m.\u001b[0m\u001b[0munique\u001b[0m\u001b[1;33m(\u001b[0m\u001b[1;33m)\u001b[0m\u001b[1;33m)\u001b[0m\u001b[1;33m\u001b[0m\u001b[1;33m\u001b[0m\u001b[0m\n\u001b[0m\u001b[0;32m      2\u001b[0m \u001b[0mdf\u001b[0m\u001b[1;33m[\u001b[0m\u001b[1;34m'data'\u001b[0m\u001b[1;33m]\u001b[0m\u001b[1;33m.\u001b[0m\u001b[0msort_values\u001b[0m\u001b[1;33m(\u001b[0m\u001b[1;33m)\u001b[0m\u001b[1;33m.\u001b[0m\u001b[0munique\u001b[0m\u001b[1;33m(\u001b[0m\u001b[1;33m)\u001b[0m\u001b[1;33m\u001b[0m\u001b[1;33m\u001b[0m\u001b[0m\n",
      "\u001b[1;32mC:\\Anaconda3\\lib\\site-packages\\pandas\\core\\frame.py\u001b[0m in \u001b[0;36m__getitem__\u001b[1;34m(self, key)\u001b[0m\n\u001b[0;32m   2900\u001b[0m             \u001b[1;32mif\u001b[0m \u001b[0mself\u001b[0m\u001b[1;33m.\u001b[0m\u001b[0mcolumns\u001b[0m\u001b[1;33m.\u001b[0m\u001b[0mnlevels\u001b[0m \u001b[1;33m>\u001b[0m \u001b[1;36m1\u001b[0m\u001b[1;33m:\u001b[0m\u001b[1;33m\u001b[0m\u001b[1;33m\u001b[0m\u001b[0m\n\u001b[0;32m   2901\u001b[0m                 \u001b[1;32mreturn\u001b[0m \u001b[0mself\u001b[0m\u001b[1;33m.\u001b[0m\u001b[0m_getitem_multilevel\u001b[0m\u001b[1;33m(\u001b[0m\u001b[0mkey\u001b[0m\u001b[1;33m)\u001b[0m\u001b[1;33m\u001b[0m\u001b[1;33m\u001b[0m\u001b[0m\n\u001b[1;32m-> 2902\u001b[1;33m             \u001b[0mindexer\u001b[0m \u001b[1;33m=\u001b[0m \u001b[0mself\u001b[0m\u001b[1;33m.\u001b[0m\u001b[0mcolumns\u001b[0m\u001b[1;33m.\u001b[0m\u001b[0mget_loc\u001b[0m\u001b[1;33m(\u001b[0m\u001b[0mkey\u001b[0m\u001b[1;33m)\u001b[0m\u001b[1;33m\u001b[0m\u001b[1;33m\u001b[0m\u001b[0m\n\u001b[0m\u001b[0;32m   2903\u001b[0m             \u001b[1;32mif\u001b[0m \u001b[0mis_integer\u001b[0m\u001b[1;33m(\u001b[0m\u001b[0mindexer\u001b[0m\u001b[1;33m)\u001b[0m\u001b[1;33m:\u001b[0m\u001b[1;33m\u001b[0m\u001b[1;33m\u001b[0m\u001b[0m\n\u001b[0;32m   2904\u001b[0m                 \u001b[0mindexer\u001b[0m \u001b[1;33m=\u001b[0m \u001b[1;33m[\u001b[0m\u001b[0mindexer\u001b[0m\u001b[1;33m]\u001b[0m\u001b[1;33m\u001b[0m\u001b[1;33m\u001b[0m\u001b[0m\n",
      "\u001b[1;32mC:\\Anaconda3\\lib\\site-packages\\pandas\\core\\indexes\\base.py\u001b[0m in \u001b[0;36mget_loc\u001b[1;34m(self, key, method, tolerance)\u001b[0m\n\u001b[0;32m   2895\u001b[0m                 \u001b[1;32mreturn\u001b[0m \u001b[0mself\u001b[0m\u001b[1;33m.\u001b[0m\u001b[0m_engine\u001b[0m\u001b[1;33m.\u001b[0m\u001b[0mget_loc\u001b[0m\u001b[1;33m(\u001b[0m\u001b[0mcasted_key\u001b[0m\u001b[1;33m)\u001b[0m\u001b[1;33m\u001b[0m\u001b[1;33m\u001b[0m\u001b[0m\n\u001b[0;32m   2896\u001b[0m             \u001b[1;32mexcept\u001b[0m \u001b[0mKeyError\u001b[0m \u001b[1;32mas\u001b[0m \u001b[0merr\u001b[0m\u001b[1;33m:\u001b[0m\u001b[1;33m\u001b[0m\u001b[1;33m\u001b[0m\u001b[0m\n\u001b[1;32m-> 2897\u001b[1;33m                 \u001b[1;32mraise\u001b[0m \u001b[0mKeyError\u001b[0m\u001b[1;33m(\u001b[0m\u001b[0mkey\u001b[0m\u001b[1;33m)\u001b[0m \u001b[1;32mfrom\u001b[0m \u001b[0merr\u001b[0m\u001b[1;33m\u001b[0m\u001b[1;33m\u001b[0m\u001b[0m\n\u001b[0m\u001b[0;32m   2898\u001b[0m \u001b[1;33m\u001b[0m\u001b[0m\n\u001b[0;32m   2899\u001b[0m         \u001b[1;32mif\u001b[0m \u001b[0mtolerance\u001b[0m \u001b[1;32mis\u001b[0m \u001b[1;32mnot\u001b[0m \u001b[1;32mNone\u001b[0m\u001b[1;33m:\u001b[0m\u001b[1;33m\u001b[0m\u001b[1;33m\u001b[0m\u001b[0m\n",
      "\u001b[1;31mKeyError\u001b[0m: 'data'"
     ]
    }
   ],
   "source": [
    "len(df['data'].sort_values().unique())\n",
    "df['data'].sort_values().unique()"
   ]
  },
  {
   "cell_type": "code",
   "execution_count": 22,
   "metadata": {
    "ExecuteTime": {
     "end_time": "2021-06-27T09:06:41.609456Z",
     "start_time": "2021-06-27T09:06:41.601430Z"
    },
    "scrolled": true
   },
   "outputs": [
    {
     "name": "stdout",
     "output_type": "stream",
     "text": [
      "Число строк и колонок в таблице:  (38, 9)\n",
      "Типы данных в колонках: \n",
      " Time         datetime64[ns]\n",
      "Vews                float64\n",
      "ER                  float64\n",
      "ADV                   int64\n",
      "Size                  int64\n",
      "IQ                    int64\n",
      "Relevant              int64\n",
      "Summ                  int64\n",
      "Subscribe             int64\n",
      "dtype: object\n"
     ]
    }
   ],
   "source": [
    "print('Число строк и колонок в таблице: ',df.shape)\n",
    "print('Типы данных в колонках:','\\n',df.dtypes)"
   ]
  },
  {
   "cell_type": "code",
   "execution_count": 10,
   "metadata": {
    "ExecuteTime": {
     "end_time": "2021-06-27T09:00:04.252179Z",
     "start_time": "2021-06-27T09:00:04.242150Z"
    }
   },
   "outputs": [],
   "source": [
    "df['ER'] = pd.to_numeric(df['ER'], errors='coerce')"
   ]
  },
  {
   "cell_type": "code",
   "execution_count": 12,
   "metadata": {
    "ExecuteTime": {
     "end_time": "2021-06-27T09:00:43.488371Z",
     "start_time": "2021-06-27T09:00:43.482394Z"
    }
   },
   "outputs": [],
   "source": [
    "df['Vews'] = pd.to_numeric(df['Vews'], errors='coerce')"
   ]
  },
  {
   "cell_type": "code",
   "execution_count": 18,
   "metadata": {
    "ExecuteTime": {
     "end_time": "2021-06-27T09:05:56.399974Z",
     "start_time": "2021-06-27T09:05:56.385974Z"
    }
   },
   "outputs": [],
   "source": [
    "df['Time'] = pd.to_datetime(df['Time'], format='%H:%M:%S')"
   ]
  },
  {
   "cell_type": "code",
   "execution_count": null,
   "metadata": {},
   "outputs": [],
   "source": []
  },
  {
   "cell_type": "code",
   "execution_count": 19,
   "metadata": {
    "ExecuteTime": {
     "end_time": "2021-06-27T09:06:01.634777Z",
     "start_time": "2021-06-27T09:06:01.624752Z"
    }
   },
   "outputs": [
    {
     "name": "stdout",
     "output_type": "stream",
     "text": [
      "Колонки с числовыми значениями: \n",
      " ['Vews' 'ER' 'ADV' 'Size' 'IQ' 'Relevant' 'Summ' 'Subscribe']\n"
     ]
    }
   ],
   "source": [
    "df_numeric = df.select_dtypes(include=[np.number])\n",
    "num_feat = df_numeric.columns.values\n",
    "print('Колонки с числовыми значениями:', '\\n', num_feat)"
   ]
  },
  {
   "cell_type": "code",
   "execution_count": 20,
   "metadata": {
    "ExecuteTime": {
     "end_time": "2021-06-27T09:06:05.076120Z",
     "start_time": "2021-06-27T09:06:05.066121Z"
    }
   },
   "outputs": [
    {
     "name": "stdout",
     "output_type": "stream",
     "text": [
      "Колонки с объектными значениями: \n",
      " ['Time']\n"
     ]
    }
   ],
   "source": [
    "df_non_numeric = df.select_dtypes(exclude=[np.number])\n",
    "cat_feat = df_non_numeric.columns.values\n",
    "print('Колонки с объектными значениями:', '\\n', cat_feat)"
   ]
  },
  {
   "cell_type": "code",
   "execution_count": null,
   "metadata": {
    "ExecuteTime": {
     "end_time": "2021-02-26T05:21:27.315519Z",
     "start_time": "2021-02-26T05:21:27.275532Z"
    }
   },
   "outputs": [],
   "source": [
    "print('Пропущенные значения в колонках:', '\\n',df.isnull().sum())"
   ]
  },
  {
   "cell_type": "code",
   "execution_count": 9,
   "metadata": {
    "ExecuteTime": {
     "end_time": "2021-06-27T08:57:54.877419Z",
     "start_time": "2021-06-27T08:57:54.819398Z"
    },
    "scrolled": true
   },
   "outputs": [
    {
     "name": "stdout",
     "output_type": "stream",
     "text": [
      "Пропущенные значения в колонках в %: \n",
      " Series([], dtype: float64)\n"
     ]
    }
   ],
   "source": [
    "print('Пропущенные значения в колонках в %:', '\\n', 100 * (df.isna().sum()[df.isna().sum() > 0] / len(df)))"
   ]
  },
  {
   "cell_type": "code",
   "execution_count": null,
   "metadata": {
    "ExecuteTime": {
     "end_time": "2021-02-26T05:22:17.169131Z",
     "start_time": "2021-02-26T05:22:13.496093Z"
    }
   },
   "outputs": [],
   "source": [
    "# Проверка на недостающие значения\n",
    "pd.DataFrame(df.isnull().sum()).plot.line().set_title(\n",
    "    \"Number of missing values in the given features\")\n",
    "# Тепловая карта пропущенных значений\n",
    "sns.heatmap(df.isnull(), cbar=False).set_title(\"Missing values heatmap\")\n",
    "print('Число строк в фрейме: {0}'.format(len(df)))\n",
    "print('Число строк без пропущенных значений: {0}'.format(\n",
    "    len(df.dropna(how='any'))))"
   ]
  },
  {
   "cell_type": "code",
   "execution_count": null,
   "metadata": {
    "ExecuteTime": {
     "end_time": "2021-02-01T11:34:13.499088Z",
     "start_time": "2021-02-01T11:34:12.486086Z"
    },
    "code_folding": [],
    "run_control": {
     "marked": false
    }
   },
   "outputs": [],
   "source": [
    "# import cufflinks as cf\n",
    "# cf.go_offline()\n",
    "# cf.set_config_file(offline=False, world_readable=True)\n",
    "\n",
    "# Построение гистограмм для всех колонок\n",
    "def show_hist(df):\n",
    "    for col in df.columns:\n",
    "        df[col].iplot(kind='hist', title=col)\n",
    "\n",
    "\n",
    "show_hist(df)"
   ]
  },
  {
   "cell_type": "code",
   "execution_count": 23,
   "metadata": {
    "ExecuteTime": {
     "end_time": "2021-06-27T09:07:22.224959Z",
     "start_time": "2021-06-27T09:07:22.199981Z"
    }
   },
   "outputs": [
    {
     "ename": "NameError",
     "evalue": "name 'comb' is not defined",
     "output_type": "error",
     "traceback": [
      "\u001b[1;31m---------------------------------------------------------------------------\u001b[0m",
      "\u001b[1;31mNameError\u001b[0m                                 Traceback (most recent call last)",
      "\u001b[1;32m<ipython-input-23-a860951169c5>\u001b[0m in \u001b[0;36m<module>\u001b[1;34m\u001b[0m\n\u001b[0;32m      1\u001b[0m \u001b[1;31m# Выделяем числовые колонки в отдельную группу, получаем список заголовков колонок\u001b[0m\u001b[1;33m\u001b[0m\u001b[1;33m\u001b[0m\u001b[1;33m\u001b[0m\u001b[0m\n\u001b[1;32m----> 2\u001b[1;33m \u001b[0mnum_feat\u001b[0m \u001b[1;33m=\u001b[0m \u001b[1;33m[\u001b[0m\u001b[0mx\u001b[0m \u001b[1;32mfor\u001b[0m \u001b[0mx\u001b[0m \u001b[1;32min\u001b[0m \u001b[0mcomb\u001b[0m\u001b[1;33m.\u001b[0m\u001b[0mcolumns\u001b[0m \u001b[1;32mif\u001b[0m \u001b[0mcomb\u001b[0m\u001b[1;33m[\u001b[0m\u001b[0mx\u001b[0m\u001b[1;33m]\u001b[0m\u001b[1;33m.\u001b[0m\u001b[0mdtype\u001b[0m \u001b[1;33m!=\u001b[0m\u001b[1;34m\"object\"\u001b[0m\u001b[1;33m]\u001b[0m\u001b[1;33m\u001b[0m\u001b[1;33m\u001b[0m\u001b[0m\n\u001b[0m\u001b[0;32m      3\u001b[0m \u001b[0mnum_feat\u001b[0m\u001b[1;33m.\u001b[0m\u001b[0mremove\u001b[0m\u001b[1;33m(\u001b[0m\u001b[1;34m\"Id\"\u001b[0m\u001b[1;33m)\u001b[0m\u001b[1;33m\u001b[0m\u001b[1;33m\u001b[0m\u001b[0m\n\u001b[0;32m      4\u001b[0m \u001b[1;33m\u001b[0m\u001b[0m\n\u001b[0;32m      5\u001b[0m \u001b[1;31m# Выделяем категориальные колонки в отдельную группу\u001b[0m\u001b[1;33m\u001b[0m\u001b[1;33m\u001b[0m\u001b[1;33m\u001b[0m\u001b[0m\n",
      "\u001b[1;31mNameError\u001b[0m: name 'comb' is not defined"
     ]
    }
   ],
   "source": [
    "# Выделяем числовые колонки в отдельную группу, получаем список заголовков колонок\n",
    "num_feat = [x for x in comb.columns if comb[x].dtype !=\"object\"]\n",
    "num_feat.remove(\"Id\")\n",
    "\n",
    "# Выделяем категориальные колонки в отдельную группу\n",
    "cat_feat = [x for x in comb.columns if comb[x].dtype == \"object\"]"
   ]
  },
  {
   "cell_type": "code",
   "execution_count": null,
   "metadata": {},
   "outputs": [],
   "source": [
    "# вариант кодирования категориальных признаков – кодирование средним значением отклика\n",
    "def code_mean(df, cat_feat, y):\n",
    "    \"\"\"\n",
    "    Возвращает словарь, где ключами являются уникальные категории признака cat_feature, \n",
    "    а значениями - средние по real_feature\n",
    "    \"\"\"\n",
    "    return dict(df.groupby(cat_feat)[y].mean())"
   ]
  },
  {
   "cell_type": "code",
   "execution_count": null,
   "metadata": {},
   "outputs": [],
   "source": [
    "# Графический анализ числовых колонок\n",
    "df[num_feat].hist(figsize=(20,12));\n",
    "\n",
    "# pairplot - на диагонали распределение признаков, а вне - диаграммы рассеяния для пар признаков\n",
    "sns.pairplot(df[num_feat + ['Y']], hue='Y');\n",
    "\n",
    "# Для сравнения нескольких групп лучше использовать box-plot. Усы - 1,5 межквартиля. Outlies - 3. Extremes - дальше.\n",
    "# boxplot-ы, описывающее статистики распределения параметров для бинарного отклика (важно для задач классификации)\n",
    "fig, axes = plt.subplots(nrows=3, ncols=4, figsize=(16, 10))\n",
    "for idx, feat in  enumerate(num_feat):\n",
    "    sns.boxplot(x='y', y=feat, data=df, ax=axes[idx / 4, idx % 4])\n",
    "    axes[idx / 4, idx % 4].legend()\n",
    "    axes[idx / 4, idx % 4].set_xlabel('y')\n",
    "    axes[idx / 4, idx % 4].set_ylabel(feat);"
   ]
  },
  {
   "cell_type": "code",
   "execution_count": null,
   "metadata": {
    "code_folding": [
     0
    ]
   },
   "outputs": [],
   "source": [
    "# Анализ пропущенных значений\n",
    "# Тепловаая карта\n",
    "sns.heatmap(comb[comb.columns].isnull(), cmap=sns.color_palette(\n",
    "    ['#000099', '#ffff00']))  # желтый - пропущенные данные\n",
    "\n",
    "# Матрица\n",
    "missingno.matrix(comb[num_feat], figsize=(20, 4))\n",
    "\n",
    "# График в процентах\n",
    "cat_missing = comb[cat_feat].isna().sum()\n",
    "cat_missing = 100 * (cat_missing[cat_missing > 0] / len(comb[cat_feat]))\n",
    "\n",
    "plt.figure(figsize=(10, 5))\n",
    "sns.barplot(x=cat_missing.sort_values(ascending=False).values,\n",
    "            y=cat_missing.sort_values(ascending=False).index)\n",
    "plt.title(\"Пропущенные значения в колонках, в %\")"
   ]
  },
  {
   "cell_type": "code",
   "execution_count": null,
   "metadata": {},
   "outputs": [],
   "source": [
    "# Статистика по колонке\n",
    "pd.DataFrame(df.Data.describe())\n",
    "df['data'].value_counts()\n",
    "df.sort_values(by=['data', 'data1'], ascending=[True, False]).head()\n",
    "df['data'].tolist()\n",
    "\n",
    "def describe_df(df):\n",
    "    stats_df = df.describe()\n",
    "    stats_df.append(pd.Series(df.isna().any(), name='nans'))\n",
    "    return stats_df"
   ]
  },
  {
   "cell_type": "code",
   "execution_count": null,
   "metadata": {},
   "outputs": [],
   "source": [
    "# Проверка уникальных значений в колонке\n",
    "print(df.Data.unique())"
   ]
  },
  {
   "cell_type": "code",
   "execution_count": null,
   "metadata": {
    "ExecuteTime": {
     "end_time": "2021-02-25T13:44:34.045722Z",
     "start_time": "2021-02-25T13:44:34.003682Z"
    }
   },
   "outputs": [],
   "source": [
    "# Поиск суммы значений data1 для уникальных параметров в колонке data\n",
    "df[['data', 'data1']].groupby('data').sum().head()"
   ]
  },
  {
   "cell_type": "code",
   "execution_count": null,
   "metadata": {},
   "outputs": [],
   "source": [
    "# Агрегирование. Подсчет количества записей и значений параметров\n",
    "df.groupby('data').count()\n",
    "df.groupby(['data', 'data1'], as_index=False)['y'].agg(['sum', 'count']).sort_values(by='sum', ascending=False).head(10)\n",
    "df.groupby('data', as_index=False)['data1'].count().sort_values(ascending=False).head(5)"
   ]
  },
  {
   "cell_type": "code",
   "execution_count": null,
   "metadata": {},
   "outputs": [],
   "source": [
    "#Анализ объектов в колонке. Выделение уникальных, сплит по знакам и выделение в отдельную колонку \n",
    "df['data_new'] = df.Data.apply(lambda name: name.split(',')[1].split('.')[0].strip()) \n",
    "df.Data.nunique()"
   ]
  },
  {
   "cell_type": "code",
   "execution_count": null,
   "metadata": {},
   "outputs": [],
   "source": [
    "# Среднее значение для предиктора, если второй предиктор имеет заданное значение\n",
    "df[df['data'] == param]['data1'].mean()\n",
    "df[(df['data'] == 0) & (df['data1'] == 'no')]['data2'].mean()"
   ]
  },
  {
   "cell_type": "code",
   "execution_count": null,
   "metadata": {},
   "outputs": [],
   "source": [
    "# Создание и применение фильтра для фрейма\n",
    "filter_large = df['data'] > 300\n",
    "loyal = df['data'] == 0\n",
    "df.loc[filter_large & loyal]\n",
    "\n",
    "cust_filter = 'param'\n",
    "od.query('data == @param')"
   ]
  },
  {
   "cell_type": "code",
   "execution_count": null,
   "metadata": {},
   "outputs": [],
   "source": [
    "# Фильтры и статистика по предикторам, в зависимости от сзначений отклика\n",
    "columns_to_show = ['data', 'data1', 'data2']\n",
    "df.groupby(['y'])[columns_to_show].describe(percentiles =[])\n",
    "df.groupby(['y'])[columns_to_show].agg([np.mean, np.max, np.std, np.min])"
   ]
  },
  {
   "cell_type": "code",
   "execution_count": null,
   "metadata": {
    "ExecuteTime": {
     "end_time": "2021-02-03T06:30:56.884371Z",
     "start_time": "2021-02-03T06:30:56.706373Z"
    }
   },
   "outputs": [],
   "source": [
    "# График по целевой колонке\n",
    "fig, ax = plt.subplots(figsize=(10,4))\n",
    "sns.distplot(df['data'], bins=30, kde=True, ax=ax)\n",
    "\n",
    "#  График логарифма\n",
    "df['data'] = np.log1p(df['data'])"
   ]
  },
  {
   "cell_type": "code",
   "execution_count": null,
   "metadata": {},
   "outputs": [],
   "source": [
    "# Выделение нового предиктора на основе произвольных действий с другими\n",
    "df['Rich'] = (df['Salary'] > df['Salary'].quantile(.75)).astype(int) #Верхняя четверть богатых"
   ]
  },
  {
   "cell_type": "code",
   "execution_count": null,
   "metadata": {},
   "outputs": [],
   "source": [
    "# средние показатели предикторов, сгруппированных для другого\n",
    "df.groupby(['Gender'])[['HouseSize', 'Age', 'Salary']].agg(np.median)"
   ]
  },
  {
   "cell_type": "code",
   "execution_count": null,
   "metadata": {},
   "outputs": [],
   "source": [
    "# Выборка для всего фрейма, ограниченная по заданным параметрам одного из предикторов(например, только топ-5 значений)\n",
    "a = df[df['Age'].isin(df['Age'].value_counts().head().index)]\n",
    "sns.countplot(a['Age']);"
   ]
  },
  {
   "cell_type": "code",
   "execution_count": null,
   "metadata": {},
   "outputs": [],
   "source": [
    "# общий график значений по колонке и связь предиктора с откликом\n",
    "fig = plt.figure(figsize=(24,15))\n",
    "\n",
    "plt.subplot(4,3,1)\n",
    "sns.distplot(comb[\"data\"])\n",
    "\n",
    "plt.subplot(4,3,2)\n",
    "sns.scatterplot(x=\"data\", y=\"y\", data=comb)"
   ]
  },
  {
   "cell_type": "code",
   "execution_count": null,
   "metadata": {
    "ExecuteTime": {
     "end_time": "2021-02-03T06:38:57.813457Z",
     "start_time": "2021-02-03T06:38:57.746476Z"
    }
   },
   "outputs": [],
   "source": [
    "# Описание числовых колонок\n",
    "df.drop(\"Id\", axis=1).describe(include=['number']).T"
   ]
  },
  {
   "cell_type": "code",
   "execution_count": null,
   "metadata": {},
   "outputs": [],
   "source": [
    "# График кросстаблицы и сравнения предикторов и отклика\n",
    "pd.crosstab(df['y'], df['data'], normalize=True, margins=True)\n",
    "df.pivot_table(['data', 'data1', 'data2'], ['data3'], aggfunc='mean').head(10)"
   ]
  },
  {
   "cell_type": "code",
   "execution_count": 24,
   "metadata": {
    "ExecuteTime": {
     "end_time": "2021-06-27T09:08:23.237643Z",
     "start_time": "2021-06-27T09:08:23.064613Z"
    }
   },
   "outputs": [
    {
     "data": {
      "text/plain": [
       "<AxesSubplot:>"
      ]
     },
     "execution_count": 24,
     "metadata": {},
     "output_type": "execute_result"
    },
    {
     "ename": "NameError",
     "evalue": "name 'comb' is not defined",
     "output_type": "error",
     "traceback": [
      "\u001b[1;31m---------------------------------------------------------------------------\u001b[0m",
      "\u001b[1;31mNameError\u001b[0m                                 Traceback (most recent call last)",
      "\u001b[1;32m<ipython-input-24-186fe2026de7>\u001b[0m in \u001b[0;36m<module>\u001b[1;34m\u001b[0m\n\u001b[0;32m      5\u001b[0m \u001b[1;32mfor\u001b[0m \u001b[0mi\u001b[0m \u001b[1;32min\u001b[0m \u001b[0mrange\u001b[0m\u001b[1;33m(\u001b[0m\u001b[0mlen\u001b[0m\u001b[1;33m(\u001b[0m\u001b[0mnum_feat\u001b[0m\u001b[1;33m)\u001b[0m\u001b[1;33m)\u001b[0m\u001b[1;33m:\u001b[0m\u001b[1;33m\u001b[0m\u001b[1;33m\u001b[0m\u001b[0m\n\u001b[0;32m      6\u001b[0m     \u001b[0mplt\u001b[0m\u001b[1;33m.\u001b[0m\u001b[0msubplot\u001b[0m\u001b[1;33m(\u001b[0m\u001b[1;36m14\u001b[0m\u001b[1;33m,\u001b[0m\u001b[1;36m5\u001b[0m\u001b[1;33m,\u001b[0m \u001b[0mi\u001b[0m\u001b[1;33m+\u001b[0m\u001b[1;36m1\u001b[0m\u001b[1;33m)\u001b[0m\u001b[1;33m\u001b[0m\u001b[1;33m\u001b[0m\u001b[0m\n\u001b[1;32m----> 7\u001b[1;33m     \u001b[0msns\u001b[0m\u001b[1;33m.\u001b[0m\u001b[0mdistplot\u001b[0m\u001b[1;33m(\u001b[0m\u001b[0mcomb\u001b[0m\u001b[1;33m[\u001b[0m\u001b[0mnum_feat\u001b[0m\u001b[1;33m[\u001b[0m\u001b[0mi\u001b[0m\u001b[1;33m]\u001b[0m\u001b[1;33m]\u001b[0m\u001b[1;33m,\u001b[0m \u001b[0mrug\u001b[0m\u001b[1;33m=\u001b[0m\u001b[1;32mTrue\u001b[0m\u001b[1;33m,\u001b[0m \u001b[0mhist\u001b[0m\u001b[1;33m=\u001b[0m\u001b[1;32mFalse\u001b[0m\u001b[1;33m,\u001b[0m \u001b[0mkde_kws\u001b[0m\u001b[1;33m=\u001b[0m\u001b[1;33m{\u001b[0m\u001b[1;34m'bw'\u001b[0m\u001b[1;33m:\u001b[0m\u001b[1;36m0.1\u001b[0m\u001b[1;33m}\u001b[0m\u001b[1;33m)\u001b[0m\u001b[1;33m\u001b[0m\u001b[1;33m\u001b[0m\u001b[0m\n\u001b[0m\u001b[0;32m      8\u001b[0m     \u001b[0mplt\u001b[0m\u001b[1;33m.\u001b[0m\u001b[0mtitle\u001b[0m\u001b[1;33m(\u001b[0m\u001b[0mnum_feat\u001b[0m\u001b[1;33m[\u001b[0m\u001b[0mi\u001b[0m\u001b[1;33m]\u001b[0m\u001b[1;33m)\u001b[0m\u001b[1;33m\u001b[0m\u001b[1;33m\u001b[0m\u001b[0m\n\u001b[0;32m      9\u001b[0m     \u001b[0mplt\u001b[0m\u001b[1;33m.\u001b[0m\u001b[0mxlabel\u001b[0m\u001b[1;33m(\u001b[0m\u001b[1;34m\"Value\"\u001b[0m\u001b[1;33m)\u001b[0m\u001b[1;33m\u001b[0m\u001b[1;33m\u001b[0m\u001b[0m\n",
      "\u001b[1;31mNameError\u001b[0m: name 'comb' is not defined"
     ]
    },
    {
     "data": {
      "image/png": "[encoded data removed]",
      "text/plain": [
       "<Figure size 1440x1440 with 1 Axes>"
      ]
     },
     "metadata": {
      "needs_background": "light"
     },
     "output_type": "display_data"
    }
   ],
   "source": [
    "# Plot распределение предикторов во всех числовых колонках\n",
    "\n",
    "fig = plt.figure(figsize=(20,20))\n",
    "\n",
    "for i in range(len(num_feat)):\n",
    "    plt.subplot(14,5, i+1)\n",
    "    sns.distplot(comb[num_feat[i]], rug=True, hist=False, kde_kws={'bw':0.1})\n",
    "    plt.title(num_feat[i])\n",
    "    plt.xlabel(\"Value\")\n",
    "    plt.ylabel(\"Count\")\n",
    "    plt.tight_layout()\n",
    "fig.show()"
   ]
  },
  {
   "cell_type": "code",
   "execution_count": null,
   "metadata": {},
   "outputs": [],
   "source": [
    "# plot распределение в категориальных колонках\n",
    "fig = plt.figure(figsize=(18, 30))\n",
    "\n",
    "for i , col in enumerate(cat_feat):\n",
    "    plt.subplot(12,5, i+1)\n",
    "    sns.boxplot(x=col, y='y', data=df)\n",
    "    plt.ylabel(\"Log() Y\")\n",
    "    plt.tight_layout()\n",
    "    \n",
    "fig.show()"
   ]
  },
  {
   "cell_type": "code",
   "execution_count": null,
   "metadata": {},
   "outputs": [],
   "source": [
    "# Сведение данных к более крупным новым блокам\n",
    "df['data'] = pd.cut(df.Data, 4)"
   ]
  },
  {
   "cell_type": "code",
   "execution_count": null,
   "metadata": {},
   "outputs": [],
   "source": [
    "# Проверка на корреляцию всех числовых колонок\n",
    "df.corr()\n",
    "corr_matrix = df[num_feat].corr()\n",
    "plt.figure(figsize=(16,12))\n",
    "sns.heatmap(corr_matrix.T, annot=True, cbar=False, cmap='coolwarm');\n",
    "\n",
    "# Отдельно выделяем все, что выше 0.8\n",
    "corr_matrix = df[num_feat].corr()\n",
    "plt.figure(figsize=(12,12))\n",
    "sns.heatmap(corr_matrix.T, annot=True, mask= corr_matrix < 0.8 ,cbar=False, cmap='coolwarm');"
   ]
  },
  {
   "cell_type": "code",
   "execution_count": null,
   "metadata": {},
   "outputs": [],
   "source": [
    "#Выбор наибольших строк с наибольшими параметрами в колонке\n",
    "df.nlargest(3,'data') #Обратный метод - .nsmallest"
   ]
  },
  {
   "cell_type": "code",
   "execution_count": null,
   "metadata": {},
   "outputs": [],
   "source": [
    "# График зависимости отклика от каждого из предикторов в числовых колонках\n",
    "fig = plt.figure(figsize=(20,20))\n",
    "\n",
    "for i, col in enumerate(comb[num_feat].columns):\n",
    "    plt.subplot(12,5, i+1) #Размеры графиков и их координаты на фигуре\n",
    "    sns.scatterplot(x=comb[col], y=df['y']) \n",
    "    plt.tight_layout() #Автоматическое расположение графиков на фигуре\n",
    "    \n",
    "fig.show()"
   ]
  },
  {
   "cell_type": "code",
   "execution_count": null,
   "metadata": {},
   "outputs": [],
   "source": [
    "#Повернем фрейм, разбив один столбец на несколько, в зависимости от значений, все объекты выровнены по дате\n",
    "pivoted_df = df.pivot(index='Date', columns='Code', values='VWAP')"
   ]
  },
  {
   "cell_type": "code",
   "execution_count": null,
   "metadata": {},
   "outputs": [],
   "source": [
    "#Метод if-then. Если условия соблюдены, то производит действия над переменными в фрейме\n",
    "df.mask(df % 2 == 0, -df) #В данном случае если число четное, то знак меняется на противоположный"
   ]
  },
  {
   "cell_type": "code",
   "execution_count": null,
   "metadata": {},
   "outputs": [],
   "source": [
    "# кросс-таблица (таблица сопряжённости)\n",
    "pd.crosstab(df['data'], df['data1'])"
   ]
  },
  {
   "cell_type": "code",
   "execution_count": null,
   "metadata": {},
   "outputs": [],
   "source": [
    "# Разбиение переменных на категории и выделение в новый столбец\n",
    "df['data_new'] = pd.cut(df['data'], bins=[0, 7.90, 14.45, 31.28, 120], labels=[\n",
    "                        'Low', 'Mid', 'High_Mid', 'High'])"
   ]
  },
  {
   "cell_type": "code",
   "execution_count": null,
   "metadata": {},
   "outputs": [],
   "source": [
    "# Средние показатель выборки по определенному параметру\n",
    "df[df['data'] == 1]['data1'].mean()\n",
    "\n",
    "# Условие может быть составным\n",
    "df[(df['data'] == 1) & (df['data1'] == \"male\")]['data2'].mean()"
   ]
  },
  {
   "cell_type": "code",
   "execution_count": null,
   "metadata": {},
   "outputs": [],
   "source": [
    "# Выборка всех строк из фрейма по конкретному параметру в колонке\n",
    "grouped = df.groupby('Data').get_group('param')"
   ]
  },
  {
   "cell_type": "code",
   "execution_count": null,
   "metadata": {},
   "outputs": [],
   "source": [
    "# Выбираем из матрицы интересующую нас ячейку\n",
    "first_patient = df.loc[0, 'data']"
   ]
  },
  {
   "cell_type": "code",
   "execution_count": null,
   "metadata": {},
   "outputs": [],
   "source": [
    "# Выбираем срез из матрицы по интересующим нас колонкам\n",
    "df.loc[:10, [\"data1\", \"data2\"]]"
   ]
  },
  {
   "cell_type": "code",
   "execution_count": null,
   "metadata": {
    "code_folding": []
   },
   "outputs": [],
   "source": [
    "# Строим график по распределению значений в колонке\n",
    "(df.Data.value_counts(normalize=True) * 100).plot.barh().set_title(\n",
    "    \"Training Data - Percentage of people survived and Deceased\")"
   ]
  },
  {
   "cell_type": "code",
   "execution_count": null,
   "metadata": {},
   "outputs": [],
   "source": [
    "# Строим картинку\n",
    "df['Survived'].value_counts().plot(kind='bar')\n",
    "# Добавляем подпись\n",
    "plt.title(u'Число юзеров')\n",
    "plt.xticks([0, 1], ['Нет', 'Да'], rotation=None)\n",
    "plt.text(-0.1, 275, '61.5%', fontsize=15, color='silver')\n",
    "plt.text(0.9, 150, '38.5%', fontsize=15, color='silver')"
   ]
  },
  {
   "cell_type": "code",
   "execution_count": null,
   "metadata": {},
   "outputs": [],
   "source": [
    "# Круговая диаграмма.\n",
    "ax.get_figure().suptitle('')  # Исправить наезжающие заголовки графика\n",
    "# Чтобы подписи к картинкам отображались корректно по-русски\n",
    "matplotlib.rc('font', family='Arial')\n",
    "\n",
    "fig, ax = plt.subplots(1)\n",
    "df['data'].value_counts().plot(kind='pie', labels=['', ''],\n",
    "                               ax=ax, autopct='%.2f%%', fontsize=15)\n",
    "ax.set_title(u'title')\n",
    "ax.axis('equal')\n",
    "ax.legend(labels=[u'param', u'param2'], framealpha=0)\n",
    "ax.set_ylabel('')\n",
    "plt.tight_layout()"
   ]
  },
  {
   "cell_type": "code",
   "execution_count": null,
   "metadata": {},
   "outputs": [],
   "source": [
    "# Countplot - распределение значений внутри предиктора по параметрам второго предиктора\n",
    "sns.countplot(y='data', hue='data1', data=df)"
   ]
  },
  {
   "cell_type": "code",
   "execution_count": null,
   "metadata": {},
   "outputs": [],
   "source": [
    "# Выбор топ-5 параметров из предиктора\n",
    "top_data = df.Data.value_counts().sort_values(ascending = False).head(5).index.values\n",
    "\n",
    "# График бокс-плота топа предиктора для отклика\n",
    "sns.boxplot(y='data', x='y', data=df[df.Data.isin(top_data)], orient = 'h')"
   ]
  },
  {
   "cell_type": "code",
   "execution_count": null,
   "metadata": {},
   "outputs": [],
   "source": [
    "# Круговая диаграмма распределения значений в колонке\n",
    "df.Data.value_counts().plot.pie().legend(labels=[\"Class 3\", \"Class 1\", \"Class 2\"],\n",
    "                                         loc='center right',\n",
    "                                         bbox_to_anchor=(2.25, 0.5)\n",
    "                                         ).set_title(\"Training Data - People travelling in different classes\")"
   ]
  },
  {
   "cell_type": "code",
   "execution_count": null,
   "metadata": {},
   "outputs": [],
   "source": [
    "# График сравнения значений в колонках по дополнительному признаку из другой колонки. В процентах\n",
    "\n",
    "data1 = round((df[df.Data == 1].Data4 == 1).value_counts()\n",
    "              [1]/len(df[df.Data == 1]) * 100, 2)\n",
    "data2 = round((df[df.Data == 2].Data4 == 1).value_counts()\n",
    "              [1]/len(df[df.Data == 2]) * 100, 2)\n",
    "data3 = round((df[df.Data == 3].Data4 == 1).value_counts()\n",
    "              [1]/len(df[df.Data == 3]) * 100, 2)\n",
    "pclass_perc_df = pd.DataFrame(\n",
    "    {\"Percentage Data4\": {\"Class 1\": data1, \"Class 2\": data2, \"Class 3\": data3},\n",
    "     \"Percentage Not Data4\": {\"Class 1\": 100-data1, \"Class 2\": 100-data2, \"Class 3\": 100-data3}})\n",
    "pclass_perc_df.plot.bar().set_title(\n",
    "    \"Training Data - Percentage of Data4 for 3 other params in Data\")"
   ]
  },
  {
   "cell_type": "code",
   "execution_count": null,
   "metadata": {},
   "outputs": [],
   "source": [
    "# Вариант графика сравнения, две бинарных переменных\n",
    "df['data_new'] = pd.cut(df.Data, [0, 10, 20, 30, 40, 50, 60, 70, 80])\n",
    "sns.countplot(x=\"data_new\",\n",
    "              hue=\"data1\",\n",
    "              data=df,\n",
    "              palette=[\"C1\", \"C0\"]).legend(labels=[\"Да\", \"Нет\"]\n",
    "                                           )"
   ]
  },
  {
   "cell_type": "code",
   "execution_count": null,
   "metadata": {},
   "outputs": [],
   "source": [
    "# График распределения переменных по характеристике второй переменной\n",
    "for x in [1, 2, 3]:  # задаем число классов\n",
    "    df.Data[df.data1 == x].plot(kind=\"kde\")\n",
    "plt.title(\"title\")\n",
    "plt.legend((\"1st\", \"2nd\", \"3rd\"))"
   ]
  },
  {
   "cell_type": "code",
   "execution_count": null,
   "metadata": {},
   "outputs": [],
   "source": [
    "# Вариант графика сравнения, две бинарных переменных\n",
    "sns.distplot(df['data'].dropna(),\n",
    "             color='darkgreen',\n",
    "             bins=30\n",
    "             )"
   ]
  },
  {
   "cell_type": "code",
   "execution_count": null,
   "metadata": {},
   "outputs": [],
   "source": [
    "# Тепловая карта суммарных значений параметров двух предикторов для отклика\n",
    "platform_genre_sales = df.pivot_table(\n",
    "                        index='data',\n",
    "                        columns='data1',\n",
    "                        values='y',\n",
    "                        aggfunc=sum).fillna(0).applymap(float)\n",
    "sns.heatmap(platform_genre_sales, annot=True, fmt='.1f', linewidths=.4)\n",
    "\n",
    "#Определяем массив данных и задаем title графика в Layout\n",
    "data = [trace0, trace1]\n",
    "layout = {'title': 'Statistics of video games'}"
   ]
  },
  {
   "cell_type": "code",
   "execution_count": null,
   "metadata": {},
   "outputs": [],
   "source": [
    "# Временной ряд значений двух предикторов по отклику\n",
    "years_df = df.groupby('timedate')[['y']].sum().join(\n",
    "    df.groupby('timedate')[['data']].count())\n",
    "years_df.columns = ['y', 'data1']\n",
    "\n",
    "# добавим в фрейм час, день недели и выходной в качестве категориальных переменных\n",
    "df.index = df.index.to_datetime()\n",
    "df[\"hour\"] = df.index.hour\n",
    "df[\"weekday\"] = df.index.weekday\n",
    "df['is_weekend'] = df.weekday.isin([5,6])*1\n",
    "df.head()\n",
    "\n",
    "# Посмотрим на средние по дням недели\n",
    "code_mean(data, 'weekday', \"y\")\n",
    "\n",
    "# Для увеличения числа признаков используют множество метрик (см.  библиотека tsfresh)\n",
    "\n",
    "# создаем линию для первого предиктора\n",
    "trace0 = go.Scatter(x=years_df.index, y=years_df.Y, name='title')\n",
    "\n",
    "# создаем линию для второго предиктора\n",
    "trace1 = go.Scatter(x=years_df.index, y=years_df.Data1, name='title')\n",
    "\n",
    "#Определяем массив данных и задаем title графика в Layout\n",
    "data = [trace0, trace1]\n",
    "layout = {'title': 'Statistics'}\n",
    "\n",
    "# создаем объект Figure и визуализируем его\n",
    "fig = go.Figure(data=data, layout=layout)\n",
    "iplot(fig, show_link=False)\n",
    "\n",
    "#Можно открыть график в html файле\n",
    "plotly.offline.plot(fig, filename='years_stats.html', show_link=False)"
   ]
  },
  {
   "cell_type": "code",
   "execution_count": null,
   "metadata": {},
   "outputs": [],
   "source": [
    "# Box trace для каждого параметра из предиктора по значениям второго предиктора\n",
    "data = []\n",
    "for col in df.Data.unique():\n",
    "    data.append(\n",
    "        go.Box(y=df[df.Data==col].Data1, name=genre)\n",
    "    )\n",
    "\n",
    "iplot(data, show_link = False)"
   ]
  },
  {
   "cell_type": "code",
   "execution_count": null,
   "metadata": {},
   "outputs": [],
   "source": [
    "# Вероятностная гистограмма\n",
    "df['data'].hist(density=True, bins=60)\n",
    "# Сравнение гистограмм\n",
    "df.groupby('data')['data'].plot.hist(alpha=.6)\n",
    "plt.legend()"
   ]
  },
  {
   "cell_type": "code",
   "execution_count": null,
   "metadata": {},
   "outputs": [],
   "source": [
    "# Линейная гистограмма\n",
    "ss = pd.DataFrame()\n",
    "ss['survived'] = df.Data1\n",
    "ss['sibling_spouse'] = pd.cut(\n",
    "    df.Data2, [0, 1, 2, 3, 4, 5, 6, 7, 8], include_lowest=True)\n",
    "(ss.sibling_spouse.value_counts()).plot.area().set_title(\n",
    "    \"Training Data - Number of siblings or spouses vs survival count\")"
   ]
  },
  {
   "cell_type": "code",
   "execution_count": null,
   "metadata": {},
   "outputs": [],
   "source": [
    "# Проверка на тип тренда (линейный или нет), тип сезонности (аддитивный или мультипликативный), его длину, выбросы\n",
    "# Видим линейный тренд и мультипликативную сезонность. Это подтверждает логирафмирование цикла\n",
    "\n",
    "fig = plt.figure(figsize=(12, 4))\n",
    "ax1 = fig.add_subplot(121)\n",
    "df['data'].plot(ax=ax1)\n",
    "ax1.set_title(u'title')\n",
    "ax1.set_ylabel(u'label')\n",
    "\n",
    "ax2 = fig.add_subplot(122)\n",
    "pd.Series(np.log10(df['data'])).plot(ax=ax2)\n",
    "ax2.set_title(u'log10 от title')\n",
    "ax2.set_ylabel(u'log10 от label')"
   ]
  },
  {
   "cell_type": "code",
   "execution_count": null,
   "metadata": {},
   "outputs": [],
   "source": [
    "# Быстрая проверка по интересующим нас данным. Перебор -> результат\n",
    "age = df['data']\n",
    "age[age < 22].shape[0]"
   ]
  },
  {
   "cell_type": "code",
   "execution_count": null,
   "metadata": {},
   "outputs": [],
   "source": [
    "# В случае очевидного смешения двух нормальных распределений, можно оценить их более подробно\n",
    "df.groupby('data')['data1'].plot.hist(alpha=0.6)\n",
    "df.groupby('data')['data1'].plot.hist(density=True)  # Нормализованный вариант\n",
    "plt.legend(loc='upper left')"
   ]
  },
  {
   "cell_type": "code",
   "execution_count": null,
   "metadata": {},
   "outputs": [],
   "source": [
    "# Первый признак разбивает на классы, второй дает среднее значение параметра по группе\n",
    "df.groupby('data')['data1'].mean().round().plot(kind='bar')\n",
    "plt.ylabel('label')  \n",
    "plt.show()"
   ]
  },
  {
   "cell_type": "code",
   "execution_count": null,
   "metadata": {},
   "outputs": [],
   "source": [
    "# Матрица диаграмм рассеивания: комплексное сравнение по нескольким переменным. Диагональ - ядерная оценка плотности\n",
    "colors = {'genuine': 'green', 'counterfeit': 'red'}\n",
    "scatter_matrix(df,\n",
    "               figsize=(6, 6),  # размер картинки\n",
    "               diagonal='kde',  # плотность вместо гистограммы на диагонали\n",
    "               c=df['data'].replace(colors),  # цвета классов\n",
    "               alpha=0.2  # степень прозрачности точек\n",
    "               )"
   ]
  },
  {
   "cell_type": "code",
   "execution_count": null,
   "metadata": {},
   "outputs": [],
   "source": [
    "# Scatter плот для исследования пар числовых признаков\n",
    "plt.scatter(df['Sex'], df['Pclass'])\n",
    "# Для изучения совместного распределения двух числовых признаков\n",
    "sns.jointplot(x='height', y='weight', data=df)"
   ]
  },
  {
   "cell_type": "code",
   "execution_count": null,
   "metadata": {},
   "outputs": [],
   "source": [
    "# Для исследования трёх и более признаков сводные таблицы (pivot tables)\n",
    "# Index - признаки, по которым выполняется группировка. Values - признаки, по которым вычисляются значения функции\n",
    "df.pivot_table(values=['age', 'cardio'], index=[\n",
    "               'smoke', 'alco'], aggfunc='mean')"
   ]
  },
  {
   "cell_type": "code",
   "execution_count": null,
   "metadata": {},
   "outputs": [],
   "source": [
    "# График построенный на новом фрейме, созданном из колонок, выделенных по схожим названиям\n",
    "data_df = df[[x for x in df.columns if '_data' in x] + ['data1']]\n",
    "sales_df.groupby('data1').sum().plot()"
   ]
  },
  {
   "cell_type": "code",
   "execution_count": null,
   "metadata": {},
   "outputs": [],
   "source": [
    "# Анализ объектов в колонке. Выделение уникальных, сплит по знакам и выделение в отдельную колонку\n",
    "df['data_new'] = df.Data.apply(lambda name: name.split(',')[\n",
    "                               1].split('.')[0].strip())\n",
    "df.Data.nunique()\n",
    "\n",
    "# Построение облачного графика из объектов, где размер коррелирует с частотой\n",
    "wc = WordCloud(width=1000, height=450, background_color='white').generate(\n",
    "    str(df.Data_new.values))\n",
    "plt.imshow(wc, interpolation='bilinear')\n",
    "plt.axis('off')\n",
    "plt.tight_layout(pad=0)\n",
    "plt.show()\n",
    "\n",
    "df.Data_new.value_counts()"
   ]
  },
  {
   "cell_type": "code",
   "execution_count": null,
   "metadata": {},
   "outputs": [],
   "source": [
    "x = np.arange(0, 5, 0.1)\n",
    "\n",
    "\n",
    "def f(x):\n",
    "    return x**2\n",
    "\n",
    "\n",
    "def h(x):\n",
    "    return np.sin(x)\n",
    "\n",
    "\n",
    "def k(x):\n",
    "    return np.cos(x)\n",
    "\n",
    "\n",
    "def m(x):\n",
    "    return np.tan(x)\n",
    "\n",
    "\n",
    "fig = go.Figure()  # создаем фигуру\n",
    "fig = make_subplots(rows=2,  # Создание нескольких графиков на одной фигуре\n",
    "                    cols=2,  # Число колонок на фигуре\n",
    "                    column_widths=[1, 1],  # Пропорции размера графиков\n",
    "                    specs=[  # Указываем расположение графиков в фигуре\n",
    "                        # Указываем что первый график двойной. Чтобы объединить по гризонтали colspan\n",
    "                        [{'rowspan': 2}, {}],\n",
    "                        [None, {}]  # Выбрасываем нижнего соседа первого графика None\n",
    "                    ]\n",
    "                    )\n",
    "fig.update_yaxes(range=[-0.5, 2.5],  # Зум к определенному участку на графике\n",
    "                 zeroline=True,  # Рисует оси на графике\n",
    "                 zerolinewidth=2,\n",
    "                 zerolinecolor='LightPink',\n",
    "                 col=2  # Уточнение к какой колонке применять\n",
    "                 )\n",
    "fig.update_xaxes(range=[-0.5, 2.5], zeroline=True,\n",
    "                 zerolinewidth=2, zerolinecolor='#008000', col=2)\n",
    "fig.add_trace(go.Scatter(x=x,\n",
    "                         y=x**2,\n",
    "                         name='f(x)=x<sup>2</sup>',  # HTML в подписях\n",
    "                         mode='lines+markers'),\n",
    "              1,  # Координаты на фигуре, указывающие к какому графику принадлежат\n",
    "              2\n",
    "              )\n",
    "fig.add_trace(go.Scatter(x=x,\n",
    "                         y=x,\n",
    "                         name='g(x)=x',  # Метод графика с плавной линией\n",
    "                         mode='markers'\n",
    "                         ),\n",
    "              1,\n",
    "              2\n",
    "              )\n",
    "\n",
    "fig.add_trace(go.Scatter(visible='legendonly',  # Невидимый режим, показывается только при клике на легенду\n",
    "                         x=x,\n",
    "                         y=h(x),\n",
    "                         name='x=sin(x)'),\n",
    "              2,\n",
    "              2\n",
    "              )\n",
    "fig.add_trace(go.Scatter(visible='legendonly',\n",
    "                         x=x,\n",
    "                         y=m(x),\n",
    "                         name='x=tan(x)'),\n",
    "              1,\n",
    "              1\n",
    "              )\n",
    "fig.update_layout(legend_orientation='h',  # Смещение легенды под график\n",
    "                  # Убрать отступы вокруг графика\n",
    "                  margin=dict(l=0, r=0, t=30, b=0),\n",
    "                  # Смещение легенды по центру\n",
    "                  legend=dict(x=.5, xanchor=\"center\"),\n",
    "                  hovermode='x',  # Показывает одновременно все значения Y для точки Х\n",
    "                  title='Заголовок',\n",
    "                  xaxis_title='ось Х',\n",
    "                  yaxis_title='ось Y'\n",
    "                  )\n",
    "fig.update_traces(hoverinfo='all',  # Отображается значение подписи на курсоре. Например 'x+y'\n",
    "                  hovertemplate='Аргумент: %{x}<br>Функция: %{y}'\n",
    "                  )\n",
    "fig.update_xaxes(title='Ось Х графика 1', col=1, row=1)\n",
    "fig.update_yaxes(title='Ось Y графика 1', col=1, row=1)\n",
    "fig.update_xaxes(title='Ось Х графика 2', col=2, row=1)\n",
    "fig.update_yaxes(title='Ось Y графика 2', col=2, row=1)\n",
    "fig.update_xaxes(title='Ось Х графика 3', col=2, row=2)\n",
    "fig.update_yaxes(title='Ось Y графика 3', col=2, row=2)\n",
    "\n",
    "fig.show()"
   ]
  },
  {
   "cell_type": "code",
   "execution_count": null,
   "metadata": {},
   "outputs": [],
   "source": [
    "# t-distributed Stohastic Neighbor Embedding - отображение из многомерного признакового пространства на плоскость\n",
    "from sklearn.manifold import TSNE\n",
    "from sklearn.preprocessing import StandardScaler\n",
    "\n",
    "# преобразуем все признаки в числовые, выкинув номинальные\n",
    "X = df.drop([cat_feat], axis=1)\n",
    "X['data'] = pd.factorize(X['data'])[0]\n",
    "X['data1'] = pd.factorize(X['data1'])[0]\n",
    "\n",
    "scaler = StandardScaler()\n",
    "X_scaled = scaler.fit_transform(X)\n",
    "\n",
    "tsne = TSNE(random_state=17)\n",
    "tsne_representation = tsne.fit_transform(X_scaled)\n",
    "\n",
    "plt.scatter(tsne_representation[:, 0], tsne_representation[:, 1])\n",
    "\n",
    "plt.scatter(tsne_representation[:, 0], tsne_representation[:, 1],\n",
    "            c=df['y'].map({0: 'blue', 1: 'orange'}))\n",
    "\n",
    "_, axes = plt.subplots(1, 2, sharey=True, figsize=(16, 6))\n",
    "\n",
    "axes[0].scatter(tsne_representation[:, 0], tsne_representation[:, 1],\n",
    "                c=df['data'].map({'Yes': 'blue', 'No': 'orange'}))\n",
    "axes[1].scatter(tsne_representation[:, 0], tsne_representation[:, 1],\n",
    "                c=df['data1'].map({'Yes': 'blue', 'No': 'orange'}))\n",
    "axes[0].set_title('title')\n",
    "axes[1].set_title('title1')"
   ]
  },
  {
   "cell_type": "code",
   "execution_count": null,
   "metadata": {},
   "outputs": [],
   "source": [
    "# Вставляем изображения в блокнот\n",
    "display(Image(url='https://habrastorage.org/webt/9m/2c/zd/9m2czdt-uv7oe6v-nws3frtw7-a.jpeg', width = 200))"
   ]
  },
  {
   "cell_type": "code",
   "execution_count": null,
   "metadata": {},
   "outputs": [],
   "source": [
    "#Описываем все колонки: тип, заполненность, охват значений, значения предикторов"
   ]
  },
  {
   "cell_type": "markdown",
   "metadata": {},
   "source": [
    "* [Проверка разницы между train и test](https://www.kaggle.com/tunguz/adversarial-santander)<br>"
   ]
  },
  {
   "cell_type": "code",
   "execution_count": null,
   "metadata": {},
   "outputs": [],
   "source": [
    "columns = ['SEQN', 'Alcohol101', 'Alcohol110', 'Alcohol130', 'Smoking', 'Gender',\n",
    "       'Age', 'Race', 'Country', 'Education', 'Family', 'HouseSize',\n",
    "       'Salary', 'SDMVPSU', 'SDMVSTRA', 'INDFMPIR', 'BloodPressureSY1', 'BloodPressureDI1', 'BloodPressureSY2',\n",
    "       'BloodPressureDI2', 'Weight', 'Height', 'BodyIndex', 'BodyLeg', 'BodyArm', 'BodyArm2',\n",
    "       'BodyWaist', 'HIQ210']"
   ]
  }
 ],
 "metadata": {
  "hide_input": false,
  "kernelspec": {
   "display_name": "Python 3",
   "language": "python",
   "name": "python3"
  },
  "language_info": {
   "codemirror_mode": {
    "name": "ipython",
    "version": 3
   },
   "file_extension": ".py",
   "mimetype": "text/x-python",
   "name": "python",
   "nbconvert_exporter": "python",
   "pygments_lexer": "ipython3",
   "version": "3.8.3"
  },
  "latex_envs": {
   "LaTeX_envs_menu_present": true,
   "autoclose": false,
   "autocomplete": true,
   "bibliofile": "biblio.bib",
   "cite_by": "apalike",
   "current_citInitial": 1,
   "eqLabelWithNumbers": true,
   "eqNumInitial": 1,
   "hotkeys": {
    "equation": "Ctrl-E",
    "itemize": "Ctrl-I"
   },
   "labels_anchors": false,
   "latex_user_defs": false,
   "report_style_numbering": false,
   "user_envs_cfg": false
  },
  "nbTranslate": {
   "displayLangs": [
    "*"
   ],
   "hotkey": "alt-t",
   "langInMainMenu": true,
   "sourceLang": "en",
   "targetLang": "fr",
   "useGoogleTranslate": true
  },
  "toc": {
   "base_numbering": 1,
   "nav_menu": {
    "height": "12px",
    "width": "160px"
   },
   "number_sections": true,
   "sideBar": true,
   "skip_h1_title": false,
   "title_cell": "Table of Contents",
   "title_sidebar": "Contents",
   "toc_cell": false,
   "toc_position": {},
   "toc_section_display": true,
   "toc_window_display": true
  },
  "varInspector": {
   "cols": {
    "lenName": 16,
    "lenType": 16,
    "lenVar": 40
   },
   "kernels_config": {
    "python": {
     "delete_cmd_postfix": "",
     "delete_cmd_prefix": "del ",
     "library": "var_list.py",
     "varRefreshCmd": "print(var_dic_list())"
    },
    "r": {
     "delete_cmd_postfix": ") ",
     "delete_cmd_prefix": "rm(",
     "library": "var_list.r",
     "varRefreshCmd": "cat(var_dic_list()) "
    }
   },
   "position": {
    "height": "420px",
    "left": "27px",
    "right": "20px",
    "top": "329px",
    "width": "350px"
   },
   "types_to_exclude": [
    "module",
    "function",
    "builtin_function_or_method",
    "instance",
    "_Feature"
   ],
   "window_display": true
  }
 },
 "nbformat": 4,
 "nbformat_minor": 4
}
