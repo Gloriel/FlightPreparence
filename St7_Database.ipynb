{
 "cells": [
  {
   "cell_type": "markdown",
   "metadata": {},
   "source": [
    "* Ссылки \n",
    "  * [Python, БД](https://habr.com/ru/post/481084/).<br> "
   ]
  },
  {
   "cell_type": "code",
   "execution_count": null,
   "metadata": {},
   "outputs": [],
   "source": [
    "import sqlite3 as sql"
   ]
  },
  {
   "cell_type": "code",
   "execution_count": null,
   "metadata": {},
   "outputs": [],
   "source": [
    "#запрашивает имя и фамилию, и записывает их в БД, а потом по выбору цифр либо выводит, либо записывает снова.\n",
    "print(\"1 - добавление\\n2 - получение\")\n",
    "con = sql.connect('test.db')\n",
    "choice = int(input(\"> \"))\n",
    "with con:\n",
    "    cur = con.cursor()\n",
    "    cur.execute(\"CREATE TABLE IF NOT EXISTS `test` (`name` STRING, `surname` STRING)\")\n",
    "\n",
    "    if choice == 1:\n",
    "        name = input(\"Name\\n> \")\n",
    "        surname = input(\"Surname\\n> \")\n",
    "        cur.execute(f\"INSERT INTO `test` VALUES ('{name}', '{surname}')\")\n",
    "    elif choice == 2:\n",
    "        cur.execute(\"SELECT * FROM `test`\")\n",
    "        rows = cur.fetchall()\n",
    "        for row in rows:\n",
    "            print(row[0], row[1])\n",
    "    else:\n",
    "        print(\"Вы ошиблись\")\n",
    "\n",
    "    con.commit()\n",
    "    cur.close()\n"
   ]
  },
  {
   "cell_type": "code",
   "execution_count": null,
   "metadata": {},
   "outputs": [],
   "source": []
  }
 ],
 "metadata": {
  "kernelspec": {
   "display_name": "Python 3",
   "language": "python",
   "name": "python3"
  },
  "language_info": {
   "codemirror_mode": {
    "name": "ipython",
    "version": 3
   },
   "file_extension": ".py",
   "mimetype": "text/x-python",
   "name": "python",
   "nbconvert_exporter": "python",
   "pygments_lexer": "ipython3",
   "version": "3.8.3"
  }
 },
 "nbformat": 4,
 "nbformat_minor": 4
}
