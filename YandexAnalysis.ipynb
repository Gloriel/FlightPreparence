{
 "cells": [
  {
   "cell_type": "markdown",
   "metadata": {},
   "source": [
    "* Ссылки\n",
    "  * [Подготовка данных в проекте](https://habr.com/ru/post/470650/).<br>\n",
    "  * [Разведочный анализ данных](https://www.kaggle.com/emstrakhov/eda-with-pandas).<br>\n",
    "  * [Построение графиков](https://pcnews.ru/blogs/spargalka_po_vizualizacii_dannyh_v_python_s_pomosu_plotly-986119.html).<br>\n",
    "  * [Продвинутая визуализация](https://habr.com/ru/company/skillfactory/blog/510320/).<br>\n",
    "  * [Machine Learning course](https://mlcourse.ai/).<br>\n",
    "  * [Фреймы в pandas](https://habr.com/ru/company/ruvds/blog/494720/)<br>\n",
    "  * [Открытие фрейма в pandas](https://pandas.pydata.org/pandas-docs/stable/reference/api/pandas.read_csv.html)<br>\n",
    "  * [Сортировка в pandas](https://pandas.pydata.org/pandas-docs/stable/reference/api/pandas.DataFrame.sort_values.html)"
   ]
  },
  {
   "cell_type": "code",
   "execution_count": 1,
   "metadata": {
    "ExecuteTime": {
     "end_time": "2021-03-08T08:54:41.630327Z",
     "start_time": "2021-03-08T08:54:37.930819Z"
    },
    "run_control": {
     "marked": false
    }
   },
   "outputs": [
    {
     "data": {
      "text/html": [
       "        <script type=\"text/javascript\">\n",
       "        window.PlotlyConfig = {MathJaxConfig: 'local'};\n",
       "        if (window.MathJax) {MathJax.Hub.Config({SVG: {font: \"STIX-Web\"}});}\n",
       "        if (typeof require !== 'undefined') {\n",
       "        require.undef(\"plotly\");\n",
       "        requirejs.config({\n",
       "            paths: {\n",
       "                'plotly': ['https://cdn.plot.ly/plotly-latest.min']\n",
       "            }\n",
       "        });\n",
       "        require(['plotly'], function(Plotly) {\n",
       "            window._Plotly = Plotly;\n",
       "        });\n",
       "        }\n",
       "        </script>\n",
       "        "
      ]
     },
     "metadata": {},
     "output_type": "display_data"
    },
    {
     "data": {
      "text/html": [
       "        <script type=\"text/javascript\">\n",
       "        window.PlotlyConfig = {MathJaxConfig: 'local'};\n",
       "        if (window.MathJax) {MathJax.Hub.Config({SVG: {font: \"STIX-Web\"}});}\n",
       "        if (typeof require !== 'undefined') {\n",
       "        require.undef(\"plotly\");\n",
       "        requirejs.config({\n",
       "            paths: {\n",
       "                'plotly': ['https://cdn.plot.ly/plotly-latest.min']\n",
       "            }\n",
       "        });\n",
       "        require(['plotly'], function(Plotly) {\n",
       "            window._Plotly = Plotly;\n",
       "        });\n",
       "        }\n",
       "        </script>\n",
       "        "
      ]
     },
     "metadata": {},
     "output_type": "display_data"
    },
    {
     "data": {
      "text/html": [
       "        <script type=\"text/javascript\">\n",
       "        window.PlotlyConfig = {MathJaxConfig: 'local'};\n",
       "        if (window.MathJax) {MathJax.Hub.Config({SVG: {font: \"STIX-Web\"}});}\n",
       "        if (typeof require !== 'undefined') {\n",
       "        require.undef(\"plotly\");\n",
       "        requirejs.config({\n",
       "            paths: {\n",
       "                'plotly': ['https://cdn.plot.ly/plotly-latest.min']\n",
       "            }\n",
       "        });\n",
       "        require(['plotly'], function(Plotly) {\n",
       "            window._Plotly = Plotly;\n",
       "        });\n",
       "        }\n",
       "        </script>\n",
       "        "
      ]
     },
     "metadata": {},
     "output_type": "display_data"
    }
   ],
   "source": [
    "from pylab import rcParams\n",
    "import plotly.graph_objects as go\n",
    "from plotly.offline import download_plotlyjs, init_notebook_mode, plot, iplot\n",
    "import warnings\n",
    "import numpy as np\n",
    "import pandas as pd\n",
    "import plotly\n",
    "from IPython.display import Image\n",
    "import matplotlib\n",
    "from IPython.core.interactiveshell import InteractiveShell\n",
    "from wordcloud import WordCloud\n",
    "import seaborn as sns\n",
    "import matplotlib.pyplot as plt\n",
    "from plotly.subplots import make_subplots\n",
    "import plotly.express as px\n",
    "import plotly.graph_objs as go\n",
    "import chart_studio.plotly as py\n",
    "import cufflinks\n",
    "cufflinks.go_offline(connected=True)\n",
    "init_notebook_mode(connected=True)\n",
    "%matplotlib inline\n",
    "warnings.filterwarnings(\"ignore\")\n",
    "rcParams['figure.figsize'] = 15, 8\n",
    "pd.set_option('display.width', 85)\n",
    "pd.set_option('display.max_columns', 8)\n",
    "init_notebook_mode(connected=True)\n",
    "pd.options.display.float_format = '{:,.1f}'.format\n",
    "InteractiveShell.ast_node_interactivity = 'all'\n",
    "\n"
   ]
  },
  {
   "cell_type": "code",
   "execution_count": null,
   "metadata": {
    "ExecuteTime": {
     "end_time": "2021-02-26T05:14:31.519120Z",
     "start_time": "2021-02-26T05:14:31.498119Z"
    }
   },
   "outputs": [],
   "source": [
    "import os.path\n",
    "os.path.isfile('train.csv')\n",
    "os.path.exists('../FlightPreparence')"
   ]
  },
  {
   "cell_type": "code",
   "execution_count": 41,
   "metadata": {
    "ExecuteTime": {
     "end_time": "2021-03-08T09:59:02.428662Z",
     "start_time": "2021-03-08T09:59:02.411663Z"
    }
   },
   "outputs": [],
   "source": [
    "df = pd.read_csv('4047356.csv', encoding='utf-8')\n",
    "# tsd = pd.read_csv('test.csv')\n",
    "# comb = pd.concat([df, tsd], axis=0)\n",
    "# merg = pd.merge(df, tsd, on=('ID'), how ='left', left_on=('ID'), right_on=('NEW_ID'))\n",
    "\n",
    "#df = pd.read_csv('AmesHousing.txt', sep=\"\\t\", header = 0, encoding='cp1251', index_col=False)\n",
    "#df = pd.read_csv('beverage_r.csv', sep=\";\", decimal=',', parse_dates=[0], index_col='numb.obs')\n",
    "#df = pd.read_csv('diamond.dat', header=None, sep='\\s+', names=['weight', 'price'])\n",
    "#df = pd.read_csv('adult.test', header=None, names=columns, na_values=' ?', skiprows=1)"
   ]
  },
  {
   "cell_type": "code",
   "execution_count": 42,
   "metadata": {
    "ExecuteTime": {
     "end_time": "2021-03-08T09:59:03.941457Z",
     "start_time": "2021-03-08T09:59:03.917457Z"
    }
   },
   "outputs": [
    {
     "data": {
      "text/html": [
       "<div>\n",
       "<style scoped>\n",
       "    .dataframe tbody tr th:only-of-type {\n",
       "        vertical-align: middle;\n",
       "    }\n",
       "\n",
       "    .dataframe tbody tr th {\n",
       "        vertical-align: top;\n",
       "    }\n",
       "\n",
       "    .dataframe thead th {\n",
       "        text-align: right;\n",
       "    }\n",
       "</style>\n",
       "<table border=\"1\" class=\"dataframe\">\n",
       "  <thead>\n",
       "    <tr style=\"text-align: right;\">\n",
       "      <th></th>\n",
       "      <th>0</th>\n",
       "      <th>1</th>\n",
       "      <th>2</th>\n",
       "      <th>3</th>\n",
       "      <th>4</th>\n",
       "    </tr>\n",
       "  </thead>\n",
       "  <tbody>\n",
       "    <tr>\n",
       "      <th>Unnamed: 0</th>\n",
       "      <td>NaN</td>\n",
       "      <td>NaN</td>\n",
       "      <td>NaN</td>\n",
       "      <td>NaN</td>\n",
       "      <td>NaN</td>\n",
       "    </tr>\n",
       "    <tr>\n",
       "      <th>Unnamed: 1</th>\n",
       "      <td>NaN</td>\n",
       "      <td>NaN</td>\n",
       "      <td>NaN</td>\n",
       "      <td>NaN</td>\n",
       "      <td>NaN</td>\n",
       "    </tr>\n",
       "    <tr>\n",
       "      <th>Unnamed: 2</th>\n",
       "      <td>NaN</td>\n",
       "      <td>NaN</td>\n",
       "      <td>NaN</td>\n",
       "      <td>NaN</td>\n",
       "      <td>NaN</td>\n",
       "    </tr>\n",
       "    <tr>\n",
       "      <th>Unnamed: 3</th>\n",
       "      <td>NaN</td>\n",
       "      <td>NaN</td>\n",
       "      <td>NaN</td>\n",
       "      <td>NaN</td>\n",
       "      <td>NaN</td>\n",
       "    </tr>\n",
       "    <tr>\n",
       "      <th>Unnamed: 4</th>\n",
       "      <td>NaN</td>\n",
       "      <td>NaN</td>\n",
       "      <td>NaN</td>\n",
       "      <td>NaN</td>\n",
       "      <td>NaN</td>\n",
       "    </tr>\n",
       "    <tr>\n",
       "      <th>Unnamed: 5</th>\n",
       "      <td>NaN</td>\n",
       "      <td>NaN</td>\n",
       "      <td>NaN</td>\n",
       "      <td>NaN</td>\n",
       "      <td>NaN</td>\n",
       "    </tr>\n",
       "    <tr>\n",
       "      <th>Unnamed: 6</th>\n",
       "      <td>NaN</td>\n",
       "      <td>NaN</td>\n",
       "      <td>NaN</td>\n",
       "      <td>NaN</td>\n",
       "      <td>NaN</td>\n",
       "    </tr>\n",
       "    <tr>\n",
       "      <th>Unnamed: 7</th>\n",
       "      <td>NaN</td>\n",
       "      <td>NaN</td>\n",
       "      <td>NaN</td>\n",
       "      <td>NaN</td>\n",
       "      <td>NaN</td>\n",
       "    </tr>\n",
       "    <tr>\n",
       "      <th>Unnamed: 8</th>\n",
       "      <td>NaN</td>\n",
       "      <td>NaN</td>\n",
       "      <td>NaN</td>\n",
       "      <td>NaN</td>\n",
       "      <td>NaN</td>\n",
       "    </tr>\n",
       "    <tr>\n",
       "      <th>Unnamed: 9</th>\n",
       "      <td>NaN</td>\n",
       "      <td>NaN</td>\n",
       "      <td>NaN</td>\n",
       "      <td>NaN</td>\n",
       "      <td>NaN</td>\n",
       "    </tr>\n",
       "    <tr>\n",
       "      <th>Unnamed: 10</th>\n",
       "      <td>NaN</td>\n",
       "      <td>NaN</td>\n",
       "      <td>NaN</td>\n",
       "      <td>NaN</td>\n",
       "      <td>NaN</td>\n",
       "    </tr>\n",
       "    <tr>\n",
       "      <th>Unnamed: 11</th>\n",
       "      <td>NaN</td>\n",
       "      <td>NaN</td>\n",
       "      <td>NaN</td>\n",
       "      <td>NaN</td>\n",
       "      <td>NaN</td>\n",
       "    </tr>\n",
       "    <tr>\n",
       "      <th>Unnamed: 12</th>\n",
       "      <td>NaN</td>\n",
       "      <td>NaN</td>\n",
       "      <td>NaN</td>\n",
       "      <td>NaN</td>\n",
       "      <td>NaN</td>\n",
       "    </tr>\n",
       "    <tr>\n",
       "      <th>Unnamed: 13</th>\n",
       "      <td>NaN</td>\n",
       "      <td>NaN</td>\n",
       "      <td>NaN</td>\n",
       "      <td>NaN</td>\n",
       "      <td>NaN</td>\n",
       "    </tr>\n",
       "    <tr>\n",
       "      <th>Unnamed: 14</th>\n",
       "      <td>NaN</td>\n",
       "      <td>NaN</td>\n",
       "      <td>NaN</td>\n",
       "      <td>NaN</td>\n",
       "      <td>NaN</td>\n",
       "    </tr>\n",
       "    <tr>\n",
       "      <th>Unnamed: 15</th>\n",
       "      <td>NaN</td>\n",
       "      <td>NaN</td>\n",
       "      <td>NaN</td>\n",
       "      <td>NaN</td>\n",
       "      <td>NaN</td>\n",
       "    </tr>\n",
       "    <tr>\n",
       "      <th>Unnamed: 16</th>\n",
       "      <td>NaN</td>\n",
       "      <td>NaN</td>\n",
       "      <td>NaN</td>\n",
       "      <td>NaN</td>\n",
       "      <td>NaN</td>\n",
       "    </tr>\n",
       "    <tr>\n",
       "      <th>Unnamed: 17</th>\n",
       "      <td>NaN</td>\n",
       "      <td>NaN</td>\n",
       "      <td>NaN</td>\n",
       "      <td>NaN</td>\n",
       "      <td>NaN</td>\n",
       "    </tr>\n",
       "    <tr>\n",
       "      <th>Unnamed: 18</th>\n",
       "      <td>NaN</td>\n",
       "      <td>NaN</td>\n",
       "      <td>NaN</td>\n",
       "      <td>NaN</td>\n",
       "      <td>NaN</td>\n",
       "    </tr>\n",
       "    <tr>\n",
       "      <th>Unnamed: 19</th>\n",
       "      <td>NaN</td>\n",
       "      <td>NaN</td>\n",
       "      <td>NaN</td>\n",
       "      <td>NaN</td>\n",
       "      <td>NaN</td>\n",
       "    </tr>\n",
       "    <tr>\n",
       "      <th>Unnamed: 20</th>\n",
       "      <td>NaN</td>\n",
       "      <td>NaN</td>\n",
       "      <td>NaN</td>\n",
       "      <td>NaN</td>\n",
       "      <td>NaN</td>\n",
       "    </tr>\n",
       "    <tr>\n",
       "      <th>Unnamed: 21</th>\n",
       "      <td>NaN</td>\n",
       "      <td>NaN</td>\n",
       "      <td>NaN</td>\n",
       "      <td>NaN</td>\n",
       "      <td>NaN</td>\n",
       "    </tr>\n",
       "    <tr>\n",
       "      <th>Unnamed: 22</th>\n",
       "      <td>NaN</td>\n",
       "      <td>NaN</td>\n",
       "      <td>NaN</td>\n",
       "      <td>NaN</td>\n",
       "      <td>NaN</td>\n",
       "    </tr>\n",
       "    <tr>\n",
       "      <th>Unnamed: 23</th>\n",
       "      <td>NaN</td>\n",
       "      <td>NaN</td>\n",
       "      <td>NaN</td>\n",
       "      <td>NaN</td>\n",
       "      <td>NaN</td>\n",
       "    </tr>\n",
       "    <tr>\n",
       "      <th>Unnamed: 24</th>\n",
       "      <td>NaN</td>\n",
       "      <td>NaN</td>\n",
       "      <td>NaN</td>\n",
       "      <td>NaN</td>\n",
       "      <td>NaN</td>\n",
       "    </tr>\n",
       "    <tr>\n",
       "      <th>Unnamed: 25</th>\n",
       "      <td>NaN</td>\n",
       "      <td>NaN</td>\n",
       "      <td>NaN</td>\n",
       "      <td>NaN</td>\n",
       "      <td>NaN</td>\n",
       "    </tr>\n",
       "    <tr>\n",
       "      <th>Unnamed: 26</th>\n",
       "      <td>NaN</td>\n",
       "      <td>NaN</td>\n",
       "      <td>NaN</td>\n",
       "      <td>NaN</td>\n",
       "      <td>NaN</td>\n",
       "    </tr>\n",
       "    <tr>\n",
       "      <th>Unnamed: 27</th>\n",
       "      <td>NaN</td>\n",
       "      <td>NaN</td>\n",
       "      <td>NaN</td>\n",
       "      <td>NaN</td>\n",
       "      <td>NaN</td>\n",
       "    </tr>\n",
       "    <tr>\n",
       "      <th>Unnamed: 28</th>\n",
       "      <td>NaN</td>\n",
       "      <td>NaN</td>\n",
       "      <td>NaN</td>\n",
       "      <td>NaN</td>\n",
       "      <td>NaN</td>\n",
       "    </tr>\n",
       "    <tr>\n",
       "      <th>Unnamed: 29</th>\n",
       "      <td>NaN</td>\n",
       "      <td>NaN</td>\n",
       "      <td>NaN</td>\n",
       "      <td>NaN</td>\n",
       "      <td>NaN</td>\n",
       "    </tr>\n",
       "    <tr>\n",
       "      <th>Unnamed: 30</th>\n",
       "      <td>NaN</td>\n",
       "      <td>NaN</td>\n",
       "      <td>NaN</td>\n",
       "      <td>NaN</td>\n",
       "      <td>NaN</td>\n",
       "    </tr>\n",
       "    <tr>\n",
       "      <th>Unnamed: 31</th>\n",
       "      <td>NaN</td>\n",
       "      <td>NaN</td>\n",
       "      <td>NaN</td>\n",
       "      <td>NaN</td>\n",
       "      <td>NaN</td>\n",
       "    </tr>\n",
       "    <tr>\n",
       "      <th>Unnamed: 32</th>\n",
       "      <td>NaN</td>\n",
       "      <td>NaN</td>\n",
       "      <td>NaN</td>\n",
       "      <td>NaN</td>\n",
       "      <td>NaN</td>\n",
       "    </tr>\n",
       "    <tr>\n",
       "      <th>Unnamed: 33</th>\n",
       "      <td>NaN</td>\n",
       "      <td>NaN</td>\n",
       "      <td>NaN</td>\n",
       "      <td>NaN</td>\n",
       "      <td>NaN</td>\n",
       "    </tr>\n",
       "    <tr>\n",
       "      <th>Unnamed: 34</th>\n",
       "      <td>NaN</td>\n",
       "      <td>NaN</td>\n",
       "      <td>NaN</td>\n",
       "      <td>NaN</td>\n",
       "      <td>NaN</td>\n",
       "    </tr>\n",
       "    <tr>\n",
       "      <th>Unnamed: 35</th>\n",
       "      <td>NaN</td>\n",
       "      <td>NaN</td>\n",
       "      <td>NaN</td>\n",
       "      <td>NaN</td>\n",
       "      <td>NaN</td>\n",
       "    </tr>\n",
       "    <tr>\n",
       "      <th>Unnamed: 36</th>\n",
       "      <td>NaN</td>\n",
       "      <td>NaN</td>\n",
       "      <td>NaN</td>\n",
       "      <td>NaN</td>\n",
       "      <td>NaN</td>\n",
       "    </tr>\n",
       "    <tr>\n",
       "      <th>Unnamed: 37</th>\n",
       "      <td>NaN</td>\n",
       "      <td>NaN</td>\n",
       "      <td>NaN</td>\n",
       "      <td>NaN</td>\n",
       "      <td>NaN</td>\n",
       "    </tr>\n",
       "    <tr>\n",
       "      <th>Unnamed: 38</th>\n",
       "      <td>NaN</td>\n",
       "      <td>NaN</td>\n",
       "      <td>NaN</td>\n",
       "      <td>NaN</td>\n",
       "      <td>NaN</td>\n",
       "    </tr>\n",
       "    <tr>\n",
       "      <th>Unnamed: 39</th>\n",
       "      <td>NaN</td>\n",
       "      <td>NaN</td>\n",
       "      <td>NaN</td>\n",
       "      <td>NaN</td>\n",
       "      <td>NaN</td>\n",
       "    </tr>\n",
       "    <tr>\n",
       "      <th>Unnamed: 40</th>\n",
       "      <td>NaN</td>\n",
       "      <td>NaN</td>\n",
       "      <td>NaN</td>\n",
       "      <td>NaN</td>\n",
       "      <td>NaN</td>\n",
       "    </tr>\n",
       "    <tr>\n",
       "      <th>Unnamed: 41</th>\n",
       "      <td>NaN</td>\n",
       "      <td>NaN</td>\n",
       "      <td>NaN</td>\n",
       "      <td>NaN</td>\n",
       "      <td>NaN</td>\n",
       "    </tr>\n",
       "    <tr>\n",
       "      <th>Unnamed: 42</th>\n",
       "      <td>NaN</td>\n",
       "      <td>NaN</td>\n",
       "      <td>NaN</td>\n",
       "      <td>NaN</td>\n",
       "      <td>NaN</td>\n",
       "    </tr>\n",
       "    <tr>\n",
       "      <th>Unnamed: 43</th>\n",
       "      <td>NaN</td>\n",
       "      <td>NaN</td>\n",
       "      <td>NaN</td>\n",
       "      <td>NaN</td>\n",
       "      <td>NaN</td>\n",
       "    </tr>\n",
       "    <tr>\n",
       "      <th>Unnamed: 44</th>\n",
       "      <td>NaN</td>\n",
       "      <td>NaN</td>\n",
       "      <td>NaN</td>\n",
       "      <td>NaN</td>\n",
       "      <td>NaN</td>\n",
       "    </tr>\n",
       "    <tr>\n",
       "      <th>Unnamed: 45</th>\n",
       "      <td>NaN</td>\n",
       "      <td>NaN</td>\n",
       "      <td>NaN</td>\n",
       "      <td>NaN</td>\n",
       "      <td>NaN</td>\n",
       "    </tr>\n",
       "    <tr>\n",
       "      <th>Unnamed: 46</th>\n",
       "      <td>NaN</td>\n",
       "      <td>NaN</td>\n",
       "      <td>NaN</td>\n",
       "      <td>NaN</td>\n",
       "      <td>NaN</td>\n",
       "    </tr>\n",
       "    <tr>\n",
       "      <th>Unnamed: 47</th>\n",
       "      <td>NaN</td>\n",
       "      <td>NaN</td>\n",
       "      <td>NaN</td>\n",
       "      <td>NaN</td>\n",
       "      <td>NaN</td>\n",
       "    </tr>\n",
       "  </tbody>\n",
       "</table>\n",
       "</div>"
      ],
      "text/plain": [
       "               0    1    2    3    4\n",
       "Unnamed: 0   NaN  NaN  NaN  NaN  NaN\n",
       "Unnamed: 1   NaN  NaN  NaN  NaN  NaN\n",
       "Unnamed: 2   NaN  NaN  NaN  NaN  NaN\n",
       "Unnamed: 3   NaN  NaN  NaN  NaN  NaN\n",
       "Unnamed: 4   NaN  NaN  NaN  NaN  NaN\n",
       "Unnamed: 5   NaN  NaN  NaN  NaN  NaN\n",
       "Unnamed: 6   NaN  NaN  NaN  NaN  NaN\n",
       "Unnamed: 7   NaN  NaN  NaN  NaN  NaN\n",
       "Unnamed: 8   NaN  NaN  NaN  NaN  NaN\n",
       "Unnamed: 9   NaN  NaN  NaN  NaN  NaN\n",
       "Unnamed: 10  NaN  NaN  NaN  NaN  NaN\n",
       "Unnamed: 11  NaN  NaN  NaN  NaN  NaN\n",
       "Unnamed: 12  NaN  NaN  NaN  NaN  NaN\n",
       "Unnamed: 13  NaN  NaN  NaN  NaN  NaN\n",
       "Unnamed: 14  NaN  NaN  NaN  NaN  NaN\n",
       "Unnamed: 15  NaN  NaN  NaN  NaN  NaN\n",
       "Unnamed: 16  NaN  NaN  NaN  NaN  NaN\n",
       "Unnamed: 17  NaN  NaN  NaN  NaN  NaN\n",
       "Unnamed: 18  NaN  NaN  NaN  NaN  NaN\n",
       "Unnamed: 19  NaN  NaN  NaN  NaN  NaN\n",
       "Unnamed: 20  NaN  NaN  NaN  NaN  NaN\n",
       "Unnamed: 21  NaN  NaN  NaN  NaN  NaN\n",
       "Unnamed: 22  NaN  NaN  NaN  NaN  NaN\n",
       "Unnamed: 23  NaN  NaN  NaN  NaN  NaN\n",
       "Unnamed: 24  NaN  NaN  NaN  NaN  NaN\n",
       "Unnamed: 25  NaN  NaN  NaN  NaN  NaN\n",
       "Unnamed: 26  NaN  NaN  NaN  NaN  NaN\n",
       "Unnamed: 27  NaN  NaN  NaN  NaN  NaN\n",
       "Unnamed: 28  NaN  NaN  NaN  NaN  NaN\n",
       "Unnamed: 29  NaN  NaN  NaN  NaN  NaN\n",
       "Unnamed: 30  NaN  NaN  NaN  NaN  NaN\n",
       "Unnamed: 31  NaN  NaN  NaN  NaN  NaN\n",
       "Unnamed: 32  NaN  NaN  NaN  NaN  NaN\n",
       "Unnamed: 33  NaN  NaN  NaN  NaN  NaN\n",
       "Unnamed: 34  NaN  NaN  NaN  NaN  NaN\n",
       "Unnamed: 35  NaN  NaN  NaN  NaN  NaN\n",
       "Unnamed: 36  NaN  NaN  NaN  NaN  NaN\n",
       "Unnamed: 37  NaN  NaN  NaN  NaN  NaN\n",
       "Unnamed: 38  NaN  NaN  NaN  NaN  NaN\n",
       "Unnamed: 39  NaN  NaN  NaN  NaN  NaN\n",
       "Unnamed: 40  NaN  NaN  NaN  NaN  NaN\n",
       "Unnamed: 41  NaN  NaN  NaN  NaN  NaN\n",
       "Unnamed: 42  NaN  NaN  NaN  NaN  NaN\n",
       "Unnamed: 43  NaN  NaN  NaN  NaN  NaN\n",
       "Unnamed: 44  NaN  NaN  NaN  NaN  NaN\n",
       "Unnamed: 45  NaN  NaN  NaN  NaN  NaN\n",
       "Unnamed: 46  NaN  NaN  NaN  NaN  NaN\n",
       "Unnamed: 47  NaN  NaN  NaN  NaN  NaN"
      ]
     },
     "execution_count": 42,
     "metadata": {},
     "output_type": "execute_result"
    }
   ],
   "source": [
    "pd.set_option('display.max_rows', 100)\n",
    "df.head().T"
   ]
  },
  {
   "cell_type": "code",
   "execution_count": 4,
   "metadata": {
    "ExecuteTime": {
     "end_time": "2021-03-08T08:55:06.219935Z",
     "start_time": "2021-03-08T08:55:06.209938Z"
    }
   },
   "outputs": [
    {
     "data": {
      "text/plain": [
       "(10, 48)"
      ]
     },
     "execution_count": 4,
     "metadata": {},
     "output_type": "execute_result"
    }
   ],
   "source": [
    "df.shape\n"
   ]
  },
  {
   "cell_type": "code",
   "execution_count": null,
   "metadata": {
    "ExecuteTime": {
     "end_time": "2021-02-26T05:15:31.481619Z",
     "start_time": "2021-02-26T05:15:31.385619Z"
    }
   },
   "outputs": [],
   "source": [
    "# Фрейм со статистикой по колонкам (для графиков)\n",
    "df_stat = df.agg(['min','max','count','nunique']).reset_index(drop=False)\n",
    "df_stat.rename(columns={'min':'Минимальный балл', 'max':'Максимальный балл', \n",
    "                      'count':'Всего', 'nunique' : 'Уникальных значений'})"
   ]
  },
  {
   "cell_type": "code",
   "execution_count": null,
   "metadata": {
    "ExecuteTime": {
     "end_time": "2021-02-26T05:17:29.142533Z",
     "start_time": "2021-02-26T05:17:29.114532Z"
    }
   },
   "outputs": [],
   "source": [
    "len(df['data'].sort_values().unique())\n",
    "df['data'].sort_values().unique()"
   ]
  },
  {
   "cell_type": "code",
   "execution_count": null,
   "metadata": {
    "ExecuteTime": {
     "end_time": "2021-02-26T05:18:03.420568Z",
     "start_time": "2021-02-26T05:18:03.410565Z"
    }
   },
   "outputs": [],
   "source": [
    "print('Число строк и колонок в таблице: ',df.shape)\n",
    "print('Типы данных в колонках:','\\n',df.dtypes)"
   ]
  },
  {
   "cell_type": "code",
   "execution_count": null,
   "metadata": {
    "ExecuteTime": {
     "end_time": "2021-02-26T05:20:59.226340Z",
     "start_time": "2021-02-26T05:20:59.205282Z"
    }
   },
   "outputs": [],
   "source": [
    "df_numeric = df.select_dtypes(include=[np.number])\n",
    "num_feat = df_numeric.columns.values\n",
    "print('Колонки с числовыми значениями:', '\\n', num_feat)"
   ]
  },
  {
   "cell_type": "code",
   "execution_count": null,
   "metadata": {
    "ExecuteTime": {
     "end_time": "2021-02-26T05:21:17.175121Z",
     "start_time": "2021-02-26T05:21:17.148110Z"
    }
   },
   "outputs": [],
   "source": [
    "df_non_numeric = df.select_dtypes(exclude=[np.number])\n",
    "cat_feat = df_non_numeric.columns.values\n",
    "print('Колонки с объектными значениями:', '\\n', cat_feat)"
   ]
  },
  {
   "cell_type": "code",
   "execution_count": null,
   "metadata": {
    "ExecuteTime": {
     "end_time": "2021-02-26T05:21:27.315519Z",
     "start_time": "2021-02-26T05:21:27.275532Z"
    }
   },
   "outputs": [],
   "source": [
    "print('Пропущенные значения в колонках:', '\\n',df.isnull().sum())"
   ]
  },
  {
   "cell_type": "code",
   "execution_count": null,
   "metadata": {
    "ExecuteTime": {
     "end_time": "2021-02-26T05:21:37.768240Z",
     "start_time": "2021-02-26T05:21:37.681249Z"
    },
    "scrolled": true
   },
   "outputs": [],
   "source": [
    "print('Пропущенные значения в колонках в %:', '\\n', 100 * (df.isna().sum()[df.isna().sum() > 0] / len(df)))"
   ]
  },
  {
   "cell_type": "code",
   "execution_count": null,
   "metadata": {
    "ExecuteTime": {
     "end_time": "2021-02-26T05:22:17.169131Z",
     "start_time": "2021-02-26T05:22:13.496093Z"
    }
   },
   "outputs": [],
   "source": [
    "# Проверка на недостающие значения\n",
    "pd.DataFrame(df.isnull().sum()).plot.line().set_title(\n",
    "    \"Number of missing values in the given features\")\n",
    "# Тепловая карта пропущенных значений\n",
    "sns.heatmap(df.isnull(), cbar=False).set_title(\"Missing values heatmap\")\n",
    "print('Число строк в фрейме: {0}'.format(len(df)))\n",
    "print('Число строк без пропущенных значений: {0}'.format(\n",
    "    len(df.dropna(how='any'))))"
   ]
  },
  {
   "cell_type": "code",
   "execution_count": null,
   "metadata": {
    "ExecuteTime": {
     "end_time": "2021-02-01T11:34:13.499088Z",
     "start_time": "2021-02-01T11:34:12.486086Z"
    },
    "code_folding": [],
    "run_control": {
     "marked": false
    }
   },
   "outputs": [],
   "source": [
    "# import cufflinks as cf\n",
    "# cf.go_offline()\n",
    "# cf.set_config_file(offline=False, world_readable=True)\n",
    "\n",
    "# Построение гистограмм для всех колонок\n",
    "def show_hist(df):\n",
    "    for col in df.columns:\n",
    "        df[col].iplot(kind='hist', title=col)\n",
    "\n",
    "\n",
    "show_hist(df)"
   ]
  },
  {
   "cell_type": "code",
   "execution_count": null,
   "metadata": {},
   "outputs": [],
   "source": [
    "# Выделяем числовые колонки в отдельную группу, получаем список заголовков колонок\n",
    "num_feat = [x for x in comb.columns if comb[x].dtype !=\"object\"]\n",
    "num_feat.remove(\"Id\")\n",
    "\n",
    "# Выделяем категориальные колонки в отдельную группу\n",
    "cat_feat = [x for x in comb.columns if comb[x].dtype == \"object\"]"
   ]
  },
  {
   "cell_type": "code",
   "execution_count": null,
   "metadata": {},
   "outputs": [],
   "source": [
    "# Графический анализ числовых колонок\n",
    "df[num_feat].hist(figsize=(20,12));\n",
    "\n",
    "# pairplot - на диагонали распределение признаков, а вне - диаграммы рассеяния для пар признаков\n",
    "sns.pairplot(df[num_feat + ['Y']], hue='Y');\n",
    "\n",
    "# Для сравнения нескольких групп лучше использовать box-plot. Усы - 1,5 межквартиля. Outlies - 3. Extremes - дальше.\n",
    "# boxplot-ы, описывающее статистики распределения параметров для бинарного отклика (важно для задач классификации)\n",
    "fig, axes = plt.subplots(nrows=3, ncols=4, figsize=(16, 10))\n",
    "for idx, feat in  enumerate(num_feat):\n",
    "    sns.boxplot(x='y', y=feat, data=df, ax=axes[idx / 4, idx % 4])\n",
    "    axes[idx / 4, idx % 4].legend()\n",
    "    axes[idx / 4, idx % 4].set_xlabel('y')\n",
    "    axes[idx / 4, idx % 4].set_ylabel(feat);"
   ]
  },
  {
   "cell_type": "code",
   "execution_count": null,
   "metadata": {
    "code_folding": [
     0
    ]
   },
   "outputs": [],
   "source": [
    "# Анализ пропущенных значений\n",
    "# Тепловаая карта\n",
    "sns.heatmap(comb[comb.columns].isnull(), cmap=sns.color_palette(\n",
    "    ['#000099', '#ffff00']))  # желтый - пропущенные данные\n",
    "\n",
    "# Матрица\n",
    "missingno.matrix(comb[num_feat], figsize=(20, 4))\n",
    "\n",
    "# График в процентах\n",
    "cat_missing = comb[cat_feat].isna().sum()\n",
    "cat_missing = 100 * (cat_missing[cat_missing > 0] / len(comb[cat_feat]))\n",
    "\n",
    "plt.figure(figsize=(10, 5))\n",
    "sns.barplot(x=cat_missing.sort_values(ascending=False).values,\n",
    "            y=cat_missing.sort_values(ascending=False).index)\n",
    "plt.title(\"Пропущенные значения в колонках, в %\")"
   ]
  },
  {
   "cell_type": "code",
   "execution_count": null,
   "metadata": {},
   "outputs": [],
   "source": [
    "# Статистика по колонке\n",
    "pd.DataFrame(df.Data.describe())\n",
    "df['data'].value_counts()\n",
    "df.sort_values(by=['data', 'data1'], ascending=[True, False]).head()\n",
    "df['data'].tolist()\n",
    "\n",
    "def describe_df(df):\n",
    "    stats_df = df.describe()\n",
    "    stats_df.append(pd.Series(df.isna().any(), name='nans'))\n",
    "    return stats_df"
   ]
  },
  {
   "cell_type": "code",
   "execution_count": null,
   "metadata": {},
   "outputs": [],
   "source": [
    "# Проверка уникальных значений в колонке\n",
    "print(df.Data.unique())"
   ]
  },
  {
   "cell_type": "code",
   "execution_count": null,
   "metadata": {
    "ExecuteTime": {
     "end_time": "2021-02-25T13:44:34.045722Z",
     "start_time": "2021-02-25T13:44:34.003682Z"
    }
   },
   "outputs": [],
   "source": [
    "# Поиск суммы значений data1 для уникальных параметров в колонке data\n",
    "df[['data', 'data1']].groupby('data').sum().head()"
   ]
  },
  {
   "cell_type": "code",
   "execution_count": null,
   "metadata": {},
   "outputs": [],
   "source": [
    "# Агрегирование. Подсчет количества записей и значений параметров\n",
    "df.groupby('data').count()\n",
    "df.groupby(['data', 'data1'], as_index=False)['y'].agg(['sum', 'count']).sort_values(by='sum', ascending=False).head(10)\n",
    "df.groupby('data', as_index=False)['data1'].count().sort_values(ascending=False).head(5)"
   ]
  },
  {
   "cell_type": "code",
   "execution_count": null,
   "metadata": {},
   "outputs": [],
   "source": [
    "#Анализ объектов в колонке. Выделение уникальных, сплит по знакам и выделение в отдельную колонку \n",
    "df['data_new'] = df.Data.apply(lambda name: name.split(',')[1].split('.')[0].strip()) \n",
    "df.Data.nunique()"
   ]
  },
  {
   "cell_type": "code",
   "execution_count": null,
   "metadata": {},
   "outputs": [],
   "source": [
    "# Среднее значение для предиктора, если второй предиктор имеет заданное значение\n",
    "df[df['data'] == param]['data1'].mean()\n",
    "df[(df['data'] == 0) & (df['data1'] == 'no')]['data2'].mean()"
   ]
  },
  {
   "cell_type": "code",
   "execution_count": null,
   "metadata": {},
   "outputs": [],
   "source": [
    "# Создание и применение фильтра для фрейма\n",
    "filter_large = df['data'] > 300\n",
    "loyal = df['data'] == 0\n",
    "df.loc[filter_large & loyal]\n",
    "\n",
    "cust_filter = 'param'\n",
    "od.query('data == @param')"
   ]
  },
  {
   "cell_type": "code",
   "execution_count": null,
   "metadata": {},
   "outputs": [],
   "source": [
    "# Фильтры и статистика по предикторам, в зависимости от сзначений отклика\n",
    "columns_to_show = ['data', 'data1', 'data2']\n",
    "df.groupby(['y'])[columns_to_show].describe(percentiles =[])\n",
    "df.groupby(['y'])[columns_to_show].agg([np.mean, np.max, np.std, np.min])"
   ]
  },
  {
   "cell_type": "code",
   "execution_count": null,
   "metadata": {
    "ExecuteTime": {
     "end_time": "2021-02-03T06:30:56.884371Z",
     "start_time": "2021-02-03T06:30:56.706373Z"
    }
   },
   "outputs": [],
   "source": [
    "# График по целевой колонке\n",
    "fig, ax = plt.subplots(figsize=(10,4))\n",
    "sns.distplot(df['data'], bins=30, kde=True, ax=ax)\n",
    "\n",
    "#  График логарифма\n",
    "df['data'] = np.log1p(df['data'])"
   ]
  },
  {
   "cell_type": "code",
   "execution_count": null,
   "metadata": {},
   "outputs": [],
   "source": [
    "# Выделение нового предиктора на основе произвольных действий с другими\n",
    "df['Rich'] = (df['Salary'] > df['Salary'].quantile(.75)).astype(int) #Верхняя четверть богатых"
   ]
  },
  {
   "cell_type": "code",
   "execution_count": null,
   "metadata": {},
   "outputs": [],
   "source": [
    "# средние показатели предикторов, сгруппированных для другого\n",
    "df.groupby(['Gender'])[['HouseSize', 'Age', 'Salary']].agg(np.median)"
   ]
  },
  {
   "cell_type": "code",
   "execution_count": null,
   "metadata": {},
   "outputs": [],
   "source": [
    "# Выборка для всего фрейма, ограниченная по заданным параметрам одного из предикторов(например, только топ-5 значений)\n",
    "a = df[df['Age'].isin(df['Age'].value_counts().head().index)]\n",
    "sns.countplot(a['Age']);"
   ]
  },
  {
   "cell_type": "code",
   "execution_count": null,
   "metadata": {},
   "outputs": [],
   "source": [
    "# общий график значений по колонке и связь предиктора с откликом\n",
    "fig = plt.figure(figsize=(24,15))\n",
    "\n",
    "plt.subplot(4,3,1)\n",
    "sns.distplot(comb[\"data\"])\n",
    "\n",
    "plt.subplot(4,3,2)\n",
    "sns.scatterplot(x=\"data\", y=\"y\", data=comb)"
   ]
  },
  {
   "cell_type": "code",
   "execution_count": null,
   "metadata": {
    "ExecuteTime": {
     "end_time": "2021-02-03T06:38:57.813457Z",
     "start_time": "2021-02-03T06:38:57.746476Z"
    }
   },
   "outputs": [],
   "source": [
    "# Описание числовых колонок\n",
    "df.drop(\"Id\", axis=1).describe(include=['number']).T"
   ]
  },
  {
   "cell_type": "code",
   "execution_count": null,
   "metadata": {},
   "outputs": [],
   "source": [
    "# График кросстаблицы и сравнения предикторов и отклика\n",
    "pd.crosstab(df['y'], df['data'], normalize=True, margins=True)\n",
    "df.pivot_table(['data', 'data1', 'data2'], ['data3'], aggfunc='mean').head(10)"
   ]
  },
  {
   "cell_type": "code",
   "execution_count": null,
   "metadata": {},
   "outputs": [],
   "source": [
    "# Plot распределение предикторов во всех числовых колонках\n",
    "\n",
    "fig = plt.figure(figsize=(20,20))\n",
    "\n",
    "for i in range(len(num_feat)):\n",
    "    plt.subplot(14,5, i+1)\n",
    "    sns.distplot(comb[num_feat[i]], rug=True, hist=False, kde_kws={'bw':0.1})\n",
    "    plt.title(num_feat[i])\n",
    "    plt.xlabel(\"Value\")\n",
    "    plt.ylabel(\"Count\")\n",
    "    plt.tight_layout()\n",
    "fig.show()"
   ]
  },
  {
   "cell_type": "code",
   "execution_count": null,
   "metadata": {},
   "outputs": [],
   "source": [
    "# plot распределение в категориальных колонках\n",
    "fig = plt.figure(figsize=(18, 30))\n",
    "\n",
    "for i , col in enumerate(cat_feat):\n",
    "    plt.subplot(12,5, i+1)\n",
    "    sns.boxplot(x=col, y='y', data=df)\n",
    "    plt.ylabel(\"Log() Y\")\n",
    "    plt.tight_layout()\n",
    "    \n",
    "fig.show()"
   ]
  },
  {
   "cell_type": "code",
   "execution_count": null,
   "metadata": {},
   "outputs": [],
   "source": [
    "# Сведение данных к более крупным новым блокам\n",
    "df['data'] = pd.cut(df.Data, 4)"
   ]
  },
  {
   "cell_type": "code",
   "execution_count": null,
   "metadata": {},
   "outputs": [],
   "source": [
    "# Проверка на корреляцию всех числовых колонок\n",
    "df.corr()\n",
    "corr_matrix = df[num_feat].corr()\n",
    "plt.figure(figsize=(16,12))\n",
    "sns.heatmap(corr_matrix.T, annot=True, cbar=False, cmap='coolwarm');\n",
    "\n",
    "# Отдельно выделяем все, что выше 0.8\n",
    "corr_matrix = df[num_feat].corr()\n",
    "plt.figure(figsize=(12,12))\n",
    "sns.heatmap(corr_matrix.T, annot=True, mask= corr_matrix < 0.8 ,cbar=False, cmap='coolwarm');"
   ]
  },
  {
   "cell_type": "code",
   "execution_count": null,
   "metadata": {},
   "outputs": [],
   "source": [
    "#Выбор наибольших строк с наибольшими параметрами в колонке\n",
    "df.nlargest(3,'data') #Обратный метод - .nsmallest"
   ]
  },
  {
   "cell_type": "code",
   "execution_count": null,
   "metadata": {},
   "outputs": [],
   "source": [
    "# График зависимости отклика от каждого из предикторов в числовых колонках\n",
    "fig = plt.figure(figsize=(20,20))\n",
    "\n",
    "for i, col in enumerate(comb[num_feat].columns):\n",
    "    plt.subplot(12,5, i+1) #Размеры графиков и их координаты на фигуре\n",
    "    sns.scatterplot(x=comb[col], y=df['y']) \n",
    "    plt.tight_layout() #Автоматическое расположение графиков на фигуре\n",
    "    \n",
    "fig.show()"
   ]
  },
  {
   "cell_type": "code",
   "execution_count": null,
   "metadata": {},
   "outputs": [],
   "source": [
    "#Повернем фрейм, разбив один столбец на несколько, в зависимости от значений, все объекты выровнены по дате\n",
    "pivoted_df = df.pivot(index='Date', columns='Code', values='VWAP')"
   ]
  },
  {
   "cell_type": "code",
   "execution_count": null,
   "metadata": {},
   "outputs": [],
   "source": [
    "#Метод if-then. Если условия соблюдены, то производит действия над переменными в фрейме\n",
    "df.mask(df % 2 == 0, -df) #В данном случае если число четное, то знак меняется на противоположный"
   ]
  },
  {
   "cell_type": "code",
   "execution_count": null,
   "metadata": {},
   "outputs": [],
   "source": [
    "# кросс-таблица (таблица сопряжённости)\n",
    "pd.crosstab(df['data'], df['data1'])"
   ]
  },
  {
   "cell_type": "code",
   "execution_count": null,
   "metadata": {},
   "outputs": [],
   "source": [
    "# Разбиение переменных на категории и выделение в новый столбец\n",
    "df['data_new'] = pd.cut(df['data'], bins=[0, 7.90, 14.45, 31.28, 120], labels=[\n",
    "                        'Low', 'Mid', 'High_Mid', 'High'])"
   ]
  },
  {
   "cell_type": "code",
   "execution_count": null,
   "metadata": {},
   "outputs": [],
   "source": [
    "# Средние показатель выборки по определенному параметру\n",
    "df[df['data'] == 1]['data1'].mean()\n",
    "\n",
    "# Условие может быть составным\n",
    "df[(df['data'] == 1) & (df['data1'] == \"male\")]['data2'].mean()"
   ]
  },
  {
   "cell_type": "code",
   "execution_count": null,
   "metadata": {},
   "outputs": [],
   "source": [
    "# Выборка всех строк из фрейма по конкретному параметру в колонке\n",
    "grouped = df.groupby('Data').get_group('param')"
   ]
  },
  {
   "cell_type": "code",
   "execution_count": null,
   "metadata": {},
   "outputs": [],
   "source": [
    "# Выбираем из матрицы интересующую нас ячейку\n",
    "first_patient = df.loc[0, 'data']"
   ]
  },
  {
   "cell_type": "code",
   "execution_count": null,
   "metadata": {},
   "outputs": [],
   "source": [
    "# Выбираем срез из матрицы по интересующим нас колонкам\n",
    "df.loc[:10, [\"data1\", \"data2\"]]"
   ]
  },
  {
   "cell_type": "code",
   "execution_count": null,
   "metadata": {
    "code_folding": []
   },
   "outputs": [],
   "source": [
    "# Строим график по распределению значений в колонке\n",
    "(df.Data.value_counts(normalize=True) * 100).plot.barh().set_title(\n",
    "    \"Training Data - Percentage of people survived and Deceased\")"
   ]
  },
  {
   "cell_type": "code",
   "execution_count": null,
   "metadata": {},
   "outputs": [],
   "source": [
    "# Строим картинку\n",
    "df['Survived'].value_counts().plot(kind='bar')\n",
    "# Добавляем подпись\n",
    "plt.title(u'Число юзеров')\n",
    "plt.xticks([0, 1], ['Нет', 'Да'], rotation=None)\n",
    "plt.text(-0.1, 275, '61.5%', fontsize=15, color='silver')\n",
    "plt.text(0.9, 150, '38.5%', fontsize=15, color='silver')"
   ]
  },
  {
   "cell_type": "code",
   "execution_count": null,
   "metadata": {},
   "outputs": [],
   "source": [
    "# Круговая диаграмма.\n",
    "ax.get_figure().suptitle('')  # Исправить наезжающие заголовки графика\n",
    "# Чтобы подписи к картинкам отображались корректно по-русски\n",
    "matplotlib.rc('font', family='Arial')\n",
    "\n",
    "fig, ax = plt.subplots(1)\n",
    "df['data'].value_counts().plot(kind='pie', labels=['', ''],\n",
    "                               ax=ax, autopct='%.2f%%', fontsize=15)\n",
    "ax.set_title(u'title')\n",
    "ax.axis('equal')\n",
    "ax.legend(labels=[u'param', u'param2'], framealpha=0)\n",
    "ax.set_ylabel('')\n",
    "plt.tight_layout()"
   ]
  },
  {
   "cell_type": "code",
   "execution_count": null,
   "metadata": {},
   "outputs": [],
   "source": [
    "# Countplot - распределение значений внутри предиктора по параметрам второго предиктора\n",
    "sns.countplot(y='data', hue='data1', data=df)"
   ]
  },
  {
   "cell_type": "code",
   "execution_count": null,
   "metadata": {},
   "outputs": [],
   "source": [
    "# Выбор топ-5 параметров из предиктора\n",
    "top_data = df.Data.value_counts().sort_values(ascending = False).head(5).index.values\n",
    "\n",
    "# График бокс-плота топа предиктора для отклика\n",
    "sns.boxplot(y='data', x='y', data=df[df.Data.isin(top_data)], orient = 'h')"
   ]
  },
  {
   "cell_type": "code",
   "execution_count": null,
   "metadata": {},
   "outputs": [],
   "source": [
    "# Круговая диаграмма распределения значений в колонке\n",
    "df.Data.value_counts().plot.pie().legend(labels=[\"Class 3\", \"Class 1\", \"Class 2\"],\n",
    "                                         loc='center right',\n",
    "                                         bbox_to_anchor=(2.25, 0.5)\n",
    "                                         ).set_title(\"Training Data - People travelling in different classes\")"
   ]
  },
  {
   "cell_type": "code",
   "execution_count": null,
   "metadata": {},
   "outputs": [],
   "source": [
    "# График сравнения значений в колонках по дополнительному признаку из другой колонки. В процентах\n",
    "\n",
    "data1 = round((df[df.Data == 1].Data4 == 1).value_counts()\n",
    "              [1]/len(df[df.Data == 1]) * 100, 2)\n",
    "data2 = round((df[df.Data == 2].Data4 == 1).value_counts()\n",
    "              [1]/len(df[df.Data == 2]) * 100, 2)\n",
    "data3 = round((df[df.Data == 3].Data4 == 1).value_counts()\n",
    "              [1]/len(df[df.Data == 3]) * 100, 2)\n",
    "pclass_perc_df = pd.DataFrame(\n",
    "    {\"Percentage Data4\": {\"Class 1\": data1, \"Class 2\": data2, \"Class 3\": data3},\n",
    "     \"Percentage Not Data4\": {\"Class 1\": 100-data1, \"Class 2\": 100-data2, \"Class 3\": 100-data3}})\n",
    "pclass_perc_df.plot.bar().set_title(\n",
    "    \"Training Data - Percentage of Data4 for 3 other params in Data\")"
   ]
  },
  {
   "cell_type": "code",
   "execution_count": null,
   "metadata": {},
   "outputs": [],
   "source": [
    "# Вариант графика сравнения, две бинарных переменных\n",
    "df['data_new'] = pd.cut(df.Data, [0, 10, 20, 30, 40, 50, 60, 70, 80])\n",
    "sns.countplot(x=\"data_new\",\n",
    "              hue=\"data1\",\n",
    "              data=df,\n",
    "              palette=[\"C1\", \"C0\"]).legend(labels=[\"Да\", \"Нет\"]\n",
    "                                           )"
   ]
  },
  {
   "cell_type": "code",
   "execution_count": null,
   "metadata": {},
   "outputs": [],
   "source": [
    "# График распределения переменных по характеристике второй переменной\n",
    "for x in [1, 2, 3]:  # задаем число классов\n",
    "    df.Data[df.data1 == x].plot(kind=\"kde\")\n",
    "plt.title(\"title\")\n",
    "plt.legend((\"1st\", \"2nd\", \"3rd\"))"
   ]
  },
  {
   "cell_type": "code",
   "execution_count": null,
   "metadata": {},
   "outputs": [],
   "source": [
    "# Вариант графика сравнения, две бинарных переменных\n",
    "sns.distplot(df['data'].dropna(),\n",
    "             color='darkgreen',\n",
    "             bins=30\n",
    "             )"
   ]
  },
  {
   "cell_type": "code",
   "execution_count": null,
   "metadata": {},
   "outputs": [],
   "source": [
    "# Тепловая карта суммарных значений параметров двух предикторов для отклика\n",
    "platform_genre_sales = df.pivot_table(\n",
    "                        index='data',\n",
    "                        columns='data1',\n",
    "                        values='y',\n",
    "                        aggfunc=sum).fillna(0).applymap(float)\n",
    "sns.heatmap(platform_genre_sales, annot=True, fmt='.1f', linewidths=.4)\n",
    "\n",
    "#Определяем массив данных и задаем title графика в Layout\n",
    "data = [trace0, trace1]\n",
    "layout = {'title': 'Statistics of video games'}"
   ]
  },
  {
   "cell_type": "code",
   "execution_count": null,
   "metadata": {},
   "outputs": [],
   "source": [
    "# Временной ряд значений двух предикторов по отклику\n",
    "years_df = df.groupby('timedate')[['y']].sum().join(\n",
    "    df.groupby('timedate')[['data']].count())\n",
    "years_df.columns = ['y', 'data1']\n",
    "\n",
    "# создаем линию для первого предиктора\n",
    "trace0 = go.Scatter(x=years_df.index, y=years_df.Y, name='title')\n",
    "\n",
    "# создаем линию для второго предиктора\n",
    "trace1 = go.Scatter(x=years_df.index, y=years_df.Data1, name='title')\n",
    "\n",
    "#Определяем массив данных и задаем title графика в Layout\n",
    "data = [trace0, trace1]\n",
    "layout = {'title': 'Statistics'}\n",
    "\n",
    "# создаем объект Figure и визуализируем его\n",
    "fig = go.Figure(data=data, layout=layout)\n",
    "iplot(fig, show_link=False)\n",
    "\n",
    "#Можно открыть график в html файле\n",
    "plotly.offline.plot(fig, filename='years_stats.html', show_link=False)"
   ]
  },
  {
   "cell_type": "code",
   "execution_count": null,
   "metadata": {},
   "outputs": [],
   "source": [
    "# Box trace для каждого параметра из предиктора по значениям второго предиктора\n",
    "data = []\n",
    "for col in df.Data.unique():\n",
    "    data.append(\n",
    "        go.Box(y=df[df.Data==col].Data1, name=genre)\n",
    "    )\n",
    "\n",
    "iplot(data, show_link = False)"
   ]
  },
  {
   "cell_type": "code",
   "execution_count": null,
   "metadata": {},
   "outputs": [],
   "source": [
    "# Вероятностная гистограмма\n",
    "df['data'].hist(density=True, bins=60)\n",
    "# Сравнение гистограмм\n",
    "df.groupby('data')['data'].plot.hist(alpha=.6)\n",
    "plt.legend()"
   ]
  },
  {
   "cell_type": "code",
   "execution_count": null,
   "metadata": {},
   "outputs": [],
   "source": [
    "# Линейная гистограмма\n",
    "ss = pd.DataFrame()\n",
    "ss['survived'] = df.Data1\n",
    "ss['sibling_spouse'] = pd.cut(\n",
    "    df.Data2, [0, 1, 2, 3, 4, 5, 6, 7, 8], include_lowest=True)\n",
    "(ss.sibling_spouse.value_counts()).plot.area().set_title(\n",
    "    \"Training Data - Number of siblings or spouses vs survival count\")"
   ]
  },
  {
   "cell_type": "code",
   "execution_count": null,
   "metadata": {},
   "outputs": [],
   "source": [
    "# Проверка на тип тренда (линейный или нет), тип сезонности (аддитивный или мультипликативный), его длину, выбросы\n",
    "# Видим линейный тренд и мультипликативную сезонность. Это подтверждает логирафмирование цикла\n",
    "\n",
    "fig = plt.figure(figsize=(12, 4))\n",
    "ax1 = fig.add_subplot(121)\n",
    "df['data'].plot(ax=ax1)\n",
    "ax1.set_title(u'title')\n",
    "ax1.set_ylabel(u'label')\n",
    "\n",
    "ax2 = fig.add_subplot(122)\n",
    "pd.Series(np.log10(df['data'])).plot(ax=ax2)\n",
    "ax2.set_title(u'log10 от title')\n",
    "ax2.set_ylabel(u'log10 от label')"
   ]
  },
  {
   "cell_type": "code",
   "execution_count": null,
   "metadata": {},
   "outputs": [],
   "source": [
    "# Быстрая проверка по интересующим нас данным. Перебор -> результат\n",
    "age = df['data']\n",
    "age[age < 22].shape[0]"
   ]
  },
  {
   "cell_type": "code",
   "execution_count": null,
   "metadata": {},
   "outputs": [],
   "source": [
    "# В случае очевидного смешения двух нормальных распределений, можно оценить их более подробно\n",
    "df.groupby('data')['data1'].plot.hist(alpha=0.6)\n",
    "df.groupby('data')['data1'].plot.hist(density=True)  # Нормализованный вариант\n",
    "plt.legend(loc='upper left')"
   ]
  },
  {
   "cell_type": "code",
   "execution_count": null,
   "metadata": {},
   "outputs": [],
   "source": [
    "# Первый признак разбивает на классы, второй дает среднее значение параметра по группе\n",
    "df.groupby('data')['data1'].mean().round().plot(kind='bar')\n",
    "plt.ylabel('label')  \n",
    "plt.show()"
   ]
  },
  {
   "cell_type": "code",
   "execution_count": null,
   "metadata": {},
   "outputs": [],
   "source": [
    "# Матрица диаграмм рассеивания: комплексное сравнение по нескольким переменным. Диагональ - ядерная оценка плотности\n",
    "colors = {'genuine': 'green', 'counterfeit': 'red'}\n",
    "scatter_matrix(df,\n",
    "               figsize=(6, 6),  # размер картинки\n",
    "               diagonal='kde',  # плотность вместо гистограммы на диагонали\n",
    "               c=df['data'].replace(colors),  # цвета классов\n",
    "               alpha=0.2  # степень прозрачности точек\n",
    "               )"
   ]
  },
  {
   "cell_type": "code",
   "execution_count": null,
   "metadata": {},
   "outputs": [],
   "source": [
    "# Scatter плот для исследования пар числовых признаков\n",
    "plt.scatter(df['Sex'], df['Pclass'])\n",
    "# Для изучения совместного распределения двух числовых признаков\n",
    "sns.jointplot(x='height', y='weight', data=df)"
   ]
  },
  {
   "cell_type": "code",
   "execution_count": null,
   "metadata": {},
   "outputs": [],
   "source": [
    "# Для исследования трёх и более признаков сводные таблицы (pivot tables)\n",
    "# Index - признаки, по которым выполняется группировка. Values - признаки, по которым вычисляются значения функции\n",
    "df.pivot_table(values=['age', 'cardio'], index=[\n",
    "               'smoke', 'alco'], aggfunc='mean')"
   ]
  },
  {
   "cell_type": "code",
   "execution_count": null,
   "metadata": {},
   "outputs": [],
   "source": [
    "# График построенный на новом фрейме, созданном из колонок, выделенных по схожим названиям\n",
    "data_df = df[[x for x in df.columns if '_data' in x] + ['data1']]\n",
    "sales_df.groupby('data1').sum().plot()"
   ]
  },
  {
   "cell_type": "code",
   "execution_count": null,
   "metadata": {},
   "outputs": [],
   "source": [
    "# Анализ объектов в колонке. Выделение уникальных, сплит по знакам и выделение в отдельную колонку\n",
    "df['data_new'] = df.Data.apply(lambda name: name.split(',')[\n",
    "                               1].split('.')[0].strip())\n",
    "df.Data.nunique()\n",
    "\n",
    "# Построение облачного графика из объектов, где размер коррелирует с частотой\n",
    "wc = WordCloud(width=1000, height=450, background_color='white').generate(\n",
    "    str(df.Data_new.values))\n",
    "plt.imshow(wc, interpolation='bilinear')\n",
    "plt.axis('off')\n",
    "plt.tight_layout(pad=0)\n",
    "plt.show()\n",
    "\n",
    "df.Data_new.value_counts()"
   ]
  },
  {
   "cell_type": "code",
   "execution_count": null,
   "metadata": {},
   "outputs": [],
   "source": [
    "x = np.arange(0, 5, 0.1)\n",
    "\n",
    "\n",
    "def f(x):\n",
    "    return x**2\n",
    "\n",
    "\n",
    "def h(x):\n",
    "    return np.sin(x)\n",
    "\n",
    "\n",
    "def k(x):\n",
    "    return np.cos(x)\n",
    "\n",
    "\n",
    "def m(x):\n",
    "    return np.tan(x)\n",
    "\n",
    "\n",
    "fig = go.Figure()  # создаем фигуру\n",
    "fig = make_subplots(rows=2,  # Создание нескольких графиков на одной фигуре\n",
    "                    cols=2,  # Число колонок на фигуре\n",
    "                    column_widths=[1, 1],  # Пропорции размера графиков\n",
    "                    specs=[  # Указываем расположение графиков в фигуре\n",
    "                        # Указываем что первый график двойной. Чтобы объединить по гризонтали colspan\n",
    "                        [{'rowspan': 2}, {}],\n",
    "                        [None, {}]  # Выбрасываем нижнего соседа первого графика None\n",
    "                    ]\n",
    "                    )\n",
    "fig.update_yaxes(range=[-0.5, 2.5],  # Зум к определенному участку на графике\n",
    "                 zeroline=True,  # Рисует оси на графике\n",
    "                 zerolinewidth=2,\n",
    "                 zerolinecolor='LightPink',\n",
    "                 col=2  # Уточнение к какой колонке применять\n",
    "                 )\n",
    "fig.update_xaxes(range=[-0.5, 2.5], zeroline=True,\n",
    "                 zerolinewidth=2, zerolinecolor='#008000', col=2)\n",
    "fig.add_trace(go.Scatter(x=x,\n",
    "                         y=x**2,\n",
    "                         name='f(x)=x<sup>2</sup>',  # HTML в подписях\n",
    "                         mode='lines+markers'),\n",
    "              1,  # Координаты на фигуре, указывающие к какому графику принадлежат\n",
    "              2\n",
    "              )\n",
    "fig.add_trace(go.Scatter(x=x,\n",
    "                         y=x,\n",
    "                         name='g(x)=x',  # Метод графика с плавной линией\n",
    "                         mode='markers'\n",
    "                         ),\n",
    "              1,\n",
    "              2\n",
    "              )\n",
    "\n",
    "fig.add_trace(go.Scatter(visible='legendonly',  # Невидимый режим, показывается только при клике на легенду\n",
    "                         x=x,\n",
    "                         y=h(x),\n",
    "                         name='x=sin(x)'),\n",
    "              2,\n",
    "              2\n",
    "              )\n",
    "fig.add_trace(go.Scatter(visible='legendonly',\n",
    "                         x=x,\n",
    "                         y=m(x),\n",
    "                         name='x=tan(x)'),\n",
    "              1,\n",
    "              1\n",
    "              )\n",
    "fig.update_layout(legend_orientation='h',  # Смещение легенды под график\n",
    "                  # Убрать отступы вокруг графика\n",
    "                  margin=dict(l=0, r=0, t=30, b=0),\n",
    "                  # Смещение легенды по центру\n",
    "                  legend=dict(x=.5, xanchor=\"center\"),\n",
    "                  hovermode='x',  # Показывает одновременно все значения Y для точки Х\n",
    "                  title='Заголовок',\n",
    "                  xaxis_title='ось Х',\n",
    "                  yaxis_title='ось Y'\n",
    "                  )\n",
    "fig.update_traces(hoverinfo='all',  # Отображается значение подписи на курсоре. Например 'x+y'\n",
    "                  hovertemplate='Аргумент: %{x}<br>Функция: %{y}'\n",
    "                  )\n",
    "fig.update_xaxes(title='Ось Х графика 1', col=1, row=1)\n",
    "fig.update_yaxes(title='Ось Y графика 1', col=1, row=1)\n",
    "fig.update_xaxes(title='Ось Х графика 2', col=2, row=1)\n",
    "fig.update_yaxes(title='Ось Y графика 2', col=2, row=1)\n",
    "fig.update_xaxes(title='Ось Х графика 3', col=2, row=2)\n",
    "fig.update_yaxes(title='Ось Y графика 3', col=2, row=2)\n",
    "\n",
    "fig.show()"
   ]
  },
  {
   "cell_type": "code",
   "execution_count": null,
   "metadata": {},
   "outputs": [],
   "source": [
    "# t-distributed Stohastic Neighbor Embedding - отображение из многомерного признакового пространства на плоскость\n",
    "from sklearn.manifold import TSNE\n",
    "from sklearn.preprocessing import StandardScaler\n",
    "\n",
    "# преобразуем все признаки в числовые, выкинув номинальные\n",
    "X = df.drop([cat_feat], axis=1)\n",
    "X['data'] = pd.factorize(X['data'])[0]\n",
    "X['data1'] = pd.factorize(X['data1'])[0]\n",
    "\n",
    "scaler = StandardScaler()\n",
    "X_scaled = scaler.fit_transform(X)\n",
    "\n",
    "tsne = TSNE(random_state=17)\n",
    "tsne_representation = tsne.fit_transform(X_scaled)\n",
    "\n",
    "plt.scatter(tsne_representation[:, 0], tsne_representation[:, 1])\n",
    "\n",
    "plt.scatter(tsne_representation[:, 0], tsne_representation[:, 1],\n",
    "            c=df['y'].map({0: 'blue', 1: 'orange'}))\n",
    "\n",
    "_, axes = plt.subplots(1, 2, sharey=True, figsize=(16, 6))\n",
    "\n",
    "axes[0].scatter(tsne_representation[:, 0], tsne_representation[:, 1],\n",
    "                c=df['data'].map({'Yes': 'blue', 'No': 'orange'}))\n",
    "axes[1].scatter(tsne_representation[:, 0], tsne_representation[:, 1],\n",
    "                c=df['data1'].map({'Yes': 'blue', 'No': 'orange'}))\n",
    "axes[0].set_title('title')\n",
    "axes[1].set_title('title1')"
   ]
  },
  {
   "cell_type": "code",
   "execution_count": null,
   "metadata": {},
   "outputs": [],
   "source": [
    "# Вставляем изображения в блокнот\n",
    "display(Image(url='https://habrastorage.org/webt/9m/2c/zd/9m2czdt-uv7oe6v-nws3frtw7-a.jpeg', width = 200))"
   ]
  },
  {
   "cell_type": "code",
   "execution_count": null,
   "metadata": {},
   "outputs": [],
   "source": [
    "#Описываем все колонки: тип, заполненность, охват значений, значения предикторов"
   ]
  },
  {
   "cell_type": "markdown",
   "metadata": {},
   "source": [
    "* [Проверка разницы между train и test](https://www.kaggle.com/tunguz/adversarial-santander)<br>"
   ]
  },
  {
   "cell_type": "code",
   "execution_count": null,
   "metadata": {},
   "outputs": [],
   "source": [
    "columns = ['SEQN', 'Alcohol101', 'Alcohol110', 'Alcohol130', 'Smoking', 'Gender',\n",
    "       'Age', 'Race', 'Country', 'Education', 'Family', 'HouseSize',\n",
    "       'Salary', 'SDMVPSU', 'SDMVSTRA', 'INDFMPIR', 'BloodPressureSY1', 'BloodPressureDI1', 'BloodPressureSY2',\n",
    "       'BloodPressureDI2', 'Weight', 'Height', 'BodyIndex', 'BodyLeg', 'BodyArm', 'BodyArm2',\n",
    "       'BodyWaist', 'HIQ210']"
   ]
  }
 ],
 "metadata": {
  "hide_input": false,
  "kernelspec": {
   "display_name": "Python 3",
   "language": "python",
   "name": "python3"
  },
  "language_info": {
   "codemirror_mode": {
    "name": "ipython",
    "version": 3
   },
   "file_extension": ".py",
   "mimetype": "text/x-python",
   "name": "python",
   "nbconvert_exporter": "python",
   "pygments_lexer": "ipython3",
   "version": "3.8.3"
  },
  "latex_envs": {
   "LaTeX_envs_menu_present": true,
   "autoclose": false,
   "autocomplete": true,
   "bibliofile": "biblio.bib",
   "cite_by": "apalike",
   "current_citInitial": 1,
   "eqLabelWithNumbers": true,
   "eqNumInitial": 1,
   "hotkeys": {
    "equation": "Ctrl-E",
    "itemize": "Ctrl-I"
   },
   "labels_anchors": false,
   "latex_user_defs": false,
   "report_style_numbering": false,
   "user_envs_cfg": false
  },
  "nbTranslate": {
   "displayLangs": [
    "*"
   ],
   "hotkey": "alt-t",
   "langInMainMenu": true,
   "sourceLang": "en",
   "targetLang": "fr",
   "useGoogleTranslate": true
  },
  "toc": {
   "base_numbering": 1,
   "nav_menu": {
    "height": "12px",
    "width": "160px"
   },
   "number_sections": true,
   "sideBar": true,
   "skip_h1_title": false,
   "title_cell": "Table of Contents",
   "title_sidebar": "Contents",
   "toc_cell": false,
   "toc_position": {},
   "toc_section_display": true,
   "toc_window_display": false
  },
  "varInspector": {
   "cols": {
    "lenName": 16,
    "lenType": 16,
    "lenVar": 40
   },
   "kernels_config": {
    "python": {
     "delete_cmd_postfix": "",
     "delete_cmd_prefix": "del ",
     "library": "var_list.py",
     "varRefreshCmd": "print(var_dic_list())"
    },
    "r": {
     "delete_cmd_postfix": ") ",
     "delete_cmd_prefix": "rm(",
     "library": "var_list.r",
     "varRefreshCmd": "cat(var_dic_list()) "
    }
   },
   "position": {
    "height": "420px",
    "left": "13px",
    "right": "20px",
    "top": "240px",
    "width": "350px"
   },
   "types_to_exclude": [
    "module",
    "function",
    "builtin_function_or_method",
    "instance",
    "_Feature"
   ],
   "window_display": true
  }
 },
 "nbformat": 4,
 "nbformat_minor": 4
}
